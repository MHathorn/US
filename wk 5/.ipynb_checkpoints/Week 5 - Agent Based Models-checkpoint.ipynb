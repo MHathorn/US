{
 "cells": [
  {
   "cell_type": "markdown",
   "metadata": {
    "slideshow": {
     "slide_type": "slide"
    }
   },
   "source": [
    "### CASA0002\n",
    "\n",
    "# Urban Simulation\n",
    "***\n",
    "## Agent Based Modelling\n",
    "\n",
    "Mateo Neira\n",
    "***"
   ]
  },
  {
   "cell_type": "markdown",
   "metadata": {
    "slideshow": {
     "slide_type": "slide"
    }
   },
   "source": [
    "## Introduction to ABM with Mesa\n",
    "\n",
    "This is a notebook to learn about ABM with Mesa, a “modular framework for building, analyzing and visualizing agent-based models in Python.”\n",
    "\n",
    "The objective of this demo isn't to build an ABM but rather to examine the outputs of an ABM in this case a simple wealth distribution model. For those who are interested can read further in the Mesa documentation. \n",
    "\n",
    "\n",
    "If you did not install Mesa, you can use the *conda* command or the *pip* command. Please note that the \"!\"  is used to perform an installation command inside the notebook. \n",
    "\n",
    "We generally recommend installing mesa-geo as it contains some functions that allow you to run ABM in geographic models. \n",
    "\n",
    "```python\n",
    "!pip install mesa-geo\n",
    "```\n"
   ]
  },
  {
   "cell_type": "markdown",
   "metadata": {
    "slideshow": {
     "slide_type": "slide"
    }
   },
   "source": [
    "## What is a Model?\n",
    "\n",
    "* Abstracted description of a process, object or event\n",
    "* Exaggerates certain aspects at the expense of others\n",
    "\n",
    "\n",
    "## What is an Agent Based Model?\n",
    "\n",
    "* A model composed of **agents**\n",
    "    * Autonomous individual element with **properties** and **actions**\n",
    "* Composed of:\n",
    "    * Environment\n",
    "    * Agents\n",
    "    * Description of **agent-agent** and **agent-environment** interactions\n"
   ]
  },
  {
   "cell_type": "markdown",
   "metadata": {
    "slideshow": {
     "slide_type": "slide"
    }
   },
   "source": [
    "The main objective of this practical is to introduce important considerations when running these types of models and analyse results from these. Don't worry too much about the technical aspects of the model implementation, but rather in the concepts and analysis.\n",
    "\n",
    "For those of you who are interested in setting up your own ABM's, you can check out [MESA's Documentation on specifying a model](https://mesa.readthedocs.io/en/master/tutorials/intro_tutorial.html). \n",
    "\n",
    "---\n",
    "\n",
    "### Resources\n",
    "\n",
    "\n",
    "* **Online video-course from the Complexity Explorer (Santa Fe Institute)**: [Intro to ABM by William Rand](https://www.complexityexplorer.org/courses/101-introduction-to-agent-based-modeling-spring-2020)\n",
    "* **Agent Based Modeling paper**: [\"Agent Based Modeling and Simulation:\n",
    "An Informatics Perspective\". Stefania Bandini, Sara Manzoni and Giuseppe Vizzari\n",
    "(2009), Journal of Artificial Societies and Social Simulation 12 (4) 4](http://jasss.soc.surrey.ac.uk/12/4/4.html)\n",
    "* **Agent-Based Models and urban form**: [\"Modelling spatial morphologies: Fractal patterns from cellular\n",
    "automata.\". Batty, Michael, and Paul A. Longley. (2014)](https://www.taylorfrancis.com/chapters/modelling-spatial-morphologies-fractal-patterns-cellular-automata-robert-abrahart-linda-see/10.1201/b17091-9)"
   ]
  },
  {
   "cell_type": "markdown",
   "metadata": {
    "slideshow": {
     "slide_type": "slide"
    }
   },
   "source": [
    "### The basics of a multi-agent system\n",
    "\n",
    "![](flock.gif)\n",
    "\n",
    "Agent-based models are models that allow heterogeneity (in contrast to mean-field or statistical approaches). In these types of models, there is no central control, agents are autonomous and can interact with other agents and the environment. Individual behaviours of the agents are aggregated into global mechanisms that can result in emergent phenomena (for example flocking behaviour).\n",
    "\n",
    "There are two main design strategies for ABM:\n",
    "\n",
    "* **Phenomena-based modelling**: the characteristic patterns that we want to model are known.\n",
    "    * object is to find a set of agents and rules that will generate the know reference pattern\n",
    "* **Exploratory modelling**: built using a bottom-up approach. We start with a basic set of mechanisms and explore the results\n",
    "    * cellular automata is an example\n"
   ]
  },
  {
   "cell_type": "markdown",
   "metadata": {
    "slideshow": {
     "slide_type": "slide"
    }
   },
   "source": [
    "### Agent-Based Models in Geographical and Urban Systems\n",
    "\n",
    "---\n",
    "\n",
    " <center><b>What are the consequences of individual behaviours and decision-making over space and time?</b></center>\n",
    "\n",
    "\n",
    "![](traffic.gif)\n",
    " <center>Redfish Group</center>\n"
   ]
  },
  {
   "cell_type": "markdown",
   "metadata": {
    "slideshow": {
     "slide_type": "slide"
    }
   },
   "source": [
    "### Part One - Intro Tutorial\n",
    "\n",
    "This part has been adapted from the introduction tutorial from the mesa website in simulating wealth distribution using the [**Boltzmann Wealth Model**](https://arxiv.org/pdf/cond-mat/0211175v1.pdf). I have included an exercise to examine changes due to changes in the hyperparameters of the model. For more descriptions, pleases take a look at the link below. \n",
    "\n",
    "*Reference* <br/>\n",
    "https://mesa.readthedocs.io/en/master/tutorials/intro_tutorial.html\n"
   ]
  },
  {
   "cell_type": "code",
   "execution_count": 1,
   "metadata": {},
   "outputs": [
    {
     "name": "stdout",
     "output_type": "stream",
     "text": [
      "Collecting mesa-geo\n",
      "  Downloading Mesa_Geo-0.4.0-py3-none-any.whl (65 kB)\n",
      "\u001b[2K     \u001b[90m━━━━━━━━━━━━━━━━━━━━━━━━━━━━━━━━━━━━━━━━\u001b[0m \u001b[32m65.1/65.1 kB\u001b[0m \u001b[31m1.0 MB/s\u001b[0m eta \u001b[36m0:00:00\u001b[0ma \u001b[36m0:00:01\u001b[0m\n",
      "\u001b[?25hRequirement already satisfied: rtree in /opt/conda/lib/python3.10/site-packages (from mesa-geo) (1.0.1)\n",
      "Collecting mesa~=1.1.0\n",
      "  Downloading Mesa-1.1.1-py3-none-any.whl (1.8 MB)\n",
      "\u001b[2K     \u001b[90m━━━━━━━━━━━━━━━━━━━━━━━━━━━━━━━━━━━━━━━━\u001b[0m \u001b[32m1.8/1.8 MB\u001b[0m \u001b[31m1.1 MB/s\u001b[0m eta \u001b[36m0:00:00\u001b[0m00:01\u001b[0m00:01\u001b[0m0m\n",
      "\u001b[?25hRequirement already satisfied: pyproj in /opt/conda/lib/python3.10/site-packages (from mesa-geo) (3.4.0)\n",
      "Requirement already satisfied: shapely in /opt/conda/lib/python3.10/site-packages (from mesa-geo) (1.8.5)\n",
      "Requirement already satisfied: rasterio>=1.3b1 in /opt/conda/lib/python3.10/site-packages (from mesa-geo) (1.3.2)\n",
      "Requirement already satisfied: geopandas in /opt/conda/lib/python3.10/site-packages (from mesa-geo) (0.11.1)\n",
      "Requirement already satisfied: numpy in /opt/conda/lib/python3.10/site-packages (from mesa-geo) (1.23.3)\n",
      "Requirement already satisfied: libpysal in /opt/conda/lib/python3.10/site-packages (from mesa-geo) (4.6.2)\n",
      "Requirement already satisfied: folium in /opt/conda/lib/python3.10/site-packages (from mesa-geo) (0.13.0)\n",
      "Requirement already satisfied: tqdm in /opt/conda/lib/python3.10/site-packages (from mesa~=1.1.0->mesa-geo) (4.64.0)\n",
      "Requirement already satisfied: pandas in /opt/conda/lib/python3.10/site-packages (from mesa~=1.1.0->mesa-geo) (1.4.3)\n",
      "Requirement already satisfied: tornado in /opt/conda/lib/python3.10/site-packages (from mesa~=1.1.0->mesa-geo) (6.1)\n",
      "Requirement already satisfied: click in /opt/conda/lib/python3.10/site-packages (from mesa~=1.1.0->mesa-geo) (8.1.3)\n",
      "Requirement already satisfied: networkx in /opt/conda/lib/python3.10/site-packages (from mesa~=1.1.0->mesa-geo) (2.8.7)\n",
      "Collecting cookiecutter\n",
      "  Downloading cookiecutter-2.1.1-py2.py3-none-any.whl (36 kB)\n",
      "Requirement already satisfied: attrs in /opt/conda/lib/python3.10/site-packages (from rasterio>=1.3b1->mesa-geo) (21.4.0)\n",
      "Requirement already satisfied: certifi in /opt/conda/lib/python3.10/site-packages (from rasterio>=1.3b1->mesa-geo) (2022.6.15)\n",
      "Requirement already satisfied: setuptools in /opt/conda/lib/python3.10/site-packages (from rasterio>=1.3b1->mesa-geo) (63.2.0)\n",
      "Requirement already satisfied: affine in /opt/conda/lib/python3.10/site-packages (from rasterio>=1.3b1->mesa-geo) (2.3.1)\n",
      "Requirement already satisfied: click-plugins in /opt/conda/lib/python3.10/site-packages (from rasterio>=1.3b1->mesa-geo) (1.1.1)\n",
      "Requirement already satisfied: snuggs>=1.4.1 in /opt/conda/lib/python3.10/site-packages (from rasterio>=1.3b1->mesa-geo) (1.4.7)\n",
      "Requirement already satisfied: cligj>=0.5 in /opt/conda/lib/python3.10/site-packages (from rasterio>=1.3b1->mesa-geo) (0.7.2)\n",
      "Requirement already satisfied: jinja2>=2.9 in /opt/conda/lib/python3.10/site-packages (from folium->mesa-geo) (3.1.2)\n",
      "Requirement already satisfied: branca>=0.3.0 in /opt/conda/lib/python3.10/site-packages (from folium->mesa-geo) (0.5.0)\n",
      "Requirement already satisfied: requests in /opt/conda/lib/python3.10/site-packages (from folium->mesa-geo) (2.28.1)\n",
      "Requirement already satisfied: packaging in /opt/conda/lib/python3.10/site-packages (from geopandas->mesa-geo) (21.3)\n",
      "Requirement already satisfied: fiona>=1.8 in /opt/conda/lib/python3.10/site-packages (from geopandas->mesa-geo) (1.8.21)\n",
      "Requirement already satisfied: beautifulsoup4 in /opt/conda/lib/python3.10/site-packages (from libpysal->mesa-geo) (4.11.1)\n",
      "Requirement already satisfied: appdirs in /opt/conda/lib/python3.10/site-packages (from libpysal->mesa-geo) (1.4.4)\n",
      "Requirement already satisfied: scipy>=0.11 in /opt/conda/lib/python3.10/site-packages (from libpysal->mesa-geo) (1.9.1)\n",
      "Requirement already satisfied: six>=1.7 in /opt/conda/lib/python3.10/site-packages (from fiona>=1.8->geopandas->mesa-geo) (1.16.0)\n",
      "Requirement already satisfied: munch in /opt/conda/lib/python3.10/site-packages (from fiona>=1.8->geopandas->mesa-geo) (2.5.0)\n",
      "Requirement already satisfied: MarkupSafe>=2.0 in /opt/conda/lib/python3.10/site-packages (from jinja2>=2.9->folium->mesa-geo) (2.1.1)\n",
      "Requirement already satisfied: python-dateutil>=2.8.1 in /opt/conda/lib/python3.10/site-packages (from pandas->mesa~=1.1.0->mesa-geo) (2.8.2)\n",
      "Requirement already satisfied: pytz>=2020.1 in /opt/conda/lib/python3.10/site-packages (from pandas->mesa~=1.1.0->mesa-geo) (2022.1)\n",
      "Requirement already satisfied: pyparsing>=2.1.6 in /opt/conda/lib/python3.10/site-packages (from snuggs>=1.4.1->rasterio>=1.3b1->mesa-geo) (3.0.9)\n",
      "Requirement already satisfied: soupsieve>1.2 in /opt/conda/lib/python3.10/site-packages (from beautifulsoup4->libpysal->mesa-geo) (2.3.1)\n",
      "Collecting jinja2-time>=0.2.0\n",
      "  Downloading jinja2_time-0.2.0-py2.py3-none-any.whl (6.4 kB)\n",
      "Requirement already satisfied: pyyaml>=5.3.1 in /opt/conda/lib/python3.10/site-packages (from cookiecutter->mesa~=1.1.0->mesa-geo) (6.0)\n",
      "Collecting binaryornot>=0.4.4\n",
      "  Downloading binaryornot-0.4.4-py2.py3-none-any.whl (9.0 kB)\n",
      "Collecting python-slugify>=4.0.0\n",
      "  Downloading python_slugify-8.0.0-py2.py3-none-any.whl (9.5 kB)\n",
      "Requirement already satisfied: charset-normalizer<3,>=2 in /opt/conda/lib/python3.10/site-packages (from requests->folium->mesa-geo) (2.1.0)\n",
      "Requirement already satisfied: urllib3<1.27,>=1.21.1 in /opt/conda/lib/python3.10/site-packages (from requests->folium->mesa-geo) (1.26.10)\n",
      "Requirement already satisfied: idna<4,>=2.5 in /opt/conda/lib/python3.10/site-packages (from requests->folium->mesa-geo) (3.3)\n",
      "Collecting chardet>=3.0.2\n",
      "  Downloading chardet-5.1.0-py3-none-any.whl (199 kB)\n",
      "\u001b[2K     \u001b[90m━━━━━━━━━━━━━━━━━━━━━━━━━━━━━━━━━━━━━━━\u001b[0m \u001b[32m199.1/199.1 kB\u001b[0m \u001b[31m3.0 MB/s\u001b[0m eta \u001b[36m0:00:00\u001b[0m00:01\u001b[0m\n",
      "\u001b[?25hCollecting arrow\n",
      "  Downloading arrow-1.2.3-py3-none-any.whl (66 kB)\n",
      "\u001b[2K     \u001b[90m━━━━━━━━━━━━━━━━━━━━━━━━━━━━━━━━━━━━━━━\u001b[0m \u001b[32m66.4/66.4 kB\u001b[0m \u001b[31m982.0 kB/s\u001b[0m eta \u001b[36m0:00:00\u001b[0ma \u001b[36m0:00:01\u001b[0m\n",
      "\u001b[?25hCollecting text-unidecode>=1.3\n",
      "  Downloading text_unidecode-1.3-py2.py3-none-any.whl (78 kB)\n",
      "\u001b[2K     \u001b[90m━━━━━━━━━━━━━━━━━━━━━━━━━━━━━━━━━━━━━━━━\u001b[0m \u001b[32m78.2/78.2 kB\u001b[0m \u001b[31m3.6 MB/s\u001b[0m eta \u001b[36m0:00:00\u001b[0m\n",
      "\u001b[?25hInstalling collected packages: text-unidecode, python-slugify, chardet, binaryornot, arrow, jinja2-time, cookiecutter, mesa, mesa-geo\n",
      "Successfully installed arrow-1.2.3 binaryornot-0.4.4 chardet-5.1.0 cookiecutter-2.1.1 jinja2-time-0.2.0 mesa-1.1.1 mesa-geo-0.4.0 python-slugify-8.0.0 text-unidecode-1.3\n"
     ]
    }
   ],
   "source": [
    "#if you have never installed the mesa library:\n",
    "!pip install mesa-geo "
   ]
  },
  {
   "cell_type": "code",
   "execution_count": 2,
   "metadata": {
    "slideshow": {
     "slide_type": "slide"
    }
   },
   "outputs": [],
   "source": [
    "%matplotlib inline\n",
    "import matplotlib.pyplot as plt\n",
    "import numpy as np\n",
    "import pandas as pd\n",
    "\n",
    "from mesa import Agent, Model\n",
    "from mesa.time import RandomActivation\n",
    "from mesa.space import MultiGrid"
   ]
  },
  {
   "cell_type": "markdown",
   "metadata": {
    "slideshow": {
     "slide_type": "slide"
    }
   },
   "source": [
    "## Setting up the model\n",
    "\n",
    "We will be using two core classes that we imported previously: \n",
    "* **Agent**: which specifies the agents\n",
    "* **Model**: which holds model-level attributes and manages the agents\n",
    "\n",
    "The **Model** will be specified by:\n",
    "* size of the world given by a height and a width\n",
    "* Number of agents in the model"
   ]
  },
  {
   "cell_type": "markdown",
   "metadata": {
    "slideshow": {
     "slide_type": "slide"
    }
   },
   "source": [
    "## The Agents\n",
    "\n",
    "We will start by specifying the agents in our model. We will do this by creating our own agents class that will inherit from the Agents class of the MESA library. \n",
    "\n",
    "We need our agents to have one variable:\n",
    "* wealth: units of money the agent holds\n",
    "\n",
    "And we need our agents to be able to do three things:\n",
    "* move to a random location within its neighbourhood\n",
    "* give money to a cellmate"
   ]
  },
  {
   "cell_type": "code",
   "execution_count": 3,
   "metadata": {
    "slideshow": {
     "slide_type": "slide"
    }
   },
   "outputs": [],
   "source": [
    "# every mesa model needs two class. \n",
    "# one is an agent class that has an init method, a move method, a give wealth method and a step method.\n",
    "\n",
    "class MoneyAgent(Agent):\n",
    "    \"\"\" An agent with fixed initial wealth.\"\"\"\n",
    "    def __init__(self, unique_id, model):\n",
    "        super().__init__(unique_id, model)\n",
    "        self.wealth = 1\n",
    "\n",
    "    # agent move randomly in a moore neighbourhood\n",
    "    def move(self):\n",
    "        # getting the moore's neighbours\n",
    "        possible_steps = self.model.grid.get_neighborhood(\n",
    "            self.pos,\n",
    "            moore=True,\n",
    "            include_center=False)\n",
    "        # randomly moves \n",
    "        new_position = self.random.choice(possible_steps)\n",
    "        self.model.grid.move_agent(self, new_position)\n",
    "\n",
    "    # if there are more than one agent in cell\n",
    "    def give_money(self):\n",
    "        cellmates = self.model.grid.get_cell_list_contents([self.pos])\n",
    "        if len(cellmates) > 1:\n",
    "            # randomly choose an agent\n",
    "            other_agent = self.random.choice(cellmates)\n",
    "            # give money\n",
    "            other_agent.wealth += 1\n",
    "            # reduce saving\n",
    "            self.wealth -= 1\n",
    "\n",
    "    def step(self):\n",
    "        # in every step first move\n",
    "        self.move()\n",
    "        # if wealth is greater than 0 give money away\n",
    "        if self.wealth > 0:\n",
    "            self.give_money()\n"
   ]
  },
  {
   "cell_type": "markdown",
   "metadata": {
    "slideshow": {
     "slide_type": "slide"
    }
   },
   "source": [
    "## The Model\n",
    "\n",
    "The model is a little bit more complicated to set-up as it is composed of three different components:\n",
    "* **space**: the world where the agents will live\n",
    "* **agents**: the agents that occupy the world\n",
    "* **scheduler**: how the agents update their states"
   ]
  },
  {
   "cell_type": "markdown",
   "metadata": {
    "slideshow": {
     "slide_type": "slide"
    }
   },
   "source": [
    "### Space\n",
    "\n",
    "There are different types of spaces:\n",
    "\n",
    "* **Continuous spaces**: here each agent can occupy any arbitrary position, neighbours are defined according to distances betweeen agents (radius)\n",
    "\n",
    "* **Discrete spaces**: each agent can occupy only specific places on the space (for example a cell in a grid). Neighbours are defined by adjacency in the discrete space.\n",
    "    * Grid space\n",
    "    * Network space\n",
    "    \n",
    "![](discrete_continuous.PNG)\n",
    "\n",
    "Each one of these types can also have different topologies. The topology of a space essentially defines how neighbours are defined at the 'borders' of the space.\n",
    "* Finite/infine planar spaces: cartesian spaces of any dimension\n",
    "* Toroidal space\n",
    "* Spherical space\n",
    "\n",
    "In our model we will be using a discrete toroidal space. We can easily do this with MESA:\n",
    "\n",
    "```python\n",
    "from mesa.space import SingleGrid\n",
    "grid = SingleGrid(size[0], size[1], torus=True)\n",
    "```"
   ]
  },
  {
   "cell_type": "markdown",
   "metadata": {
    "slideshow": {
     "slide_type": "slide"
    }
   },
   "source": [
    "### Scheduler\n",
    "\n",
    "Time in most agent-based models moves in steps, sometimes also called ticks. At each time step agents are activated, take actions, or change internal states. How agents are activated at each time step is an important design decision when specifing our models. The scheduler takes care of this task.\n",
    "\n",
    "The scheduler handles how agents update their states.\n",
    "* synchronous: all agents update their state at the same time \n",
    "* asynchronous: agents update sequentially, or at different times\n",
    "\n",
    "\n",
    "In our case we will be updating the agents asynchronously\n",
    "```python\n",
    "from mesa.time import RandomActivation\n",
    "\n",
    "schedule = RandomActivation(model)\n",
    "```"
   ]
  },
  {
   "cell_type": "markdown",
   "metadata": {
    "slideshow": {
     "slide_type": "slide"
    }
   },
   "source": [
    "### Measuring Inequality\n",
    "\n",
    "Additionally we will need a helper function to measure the amount of inequality in the wealth distribution at each iteration. Here, we will be using the **Gini coefficient** - defined as the mean of absolute differences between all pairs of individuals for some measure (in this case wealth). The minimum value is 0 when all measurements are equal and the theoretical maximum is 1 for an infinitely large set of observations where all measurements but one has a value of 0.\n",
    "\n",
    "The **Gini coefficient** can be defined as:\n",
    "\n",
    "$$ G =\\frac{\\sum_{i=1}^{n}(2i-n-1)x_i)}{n\\sum_{i=1}^nx_i} $$\n",
    "\n",
    "where the values of $x_i$, $i=1$ to $n$, are indexed in non-decreasing order ($x_i \\leq x_{i+1}$)"
   ]
  },
  {
   "cell_type": "code",
   "execution_count": 4,
   "metadata": {
    "slideshow": {
     "slide_type": "slide"
    }
   },
   "outputs": [],
   "source": [
    "# the other is the model class. \n",
    "from mesa.datacollection import DataCollector\n",
    "\n",
    "\n",
    "def gini(model):\n",
    "    #get the wealth of agents from the model\n",
    "    agent_wealths = np.array([agent.wealth for agent in model.schedule.agents])\n",
    "    #sort the wealth \n",
    "    x = np.sort(agent_wealths)\n",
    "    index = np.arange(1,x.shape[0]+1) #index per array element\n",
    "    n = x.shape[0]#number of array elements\n",
    "    \n",
    "    return ((np.sum((2 * index - n  - 1) * x)) / (n * np.sum(x)))\n",
    "\n",
    "class MoneyModel(Model):\n",
    "    \"\"\"A model with some number of agents.\"\"\"\n",
    "    def __init__(self, N, width, height):\n",
    "        # this is the number of agents in the abm\n",
    "        self.num_agents = N\n",
    "        # this is the size of the grid using MultiGrid\n",
    "        self.grid = MultiGrid(width, height, True)\n",
    "        # activates all the agents once per step, in random order.\n",
    "        self.schedule = RandomActivation(self)\n",
    "        # Create agents\n",
    "        for i in range(self.num_agents):\n",
    "            a = MoneyAgent(i, self)\n",
    "            #add an agent to the schedule\n",
    "            self.schedule.add(a)\n",
    "            # Add the agent to a random grid cell\n",
    "            x = self.random.randrange(self.grid.width)\n",
    "            y = self.random.randrange(self.grid.height)\n",
    "            self.grid.place_agent(a, (x, y))\n",
    "            \n",
    "        self.datacollector = DataCollector(\n",
    "            model_reporters={\"Gini\": gini},\n",
    "            agent_reporters={\"Wealth\": \"wealth\"})\n",
    "            \n",
    "        self.running = True\n",
    "\n",
    "    def step(self):\n",
    "        self.datacollector.collect(self)\n",
    "        self.schedule.step()"
   ]
  },
  {
   "cell_type": "markdown",
   "metadata": {
    "slideshow": {
     "slide_type": "slide"
    }
   },
   "source": [
    "### runs the abm\n",
    "\n",
    "create a model with 50 agents on a 10x10 grid, and run it for 20 steps."
   ]
  },
  {
   "cell_type": "code",
   "execution_count": 92,
   "metadata": {
    "slideshow": {
     "slide_type": "slide"
    }
   },
   "outputs": [],
   "source": [
    "model = MoneyModel(50, 10, 10)\n",
    "for i in range(50):\n",
    "    model.step()"
   ]
  },
  {
   "cell_type": "markdown",
   "metadata": {
    "slideshow": {
     "slide_type": "slide"
    }
   },
   "source": [
    "### visualise the abm output"
   ]
  },
  {
   "cell_type": "code",
   "execution_count": 93,
   "metadata": {
    "slideshow": {
     "slide_type": "slide"
    }
   },
   "outputs": [],
   "source": [
    "agent_counts = np.zeros((model.grid.width, model.grid.height))\n",
    "for cell in model.grid.coord_iter():\n",
    "    cell_content, x, y = cell\n",
    "    agent_count = len(cell_content)\n",
    "    agent_counts[x][y] = agent_count\n"
   ]
  },
  {
   "cell_type": "markdown",
   "metadata": {
    "slideshow": {
     "slide_type": "slide"
    }
   },
   "source": [
    "this is where the 50 agents are spatially!"
   ]
  },
  {
   "cell_type": "code",
   "execution_count": 94,
   "metadata": {
    "slideshow": {
     "slide_type": "slide"
    }
   },
   "outputs": [
    {
     "data": {
      "text/plain": [
       "<matplotlib.colorbar.Colorbar at 0x7f5e61cefe20>"
      ]
     },
     "execution_count": 94,
     "metadata": {},
     "output_type": "execute_result"
    },
    {
     "data": {
      "image/png": "[encoded data removed]",
      "text/plain": [
       "<Figure size 432x288 with 2 Axes>"
      ]
     },
     "metadata": {
      "needs_background": "light"
     },
     "output_type": "display_data"
    }
   ],
   "source": [
    "plt.imshow(agent_counts, interpolation='nearest')\n",
    "plt.colorbar()"
   ]
  },
  {
   "cell_type": "markdown",
   "metadata": {
    "slideshow": {
     "slide_type": "slide"
    }
   },
   "source": [
    "this is the wealth histogram describing its empirical distribution. "
   ]
  },
  {
   "cell_type": "code",
   "execution_count": 95,
   "metadata": {
    "slideshow": {
     "slide_type": "slide"
    }
   },
   "outputs": [
    {
     "data": {
      "image/png": "[encoded data removed]",
      "text/plain": [
       "<Figure size 432x288 with 1 Axes>"
      ]
     },
     "metadata": {
      "needs_background": "light"
     },
     "output_type": "display_data"
    }
   ],
   "source": [
    "array=[a.wealth for a in model.schedule.agents]\n",
    "pd.DataFrame(array).plot(kind='hist',color='black')\n",
    "plt.xlabel(\"wealth\")\n",
    "plt.show()\n"
   ]
  },
  {
   "cell_type": "markdown",
   "metadata": {
    "slideshow": {
     "slide_type": "slide"
    }
   },
   "source": [
    "you can also calculate the gini coefficient of how well the wealth is distributed where 0 is perfect equality and 1 is perfect inequality."
   ]
  },
  {
   "cell_type": "code",
   "execution_count": 96,
   "metadata": {
    "slideshow": {
     "slide_type": "slide"
    }
   },
   "outputs": [
    {
     "data": {
      "text/plain": [
       "Text(0.5, 0, 'steps')"
      ]
     },
     "execution_count": 96,
     "metadata": {},
     "output_type": "execute_result"
    },
    {
     "data": {
      "image/png": "[encoded data removed]",
      "text/plain": [
       "<Figure size 432x288 with 1 Axes>"
      ]
     },
     "metadata": {
      "needs_background": "light"
     },
     "output_type": "display_data"
    }
   ],
   "source": [
    "gini_df = model.datacollector.get_model_vars_dataframe()\n",
    "gini_df.plot()\n",
    "plt.xlabel(\"steps\")"
   ]
  },
  {
   "cell_type": "markdown",
   "metadata": {
    "slideshow": {
     "slide_type": "slide"
    }
   },
   "source": [
    "## Analysing results\n",
    "\n",
    "Now, even though the running the model once and visualizing the results can be a useful tool to understand how the model works, check that it's functioning as we would expect, and build intuition about the dynamics at play, we need to understand how the model behaves given different parameters (sensitivity to initial conditions), as well as account for randomness by looking at the average behaviour of multiple runs."
   ]
  },
  {
   "cell_type": "code",
   "execution_count": 10,
   "metadata": {
    "slideshow": {
     "slide_type": "slide"
    }
   },
   "outputs": [
    {
     "name": "stderr",
     "output_type": "stream",
     "text": [
      "/tmp/ipykernel_129/1756767661.py:6: DeprecationWarning: BatchRunner class has been replaced by batch_run function. Please see documentation.\n",
      "  param_sweep = BatchRunner(MoneyModel,\n",
      "245it [03:27,  1.18it/s]\n"
     ]
    }
   ],
   "source": [
    "from mesa.batchrunner import BatchRunner\n",
    "\n",
    "variable_parameters = {\"N\": range(10, 500, 10)}\n",
    "fixed_parameters = {\"width\": 10, \"height\": 10}\n",
    "\n",
    "param_sweep = BatchRunner(MoneyModel, \n",
    "                          variable_parameters= variable_parameters, \n",
    "                          fixed_parameters = fixed_parameters,\n",
    "                          iterations=5, max_steps=100, model_reporters={\"Gini\": gini})\n",
    "\n",
    "param_sweep.run_all()"
   ]
  },
  {
   "cell_type": "code",
   "execution_count": 11,
   "metadata": {},
   "outputs": [
    {
     "data": {
      "text/html": [
       "<div>\n",
       "<style scoped>\n",
       "    .dataframe tbody tr th:only-of-type {\n",
       "        vertical-align: middle;\n",
       "    }\n",
       "\n",
       "    .dataframe tbody tr th {\n",
       "        vertical-align: top;\n",
       "    }\n",
       "\n",
       "    .dataframe thead th {\n",
       "        text-align: right;\n",
       "    }\n",
       "</style>\n",
       "<table border=\"1\" class=\"dataframe\">\n",
       "  <thead>\n",
       "    <tr style=\"text-align: right;\">\n",
       "      <th></th>\n",
       "      <th>N</th>\n",
       "      <th>Run</th>\n",
       "      <th>Gini</th>\n",
       "      <th>width</th>\n",
       "      <th>height</th>\n",
       "    </tr>\n",
       "  </thead>\n",
       "  <tbody>\n",
       "    <tr>\n",
       "      <th>0</th>\n",
       "      <td>10</td>\n",
       "      <td>0</td>\n",
       "      <td>0.70</td>\n",
       "      <td>10</td>\n",
       "      <td>10</td>\n",
       "    </tr>\n",
       "    <tr>\n",
       "      <th>1</th>\n",
       "      <td>10</td>\n",
       "      <td>1</td>\n",
       "      <td>0.64</td>\n",
       "      <td>10</td>\n",
       "      <td>10</td>\n",
       "    </tr>\n",
       "    <tr>\n",
       "      <th>2</th>\n",
       "      <td>10</td>\n",
       "      <td>2</td>\n",
       "      <td>0.68</td>\n",
       "      <td>10</td>\n",
       "      <td>10</td>\n",
       "    </tr>\n",
       "    <tr>\n",
       "      <th>3</th>\n",
       "      <td>10</td>\n",
       "      <td>3</td>\n",
       "      <td>0.42</td>\n",
       "      <td>10</td>\n",
       "      <td>10</td>\n",
       "    </tr>\n",
       "    <tr>\n",
       "      <th>4</th>\n",
       "      <td>10</td>\n",
       "      <td>4</td>\n",
       "      <td>0.74</td>\n",
       "      <td>10</td>\n",
       "      <td>10</td>\n",
       "    </tr>\n",
       "  </tbody>\n",
       "</table>\n",
       "</div>"
      ],
      "text/plain": [
       "    N  Run  Gini  width  height\n",
       "0  10    0  0.70     10      10\n",
       "1  10    1  0.64     10      10\n",
       "2  10    2  0.68     10      10\n",
       "3  10    3  0.42     10      10\n",
       "4  10    4  0.74     10      10"
      ]
     },
     "execution_count": 11,
     "metadata": {},
     "output_type": "execute_result"
    }
   ],
   "source": [
    "#get the data from the model run\n",
    "run_data = param_sweep.get_model_vars_dataframe()\n",
    "run_data.head()"
   ]
  },
  {
   "cell_type": "code",
   "execution_count": 12,
   "metadata": {},
   "outputs": [
    {
     "data": {
      "image/png": "[encoded data removed]",
      "text/plain": [
       "<Figure size 1440x360 with 1 Axes>"
      ]
     },
     "metadata": {
      "needs_background": "light"
     },
     "output_type": "display_data"
    }
   ],
   "source": [
    "import seaborn as sns\n",
    "\n",
    "fig, ax = plt.subplots(figsize=(20,5))\n",
    "\n",
    "ax =  sns.boxplot(data= run_data, x = 'N', y = 'Gini', color=\".9\")\n",
    "ax = sns.swarmplot(data= run_data, x = 'N', y = 'Gini', color=\".25\", size=3)\n",
    "plt.show()"
   ]
  },
  {
   "cell_type": "markdown",
   "metadata": {
    "slideshow": {
     "slide_type": "slide"
    }
   },
   "source": [
    "## Important considerations\n",
    "\n",
    "---\n",
    "\n",
    "* **Verification**: making sure your model does what you think it does\n",
    "* **Validation**: making sure your model corresponds to the real world in some meaningful way\n",
    "* **Replication**: making sure your model can be replicated and the results can be repeated\n",
    "\n",
    "---\n",
    "\n",
    "#### Complexity, Emergence, Feedback\n",
    "\n",
    "* **emergence**: the action of the whole is more than the sum of the parts\n",
    "* **feedback**: emergence can feedback into the system and affect the decisions individuals make\n",
    "\n",
    "In this sense ABMs (and complex systems analysis in general) don't provide perfect predictions, but rather possible scenerios and insight into how a system might behave under different circumstances. \n",
    "\n",
    "You can play around with this example to get a sense of these ideas:\n",
    "http://www.netlogoweb.org/launch#http://www.netlogoweb.org/assets/modelslib/Sample%20Models/Social%20Science/Segregation.nlogo"
   ]
  },
  {
   "cell_type": "markdown",
   "metadata": {},
   "source": [
    "## Exercise\n",
    "\n",
    "1. run the same model where we keep the number of agents=50, the number of steps=50 but increase the size of the square grid (i,i) with a range of np.arange(10,100,10). Plot the gini coefficient.\n",
    "\n",
    "2. run the same model where we keep the grid at (100,100), the number of steps=50 but increase the number of agents with a range of np.arange(0,500,50). Plot the gini coefficient.\n",
    "\n",
    "3. run the same model where we keep the number of agents=50, the size of the grid at (100,100) but increase the number of steps with a range of np.arange(25,500,25). Plot the gini coefficient."
   ]
  },
  {
   "cell_type": "markdown",
   "metadata": {},
   "source": [
    "### 1. run the same model where we keep the number of agents=50, the number of steps=50 but increase the size of the square grid (i,i) with a range of np.arange(10,100,10). Plot the gini coefficient."
   ]
  },
  {
   "cell_type": "code",
   "execution_count": 91,
   "metadata": {},
   "outputs": [
    {
     "name": "stderr",
     "output_type": "stream",
     "text": [
      "/tmp/ipykernel_129/623095190.py:4: DeprecationWarning: BatchRunner class has been replaced by batch_run function. Please see documentation.\n",
      "  param_sweep = BatchRunner(MoneyModel,\n",
      "405it [00:31, 12.73it/s]\n"
     ]
    }
   ],
   "source": [
    "variable_parameters = {\"width\": range(10, 100, 10), \"height\": range(10, 100, 10)}\n",
    "fixed_parameters = {\"N\": 50}\n",
    "\n",
    "param_sweep = BatchRunner(MoneyModel, \n",
    "                          variable_parameters= variable_parameters, \n",
    "                          fixed_parameters = fixed_parameters,\n",
    "                          iterations=5, max_steps=50, model_reporters={\"Gini\": gini})\n",
    "\n",
    "param_sweep.run_all()"
   ]
  },
  {
   "cell_type": "code",
   "execution_count": 14,
   "metadata": {},
   "outputs": [
    {
     "data": {
      "text/html": [
       "<div>\n",
       "<style scoped>\n",
       "    .dataframe tbody tr th:only-of-type {\n",
       "        vertical-align: middle;\n",
       "    }\n",
       "\n",
       "    .dataframe tbody tr th {\n",
       "        vertical-align: top;\n",
       "    }\n",
       "\n",
       "    .dataframe thead th {\n",
       "        text-align: right;\n",
       "    }\n",
       "</style>\n",
       "<table border=\"1\" class=\"dataframe\">\n",
       "  <thead>\n",
       "    <tr style=\"text-align: right;\">\n",
       "      <th></th>\n",
       "      <th>width</th>\n",
       "      <th>height</th>\n",
       "      <th>Run</th>\n",
       "      <th>Gini</th>\n",
       "      <th>N</th>\n",
       "    </tr>\n",
       "  </thead>\n",
       "  <tbody>\n",
       "    <tr>\n",
       "      <th>0</th>\n",
       "      <td>10</td>\n",
       "      <td>10</td>\n",
       "      <td>0</td>\n",
       "      <td>0.6968</td>\n",
       "      <td>50</td>\n",
       "    </tr>\n",
       "    <tr>\n",
       "      <th>1</th>\n",
       "      <td>10</td>\n",
       "      <td>10</td>\n",
       "      <td>1</td>\n",
       "      <td>0.5472</td>\n",
       "      <td>50</td>\n",
       "    </tr>\n",
       "    <tr>\n",
       "      <th>2</th>\n",
       "      <td>10</td>\n",
       "      <td>10</td>\n",
       "      <td>2</td>\n",
       "      <td>0.6624</td>\n",
       "      <td>50</td>\n",
       "    </tr>\n",
       "    <tr>\n",
       "      <th>3</th>\n",
       "      <td>10</td>\n",
       "      <td>10</td>\n",
       "      <td>3</td>\n",
       "      <td>0.6480</td>\n",
       "      <td>50</td>\n",
       "    </tr>\n",
       "    <tr>\n",
       "      <th>4</th>\n",
       "      <td>10</td>\n",
       "      <td>10</td>\n",
       "      <td>4</td>\n",
       "      <td>0.6408</td>\n",
       "      <td>50</td>\n",
       "    </tr>\n",
       "  </tbody>\n",
       "</table>\n",
       "</div>"
      ],
      "text/plain": [
       "   width  height  Run    Gini   N\n",
       "0     10      10    0  0.6968  50\n",
       "1     10      10    1  0.5472  50\n",
       "2     10      10    2  0.6624  50\n",
       "3     10      10    3  0.6480  50\n",
       "4     10      10    4  0.6408  50"
      ]
     },
     "execution_count": 14,
     "metadata": {},
     "output_type": "execute_result"
    }
   ],
   "source": [
    "run_data = param_sweep.get_model_vars_dataframe()\n",
    "run_data.head()"
   ]
  },
  {
   "cell_type": "code",
   "execution_count": 15,
   "metadata": {},
   "outputs": [
    {
     "data": {
      "image/png": "[encoded data removed]",
      "text/plain": [
       "<Figure size 1440x360 with 1 Axes>"
      ]
     },
     "metadata": {
      "needs_background": "light"
     },
     "output_type": "display_data"
    }
   ],
   "source": [
    "fig, ax = plt.subplots(figsize=(20,5))\n",
    "\n",
    "ax =  sns.boxplot(data= run_data, x = 'width', y = 'Gini', color=\".9\")\n",
    "ax = sns.swarmplot(data= run_data, x = 'width', y = 'Gini', color=\".25\", size=3)\n",
    "plt.show()"
   ]
  },
  {
   "cell_type": "markdown",
   "metadata": {},
   "source": [
    "### 2. run the same model where we keep the grid at (100,100), the number of steps=50 but increase the number of agents with a range of np.arange(25,500,25). Plot the gini coefficient."
   ]
  },
  {
   "cell_type": "code",
   "execution_count": 165,
   "metadata": {},
   "outputs": [
    {
     "name": "stderr",
     "output_type": "stream",
     "text": [
      "/tmp/ipykernel_129/3486294739.py:4: DeprecationWarning: BatchRunner class has been replaced by batch_run function. Please see documentation.\n",
      "  param_sweep = BatchRunner(MoneyModel,\n",
      "95it [00:32,  2.90it/s]\n"
     ]
    }
   ],
   "source": [
    "variable_parameters = {\"N\": range(25, 500, 25)}\n",
    "fixed_parameters = {\"width\": 100, \"height\": 100}\n",
    "\n",
    "param_sweep = BatchRunner(MoneyModel, \n",
    "                          variable_parameters= variable_parameters, \n",
    "                          fixed_parameters = fixed_parameters,\n",
    "                          iterations=5, max_steps=50, model_reporters={\"Gini\": gini})\n",
    "\n",
    "param_sweep.run_all()"
   ]
  },
  {
   "cell_type": "code",
   "execution_count": 166,
   "metadata": {},
   "outputs": [
    {
     "data": {
      "text/html": [
       "<div>\n",
       "<style scoped>\n",
       "    .dataframe tbody tr th:only-of-type {\n",
       "        vertical-align: middle;\n",
       "    }\n",
       "\n",
       "    .dataframe tbody tr th {\n",
       "        vertical-align: top;\n",
       "    }\n",
       "\n",
       "    .dataframe thead th {\n",
       "        text-align: right;\n",
       "    }\n",
       "</style>\n",
       "<table border=\"1\" class=\"dataframe\">\n",
       "  <thead>\n",
       "    <tr style=\"text-align: right;\">\n",
       "      <th></th>\n",
       "      <th>N</th>\n",
       "      <th>Run</th>\n",
       "      <th>Gini</th>\n",
       "      <th>width</th>\n",
       "      <th>height</th>\n",
       "    </tr>\n",
       "  </thead>\n",
       "  <tbody>\n",
       "    <tr>\n",
       "      <th>0</th>\n",
       "      <td>25</td>\n",
       "      <td>0</td>\n",
       "      <td>0.000000</td>\n",
       "      <td>100</td>\n",
       "      <td>100</td>\n",
       "    </tr>\n",
       "    <tr>\n",
       "      <th>1</th>\n",
       "      <td>25</td>\n",
       "      <td>1</td>\n",
       "      <td>0.000000</td>\n",
       "      <td>100</td>\n",
       "      <td>100</td>\n",
       "    </tr>\n",
       "    <tr>\n",
       "      <th>2</th>\n",
       "      <td>25</td>\n",
       "      <td>2</td>\n",
       "      <td>0.076800</td>\n",
       "      <td>100</td>\n",
       "      <td>100</td>\n",
       "    </tr>\n",
       "    <tr>\n",
       "      <th>3</th>\n",
       "      <td>25</td>\n",
       "      <td>3</td>\n",
       "      <td>0.076800</td>\n",
       "      <td>100</td>\n",
       "      <td>100</td>\n",
       "    </tr>\n",
       "    <tr>\n",
       "      <th>4</th>\n",
       "      <td>25</td>\n",
       "      <td>4</td>\n",
       "      <td>0.211200</td>\n",
       "      <td>100</td>\n",
       "      <td>100</td>\n",
       "    </tr>\n",
       "    <tr>\n",
       "      <th>...</th>\n",
       "      <td>...</td>\n",
       "      <td>...</td>\n",
       "      <td>...</td>\n",
       "      <td>...</td>\n",
       "      <td>...</td>\n",
       "    </tr>\n",
       "    <tr>\n",
       "      <th>90</th>\n",
       "      <td>475</td>\n",
       "      <td>90</td>\n",
       "      <td>0.505325</td>\n",
       "      <td>100</td>\n",
       "      <td>100</td>\n",
       "    </tr>\n",
       "    <tr>\n",
       "      <th>91</th>\n",
       "      <td>475</td>\n",
       "      <td>91</td>\n",
       "      <td>0.483563</td>\n",
       "      <td>100</td>\n",
       "      <td>100</td>\n",
       "    </tr>\n",
       "    <tr>\n",
       "      <th>92</th>\n",
       "      <td>475</td>\n",
       "      <td>92</td>\n",
       "      <td>0.518161</td>\n",
       "      <td>100</td>\n",
       "      <td>100</td>\n",
       "    </tr>\n",
       "    <tr>\n",
       "      <th>93</th>\n",
       "      <td>475</td>\n",
       "      <td>93</td>\n",
       "      <td>0.506469</td>\n",
       "      <td>100</td>\n",
       "      <td>100</td>\n",
       "    </tr>\n",
       "    <tr>\n",
       "      <th>94</th>\n",
       "      <td>475</td>\n",
       "      <td>94</td>\n",
       "      <td>0.507754</td>\n",
       "      <td>100</td>\n",
       "      <td>100</td>\n",
       "    </tr>\n",
       "  </tbody>\n",
       "</table>\n",
       "<p>95 rows × 5 columns</p>\n",
       "</div>"
      ],
      "text/plain": [
       "      N  Run      Gini  width  height\n",
       "0    25    0  0.000000    100     100\n",
       "1    25    1  0.000000    100     100\n",
       "2    25    2  0.076800    100     100\n",
       "3    25    3  0.076800    100     100\n",
       "4    25    4  0.211200    100     100\n",
       "..  ...  ...       ...    ...     ...\n",
       "90  475   90  0.505325    100     100\n",
       "91  475   91  0.483563    100     100\n",
       "92  475   92  0.518161    100     100\n",
       "93  475   93  0.506469    100     100\n",
       "94  475   94  0.507754    100     100\n",
       "\n",
       "[95 rows x 5 columns]"
      ]
     },
     "execution_count": 166,
     "metadata": {},
     "output_type": "execute_result"
    }
   ],
   "source": [
    "run_data = param_sweep.get_model_vars_dataframe()\n",
    "run_data"
   ]
  },
  {
   "cell_type": "code",
   "execution_count": 18,
   "metadata": {},
   "outputs": [
    {
     "data": {
      "image/png": "[encoded data removed]",
      "text/plain": [
       "<Figure size 1440x360 with 1 Axes>"
      ]
     },
     "metadata": {
      "needs_background": "light"
     },
     "output_type": "display_data"
    }
   ],
   "source": [
    "fig, ax = plt.subplots(figsize=(20,5))\n",
    "\n",
    "ax =  sns.boxplot(data= run_data, x = 'N', y = 'Gini', color=\".9\")\n",
    "ax = sns.swarmplot(data= run_data, x = 'N', y = 'Gini', color=\".25\", size=3)\n",
    "plt.show()"
   ]
  },
  {
   "cell_type": "markdown",
   "metadata": {},
   "source": [
    "### 3. run the same model where we keep the number of agents=50, the size of the grid at (100,100) but increase the number of steps with a range of np.arange(25,500,25). Plot the gini coefficient."
   ]
  },
  {
   "cell_type": "code",
   "execution_count": 336,
   "metadata": {},
   "outputs": [
    {
     "name": "stderr",
     "output_type": "stream",
     "text": [
      "100%|██████████| 5/5 [00:00<00:00, 10.54it/s]\n",
      "100%|██████████| 5/5 [00:01<00:00,  3.20it/s]\n",
      "100%|██████████| 5/5 [00:00<00:00,  8.97it/s]\n",
      "100%|██████████| 5/5 [00:01<00:00,  3.13it/s]\n",
      "100%|██████████| 5/5 [00:01<00:00,  3.13it/s]\n",
      "100%|██████████| 5/5 [00:01<00:00,  4.23it/s]\n",
      "100%|██████████| 5/5 [00:02<00:00,  1.91it/s]\n",
      "100%|██████████| 5/5 [00:01<00:00,  3.14it/s]\n",
      "100%|██████████| 5/5 [00:01<00:00,  4.15it/s]\n",
      "100%|██████████| 5/5 [00:01<00:00,  4.40it/s]\n",
      "100%|██████████| 5/5 [00:02<00:00,  1.96it/s]\n",
      "100%|██████████| 5/5 [00:01<00:00,  2.87it/s]\n",
      "100%|██████████| 5/5 [00:01<00:00,  3.40it/s]\n",
      "100%|██████████| 5/5 [00:03<00:00,  1.55it/s]\n",
      "100%|██████████| 5/5 [00:01<00:00,  3.60it/s]\n",
      "100%|██████████| 5/5 [00:02<00:00,  1.70it/s]\n",
      "100%|██████████| 5/5 [00:02<00:00,  2.23it/s]\n",
      "100%|██████████| 5/5 [00:03<00:00,  1.50it/s]\n",
      "100%|██████████| 5/5 [00:02<00:00,  2.07it/s]\n"
     ]
    }
   ],
   "source": [
    "from mesa.batchrunner import batch_run\n",
    "params = {\"width\": 100, \"height\": 100, \"N\": 50}\n",
    "results = []\n",
    "for x in range(25,500,25):\n",
    "    results.append(batch_run(\n",
    "        MoneyModel,\n",
    "        parameters=params,\n",
    "        iterations=5,\n",
    "        number_processes=1,\n",
    "        max_steps = x,\n",
    "        data_collection_period = -1,\n",
    "        display_progress=True))"
   ]
  },
  {
   "cell_type": "code",
   "execution_count": 337,
   "metadata": {},
   "outputs": [
    {
     "data": {
      "text/plain": [
       "[{'RunId': 0,\n",
       "  'iteration': 0,\n",
       "  'Step': 25,\n",
       "  'width': 100,\n",
       "  'height': 100,\n",
       "  'N': 50,\n",
       "  'Gini': 0.1128,\n",
       "  'AgentID': 0,\n",
       "  'Wealth': 0},\n",
       " {'RunId': 0,\n",
       "  'iteration': 0,\n",
       "  'Step': 25,\n",
       "  'width': 100,\n",
       "  'height': 100,\n",
       "  'N': 50,\n",
       "  'Gini': 0.1128,\n",
       "  'AgentID': 1,\n",
       "  'Wealth': 1},\n",
       " {'RunId': 0,\n",
       "  'iteration': 0,\n",
       "  'Step': 25,\n",
       "  'width': 100,\n",
       "  'height': 100,\n",
       "  'N': 50,\n",
       "  'Gini': 0.1128,\n",
       "  'AgentID': 2,\n",
       "  'Wealth': 1}]"
      ]
     },
     "execution_count": 337,
     "metadata": {},
     "output_type": "execute_result"
    }
   ],
   "source": [
    "results[0][0:3]"
   ]
  },
  {
   "cell_type": "code",
   "execution_count": 339,
   "metadata": {},
   "outputs": [
    {
     "name": "stdout",
     "output_type": "stream",
     "text": [
      "19\n",
      "250\n"
     ]
    }
   ],
   "source": [
    "print(len(results))\n",
    "print(len(results[0]))"
   ]
  },
  {
   "cell_type": "code",
   "execution_count": 341,
   "metadata": {},
   "outputs": [
    {
     "data": {
      "text/html": [
       "<div>\n",
       "<style scoped>\n",
       "    .dataframe tbody tr th:only-of-type {\n",
       "        vertical-align: middle;\n",
       "    }\n",
       "\n",
       "    .dataframe tbody tr th {\n",
       "        vertical-align: top;\n",
       "    }\n",
       "\n",
       "    .dataframe thead th {\n",
       "        text-align: right;\n",
       "    }\n",
       "</style>\n",
       "<table border=\"1\" class=\"dataframe\">\n",
       "  <thead>\n",
       "    <tr style=\"text-align: right;\">\n",
       "      <th></th>\n",
       "      <th>RunId</th>\n",
       "      <th>iteration</th>\n",
       "      <th>Step</th>\n",
       "      <th>width</th>\n",
       "      <th>height</th>\n",
       "      <th>N</th>\n",
       "      <th>Gini</th>\n",
       "      <th>AgentID</th>\n",
       "      <th>Wealth</th>\n",
       "    </tr>\n",
       "  </thead>\n",
       "  <tbody>\n",
       "    <tr>\n",
       "      <th>0</th>\n",
       "      <td>0</td>\n",
       "      <td>0</td>\n",
       "      <td>25</td>\n",
       "      <td>100</td>\n",
       "      <td>100</td>\n",
       "      <td>50</td>\n",
       "      <td>0.1128</td>\n",
       "      <td>0</td>\n",
       "      <td>0</td>\n",
       "    </tr>\n",
       "    <tr>\n",
       "      <th>1</th>\n",
       "      <td>0</td>\n",
       "      <td>0</td>\n",
       "      <td>25</td>\n",
       "      <td>100</td>\n",
       "      <td>100</td>\n",
       "      <td>50</td>\n",
       "      <td>0.1128</td>\n",
       "      <td>1</td>\n",
       "      <td>1</td>\n",
       "    </tr>\n",
       "    <tr>\n",
       "      <th>2</th>\n",
       "      <td>0</td>\n",
       "      <td>0</td>\n",
       "      <td>25</td>\n",
       "      <td>100</td>\n",
       "      <td>100</td>\n",
       "      <td>50</td>\n",
       "      <td>0.1128</td>\n",
       "      <td>2</td>\n",
       "      <td>1</td>\n",
       "    </tr>\n",
       "    <tr>\n",
       "      <th>3</th>\n",
       "      <td>0</td>\n",
       "      <td>0</td>\n",
       "      <td>25</td>\n",
       "      <td>100</td>\n",
       "      <td>100</td>\n",
       "      <td>50</td>\n",
       "      <td>0.1128</td>\n",
       "      <td>3</td>\n",
       "      <td>1</td>\n",
       "    </tr>\n",
       "    <tr>\n",
       "      <th>4</th>\n",
       "      <td>0</td>\n",
       "      <td>0</td>\n",
       "      <td>25</td>\n",
       "      <td>100</td>\n",
       "      <td>100</td>\n",
       "      <td>50</td>\n",
       "      <td>0.1128</td>\n",
       "      <td>4</td>\n",
       "      <td>1</td>\n",
       "    </tr>\n",
       "  </tbody>\n",
       "</table>\n",
       "</div>"
      ],
      "text/plain": [
       "   RunId  iteration  Step  width  height   N    Gini  AgentID  Wealth\n",
       "0      0          0    25    100     100  50  0.1128        0       0\n",
       "1      0          0    25    100     100  50  0.1128        1       1\n",
       "2      0          0    25    100     100  50  0.1128        2       1\n",
       "3      0          0    25    100     100  50  0.1128        3       1\n",
       "4      0          0    25    100     100  50  0.1128        4       1"
      ]
     },
     "execution_count": 341,
     "metadata": {},
     "output_type": "execute_result"
    }
   ],
   "source": [
    "from itertools import chain\n",
    "results = pd.DataFrame(list(chain.from_iterable(results)))\n",
    "results.head()"
   ]
  },
  {
   "cell_type": "code",
   "execution_count": 398,
   "metadata": {},
   "outputs": [
    {
     "data": {
      "image/png": "[encoded data removed]",
      "text/plain": [
       "<Figure size 1440x360 with 1 Axes>"
      ]
     },
     "metadata": {
      "needs_background": "light"
     },
     "output_type": "display_data"
    }
   ],
   "source": [
    "fig, ax = plt.subplots(figsize=(20,5))\n",
    "\n",
    "ax =  sns.boxplot(data= results, x = 'Step', y = 'Gini', color=\".9\")\n",
    "ax = sns.swarmplot(data= results, x = 'Step', y = 'Gini', color=\".25\", size=0.2)\n",
    "plt.show()"
   ]
  },
  {
   "cell_type": "code",
   "execution_count": 395,
   "metadata": {},
   "outputs": [
    {
     "data": {
      "image/png": "[encoded data removed]",
      "text/plain": [
       "<Figure size 576x432 with 20 Axes>"
      ]
     },
     "metadata": {
      "needs_background": "light"
     },
     "output_type": "display_data"
    }
   ],
   "source": [
    "import joypy\n",
    "from matplotlib import cm\n",
    "fig, axes = joypy.joyplot(results, by = 'Step', column = 'Gini',\n",
    "                         figsize = (8,6),\n",
    "                         linewidth = 0.8,\n",
    "                         overlap = 1.5,\n",
    "                         colormap = cm.PuBuGn)"
   ]
  },
  {
   "cell_type": "markdown",
   "metadata": {
    "slideshow": {
     "slide_type": "slide"
    }
   },
   "source": [
    "### Part Two - Specifing a Schelling model\n",
    "\n",
    "In this section you will find an implemention of Schelling's model of segregation. The model was developed by the economist Thomas Schelling and is one of the earliest examples of agent-based models, which contain:\n",
    "\n",
    "* Autonomous agents interacting in a shared environment\n",
    "* Emergent global patterns from local interactions and decisions\n",
    "\n",
    "**Original Schelling model paper**: https://www.stat.berkeley.edu/~aldous/157/Papers/Schelling_Seg_Models.pdf"
   ]
  },
  {
   "cell_type": "markdown",
   "metadata": {
    "slideshow": {
     "slide_type": "slide"
    }
   },
   "source": [
    "## The Agents\n",
    "\n",
    "We will start by specifying the agents in our model. We will do this by creating our own agents class that will inherit from the Agents class of the MESA library. \n",
    "\n",
    "We need our agents to have two variables:\n",
    "* position: this will be the x,y coordinates related to the agent’s location in our grid world.\n",
    "* group: each agent can belong to one of two groups (1,0)\n",
    "\n",
    "And we need our agents to be able to do three things:\n",
    "* check what group their neighbours belong to.\n",
    "* determine if they are happy with their location\n",
    "* move to an empty cell if they are not happy"
   ]
  },
  {
   "cell_type": "code",
   "execution_count": 41,
   "metadata": {
    "slideshow": {
     "slide_type": "slide"
    }
   },
   "outputs": [],
   "source": [
    "from mesa.space import SingleGrid \n",
    "class SchellingAgent(Agent):\n",
    "    \"\"\"\n",
    "    here we define the parameters that the agent will have\n",
    "    each agent will have a position which specifies its location in the grid\n",
    "    and a group, which specifies which group it belongs to\n",
    "    \"\"\"\n",
    "    \n",
    "    def __init__(self, pos, model, group):\n",
    "        \"\"\"\n",
    "        pos: tuple of the position of the agent (x,y)\n",
    "        model: model object\n",
    "        group: int specifying the group of the agent. Can be 0 or 1\n",
    "        \"\"\"\n",
    "        super().__init__(pos, model)\n",
    "        #create variables we need\n",
    "        self.pos = pos\n",
    "        self.group = group\n",
    "        \n",
    "        #additional variables needed\n",
    "        #to calculate segregation and happiness\n",
    "        self.similar_neighbours = 0.0\n",
    "        self.total_neighbours = 0.0\n",
    "        self.happy = False\n",
    "        self.initial_values()\n",
    "        \n",
    "    def initial_values(self):\n",
    "        \"\"\"\n",
    "        here we specify what each agent does in each time step\n",
    "        essentially it's a function that calculates number of similar neighbours\n",
    "        moves the agent to a different empty location if the number of similar neighbours is bellow its treshold\n",
    "        \"\"\"\n",
    "\n",
    "        #calculate number of similar neighbours\n",
    "        self.similar_neighbours = 0\n",
    "        self.total_neighbours = 0\n",
    "        \n",
    "        #we iterate through the neighbours of the agent\n",
    "        for neighbour in self.model.grid.neighbor_iter(self.pos):\n",
    "            #if neighbour is the same as the agent add one to similar_neighbour\n",
    "            if neighbour.group == self.group:\n",
    "                self.similar_neighbours +=1\n",
    "            #count number of neighbours by adding 1 to total_neighbourhood    \n",
    "            self.total_neighbours +=1\n",
    "    \n",
    "    def step(self):\n",
    "        \"\"\"\n",
    "        here we specify what each agent does in each time step\n",
    "        essentially it's a function that calculates number of similar neighbours\n",
    "        moves the agent to a different empty location if the number of similar neighbours is bellow its treshold\n",
    "        \"\"\"\n",
    "\n",
    "        #calculate number of similar neighbours\n",
    "        self.similar_neighbours = 0\n",
    "        self.total_neighbours = 0\n",
    "        \n",
    "        #we iterate through the neighbours of the agent\n",
    "        for neighbour in self.model.grid.neighbor_iter(self.pos):\n",
    "            #if neighbour is the same as the agent add one to similar_neighbour\n",
    "            if neighbour.group == self.group:\n",
    "                self.similar_neighbours +=1\n",
    "            #count number of neighbours by adding 1 to total_neighbourhood    \n",
    "            self.total_neighbours +=1\n",
    "        \n",
    "        #check if number of similar neighbours is bellow threshold\n",
    "        if self.similar_neighbours <= self.model.threshold * self.total_neighbours:\n",
    "            #move agent to empty grid\n",
    "            self.happy = False\n",
    "            self.model.grid.move_to_empty(self)\n",
    "        else:\n",
    "            #report happy agent to model\n",
    "            self.happy = True"
   ]
  },
  {
   "cell_type": "markdown",
   "metadata": {
    "slideshow": {
     "slide_type": "slide"
    }
   },
   "source": [
    "## The Model\n",
    "\n",
    "The **Model** will be specified by:\n",
    "* size of the world given by a height and a width\n",
    "* population density\n",
    "* agent threshold which defines how many similar neighbours are required for the agents to be happy\n",
    "* percentage of minority group"
   ]
  },
  {
   "cell_type": "code",
   "execution_count": 39,
   "metadata": {
    "slideshow": {
     "slide_type": "slide"
    }
   },
   "outputs": [],
   "source": [
    "#we put this all together in our model class\n",
    "#similar to agents, we inheret from mesa.Model class\n",
    "class Schelling(Model):\n",
    "    def __init__(self, size, density, percent_minority, threshold):\n",
    "        \"\"\"\n",
    "        size: tuple (width, height) of the size of the grid\n",
    "        density: float from 0-1\n",
    "        percent_minority: float 0-1\n",
    "        threshold: float 0-1\n",
    "        \"\"\"\n",
    "        #setup initial variables\n",
    "        self.size =  size\n",
    "        self.density = density\n",
    "        self.percent_minority = percent_minority\n",
    "        self.threshold = threshold\n",
    "        \n",
    "        #create grid\n",
    "        self.grid = SingleGrid(size[0], size[1], torus=True)\n",
    "        \n",
    "        #create schedueler to manage agents\n",
    "        self.schedule = RandomActivation(self)\n",
    "        \n",
    "        #setup the data collector to gather information about all agents\n",
    "        self.datacollector = DataCollector(\n",
    "            {'happy': lambda m: self.happy(),\n",
    "             'segregation': lambda m: self.segregation(),\n",
    "            },\n",
    "            {'x': lambda a: a.pos[0], \n",
    "             'y': lambda a: a.pos[1],\n",
    "             'num_similar': lambda a: a.similar_neighbours,\n",
    "             'total_neighbours':lambda a: a.total_neighbours\n",
    "            }\n",
    "        )\n",
    "        \n",
    "        #setup agents by iterating through the grid and placing agents at random\n",
    "        agent_count = 0\n",
    "        for cell in self.grid.coord_iter():\n",
    "            #each sell is a tuple with 3 values (agent, x, y)\n",
    "            x = cell[1]\n",
    "            y = cell[2]\n",
    "            \n",
    "            #add agents according to density\n",
    "            if self.random.random() < self.density:\n",
    "                if self.random.random() < self.percent_minority:\n",
    "                    agent_group = 1\n",
    "                else:\n",
    "                    agent_group = 0 \n",
    "            \n",
    "                #initiate an agent at position in grid\n",
    "                agent = SchellingAgent((x,y), self, agent_group)\n",
    "\n",
    "                #add agent to grid\n",
    "                self.grid.position_agent(agent, (x,y))\n",
    "\n",
    "                #add agent to scheduler\n",
    "                self.schedule.add(agent)\n",
    "                agent_count +=1\n",
    "            \n",
    "        self.running = True\n",
    "        self.datacollector.collect(self)\n",
    "        \n",
    "    def step(self):\n",
    "        self.schedule.step()\n",
    "        \n",
    "        self.datacollector.collect(self)\n",
    "        \n",
    "        #check if all agents are happy\n",
    "        if self.happy() == 1.0:\n",
    "            #if all agents are happy stop the model\n",
    "            self.running = False\n",
    "    \n",
    "    def happy(self):\n",
    "        '''\n",
    "        Helper method to measure percent of happy agents\n",
    "        ''' \n",
    "        happy = 0 \n",
    "        for agent in self.schedule.agents:\n",
    "            if agent.happy:\n",
    "                happy +=1\n",
    "        return happy / self.schedule.get_agent_count()\n",
    "            \n",
    "    def segregation(self):\n",
    "        '''\n",
    "        Helper method to measure total segregation\n",
    "        '''\n",
    "        segregation  = 0\n",
    "        for agent in self.schedule.agents:\n",
    "            if agent.total_neighbours !=0:\n",
    "                segregation += agent.similar_neighbours / agent.total_neighbours\n",
    "        return segregation / self.schedule.get_agent_count()"
   ]
  },
  {
   "cell_type": "markdown",
   "metadata": {
    "slideshow": {
     "slide_type": "slide"
    }
   },
   "source": [
    "Now thats our model! \n",
    "\n",
    "we can run this quickly and see if its all working \n",
    "\n",
    "```python\n",
    "model = Schelling((20,20), 0.8,0.5,0.3)\n",
    "```"
   ]
  },
  {
   "cell_type": "code",
   "execution_count": 42,
   "metadata": {
    "slideshow": {
     "slide_type": "slide"
    }
   },
   "outputs": [
    {
     "name": "stdout",
     "output_type": "stream",
     "text": [
      "7\n"
     ]
    },
    {
     "name": "stderr",
     "output_type": "stream",
     "text": [
      "/opt/conda/lib/python3.10/site-packages/mesa/space.py:204: UserWarning: `neighbor_iter` is deprecated in favor of `iter_neighbors` and will be removed in the subsequent version.\n",
      "  warn(\n"
     ]
    }
   ],
   "source": [
    "#we instantiate our model with the parameters of interest \n",
    "model = Schelling((10,10), 0.8,0.5,0.3)\n",
    "\n",
    "#we run our model\n",
    "#notice we run it in a while loop\n",
    "#this is because in some cases, our model may not converge\n",
    "#(no matter how long we run the model, not all agents will ever be happy!)\n",
    "while model.running and model.schedule.steps < 100:\n",
    "    model.step()\n",
    "print(model.schedule.steps) # Show how many steps have actually run"
   ]
  },
  {
   "cell_type": "code",
   "execution_count": 43,
   "metadata": {
    "slideshow": {
     "slide_type": "slide"
    }
   },
   "outputs": [
    {
     "name": "stdout",
     "output_type": "stream",
     "text": [
      "77 agents\n",
      "of which 100% are happy\n",
      "total segregation: 70.66%\n"
     ]
    }
   ],
   "source": [
    "#we can call the model to get outputs\n",
    "total_agents = model.schedule.get_agent_count()\n",
    "perc_happy = model.happy()\n",
    "\n",
    "print(f'{total_agents} agents')\n",
    "print(f'of which {perc_happy * 100:.0f}% are happy')\n",
    "print(f'total segregation: {model.segregation()*100:.2f}%')"
   ]
  },
  {
   "cell_type": "code",
   "execution_count": 44,
   "metadata": {
    "slideshow": {
     "slide_type": "slide"
    }
   },
   "outputs": [
    {
     "data": {
      "text/html": [
       "<div>\n",
       "<style scoped>\n",
       "    .dataframe tbody tr th:only-of-type {\n",
       "        vertical-align: middle;\n",
       "    }\n",
       "\n",
       "    .dataframe tbody tr th {\n",
       "        vertical-align: top;\n",
       "    }\n",
       "\n",
       "    .dataframe thead th {\n",
       "        text-align: right;\n",
       "    }\n",
       "</style>\n",
       "<table border=\"1\" class=\"dataframe\">\n",
       "  <thead>\n",
       "    <tr style=\"text-align: right;\">\n",
       "      <th></th>\n",
       "      <th>happy</th>\n",
       "      <th>segregation</th>\n",
       "    </tr>\n",
       "  </thead>\n",
       "  <tbody>\n",
       "    <tr>\n",
       "      <th>0</th>\n",
       "      <td>0.000000</td>\n",
       "      <td>0.358009</td>\n",
       "    </tr>\n",
       "    <tr>\n",
       "      <th>1</th>\n",
       "      <td>0.818182</td>\n",
       "      <td>0.538899</td>\n",
       "    </tr>\n",
       "    <tr>\n",
       "      <th>2</th>\n",
       "      <td>0.870130</td>\n",
       "      <td>0.592733</td>\n",
       "    </tr>\n",
       "    <tr>\n",
       "      <th>3</th>\n",
       "      <td>0.922078</td>\n",
       "      <td>0.639858</td>\n",
       "    </tr>\n",
       "    <tr>\n",
       "      <th>4</th>\n",
       "      <td>0.961039</td>\n",
       "      <td>0.673902</td>\n",
       "    </tr>\n",
       "  </tbody>\n",
       "</table>\n",
       "</div>"
      ],
      "text/plain": [
       "      happy  segregation\n",
       "0  0.000000     0.358009\n",
       "1  0.818182     0.538899\n",
       "2  0.870130     0.592733\n",
       "3  0.922078     0.639858\n",
       "4  0.961039     0.673902"
      ]
     },
     "execution_count": 44,
     "metadata": {},
     "output_type": "execute_result"
    }
   ],
   "source": [
    "model_out = model.datacollector.get_model_vars_dataframe()\n",
    "model_out.head()"
   ]
  },
  {
   "cell_type": "code",
   "execution_count": 45,
   "metadata": {
    "slideshow": {
     "slide_type": "slide"
    }
   },
   "outputs": [
    {
     "data": {
      "text/html": [
       "<div>\n",
       "<style scoped>\n",
       "    .dataframe tbody tr th:only-of-type {\n",
       "        vertical-align: middle;\n",
       "    }\n",
       "\n",
       "    .dataframe tbody tr th {\n",
       "        vertical-align: top;\n",
       "    }\n",
       "\n",
       "    .dataframe thead th {\n",
       "        text-align: right;\n",
       "    }\n",
       "</style>\n",
       "<table border=\"1\" class=\"dataframe\">\n",
       "  <thead>\n",
       "    <tr style=\"text-align: right;\">\n",
       "      <th></th>\n",
       "      <th></th>\n",
       "      <th>x</th>\n",
       "      <th>y</th>\n",
       "      <th>num_similar</th>\n",
       "      <th>total_neighbours</th>\n",
       "    </tr>\n",
       "    <tr>\n",
       "      <th>Step</th>\n",
       "      <th>AgentID</th>\n",
       "      <th></th>\n",
       "      <th></th>\n",
       "      <th></th>\n",
       "      <th></th>\n",
       "    </tr>\n",
       "  </thead>\n",
       "  <tbody>\n",
       "    <tr>\n",
       "      <th rowspan=\"5\" valign=\"top\">0</th>\n",
       "      <th>(0, 0)</th>\n",
       "      <td>7</td>\n",
       "      <td>9</td>\n",
       "      <td>0</td>\n",
       "      <td>0</td>\n",
       "    </tr>\n",
       "    <tr>\n",
       "      <th>(0, 1)</th>\n",
       "      <td>8</td>\n",
       "      <td>4</td>\n",
       "      <td>0</td>\n",
       "      <td>0</td>\n",
       "    </tr>\n",
       "    <tr>\n",
       "      <th>(0, 2)</th>\n",
       "      <td>9</td>\n",
       "      <td>0</td>\n",
       "      <td>0</td>\n",
       "      <td>0</td>\n",
       "    </tr>\n",
       "    <tr>\n",
       "      <th>(0, 3)</th>\n",
       "      <td>4</td>\n",
       "      <td>4</td>\n",
       "      <td>0</td>\n",
       "      <td>0</td>\n",
       "    </tr>\n",
       "    <tr>\n",
       "      <th>(0, 4)</th>\n",
       "      <td>8</td>\n",
       "      <td>9</td>\n",
       "      <td>0</td>\n",
       "      <td>0</td>\n",
       "    </tr>\n",
       "  </tbody>\n",
       "</table>\n",
       "</div>"
      ],
      "text/plain": [
       "              x  y  num_similar  total_neighbours\n",
       "Step AgentID                                     \n",
       "0    (0, 0)   7  9            0                 0\n",
       "     (0, 1)   8  4            0                 0\n",
       "     (0, 2)   9  0            0                 0\n",
       "     (0, 3)   4  4            0                 0\n",
       "     (0, 4)   8  9            0                 0"
      ]
     },
     "execution_count": 45,
     "metadata": {},
     "output_type": "execute_result"
    }
   ],
   "source": [
    "agent_out = model.datacollector.get_agent_vars_dataframe()\n",
    "agent_out.head()"
   ]
  },
  {
   "cell_type": "code",
   "execution_count": 46,
   "metadata": {
    "slideshow": {
     "slide_type": "slide"
    }
   },
   "outputs": [
    {
     "data": {
      "image/png": "[encoded data removed]",
      "text/plain": [
       "<Figure size 432x288 with 1 Axes>"
      ]
     },
     "metadata": {
      "needs_background": "light"
     },
     "output_type": "display_data"
    }
   ],
   "source": [
    "model_out['unhappy'] = 1 - model_out.happy\n",
    "model_out.drop('happy', axis=1, inplace=True)\n",
    "sns.lineplot(data=model_out)\n",
    "plt.show()"
   ]
  },
  {
   "cell_type": "code",
   "execution_count": 47,
   "metadata": {
    "slideshow": {
     "slide_type": "slide"
    }
   },
   "outputs": [
    {
     "name": "stderr",
     "output_type": "stream",
     "text": [
      "/tmp/ipykernel_129/2124140181.py:10: DeprecationWarning: BatchRunner class has been replaced by batch_run function. Please see documentation.\n",
      "  param_sweep = BatchRunner(Schelling,\n",
      "0it [00:00, ?it/s]/opt/conda/lib/python3.10/site-packages/mesa/space.py:204: UserWarning: `neighbor_iter` is deprecated in favor of `iter_neighbors` and will be removed in the subsequent version.\n",
      "  warn(\n",
      "/opt/conda/lib/python3.10/site-packages/mesa/space.py:204: UserWarning: `neighbor_iter` is deprecated in favor of `iter_neighbors` and will be removed in the subsequent version.\n",
      "  warn(\n",
      "/opt/conda/lib/python3.10/site-packages/mesa/space.py:204: UserWarning: `neighbor_iter` is deprecated in favor of `iter_neighbors` and will be removed in the subsequent version.\n",
      "  warn(\n",
      "/opt/conda/lib/python3.10/site-packages/mesa/space.py:204: UserWarning: `neighbor_iter` is deprecated in favor of `iter_neighbors` and will be removed in the subsequent version.\n",
      "  warn(\n",
      "/opt/conda/lib/python3.10/site-packages/mesa/space.py:204: UserWarning: `neighbor_iter` is deprecated in favor of `iter_neighbors` and will be removed in the subsequent version.\n",
      "  warn(\n",
      "/opt/conda/lib/python3.10/site-packages/mesa/space.py:204: UserWarning: `neighbor_iter` is deprecated in favor of `iter_neighbors` and will be removed in the subsequent version.\n",
      "  warn(\n",
      "/opt/conda/lib/python3.10/site-packages/mesa/space.py:204: UserWarning: `neighbor_iter` is deprecated in favor of `iter_neighbors` and will be removed in the subsequent version.\n",
      "  warn(\n",
      "/opt/conda/lib/python3.10/site-packages/mesa/space.py:204: UserWarning: `neighbor_iter` is deprecated in favor of `iter_neighbors` and will be removed in the subsequent version.\n",
      "  warn(\n",
      "8it [00:00, 67.18it/s]/opt/conda/lib/python3.10/site-packages/mesa/space.py:204: UserWarning: `neighbor_iter` is deprecated in favor of `iter_neighbors` and will be removed in the subsequent version.\n",
      "  warn(\n",
      "/opt/conda/lib/python3.10/site-packages/mesa/space.py:204: UserWarning: `neighbor_iter` is deprecated in favor of `iter_neighbors` and will be removed in the subsequent version.\n",
      "  warn(\n",
      "/opt/conda/lib/python3.10/site-packages/mesa/space.py:204: UserWarning: `neighbor_iter` is deprecated in favor of `iter_neighbors` and will be removed in the subsequent version.\n",
      "  warn(\n",
      "/opt/conda/lib/python3.10/site-packages/mesa/space.py:204: UserWarning: `neighbor_iter` is deprecated in favor of `iter_neighbors` and will be removed in the subsequent version.\n",
      "  warn(\n",
      "/opt/conda/lib/python3.10/site-packages/mesa/space.py:204: UserWarning: `neighbor_iter` is deprecated in favor of `iter_neighbors` and will be removed in the subsequent version.\n",
      "  warn(\n",
      "/opt/conda/lib/python3.10/site-packages/mesa/space.py:204: UserWarning: `neighbor_iter` is deprecated in favor of `iter_neighbors` and will be removed in the subsequent version.\n",
      "  warn(\n",
      "/opt/conda/lib/python3.10/site-packages/mesa/space.py:204: UserWarning: `neighbor_iter` is deprecated in favor of `iter_neighbors` and will be removed in the subsequent version.\n",
      "  warn(\n",
      "/opt/conda/lib/python3.10/site-packages/mesa/space.py:204: UserWarning: `neighbor_iter` is deprecated in favor of `iter_neighbors` and will be removed in the subsequent version.\n",
      "  warn(\n",
      "16it [00:00, 68.36it/s]/opt/conda/lib/python3.10/site-packages/mesa/space.py:204: UserWarning: `neighbor_iter` is deprecated in favor of `iter_neighbors` and will be removed in the subsequent version.\n",
      "  warn(\n",
      "/opt/conda/lib/python3.10/site-packages/mesa/space.py:204: UserWarning: `neighbor_iter` is deprecated in favor of `iter_neighbors` and will be removed in the subsequent version.\n",
      "  warn(\n",
      "/opt/conda/lib/python3.10/site-packages/mesa/space.py:204: UserWarning: `neighbor_iter` is deprecated in favor of `iter_neighbors` and will be removed in the subsequent version.\n",
      "  warn(\n",
      "/opt/conda/lib/python3.10/site-packages/mesa/space.py:204: UserWarning: `neighbor_iter` is deprecated in favor of `iter_neighbors` and will be removed in the subsequent version.\n",
      "  warn(\n",
      "/opt/conda/lib/python3.10/site-packages/mesa/space.py:204: UserWarning: `neighbor_iter` is deprecated in favor of `iter_neighbors` and will be removed in the subsequent version.\n",
      "  warn(\n",
      "/opt/conda/lib/python3.10/site-packages/mesa/space.py:204: UserWarning: `neighbor_iter` is deprecated in favor of `iter_neighbors` and will be removed in the subsequent version.\n",
      "  warn(\n",
      "/opt/conda/lib/python3.10/site-packages/mesa/space.py:204: UserWarning: `neighbor_iter` is deprecated in favor of `iter_neighbors` and will be removed in the subsequent version.\n",
      "  warn(\n",
      "23it [00:00, 64.73it/s]/opt/conda/lib/python3.10/site-packages/mesa/space.py:204: UserWarning: `neighbor_iter` is deprecated in favor of `iter_neighbors` and will be removed in the subsequent version.\n",
      "  warn(\n",
      "/opt/conda/lib/python3.10/site-packages/mesa/space.py:204: UserWarning: `neighbor_iter` is deprecated in favor of `iter_neighbors` and will be removed in the subsequent version.\n",
      "  warn(\n",
      "/opt/conda/lib/python3.10/site-packages/mesa/space.py:204: UserWarning: `neighbor_iter` is deprecated in favor of `iter_neighbors` and will be removed in the subsequent version.\n",
      "  warn(\n",
      "/opt/conda/lib/python3.10/site-packages/mesa/space.py:204: UserWarning: `neighbor_iter` is deprecated in favor of `iter_neighbors` and will be removed in the subsequent version.\n",
      "  warn(\n",
      "/opt/conda/lib/python3.10/site-packages/mesa/space.py:204: UserWarning: `neighbor_iter` is deprecated in favor of `iter_neighbors` and will be removed in the subsequent version.\n",
      "  warn(\n",
      "/opt/conda/lib/python3.10/site-packages/mesa/space.py:204: UserWarning: `neighbor_iter` is deprecated in favor of `iter_neighbors` and will be removed in the subsequent version.\n",
      "  warn(\n",
      "/opt/conda/lib/python3.10/site-packages/mesa/space.py:204: UserWarning: `neighbor_iter` is deprecated in favor of `iter_neighbors` and will be removed in the subsequent version.\n",
      "  warn(\n",
      "30it [00:00, 50.05it/s]/opt/conda/lib/python3.10/site-packages/mesa/space.py:204: UserWarning: `neighbor_iter` is deprecated in favor of `iter_neighbors` and will be removed in the subsequent version.\n",
      "  warn(\n",
      "/opt/conda/lib/python3.10/site-packages/mesa/space.py:204: UserWarning: `neighbor_iter` is deprecated in favor of `iter_neighbors` and will be removed in the subsequent version.\n",
      "  warn(\n",
      "/opt/conda/lib/python3.10/site-packages/mesa/space.py:204: UserWarning: `neighbor_iter` is deprecated in favor of `iter_neighbors` and will be removed in the subsequent version.\n",
      "  warn(\n",
      "/opt/conda/lib/python3.10/site-packages/mesa/space.py:204: UserWarning: `neighbor_iter` is deprecated in favor of `iter_neighbors` and will be removed in the subsequent version.\n",
      "  warn(\n",
      "/opt/conda/lib/python3.10/site-packages/mesa/space.py:204: UserWarning: `neighbor_iter` is deprecated in favor of `iter_neighbors` and will be removed in the subsequent version.\n",
      "  warn(\n",
      "/opt/conda/lib/python3.10/site-packages/mesa/space.py:204: UserWarning: `neighbor_iter` is deprecated in favor of `iter_neighbors` and will be removed in the subsequent version.\n",
      "  warn(\n",
      "36it [00:00, 37.39it/s]/opt/conda/lib/python3.10/site-packages/mesa/space.py:204: UserWarning: `neighbor_iter` is deprecated in favor of `iter_neighbors` and will be removed in the subsequent version.\n",
      "  warn(\n",
      "/opt/conda/lib/python3.10/site-packages/mesa/space.py:204: UserWarning: `neighbor_iter` is deprecated in favor of `iter_neighbors` and will be removed in the subsequent version.\n",
      "  warn(\n",
      "/opt/conda/lib/python3.10/site-packages/mesa/space.py:204: UserWarning: `neighbor_iter` is deprecated in favor of `iter_neighbors` and will be removed in the subsequent version.\n",
      "  warn(\n",
      "/opt/conda/lib/python3.10/site-packages/mesa/space.py:204: UserWarning: `neighbor_iter` is deprecated in favor of `iter_neighbors` and will be removed in the subsequent version.\n",
      "  warn(\n",
      "/opt/conda/lib/python3.10/site-packages/mesa/space.py:204: UserWarning: `neighbor_iter` is deprecated in favor of `iter_neighbors` and will be removed in the subsequent version.\n",
      "  warn(\n",
      "41it [00:00, 34.91it/s]/opt/conda/lib/python3.10/site-packages/mesa/space.py:204: UserWarning: `neighbor_iter` is deprecated in favor of `iter_neighbors` and will be removed in the subsequent version.\n",
      "  warn(\n",
      "/opt/conda/lib/python3.10/site-packages/mesa/space.py:204: UserWarning: `neighbor_iter` is deprecated in favor of `iter_neighbors` and will be removed in the subsequent version.\n",
      "  warn(\n",
      "/opt/conda/lib/python3.10/site-packages/mesa/space.py:204: UserWarning: `neighbor_iter` is deprecated in favor of `iter_neighbors` and will be removed in the subsequent version.\n",
      "  warn(\n",
      "/opt/conda/lib/python3.10/site-packages/mesa/space.py:204: UserWarning: `neighbor_iter` is deprecated in favor of `iter_neighbors` and will be removed in the subsequent version.\n",
      "  warn(\n",
      "45it [00:01, 32.52it/s]/opt/conda/lib/python3.10/site-packages/mesa/space.py:204: UserWarning: `neighbor_iter` is deprecated in favor of `iter_neighbors` and will be removed in the subsequent version.\n",
      "  warn(\n",
      "/opt/conda/lib/python3.10/site-packages/mesa/space.py:204: UserWarning: `neighbor_iter` is deprecated in favor of `iter_neighbors` and will be removed in the subsequent version.\n",
      "  warn(\n",
      "/opt/conda/lib/python3.10/site-packages/mesa/space.py:204: UserWarning: `neighbor_iter` is deprecated in favor of `iter_neighbors` and will be removed in the subsequent version.\n",
      "  warn(\n",
      "/opt/conda/lib/python3.10/site-packages/mesa/space.py:204: UserWarning: `neighbor_iter` is deprecated in favor of `iter_neighbors` and will be removed in the subsequent version.\n",
      "  warn(\n",
      "49it [00:01, 32.13it/s]/opt/conda/lib/python3.10/site-packages/mesa/space.py:204: UserWarning: `neighbor_iter` is deprecated in favor of `iter_neighbors` and will be removed in the subsequent version.\n",
      "  warn(\n",
      "/opt/conda/lib/python3.10/site-packages/mesa/space.py:204: UserWarning: `neighbor_iter` is deprecated in favor of `iter_neighbors` and will be removed in the subsequent version.\n",
      "  warn(\n",
      "/opt/conda/lib/python3.10/site-packages/mesa/space.py:204: UserWarning: `neighbor_iter` is deprecated in favor of `iter_neighbors` and will be removed in the subsequent version.\n",
      "  warn(\n",
      "/opt/conda/lib/python3.10/site-packages/mesa/space.py:204: UserWarning: `neighbor_iter` is deprecated in favor of `iter_neighbors` and will be removed in the subsequent version.\n",
      "  warn(\n",
      "53it [00:01, 31.39it/s]/opt/conda/lib/python3.10/site-packages/mesa/space.py:204: UserWarning: `neighbor_iter` is deprecated in favor of `iter_neighbors` and will be removed in the subsequent version.\n",
      "  warn(\n",
      "/opt/conda/lib/python3.10/site-packages/mesa/space.py:204: UserWarning: `neighbor_iter` is deprecated in favor of `iter_neighbors` and will be removed in the subsequent version.\n",
      "  warn(\n",
      "/opt/conda/lib/python3.10/site-packages/mesa/space.py:204: UserWarning: `neighbor_iter` is deprecated in favor of `iter_neighbors` and will be removed in the subsequent version.\n",
      "  warn(\n",
      "/opt/conda/lib/python3.10/site-packages/mesa/space.py:204: UserWarning: `neighbor_iter` is deprecated in favor of `iter_neighbors` and will be removed in the subsequent version.\n",
      "  warn(\n",
      "57it [00:01, 30.74it/s]/opt/conda/lib/python3.10/site-packages/mesa/space.py:204: UserWarning: `neighbor_iter` is deprecated in favor of `iter_neighbors` and will be removed in the subsequent version.\n",
      "  warn(\n",
      "/opt/conda/lib/python3.10/site-packages/mesa/space.py:204: UserWarning: `neighbor_iter` is deprecated in favor of `iter_neighbors` and will be removed in the subsequent version.\n",
      "  warn(\n",
      "/opt/conda/lib/python3.10/site-packages/mesa/space.py:204: UserWarning: `neighbor_iter` is deprecated in favor of `iter_neighbors` and will be removed in the subsequent version.\n",
      "  warn(\n",
      "/opt/conda/lib/python3.10/site-packages/mesa/space.py:204: UserWarning: `neighbor_iter` is deprecated in favor of `iter_neighbors` and will be removed in the subsequent version.\n",
      "  warn(\n",
      "61it [00:01, 27.89it/s]/opt/conda/lib/python3.10/site-packages/mesa/space.py:204: UserWarning: `neighbor_iter` is deprecated in favor of `iter_neighbors` and will be removed in the subsequent version.\n",
      "  warn(\n",
      "/opt/conda/lib/python3.10/site-packages/mesa/space.py:204: UserWarning: `neighbor_iter` is deprecated in favor of `iter_neighbors` and will be removed in the subsequent version.\n",
      "  warn(\n",
      "/opt/conda/lib/python3.10/site-packages/mesa/space.py:204: UserWarning: `neighbor_iter` is deprecated in favor of `iter_neighbors` and will be removed in the subsequent version.\n",
      "  warn(\n",
      "64it [00:01, 25.75it/s]/opt/conda/lib/python3.10/site-packages/mesa/space.py:204: UserWarning: `neighbor_iter` is deprecated in favor of `iter_neighbors` and will be removed in the subsequent version.\n",
      "  warn(\n",
      "/opt/conda/lib/python3.10/site-packages/mesa/space.py:204: UserWarning: `neighbor_iter` is deprecated in favor of `iter_neighbors` and will be removed in the subsequent version.\n",
      "  warn(\n",
      "/opt/conda/lib/python3.10/site-packages/mesa/space.py:204: UserWarning: `neighbor_iter` is deprecated in favor of `iter_neighbors` and will be removed in the subsequent version.\n",
      "  warn(\n",
      "67it [00:01, 25.16it/s]/opt/conda/lib/python3.10/site-packages/mesa/space.py:204: UserWarning: `neighbor_iter` is deprecated in favor of `iter_neighbors` and will be removed in the subsequent version.\n",
      "  warn(\n",
      "/opt/conda/lib/python3.10/site-packages/mesa/space.py:204: UserWarning: `neighbor_iter` is deprecated in favor of `iter_neighbors` and will be removed in the subsequent version.\n",
      "  warn(\n",
      "/opt/conda/lib/python3.10/site-packages/mesa/space.py:204: UserWarning: `neighbor_iter` is deprecated in favor of `iter_neighbors` and will be removed in the subsequent version.\n",
      "  warn(\n",
      "70it [00:02, 22.82it/s]/opt/conda/lib/python3.10/site-packages/mesa/space.py:204: UserWarning: `neighbor_iter` is deprecated in favor of `iter_neighbors` and will be removed in the subsequent version.\n",
      "  warn(\n",
      "/opt/conda/lib/python3.10/site-packages/mesa/space.py:204: UserWarning: `neighbor_iter` is deprecated in favor of `iter_neighbors` and will be removed in the subsequent version.\n",
      "  warn(\n",
      "/opt/conda/lib/python3.10/site-packages/mesa/space.py:204: UserWarning: `neighbor_iter` is deprecated in favor of `iter_neighbors` and will be removed in the subsequent version.\n",
      "  warn(\n",
      "73it [00:02, 22.84it/s]/opt/conda/lib/python3.10/site-packages/mesa/space.py:204: UserWarning: `neighbor_iter` is deprecated in favor of `iter_neighbors` and will be removed in the subsequent version.\n",
      "  warn(\n",
      "/opt/conda/lib/python3.10/site-packages/mesa/space.py:204: UserWarning: `neighbor_iter` is deprecated in favor of `iter_neighbors` and will be removed in the subsequent version.\n",
      "  warn(\n",
      "/opt/conda/lib/python3.10/site-packages/mesa/space.py:204: UserWarning: `neighbor_iter` is deprecated in favor of `iter_neighbors` and will be removed in the subsequent version.\n",
      "  warn(\n",
      "76it [00:02, 21.79it/s]/opt/conda/lib/python3.10/site-packages/mesa/space.py:204: UserWarning: `neighbor_iter` is deprecated in favor of `iter_neighbors` and will be removed in the subsequent version.\n",
      "  warn(\n",
      "/opt/conda/lib/python3.10/site-packages/mesa/space.py:204: UserWarning: `neighbor_iter` is deprecated in favor of `iter_neighbors` and will be removed in the subsequent version.\n",
      "  warn(\n",
      "/opt/conda/lib/python3.10/site-packages/mesa/space.py:204: UserWarning: `neighbor_iter` is deprecated in favor of `iter_neighbors` and will be removed in the subsequent version.\n",
      "  warn(\n",
      "79it [00:02, 22.79it/s]/opt/conda/lib/python3.10/site-packages/mesa/space.py:204: UserWarning: `neighbor_iter` is deprecated in favor of `iter_neighbors` and will be removed in the subsequent version.\n",
      "  warn(\n",
      "/opt/conda/lib/python3.10/site-packages/mesa/space.py:204: UserWarning: `neighbor_iter` is deprecated in favor of `iter_neighbors` and will be removed in the subsequent version.\n",
      "  warn(\n",
      "/opt/conda/lib/python3.10/site-packages/mesa/space.py:204: UserWarning: `neighbor_iter` is deprecated in favor of `iter_neighbors` and will be removed in the subsequent version.\n",
      "  warn(\n",
      "82it [00:02, 23.17it/s]/opt/conda/lib/python3.10/site-packages/mesa/space.py:204: UserWarning: `neighbor_iter` is deprecated in favor of `iter_neighbors` and will be removed in the subsequent version.\n",
      "  warn(\n",
      "/opt/conda/lib/python3.10/site-packages/mesa/space.py:204: UserWarning: `neighbor_iter` is deprecated in favor of `iter_neighbors` and will be removed in the subsequent version.\n",
      "  warn(\n",
      "/opt/conda/lib/python3.10/site-packages/mesa/space.py:204: UserWarning: `neighbor_iter` is deprecated in favor of `iter_neighbors` and will be removed in the subsequent version.\n",
      "  warn(\n",
      "85it [00:02, 22.58it/s]/opt/conda/lib/python3.10/site-packages/mesa/space.py:204: UserWarning: `neighbor_iter` is deprecated in favor of `iter_neighbors` and will be removed in the subsequent version.\n",
      "  warn(\n",
      "/opt/conda/lib/python3.10/site-packages/mesa/space.py:204: UserWarning: `neighbor_iter` is deprecated in favor of `iter_neighbors` and will be removed in the subsequent version.\n",
      "  warn(\n",
      "/opt/conda/lib/python3.10/site-packages/mesa/space.py:204: UserWarning: `neighbor_iter` is deprecated in favor of `iter_neighbors` and will be removed in the subsequent version.\n",
      "  warn(\n",
      "88it [00:02, 21.13it/s]/opt/conda/lib/python3.10/site-packages/mesa/space.py:204: UserWarning: `neighbor_iter` is deprecated in favor of `iter_neighbors` and will be removed in the subsequent version.\n",
      "  warn(\n",
      "/opt/conda/lib/python3.10/site-packages/mesa/space.py:204: UserWarning: `neighbor_iter` is deprecated in favor of `iter_neighbors` and will be removed in the subsequent version.\n",
      "  warn(\n",
      "/opt/conda/lib/python3.10/site-packages/mesa/space.py:204: UserWarning: `neighbor_iter` is deprecated in favor of `iter_neighbors` and will be removed in the subsequent version.\n",
      "  warn(\n",
      "91it [00:03, 19.49it/s]/opt/conda/lib/python3.10/site-packages/mesa/space.py:204: UserWarning: `neighbor_iter` is deprecated in favor of `iter_neighbors` and will be removed in the subsequent version.\n",
      "  warn(\n",
      "/opt/conda/lib/python3.10/site-packages/mesa/space.py:204: UserWarning: `neighbor_iter` is deprecated in favor of `iter_neighbors` and will be removed in the subsequent version.\n",
      "  warn(\n",
      "/opt/conda/lib/python3.10/site-packages/mesa/space.py:204: UserWarning: `neighbor_iter` is deprecated in favor of `iter_neighbors` and will be removed in the subsequent version.\n",
      "  warn(\n",
      "94it [00:03, 19.95it/s]/opt/conda/lib/python3.10/site-packages/mesa/space.py:204: UserWarning: `neighbor_iter` is deprecated in favor of `iter_neighbors` and will be removed in the subsequent version.\n",
      "  warn(\n",
      "/opt/conda/lib/python3.10/site-packages/mesa/space.py:204: UserWarning: `neighbor_iter` is deprecated in favor of `iter_neighbors` and will be removed in the subsequent version.\n",
      "  warn(\n",
      "/opt/conda/lib/python3.10/site-packages/mesa/space.py:204: UserWarning: `neighbor_iter` is deprecated in favor of `iter_neighbors` and will be removed in the subsequent version.\n",
      "  warn(\n",
      "97it [00:03, 19.35it/s]/opt/conda/lib/python3.10/site-packages/mesa/space.py:204: UserWarning: `neighbor_iter` is deprecated in favor of `iter_neighbors` and will be removed in the subsequent version.\n",
      "  warn(\n",
      "/opt/conda/lib/python3.10/site-packages/mesa/space.py:204: UserWarning: `neighbor_iter` is deprecated in favor of `iter_neighbors` and will be removed in the subsequent version.\n",
      "  warn(\n",
      "/opt/conda/lib/python3.10/site-packages/mesa/space.py:204: UserWarning: `neighbor_iter` is deprecated in favor of `iter_neighbors` and will be removed in the subsequent version.\n",
      "  warn(\n",
      "100it [00:03, 19.76it/s]/opt/conda/lib/python3.10/site-packages/mesa/space.py:204: UserWarning: `neighbor_iter` is deprecated in favor of `iter_neighbors` and will be removed in the subsequent version.\n",
      "  warn(\n",
      "/opt/conda/lib/python3.10/site-packages/mesa/space.py:204: UserWarning: `neighbor_iter` is deprecated in favor of `iter_neighbors` and will be removed in the subsequent version.\n",
      "  warn(\n",
      "102it [00:03, 19.77it/s]/opt/conda/lib/python3.10/site-packages/mesa/space.py:204: UserWarning: `neighbor_iter` is deprecated in favor of `iter_neighbors` and will be removed in the subsequent version.\n",
      "  warn(\n",
      "/opt/conda/lib/python3.10/site-packages/mesa/space.py:204: UserWarning: `neighbor_iter` is deprecated in favor of `iter_neighbors` and will be removed in the subsequent version.\n",
      "  warn(\n",
      "104it [00:03, 18.48it/s]/opt/conda/lib/python3.10/site-packages/mesa/space.py:204: UserWarning: `neighbor_iter` is deprecated in favor of `iter_neighbors` and will be removed in the subsequent version.\n",
      "  warn(\n",
      "/opt/conda/lib/python3.10/site-packages/mesa/space.py:204: UserWarning: `neighbor_iter` is deprecated in favor of `iter_neighbors` and will be removed in the subsequent version.\n",
      "  warn(\n",
      "106it [00:03, 17.32it/s]/opt/conda/lib/python3.10/site-packages/mesa/space.py:204: UserWarning: `neighbor_iter` is deprecated in favor of `iter_neighbors` and will be removed in the subsequent version.\n",
      "  warn(\n",
      "/opt/conda/lib/python3.10/site-packages/mesa/space.py:204: UserWarning: `neighbor_iter` is deprecated in favor of `iter_neighbors` and will be removed in the subsequent version.\n",
      "  warn(\n",
      "108it [00:04, 16.30it/s]/opt/conda/lib/python3.10/site-packages/mesa/space.py:204: UserWarning: `neighbor_iter` is deprecated in favor of `iter_neighbors` and will be removed in the subsequent version.\n",
      "  warn(\n",
      "/opt/conda/lib/python3.10/site-packages/mesa/space.py:204: UserWarning: `neighbor_iter` is deprecated in favor of `iter_neighbors` and will be removed in the subsequent version.\n",
      "  warn(\n",
      "110it [00:04, 17.00it/s]/opt/conda/lib/python3.10/site-packages/mesa/space.py:204: UserWarning: `neighbor_iter` is deprecated in favor of `iter_neighbors` and will be removed in the subsequent version.\n",
      "  warn(\n",
      "/opt/conda/lib/python3.10/site-packages/mesa/space.py:204: UserWarning: `neighbor_iter` is deprecated in favor of `iter_neighbors` and will be removed in the subsequent version.\n",
      "  warn(\n",
      "112it [00:04, 13.86it/s]/opt/conda/lib/python3.10/site-packages/mesa/space.py:204: UserWarning: `neighbor_iter` is deprecated in favor of `iter_neighbors` and will be removed in the subsequent version.\n",
      "  warn(\n",
      "/opt/conda/lib/python3.10/site-packages/mesa/space.py:204: UserWarning: `neighbor_iter` is deprecated in favor of `iter_neighbors` and will be removed in the subsequent version.\n",
      "  warn(\n",
      "114it [00:04, 14.05it/s]/opt/conda/lib/python3.10/site-packages/mesa/space.py:204: UserWarning: `neighbor_iter` is deprecated in favor of `iter_neighbors` and will be removed in the subsequent version.\n",
      "  warn(\n",
      "/opt/conda/lib/python3.10/site-packages/mesa/space.py:204: UserWarning: `neighbor_iter` is deprecated in favor of `iter_neighbors` and will be removed in the subsequent version.\n",
      "  warn(\n",
      "116it [00:04, 12.56it/s]/opt/conda/lib/python3.10/site-packages/mesa/space.py:204: UserWarning: `neighbor_iter` is deprecated in favor of `iter_neighbors` and will be removed in the subsequent version.\n",
      "  warn(\n",
      "/opt/conda/lib/python3.10/site-packages/mesa/space.py:204: UserWarning: `neighbor_iter` is deprecated in favor of `iter_neighbors` and will be removed in the subsequent version.\n",
      "  warn(\n",
      "118it [00:05, 10.33it/s]/opt/conda/lib/python3.10/site-packages/mesa/space.py:204: UserWarning: `neighbor_iter` is deprecated in favor of `iter_neighbors` and will be removed in the subsequent version.\n",
      "  warn(\n",
      "/opt/conda/lib/python3.10/site-packages/mesa/space.py:204: UserWarning: `neighbor_iter` is deprecated in favor of `iter_neighbors` and will be removed in the subsequent version.\n",
      "  warn(\n",
      "120it [00:05, 11.98it/s]/opt/conda/lib/python3.10/site-packages/mesa/space.py:204: UserWarning: `neighbor_iter` is deprecated in favor of `iter_neighbors` and will be removed in the subsequent version.\n",
      "  warn(\n",
      "/opt/conda/lib/python3.10/site-packages/mesa/space.py:204: UserWarning: `neighbor_iter` is deprecated in favor of `iter_neighbors` and will be removed in the subsequent version.\n",
      "  warn(\n",
      "122it [00:05, 11.45it/s]/opt/conda/lib/python3.10/site-packages/mesa/space.py:204: UserWarning: `neighbor_iter` is deprecated in favor of `iter_neighbors` and will be removed in the subsequent version.\n",
      "  warn(\n",
      "/opt/conda/lib/python3.10/site-packages/mesa/space.py:204: UserWarning: `neighbor_iter` is deprecated in favor of `iter_neighbors` and will be removed in the subsequent version.\n",
      "  warn(\n",
      "124it [00:05, 10.64it/s]/opt/conda/lib/python3.10/site-packages/mesa/space.py:204: UserWarning: `neighbor_iter` is deprecated in favor of `iter_neighbors` and will be removed in the subsequent version.\n",
      "  warn(\n",
      "/opt/conda/lib/python3.10/site-packages/mesa/space.py:204: UserWarning: `neighbor_iter` is deprecated in favor of `iter_neighbors` and will be removed in the subsequent version.\n",
      "  warn(\n",
      "126it [00:05, 10.27it/s]/opt/conda/lib/python3.10/site-packages/mesa/space.py:204: UserWarning: `neighbor_iter` is deprecated in favor of `iter_neighbors` and will be removed in the subsequent version.\n",
      "  warn(\n",
      "/opt/conda/lib/python3.10/site-packages/mesa/space.py:204: UserWarning: `neighbor_iter` is deprecated in favor of `iter_neighbors` and will be removed in the subsequent version.\n",
      "  warn(\n",
      "128it [00:05,  9.62it/s]/opt/conda/lib/python3.10/site-packages/mesa/space.py:204: UserWarning: `neighbor_iter` is deprecated in favor of `iter_neighbors` and will be removed in the subsequent version.\n",
      "  warn(\n",
      "/opt/conda/lib/python3.10/site-packages/mesa/space.py:204: UserWarning: `neighbor_iter` is deprecated in favor of `iter_neighbors` and will be removed in the subsequent version.\n",
      "  warn(\n",
      "130it [00:06, 10.67it/s]/opt/conda/lib/python3.10/site-packages/mesa/space.py:204: UserWarning: `neighbor_iter` is deprecated in favor of `iter_neighbors` and will be removed in the subsequent version.\n",
      "  warn(\n",
      "/opt/conda/lib/python3.10/site-packages/mesa/space.py:204: UserWarning: `neighbor_iter` is deprecated in favor of `iter_neighbors` and will be removed in the subsequent version.\n",
      "  warn(\n",
      "132it [00:06,  7.00it/s]/opt/conda/lib/python3.10/site-packages/mesa/space.py:204: UserWarning: `neighbor_iter` is deprecated in favor of `iter_neighbors` and will be removed in the subsequent version.\n",
      "  warn(\n",
      "133it [00:06,  7.00it/s]/opt/conda/lib/python3.10/site-packages/mesa/space.py:204: UserWarning: `neighbor_iter` is deprecated in favor of `iter_neighbors` and will be removed in the subsequent version.\n",
      "  warn(\n",
      "134it [00:06,  7.33it/s]/opt/conda/lib/python3.10/site-packages/mesa/space.py:204: UserWarning: `neighbor_iter` is deprecated in favor of `iter_neighbors` and will be removed in the subsequent version.\n",
      "  warn(\n",
      "135it [00:07,  7.23it/s]/opt/conda/lib/python3.10/site-packages/mesa/space.py:204: UserWarning: `neighbor_iter` is deprecated in favor of `iter_neighbors` and will be removed in the subsequent version.\n",
      "  warn(\n",
      "136it [00:07,  5.58it/s]/opt/conda/lib/python3.10/site-packages/mesa/space.py:204: UserWarning: `neighbor_iter` is deprecated in favor of `iter_neighbors` and will be removed in the subsequent version.\n",
      "  warn(\n",
      "137it [00:07,  4.32it/s]/opt/conda/lib/python3.10/site-packages/mesa/space.py:204: UserWarning: `neighbor_iter` is deprecated in favor of `iter_neighbors` and will be removed in the subsequent version.\n",
      "  warn(\n",
      "138it [00:07,  4.59it/s]/opt/conda/lib/python3.10/site-packages/mesa/space.py:204: UserWarning: `neighbor_iter` is deprecated in favor of `iter_neighbors` and will be removed in the subsequent version.\n",
      "  warn(\n",
      "139it [00:08,  4.04it/s]/opt/conda/lib/python3.10/site-packages/mesa/space.py:204: UserWarning: `neighbor_iter` is deprecated in favor of `iter_neighbors` and will be removed in the subsequent version.\n",
      "  warn(\n",
      "/opt/conda/lib/python3.10/site-packages/mesa/space.py:204: UserWarning: `neighbor_iter` is deprecated in favor of `iter_neighbors` and will be removed in the subsequent version.\n",
      "  warn(\n",
      "141it [00:08,  4.83it/s]/opt/conda/lib/python3.10/site-packages/mesa/space.py:204: UserWarning: `neighbor_iter` is deprecated in favor of `iter_neighbors` and will be removed in the subsequent version.\n",
      "  warn(\n",
      "142it [00:08,  4.68it/s]/opt/conda/lib/python3.10/site-packages/mesa/space.py:204: UserWarning: `neighbor_iter` is deprecated in favor of `iter_neighbors` and will be removed in the subsequent version.\n",
      "  warn(\n",
      "143it [00:09,  4.57it/s]/opt/conda/lib/python3.10/site-packages/mesa/space.py:204: UserWarning: `neighbor_iter` is deprecated in favor of `iter_neighbors` and will be removed in the subsequent version.\n",
      "  warn(\n",
      "144it [00:09,  4.47it/s]/opt/conda/lib/python3.10/site-packages/mesa/space.py:204: UserWarning: `neighbor_iter` is deprecated in favor of `iter_neighbors` and will be removed in the subsequent version.\n",
      "  warn(\n",
      "145it [00:09,  3.27it/s]/opt/conda/lib/python3.10/site-packages/mesa/space.py:204: UserWarning: `neighbor_iter` is deprecated in favor of `iter_neighbors` and will be removed in the subsequent version.\n",
      "  warn(\n",
      "146it [00:10,  2.81it/s]/opt/conda/lib/python3.10/site-packages/mesa/space.py:204: UserWarning: `neighbor_iter` is deprecated in favor of `iter_neighbors` and will be removed in the subsequent version.\n",
      "  warn(\n",
      "147it [00:10,  2.71it/s]/opt/conda/lib/python3.10/site-packages/mesa/space.py:204: UserWarning: `neighbor_iter` is deprecated in favor of `iter_neighbors` and will be removed in the subsequent version.\n",
      "  warn(\n",
      "148it [00:11,  2.27it/s]/opt/conda/lib/python3.10/site-packages/mesa/space.py:204: UserWarning: `neighbor_iter` is deprecated in favor of `iter_neighbors` and will be removed in the subsequent version.\n",
      "  warn(\n",
      "149it [00:11,  2.35it/s]/opt/conda/lib/python3.10/site-packages/mesa/space.py:204: UserWarning: `neighbor_iter` is deprecated in favor of `iter_neighbors` and will be removed in the subsequent version.\n",
      "  warn(\n",
      "150it [00:12,  2.33it/s]/opt/conda/lib/python3.10/site-packages/mesa/space.py:204: UserWarning: `neighbor_iter` is deprecated in favor of `iter_neighbors` and will be removed in the subsequent version.\n",
      "  warn(\n",
      "151it [00:12,  2.07it/s]/opt/conda/lib/python3.10/site-packages/mesa/space.py:204: UserWarning: `neighbor_iter` is deprecated in favor of `iter_neighbors` and will be removed in the subsequent version.\n",
      "  warn(\n",
      "152it [00:13,  1.91it/s]/opt/conda/lib/python3.10/site-packages/mesa/space.py:204: UserWarning: `neighbor_iter` is deprecated in favor of `iter_neighbors` and will be removed in the subsequent version.\n",
      "  warn(\n",
      "153it [00:13,  1.84it/s]/opt/conda/lib/python3.10/site-packages/mesa/space.py:204: UserWarning: `neighbor_iter` is deprecated in favor of `iter_neighbors` and will be removed in the subsequent version.\n",
      "  warn(\n",
      "154it [00:14,  1.85it/s]/opt/conda/lib/python3.10/site-packages/mesa/space.py:204: UserWarning: `neighbor_iter` is deprecated in favor of `iter_neighbors` and will be removed in the subsequent version.\n",
      "  warn(\n",
      "155it [00:15,  1.74it/s]/opt/conda/lib/python3.10/site-packages/mesa/space.py:204: UserWarning: `neighbor_iter` is deprecated in favor of `iter_neighbors` and will be removed in the subsequent version.\n",
      "  warn(\n",
      "156it [00:15,  1.69it/s]/opt/conda/lib/python3.10/site-packages/mesa/space.py:204: UserWarning: `neighbor_iter` is deprecated in favor of `iter_neighbors` and will be removed in the subsequent version.\n",
      "  warn(\n",
      "157it [00:16,  1.63it/s]/opt/conda/lib/python3.10/site-packages/mesa/space.py:204: UserWarning: `neighbor_iter` is deprecated in favor of `iter_neighbors` and will be removed in the subsequent version.\n",
      "  warn(\n",
      "158it [00:16,  1.67it/s]/opt/conda/lib/python3.10/site-packages/mesa/space.py:204: UserWarning: `neighbor_iter` is deprecated in favor of `iter_neighbors` and will be removed in the subsequent version.\n",
      "  warn(\n",
      "159it [00:17,  1.58it/s]/opt/conda/lib/python3.10/site-packages/mesa/space.py:204: UserWarning: `neighbor_iter` is deprecated in favor of `iter_neighbors` and will be removed in the subsequent version.\n",
      "  warn(\n",
      "160it [00:18,  1.65it/s]/opt/conda/lib/python3.10/site-packages/mesa/space.py:204: UserWarning: `neighbor_iter` is deprecated in favor of `iter_neighbors` and will be removed in the subsequent version.\n",
      "  warn(\n",
      "161it [00:18,  1.82it/s]/opt/conda/lib/python3.10/site-packages/mesa/space.py:204: UserWarning: `neighbor_iter` is deprecated in favor of `iter_neighbors` and will be removed in the subsequent version.\n",
      "  warn(\n",
      "162it [00:18,  2.18it/s]/opt/conda/lib/python3.10/site-packages/mesa/space.py:204: UserWarning: `neighbor_iter` is deprecated in favor of `iter_neighbors` and will be removed in the subsequent version.\n",
      "  warn(\n",
      "163it [00:19,  2.56it/s]/opt/conda/lib/python3.10/site-packages/mesa/space.py:204: UserWarning: `neighbor_iter` is deprecated in favor of `iter_neighbors` and will be removed in the subsequent version.\n",
      "  warn(\n",
      "164it [00:19,  2.88it/s]/opt/conda/lib/python3.10/site-packages/mesa/space.py:204: UserWarning: `neighbor_iter` is deprecated in favor of `iter_neighbors` and will be removed in the subsequent version.\n",
      "  warn(\n",
      "165it [00:19,  2.98it/s]/opt/conda/lib/python3.10/site-packages/mesa/space.py:204: UserWarning: `neighbor_iter` is deprecated in favor of `iter_neighbors` and will be removed in the subsequent version.\n",
      "  warn(\n",
      "166it [00:20,  2.35it/s]/opt/conda/lib/python3.10/site-packages/mesa/space.py:204: UserWarning: `neighbor_iter` is deprecated in favor of `iter_neighbors` and will be removed in the subsequent version.\n",
      "  warn(\n",
      "167it [00:21,  1.93it/s]/opt/conda/lib/python3.10/site-packages/mesa/space.py:204: UserWarning: `neighbor_iter` is deprecated in favor of `iter_neighbors` and will be removed in the subsequent version.\n",
      "  warn(\n",
      "168it [00:21,  1.90it/s]/opt/conda/lib/python3.10/site-packages/mesa/space.py:204: UserWarning: `neighbor_iter` is deprecated in favor of `iter_neighbors` and will be removed in the subsequent version.\n",
      "  warn(\n",
      "169it [00:22,  1.93it/s]/opt/conda/lib/python3.10/site-packages/mesa/space.py:204: UserWarning: `neighbor_iter` is deprecated in favor of `iter_neighbors` and will be removed in the subsequent version.\n",
      "  warn(\n",
      "170it [00:22,  1.93it/s]/opt/conda/lib/python3.10/site-packages/mesa/space.py:204: UserWarning: `neighbor_iter` is deprecated in favor of `iter_neighbors` and will be removed in the subsequent version.\n",
      "  warn(\n",
      "171it [00:23,  1.87it/s]/opt/conda/lib/python3.10/site-packages/mesa/space.py:204: UserWarning: `neighbor_iter` is deprecated in favor of `iter_neighbors` and will be removed in the subsequent version.\n",
      "  warn(\n",
      "172it [00:23,  1.80it/s]/opt/conda/lib/python3.10/site-packages/mesa/space.py:204: UserWarning: `neighbor_iter` is deprecated in favor of `iter_neighbors` and will be removed in the subsequent version.\n",
      "  warn(\n",
      "173it [00:24,  1.69it/s]/opt/conda/lib/python3.10/site-packages/mesa/space.py:204: UserWarning: `neighbor_iter` is deprecated in favor of `iter_neighbors` and will be removed in the subsequent version.\n",
      "  warn(\n",
      "174it [00:25,  1.71it/s]/opt/conda/lib/python3.10/site-packages/mesa/space.py:204: UserWarning: `neighbor_iter` is deprecated in favor of `iter_neighbors` and will be removed in the subsequent version.\n",
      "  warn(\n",
      "175it [00:26,  1.41it/s]/opt/conda/lib/python3.10/site-packages/mesa/space.py:204: UserWarning: `neighbor_iter` is deprecated in favor of `iter_neighbors` and will be removed in the subsequent version.\n",
      "  warn(\n",
      "176it [00:26,  1.36it/s]/opt/conda/lib/python3.10/site-packages/mesa/space.py:204: UserWarning: `neighbor_iter` is deprecated in favor of `iter_neighbors` and will be removed in the subsequent version.\n",
      "  warn(\n",
      "177it [00:27,  1.43it/s]/opt/conda/lib/python3.10/site-packages/mesa/space.py:204: UserWarning: `neighbor_iter` is deprecated in favor of `iter_neighbors` and will be removed in the subsequent version.\n",
      "  warn(\n",
      "178it [00:27,  1.54it/s]/opt/conda/lib/python3.10/site-packages/mesa/space.py:204: UserWarning: `neighbor_iter` is deprecated in favor of `iter_neighbors` and will be removed in the subsequent version.\n",
      "  warn(\n",
      "179it [00:28,  1.46it/s]/opt/conda/lib/python3.10/site-packages/mesa/space.py:204: UserWarning: `neighbor_iter` is deprecated in favor of `iter_neighbors` and will be removed in the subsequent version.\n",
      "  warn(\n",
      "180it [00:29,  1.75it/s]/opt/conda/lib/python3.10/site-packages/mesa/space.py:204: UserWarning: `neighbor_iter` is deprecated in favor of `iter_neighbors` and will be removed in the subsequent version.\n",
      "  warn(\n",
      "181it [00:29,  1.98it/s]/opt/conda/lib/python3.10/site-packages/mesa/space.py:204: UserWarning: `neighbor_iter` is deprecated in favor of `iter_neighbors` and will be removed in the subsequent version.\n",
      "  warn(\n",
      "182it [00:29,  2.31it/s]/opt/conda/lib/python3.10/site-packages/mesa/space.py:204: UserWarning: `neighbor_iter` is deprecated in favor of `iter_neighbors` and will be removed in the subsequent version.\n",
      "  warn(\n",
      "183it [00:29,  2.67it/s]/opt/conda/lib/python3.10/site-packages/mesa/space.py:204: UserWarning: `neighbor_iter` is deprecated in favor of `iter_neighbors` and will be removed in the subsequent version.\n",
      "  warn(\n",
      "184it [00:30,  2.10it/s]/opt/conda/lib/python3.10/site-packages/mesa/space.py:204: UserWarning: `neighbor_iter` is deprecated in favor of `iter_neighbors` and will be removed in the subsequent version.\n",
      "  warn(\n",
      "185it [00:31,  1.82it/s]/opt/conda/lib/python3.10/site-packages/mesa/space.py:204: UserWarning: `neighbor_iter` is deprecated in favor of `iter_neighbors` and will be removed in the subsequent version.\n",
      "  warn(\n",
      "186it [00:31,  1.75it/s]/opt/conda/lib/python3.10/site-packages/mesa/space.py:204: UserWarning: `neighbor_iter` is deprecated in favor of `iter_neighbors` and will be removed in the subsequent version.\n",
      "  warn(\n",
      "187it [00:33,  1.28it/s]/opt/conda/lib/python3.10/site-packages/mesa/space.py:204: UserWarning: `neighbor_iter` is deprecated in favor of `iter_neighbors` and will be removed in the subsequent version.\n",
      "  warn(\n",
      "188it [00:33,  1.34it/s]/opt/conda/lib/python3.10/site-packages/mesa/space.py:204: UserWarning: `neighbor_iter` is deprecated in favor of `iter_neighbors` and will be removed in the subsequent version.\n",
      "  warn(\n",
      "189it [00:34,  1.42it/s]/opt/conda/lib/python3.10/site-packages/mesa/space.py:204: UserWarning: `neighbor_iter` is deprecated in favor of `iter_neighbors` and will be removed in the subsequent version.\n",
      "  warn(\n",
      "190it [00:35,  5.36it/s]\n"
     ]
    }
   ],
   "source": [
    "#we set-up the parameters that we want to vary, as well as the ones that we want to keep fixed as dictionaries \n",
    "variable_parameters = {\"threshold\": [x/100 for x in range(5,100,5)]}\n",
    "fixed_parameters = {\"size\": (10,10), \"percent_minority\": 0.5, \"density\": 0.8}\n",
    "\n",
    "model_reporters = {\"segregation\": lambda m: m.segregation(), \n",
    "                   'happy': lambda m: m.happy(), \n",
    "                   'num_agents': lambda m: m.schedule.get_agent_count()}\n",
    "\n",
    "#use batchrun to go through all possible combinations of parameters\n",
    "param_sweep = BatchRunner(Schelling, \n",
    "                          variable_parameters= variable_parameters, \n",
    "                          fixed_parameters = fixed_parameters,\n",
    "                          iterations=10, max_steps=100, model_reporters=model_reporters)\n",
    "\n",
    "param_sweep.run_all()"
   ]
  },
  {
   "cell_type": "code",
   "execution_count": 48,
   "metadata": {
    "slideshow": {
     "slide_type": "slide"
    }
   },
   "outputs": [
    {
     "data": {
      "text/html": [
       "<div>\n",
       "<style scoped>\n",
       "    .dataframe tbody tr th:only-of-type {\n",
       "        vertical-align: middle;\n",
       "    }\n",
       "\n",
       "    .dataframe tbody tr th {\n",
       "        vertical-align: top;\n",
       "    }\n",
       "\n",
       "    .dataframe thead th {\n",
       "        text-align: right;\n",
       "    }\n",
       "</style>\n",
       "<table border=\"1\" class=\"dataframe\">\n",
       "  <thead>\n",
       "    <tr style=\"text-align: right;\">\n",
       "      <th></th>\n",
       "      <th>threshold</th>\n",
       "      <th>Run</th>\n",
       "      <th>happy</th>\n",
       "      <th>num_agents</th>\n",
       "      <th>segregation</th>\n",
       "      <th>size</th>\n",
       "      <th>percent_minority</th>\n",
       "      <th>density</th>\n",
       "    </tr>\n",
       "  </thead>\n",
       "  <tbody>\n",
       "    <tr>\n",
       "      <th>0</th>\n",
       "      <td>0.05</td>\n",
       "      <td>0</td>\n",
       "      <td>1.0</td>\n",
       "      <td>83</td>\n",
       "      <td>0.494091</td>\n",
       "      <td>(10, 10)</td>\n",
       "      <td>0.5</td>\n",
       "      <td>0.8</td>\n",
       "    </tr>\n",
       "    <tr>\n",
       "      <th>1</th>\n",
       "      <td>0.05</td>\n",
       "      <td>1</td>\n",
       "      <td>1.0</td>\n",
       "      <td>78</td>\n",
       "      <td>0.533868</td>\n",
       "      <td>(10, 10)</td>\n",
       "      <td>0.5</td>\n",
       "      <td>0.8</td>\n",
       "    </tr>\n",
       "    <tr>\n",
       "      <th>2</th>\n",
       "      <td>0.05</td>\n",
       "      <td>2</td>\n",
       "      <td>1.0</td>\n",
       "      <td>79</td>\n",
       "      <td>0.664768</td>\n",
       "      <td>(10, 10)</td>\n",
       "      <td>0.5</td>\n",
       "      <td>0.8</td>\n",
       "    </tr>\n",
       "    <tr>\n",
       "      <th>3</th>\n",
       "      <td>0.05</td>\n",
       "      <td>3</td>\n",
       "      <td>1.0</td>\n",
       "      <td>80</td>\n",
       "      <td>0.572009</td>\n",
       "      <td>(10, 10)</td>\n",
       "      <td>0.5</td>\n",
       "      <td>0.8</td>\n",
       "    </tr>\n",
       "    <tr>\n",
       "      <th>4</th>\n",
       "      <td>0.05</td>\n",
       "      <td>4</td>\n",
       "      <td>1.0</td>\n",
       "      <td>75</td>\n",
       "      <td>0.562984</td>\n",
       "      <td>(10, 10)</td>\n",
       "      <td>0.5</td>\n",
       "      <td>0.8</td>\n",
       "    </tr>\n",
       "  </tbody>\n",
       "</table>\n",
       "</div>"
      ],
      "text/plain": [
       "   threshold  Run  happy  num_agents  segregation      size  percent_minority  \\\n",
       "0       0.05    0    1.0          83     0.494091  (10, 10)               0.5   \n",
       "1       0.05    1    1.0          78     0.533868  (10, 10)               0.5   \n",
       "2       0.05    2    1.0          79     0.664768  (10, 10)               0.5   \n",
       "3       0.05    3    1.0          80     0.572009  (10, 10)               0.5   \n",
       "4       0.05    4    1.0          75     0.562984  (10, 10)               0.5   \n",
       "\n",
       "   density  \n",
       "0      0.8  \n",
       "1      0.8  \n",
       "2      0.8  \n",
       "3      0.8  \n",
       "4      0.8  "
      ]
     },
     "execution_count": 48,
     "metadata": {},
     "output_type": "execute_result"
    }
   ],
   "source": [
    "df = param_sweep.get_model_vars_dataframe()\n",
    "df.head(5)"
   ]
  },
  {
   "cell_type": "code",
   "execution_count": 49,
   "metadata": {},
   "outputs": [
    {
     "data": {
      "image/png": "[encoded data removed]",
      "text/plain": [
       "<Figure size 864x288 with 1 Axes>"
      ]
     },
     "metadata": {
      "needs_background": "light"
     },
     "output_type": "display_data"
    }
   ],
   "source": [
    "fig, ax = plt.subplots(figsize=(12,4))\n",
    "\n",
    "ax =  sns.boxplot(data= df, x = 'threshold', y = 'segregation', color=\".9\")\n",
    "ax = sns.swarmplot(data= df, x = 'threshold', y = 'segregation', color=\".25\", size=3)\n",
    "\n",
    "plt.show()"
   ]
  },
  {
   "cell_type": "code",
   "execution_count": 50,
   "metadata": {
    "slideshow": {
     "slide_type": "slide"
    }
   },
   "outputs": [
    {
     "name": "stderr",
     "output_type": "stream",
     "text": [
      "/opt/conda/lib/python3.10/site-packages/seaborn/categorical.py:1296: UserWarning: 10.0% of the points cannot be placed; you may want to decrease the size of the markers or use stripplot.\n",
      "  warnings.warn(msg, UserWarning)\n"
     ]
    },
    {
     "data": {
      "image/png": "[encoded data removed]",
      "text/plain": [
       "<Figure size 864x288 with 1 Axes>"
      ]
     },
     "metadata": {
      "needs_background": "light"
     },
     "output_type": "display_data"
    }
   ],
   "source": [
    "fig, ax = plt.subplots(figsize=(12,4))\n",
    "ax =  sns.boxplot(data= df, x = 'threshold', y = 'happy', color=\".9\")\n",
    "ax = sns.swarmplot(data= df, x = 'threshold', y = 'happy', color=\".25\", size=3)\n",
    "plt.show()"
   ]
  }
 ],
 "metadata": {
  "celltoolbar": "Slideshow",
  "kernelspec": {
   "display_name": "Python 3 (ipykernel)",
   "language": "python",
   "name": "python3"
  },
  "language_info": {
   "codemirror_mode": {
    "name": "ipython",
    "version": 3
   },
   "file_extension": ".py",
   "mimetype": "text/x-python",
   "name": "python",
   "nbconvert_exporter": "python",
   "pygments_lexer": "ipython3",
   "version": "3.10.5"
  }
 },
 "nbformat": 4,
 "nbformat_minor": 4
}
