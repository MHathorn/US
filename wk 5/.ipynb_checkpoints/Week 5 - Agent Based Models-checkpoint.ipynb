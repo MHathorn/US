{
 "cells": [
  {
   "cell_type": "markdown",
   "metadata": {
    "slideshow": {
     "slide_type": "slide"
    }
   },
   "source": [
    "### CASA0002\n",
    "\n",
    "# Urban Simulation\n",
    "***\n",
    "## Agent Based Modelling\n",
    "\n",
    "Mateo Neira\n",
    "***"
   ]
  },
  {
   "cell_type": "markdown",
   "metadata": {
    "slideshow": {
     "slide_type": "slide"
    }
   },
   "source": [
    "## Introduction to ABM with Mesa\n",
    "\n",
    "This is a notebook to learn about ABM with Mesa, a “modular framework for building, analyzing and visualizing agent-based models in Python.”\n",
    "\n",
    "The objective of this demo isn't to build an ABM but rather to examine the outputs of an ABM in this case a simple wealth distribution model. For those who are interested can read further in the Mesa documentation. \n",
    "\n",
    "\n",
    "If you did not install Mesa, you can use the *conda* command or the *pip* command. Please note that the \"!\"  is used to perform an installation command inside the notebook. \n",
    "\n",
    "We generally recommend installing mesa-geo as it contains some functions that allow you to run ABM in geographic models. \n",
    "\n",
    "```python\n",
    "!pip install mesa-geo\n",
    "```\n"
   ]
  },
  {
   "cell_type": "markdown",
   "metadata": {
    "slideshow": {
     "slide_type": "slide"
    }
   },
   "source": [
    "## What is a Model?\n",
    "\n",
    "* Abstracted description of a process, object or event\n",
    "* Exaggerates certain aspects at the expense of others\n",
    "\n",
    "\n",
    "## What is an Agent Based Model?\n",
    "\n",
    "* A model composed of **agents**\n",
    "    * Autonomous individual element with **properties** and **actions**\n",
    "* Composed of:\n",
    "    * Environment\n",
    "    * Agents\n",
    "    * Description of **agent-agent** and **agent-environment** interactions\n"
   ]
  },
  {
   "cell_type": "markdown",
   "metadata": {
    "slideshow": {
     "slide_type": "slide"
    }
   },
   "source": [
    "The main objective of this practical is to introduce important considerations when running these types of models and analyse results from these. Don't worry too much about the technical aspects of the model implementation, but rather in the concepts and analysis.\n",
    "\n",
    "For those of you who are interested in setting up your own ABM's, you can check out [MESA's Documentation on specifying a model](https://mesa.readthedocs.io/en/master/tutorials/intro_tutorial.html). \n",
    "\n",
    "---\n",
    "\n",
    "### Resources\n",
    "\n",
    "\n",
    "* **Online video-course from the Complexity Explorer (Santa Fe Institute)**: [Intro to ABM by William Rand](https://www.complexityexplorer.org/courses/101-introduction-to-agent-based-modeling-spring-2020)\n",
    "* **Agent Based Modeling paper**: [\"Agent Based Modeling and Simulation:\n",
    "An Informatics Perspective\". Stefania Bandini, Sara Manzoni and Giuseppe Vizzari\n",
    "(2009), Journal of Artificial Societies and Social Simulation 12 (4) 4](http://jasss.soc.surrey.ac.uk/12/4/4.html)\n",
    "* **Agent-Based Models and urban form**: [\"Modelling spatial morphologies: Fractal patterns from cellular\n",
    "automata.\". Batty, Michael, and Paul A. Longley. (2014)](https://www.taylorfrancis.com/chapters/modelling-spatial-morphologies-fractal-patterns-cellular-automata-robert-abrahart-linda-see/10.1201/b17091-9)"
   ]
  },
  {
   "cell_type": "markdown",
   "metadata": {
    "slideshow": {
     "slide_type": "slide"
    }
   },
   "source": [
    "### The basics of a multi-agent system\n",
    "\n",
    "![](flock.gif)\n",
    "\n",
    "Agent-based models are models that allow heterogeneity (in contrast to mean-field or statistical approaches). In these types of models, there is no central control, agents are autonomous and can interact with other agents and the environment. Individual behaviours of the agents are aggregated into global mechanisms that can result in emergent phenomena (for example flocking behaviour).\n",
    "\n",
    "There are two main design strategies for ABM:\n",
    "\n",
    "* **Phenomena-based modelling**: the characteristic patterns that we want to model are known.\n",
    "    * object is to find a set of agents and rules that will generate the know reference pattern\n",
    "* **Exploratory modelling**: built using a bottom-up approach. We start with a basic set of mechanisms and explore the results\n",
    "    * cellular automata is an example\n"
   ]
  },
  {
   "cell_type": "markdown",
   "metadata": {
    "slideshow": {
     "slide_type": "slide"
    }
   },
   "source": [
    "### Agent-Based Models in Geographical and Urban Systems\n",
    "\n",
    "---\n",
    "\n",
    " <center><b>What are the consequences of individual behaviours and decision-making over space and time?</b></center>\n",
    "\n",
    "\n",
    "![](traffic.gif)\n",
    " <center>Redfish Group</center>\n"
   ]
  },
  {
   "cell_type": "markdown",
   "metadata": {
    "slideshow": {
     "slide_type": "slide"
    }
   },
   "source": [
    "### Part One - Intro Tutorial\n",
    "\n",
    "This part has been adapted from the introduction tutorial from the mesa website in simulating wealth distribution using the [**Boltzmann Wealth Model**](https://arxiv.org/pdf/cond-mat/0211175v1.pdf). I have included an exercise to examine changes due to changes in the hyperparameters of the model. For more descriptions, pleases take a look at the link below. \n",
    "\n",
    "*Reference* <br/>\n",
    "https://mesa.readthedocs.io/en/master/tutorials/intro_tutorial.html\n"
   ]
  },
  {
   "cell_type": "code",
   "execution_count": null,
   "metadata": {},
   "outputs": [],
   "source": [
    "#if you have never installed the mesa library:\n",
    "!pip install mesa-geo "
   ]
  },
  {
   "cell_type": "code",
   "execution_count": null,
   "metadata": {
    "slideshow": {
     "slide_type": "slide"
    }
   },
   "outputs": [],
   "source": [
    "%matplotlib inline\n",
    "import matplotlib.pyplot as plt\n",
    "import numpy as np\n",
    "import pandas as pd\n",
    "\n",
    "from mesa import Agent, Model\n",
    "from mesa.time import RandomActivation\n",
    "from mesa.space import MultiGrid"
   ]
  },
  {
   "cell_type": "markdown",
   "metadata": {
    "slideshow": {
     "slide_type": "slide"
    }
   },
   "source": [
    "## Setting up the model\n",
    "\n",
    "We will be using two core classes that we imported previously: \n",
    "* **Agent**: which specifies the agents\n",
    "* **Model**: which holds model-level attributes and manages the agents\n",
    "\n",
    "The **Model** will be specified by:\n",
    "* size of the world given by a height and a width\n",
    "* Number of agents in the model"
   ]
  },
  {
   "cell_type": "markdown",
   "metadata": {
    "slideshow": {
     "slide_type": "slide"
    }
   },
   "source": [
    "## The Agents\n",
    "\n",
    "We will start by specifying the agents in our model. We will do this by creating our own agents class that will inherit from the Agents class of the MESA library. \n",
    "\n",
    "We need our agents to have one variable:\n",
    "* wealth: units of money the agent holds\n",
    "\n",
    "And we need our agents to be able to do three things:\n",
    "* move to a random location within its neighbourhood\n",
    "* give money to a cellmate"
   ]
  },
  {
   "cell_type": "code",
   "execution_count": null,
   "metadata": {
    "slideshow": {
     "slide_type": "slide"
    }
   },
   "outputs": [],
   "source": [
    "# every mesa model needs two class. \n",
    "# one is an agent class that has an init method, a move method, a give wealth method and a step method.\n",
    "\n",
    "class MoneyAgent(Agent):\n",
    "    \"\"\" An agent with fixed initial wealth.\"\"\"\n",
    "    def __init__(self, unique_id, model):\n",
    "        super().__init__(unique_id, model)\n",
    "        self.wealth = 1\n",
    "\n",
    "    # agent move randomly in a moore neighbourhood\n",
    "    def move(self):\n",
    "        # getting the moore's neighbours\n",
    "        possible_steps = self.model.grid.get_neighborhood(\n",
    "            self.pos,\n",
    "            moore=True,\n",
    "            include_center=False)\n",
    "        # randomly moves \n",
    "        new_position = self.random.choice(possible_steps)\n",
    "        self.model.grid.move_agent(self, new_position)\n",
    "\n",
    "    # if there are more than one agent in cell\n",
    "    def give_money(self):\n",
    "        cellmates = self.model.grid.get_cell_list_contents([self.pos])\n",
    "        if len(cellmates) > 1:\n",
    "            # randomly choose an agent\n",
    "            other_agent = self.random.choice(cellmates)\n",
    "            # give money\n",
    "            other_agent.wealth += 1\n",
    "            # reduce saving\n",
    "            self.wealth -= 1\n",
    "\n",
    "    def step(self):\n",
    "        # in every step first move\n",
    "        self.move()\n",
    "        # if wealth is greater than 0 give money away\n",
    "        if self.wealth > 0:\n",
    "            self.give_money()\n"
   ]
  },
  {
   "cell_type": "markdown",
   "metadata": {
    "slideshow": {
     "slide_type": "slide"
    }
   },
   "source": [
    "## The Model\n",
    "\n",
    "The model is a little bit more complicated to set-up as it is composed of three different components:\n",
    "* **space**: the world where the agents will live\n",
    "* **agents**: the agents that occupy the world\n",
    "* **scheduler**: how the agents update their states"
   ]
  },
  {
   "cell_type": "markdown",
   "metadata": {
    "slideshow": {
     "slide_type": "slide"
    }
   },
   "source": [
    "### Space\n",
    "\n",
    "There are different types of spaces:\n",
    "\n",
    "* **Continuous spaces**: here each agent can occupy any arbitrary position, neighbours are defined according to distances betweeen agents (radius)\n",
    "\n",
    "* **Discrete spaces**: each agent can occupy only specific places on the space (for example a cell in a grid). Neighbours are defined by adjacency in the discrete space.\n",
    "    * Grid space\n",
    "    * Network space\n",
    "    \n",
    "![](discrete_continuous.PNG)\n",
    "\n",
    "Each one of these types can also have different topologies. The topology of a space essentially defines how neighbours are defined at the 'borders' of the space.\n",
    "* Finite/infine planar spaces: cartesian spaces of any dimension\n",
    "* Toroidal space\n",
    "* Spherical space\n",
    "\n",
    "In our model we will be using a discrete toroidal space. We can easily do this with MESA:\n",
    "\n",
    "```python\n",
    "from mesa.space import SingleGrid\n",
    "grid = SingleGrid(size[0], size[1], torus=True)\n",
    "```"
   ]
  },
  {
   "cell_type": "markdown",
   "metadata": {
    "slideshow": {
     "slide_type": "slide"
    }
   },
   "source": [
    "### Scheduler\n",
    "\n",
    "Time in most agent-based models moves in steps, sometimes also called ticks. At each time step agents are activated, take actions, or change internal states. How agents are activated at each time step is an important design decision when specifing our models. The scheduler takes care of this task.\n",
    "\n",
    "The scheduler handles how agents update their states.\n",
    "* synchronous: all agents update their state at the same time \n",
    "* asynchronous: agents update sequentially, or at different times\n",
    "\n",
    "\n",
    "In our case we will be updating the agents asynchronously\n",
    "```python\n",
    "from mesa.time import RandomActivation\n",
    "\n",
    "schedule = RandomActivation(model)\n",
    "```"
   ]
  },
  {
   "cell_type": "markdown",
   "metadata": {
    "slideshow": {
     "slide_type": "slide"
    }
   },
   "source": [
    "### Measuring Inequality\n",
    "\n",
    "Additionally we will need a helper function to measure the amount of inequality in the wealth distribution at each iteration. Here, we will be using the **Gini coefficient** - defined as the mean of absolute differences between all pairs of individuals for some measure (in this case wealth). The minimum value is 0 when all measurements are equal and the theoretical maximum is 1 for an infinitely large set of observations where all measurements but one has a value of 0.\n",
    "\n",
    "The **Gini coefficient** can be defined as:\n",
    "\n",
    "$$ G =\\frac{\\sum_{i=1}^{n}(2i-n-1)x_i)}{n\\sum_{i=1}^nx_i} $$\n",
    "\n",
    "where the values of $x_i$, $i=1$ to $n$, are indexed in non-decreasing order ($x_i \\leq x_{i+1}$)"
   ]
  },
  {
   "cell_type": "code",
   "execution_count": null,
   "metadata": {
    "slideshow": {
     "slide_type": "slide"
    }
   },
   "outputs": [],
   "source": [
    "# the other is the model class. \n",
    "from mesa.datacollection import DataCollector\n",
    "\n",
    "\n",
    "def gini(model):\n",
    "    #get the wealth of agents from the model\n",
    "    agent_wealths = np.array([agent.wealth for agent in model.schedule.agents])\n",
    "    #sort the wealth \n",
    "    x = np.sort(agent_wealths)\n",
    "    index = np.arange(1,x.shape[0]+1) #index per array element\n",
    "    n = x.shape[0]#number of array elements\n",
    "    \n",
    "    return ((np.sum((2 * index - n  - 1) * x)) / (n * np.sum(x)))\n",
    "\n",
    "class MoneyModel(Model):\n",
    "    \"\"\"A model with some number of agents.\"\"\"\n",
    "    def __init__(self, N, width, height):\n",
    "        # this is the number of agents in the abm\n",
    "        self.num_agents = N\n",
    "        # this is the size of the grid using MultiGrid\n",
    "        self.grid = MultiGrid(width, height, True)\n",
    "        # activates all the agents once per step, in random order.\n",
    "        self.schedule = RandomActivation(self)\n",
    "        # Create agents\n",
    "        for i in range(self.num_agents):\n",
    "            a = MoneyAgent(i, self)\n",
    "            #add an agent to the schedule\n",
    "            self.schedule.add(a)\n",
    "            # Add the agent to a random grid cell\n",
    "            x = self.random.randrange(self.grid.width)\n",
    "            y = self.random.randrange(self.grid.height)\n",
    "            self.grid.place_agent(a, (x, y))\n",
    "            \n",
    "        self.datacollector = DataCollector(\n",
    "            model_reporters={\"Gini\": gini},\n",
    "            agent_reporters={\"Wealth\": \"wealth\"})\n",
    "            \n",
    "        self.running = True\n",
    "\n",
    "    def step(self):\n",
    "        self.datacollector.collect(self)\n",
    "        self.schedule.step()"
   ]
  },
  {
   "cell_type": "markdown",
   "metadata": {
    "slideshow": {
     "slide_type": "slide"
    }
   },
   "source": [
    "### runs the abm\n",
    "\n",
    "create a model with 50 agents on a 10x10 grid, and run it for 50 steps."
   ]
  },
  {
   "cell_type": "code",
   "execution_count": null,
   "metadata": {
    "slideshow": {
     "slide_type": "slide"
    }
   },
   "outputs": [],
   "source": [
    "model = MoneyModel(50, 10, 10)\n",
    "for i in range(50):\n",
    "    model.step()"
   ]
  },
  {
   "cell_type": "markdown",
   "metadata": {
    "slideshow": {
     "slide_type": "slide"
    }
   },
   "source": [
    "### visualise the abm output"
   ]
  },
  {
   "cell_type": "code",
   "execution_count": null,
   "metadata": {
    "slideshow": {
     "slide_type": "slide"
    }
   },
   "outputs": [],
   "source": [
    "agent_counts = np.zeros((model.grid.width, model.grid.height))\n",
    "for cell in model.grid.coord_iter():\n",
    "    cell_content, x, y = cell\n",
    "    agent_count = len(cell_content)\n",
    "    agent_counts[x][y] = agent_count\n"
   ]
  },
  {
   "cell_type": "markdown",
   "metadata": {
    "slideshow": {
     "slide_type": "slide"
    }
   },
   "source": [
    "this is where the 50 agents are spatially!"
   ]
  },
  {
   "cell_type": "code",
   "execution_count": null,
   "metadata": {
    "slideshow": {
     "slide_type": "slide"
    }
   },
   "outputs": [],
   "source": [
    "plt.imshow(agent_counts, interpolation='nearest')\n",
    "plt.colorbar()"
   ]
  },
  {
   "cell_type": "markdown",
   "metadata": {
    "slideshow": {
     "slide_type": "slide"
    }
   },
   "source": [
    "this is the wealth histogram describing its empirical distribution. "
   ]
  },
  {
   "cell_type": "code",
   "execution_count": null,
   "metadata": {
    "slideshow": {
     "slide_type": "slide"
    }
   },
   "outputs": [],
   "source": [
    "array=[a.wealth for a in model.schedule.agents]\n",
    "pd.DataFrame(array).plot(kind='hist',color='black')\n",
    "plt.xlabel(\"wealth\")\n",
    "plt.show()\n"
   ]
  },
  {
   "cell_type": "markdown",
   "metadata": {
    "slideshow": {
     "slide_type": "slide"
    }
   },
   "source": [
    "you can also calculate the gini coefficient of how well the wealth is distributed where 0 is perfect equality and 1 is perfect inequality."
   ]
  },
  {
   "cell_type": "code",
   "execution_count": null,
   "metadata": {
    "slideshow": {
     "slide_type": "slide"
    }
   },
   "outputs": [],
   "source": [
    "gini_df = model.datacollector.get_model_vars_dataframe()\n",
    "gini_df.plot()\n",
    "plt.xlabel(\"steps\")"
   ]
  },
  {
   "cell_type": "markdown",
   "metadata": {
    "slideshow": {
     "slide_type": "slide"
    }
   },
   "source": [
    "## Analysing results\n",
    "\n",
    "Now, even though the running the model once and visualizing the results can be a useful tool to understand how the model works, check that it's functioning as we would expect, and build intuition about the dynamics at play, we need to understand how the model behaves given different parameters (sensitivity to initial conditions), as well as account for randomness by looking at the average behaviour of multiple runs."
   ]
  },
  {
   "cell_type": "code",
   "execution_count": null,
   "metadata": {
    "slideshow": {
     "slide_type": "slide"
    }
   },
   "outputs": [],
   "source": [
    "from mesa.batchrunner import BatchRunner\n",
    "\n",
    "variable_parameters = {\"N\": range(10, 500, 10)}\n",
    "fixed_parameters = {\"width\": 10, \"height\": 10}\n",
    "\n",
    "param_sweep = BatchRunner(MoneyModel, \n",
    "                          variable_parameters= variable_parameters, \n",
    "                          fixed_parameters = fixed_parameters,\n",
    "                          iterations=5, max_steps=100, model_reporters={\"Gini\": gini})\n",
    "\n",
    "param_sweep.run_all()"
   ]
  },
  {
   "cell_type": "code",
   "execution_count": null,
   "metadata": {},
   "outputs": [],
   "source": [
    "#get the data from the model run\n",
    "run_data = param_sweep.get_model_vars_dataframe()\n",
    "run_data.head()"
   ]
  },
  {
   "cell_type": "code",
   "execution_count": null,
   "metadata": {},
   "outputs": [],
   "source": [
    "import seaborn as sns\n",
    "\n",
    "fig, ax = plt.subplots(figsize=(20,5))\n",
    "\n",
    "ax =  sns.boxplot(data= run_data, x = 'N', y = 'Gini', color=\".9\")\n",
    "ax = sns.swarmplot(data= run_data, x = 'N', y = 'Gini', color=\".25\", size=3)\n",
    "plt.show()"
   ]
  },
  {
   "cell_type": "markdown",
   "metadata": {
    "slideshow": {
     "slide_type": "slide"
    }
   },
   "source": [
    "## Important considerations\n",
    "\n",
    "---\n",
    "\n",
    "* **Verification**: making sure your model does what you think it does\n",
    "* **Validation**: making sure your model corresponds to the real world in some meaningful way\n",
    "* **Replication**: making sure your model can be replicated and the results can be repeated\n",
    "\n",
    "---\n",
    "\n",
    "#### Complexity, Emergence, Feedback\n",
    "\n",
    "* **emergence**: the action of the whole is more than the sum of the parts\n",
    "* **feedback**: emergence can feedback into the system and affect the decisions individuals make\n",
    "\n",
    "In this sense ABMs (and complex systems analysis in general) don't provide perfect predictions, but rather possible scenerios and insight into how a system might behave under different circumstances. \n",
    "\n",
    "You can play around with this example to get a sense of these ideas:\n",
    "http://www.netlogoweb.org/launch#http://www.netlogoweb.org/assets/modelslib/Sample%20Models/Social%20Science/Segregation.nlogo"
   ]
  },
  {
   "cell_type": "markdown",
   "metadata": {},
   "source": [
    "## Exercise\n",
    "\n",
    "1. run the same model where we keep the number of agents=50, the number of steps=50 but increase the size of the square grid (i,i) with a range of np.arange(10,100,10). Plot the gini coefficient.\n",
    "\n",
    "2. run the same model where we keep the grid at (100,100), the number of steps=50 but increase the number of agents with a range of np.arange(0,500,50). Plot the gini coefficient.\n",
    "\n",
    "3. run the same model where we keep the number of agents=50, the size of the grid at (100,100) but increase the number of steps with a range of np.arange(25,500,25). Plot the gini coefficient."
   ]
  },
  {
   "cell_type": "markdown",
   "metadata": {},
   "source": [
    "### 1. run the same model where we keep the number of agents=50, the number of steps=50 but increase the size of the square grid (i,i) with a range of np.arange(10,100,10). Plot the gini coefficient."
   ]
  },
  {
   "cell_type": "markdown",
   "metadata": {},
   "source": [
    "Set width and height to variable parameters with range 10-100 in increments of 10. Hold N constant at 50 and set max_steps to 50:"
   ]
  },
  {
   "cell_type": "code",
   "execution_count": 100,
   "metadata": {},
   "outputs": [
    {
     "name": "stderr",
     "output_type": "stream",
     "text": [
      "/tmp/ipykernel_65/623095190.py:4: DeprecationWarning: BatchRunner class has been replaced by batch_run function. Please see documentation.\n",
      "  param_sweep = BatchRunner(MoneyModel,\n",
      "405it [00:48,  8.31it/s]\n"
     ]
    }
   ],
   "source": [
    "variable_parameters = {\"width\": range(10, 100, 10), \"height\": range(10, 100, 10)}\n",
    "fixed_parameters = {\"N\": 50}\n",
    "\n",
    "param_sweep = BatchRunner(MoneyModel, \n",
    "                          variable_parameters= variable_parameters, \n",
    "                          fixed_parameters = fixed_parameters,\n",
    "                          iterations=5, max_steps=50, model_reporters={\"Gini\": gini})\n",
    "\n",
    "param_sweep.run_all()"
   ]
  },
  {
   "cell_type": "markdown",
   "metadata": {},
   "source": [
    "Get the results:"
   ]
  },
  {
   "cell_type": "code",
   "execution_count": 102,
   "metadata": {},
   "outputs": [
    {
     "data": {
      "text/html": [
       "<div>\n",
       "<style scoped>\n",
       "    .dataframe tbody tr th:only-of-type {\n",
       "        vertical-align: middle;\n",
       "    }\n",
       "\n",
       "    .dataframe tbody tr th {\n",
       "        vertical-align: top;\n",
       "    }\n",
       "\n",
       "    .dataframe thead th {\n",
       "        text-align: right;\n",
       "    }\n",
       "</style>\n",
       "<table border=\"1\" class=\"dataframe\">\n",
       "  <thead>\n",
       "    <tr style=\"text-align: right;\">\n",
       "      <th></th>\n",
       "      <th>width</th>\n",
       "      <th>height</th>\n",
       "      <th>Run</th>\n",
       "      <th>Gini</th>\n",
       "      <th>N</th>\n",
       "    </tr>\n",
       "  </thead>\n",
       "  <tbody>\n",
       "    <tr>\n",
       "      <th>0</th>\n",
       "      <td>10</td>\n",
       "      <td>10</td>\n",
       "      <td>0</td>\n",
       "      <td>0.6184</td>\n",
       "      <td>50</td>\n",
       "    </tr>\n",
       "    <tr>\n",
       "      <th>1</th>\n",
       "      <td>10</td>\n",
       "      <td>10</td>\n",
       "      <td>1</td>\n",
       "      <td>0.5984</td>\n",
       "      <td>50</td>\n",
       "    </tr>\n",
       "    <tr>\n",
       "      <th>2</th>\n",
       "      <td>10</td>\n",
       "      <td>10</td>\n",
       "      <td>2</td>\n",
       "      <td>0.6680</td>\n",
       "      <td>50</td>\n",
       "    </tr>\n",
       "    <tr>\n",
       "      <th>3</th>\n",
       "      <td>10</td>\n",
       "      <td>10</td>\n",
       "      <td>3</td>\n",
       "      <td>0.6536</td>\n",
       "      <td>50</td>\n",
       "    </tr>\n",
       "    <tr>\n",
       "      <th>4</th>\n",
       "      <td>10</td>\n",
       "      <td>10</td>\n",
       "      <td>4</td>\n",
       "      <td>0.6672</td>\n",
       "      <td>50</td>\n",
       "    </tr>\n",
       "  </tbody>\n",
       "</table>\n",
       "</div>"
      ],
      "text/plain": [
       "   width  height  Run    Gini   N\n",
       "0     10      10    0  0.6184  50\n",
       "1     10      10    1  0.5984  50\n",
       "2     10      10    2  0.6680  50\n",
       "3     10      10    3  0.6536  50\n",
       "4     10      10    4  0.6672  50"
      ]
     },
     "execution_count": 102,
     "metadata": {},
     "output_type": "execute_result"
    }
   ],
   "source": [
    "run_data = param_sweep.get_model_vars_dataframe()\n",
    "run_data.head()"
   ]
  },
  {
   "cell_type": "markdown",
   "metadata": {},
   "source": [
    "Plot:"
   ]
  },
  {
   "cell_type": "code",
   "execution_count": 86,
   "metadata": {},
   "outputs": [
    {
     "data": {
      "image/png": "[encoded data removed]",
      "text/plain": [
       "<Figure size 1440x360 with 1 Axes>"
      ]
     },
     "metadata": {
      "needs_background": "light"
     },
     "output_type": "display_data"
    }
   ],
   "source": [
    "fig, ax = plt.subplots(figsize=(20,5))\n",
    "\n",
    "ax =  sns.boxplot(data= run_data, x = 'width', y = 'Gini', color=\".9\")\n",
    "ax = sns.swarmplot(data= run_data, x = 'width', y = 'Gini', color=\".25\", size=3)\n",
    "plt.show()"
   ]
  },
  {
   "cell_type": "markdown",
   "metadata": {},
   "source": [
    "### 2. run the same model where we keep the grid at (100,100), the number of steps=50 but increase the number of agents with a range of np.arange(25,500,25). Plot the gini coefficient."
   ]
  },
  {
   "cell_type": "markdown",
   "metadata": {},
   "source": [
    "Set N as variable parameter with range 25-500 in increments of 25. Hold width and height constant at 100 and set max_steps to 50:"
   ]
  },
  {
   "cell_type": "code",
   "execution_count": 87,
   "metadata": {},
   "outputs": [
    {
     "name": "stderr",
     "output_type": "stream",
     "text": [
      "/tmp/ipykernel_65/3486294739.py:4: DeprecationWarning: BatchRunner class has been replaced by batch_run function. Please see documentation.\n",
      "  param_sweep = BatchRunner(MoneyModel,\n",
      "95it [00:39,  2.38it/s]\n"
     ]
    }
   ],
   "source": [
    "variable_parameters = {\"N\": range(25, 500, 25)}\n",
    "fixed_parameters = {\"width\": 100, \"height\": 100}\n",
    "\n",
    "param_sweep = BatchRunner(MoneyModel, \n",
    "                          variable_parameters= variable_parameters, \n",
    "                          fixed_parameters = fixed_parameters,\n",
    "                          iterations=5, max_steps=50, model_reporters={\"Gini\": gini})\n",
    "\n",
    "param_sweep.run_all()"
   ]
  },
  {
   "cell_type": "markdown",
   "metadata": {},
   "source": [
    "Get the results:"
   ]
  },
  {
   "cell_type": "code",
   "execution_count": 88,
   "metadata": {},
   "outputs": [
    {
     "data": {
      "text/html": [
       "<div>\n",
       "<style scoped>\n",
       "    .dataframe tbody tr th:only-of-type {\n",
       "        vertical-align: middle;\n",
       "    }\n",
       "\n",
       "    .dataframe tbody tr th {\n",
       "        vertical-align: top;\n",
       "    }\n",
       "\n",
       "    .dataframe thead th {\n",
       "        text-align: right;\n",
       "    }\n",
       "</style>\n",
       "<table border=\"1\" class=\"dataframe\">\n",
       "  <thead>\n",
       "    <tr style=\"text-align: right;\">\n",
       "      <th></th>\n",
       "      <th>N</th>\n",
       "      <th>Run</th>\n",
       "      <th>Gini</th>\n",
       "      <th>width</th>\n",
       "      <th>height</th>\n",
       "    </tr>\n",
       "  </thead>\n",
       "  <tbody>\n",
       "    <tr>\n",
       "      <th>0</th>\n",
       "      <td>25</td>\n",
       "      <td>0</td>\n",
       "      <td>0.000000</td>\n",
       "      <td>100</td>\n",
       "      <td>100</td>\n",
       "    </tr>\n",
       "    <tr>\n",
       "      <th>1</th>\n",
       "      <td>25</td>\n",
       "      <td>1</td>\n",
       "      <td>0.147200</td>\n",
       "      <td>100</td>\n",
       "      <td>100</td>\n",
       "    </tr>\n",
       "    <tr>\n",
       "      <th>2</th>\n",
       "      <td>25</td>\n",
       "      <td>2</td>\n",
       "      <td>0.278400</td>\n",
       "      <td>100</td>\n",
       "      <td>100</td>\n",
       "    </tr>\n",
       "    <tr>\n",
       "      <th>3</th>\n",
       "      <td>25</td>\n",
       "      <td>3</td>\n",
       "      <td>0.076800</td>\n",
       "      <td>100</td>\n",
       "      <td>100</td>\n",
       "    </tr>\n",
       "    <tr>\n",
       "      <th>4</th>\n",
       "      <td>25</td>\n",
       "      <td>4</td>\n",
       "      <td>0.000000</td>\n",
       "      <td>100</td>\n",
       "      <td>100</td>\n",
       "    </tr>\n",
       "    <tr>\n",
       "      <th>...</th>\n",
       "      <td>...</td>\n",
       "      <td>...</td>\n",
       "      <td>...</td>\n",
       "      <td>...</td>\n",
       "      <td>...</td>\n",
       "    </tr>\n",
       "    <tr>\n",
       "      <th>90</th>\n",
       "      <td>475</td>\n",
       "      <td>90</td>\n",
       "      <td>0.525624</td>\n",
       "      <td>100</td>\n",
       "      <td>100</td>\n",
       "    </tr>\n",
       "    <tr>\n",
       "      <th>91</th>\n",
       "      <td>475</td>\n",
       "      <td>91</td>\n",
       "      <td>0.509225</td>\n",
       "      <td>100</td>\n",
       "      <td>100</td>\n",
       "    </tr>\n",
       "    <tr>\n",
       "      <th>92</th>\n",
       "      <td>475</td>\n",
       "      <td>92</td>\n",
       "      <td>0.513250</td>\n",
       "      <td>100</td>\n",
       "      <td>100</td>\n",
       "    </tr>\n",
       "    <tr>\n",
       "      <th>93</th>\n",
       "      <td>475</td>\n",
       "      <td>93</td>\n",
       "      <td>0.511149</td>\n",
       "      <td>100</td>\n",
       "      <td>100</td>\n",
       "    </tr>\n",
       "    <tr>\n",
       "      <th>94</th>\n",
       "      <td>475</td>\n",
       "      <td>94</td>\n",
       "      <td>0.508162</td>\n",
       "      <td>100</td>\n",
       "      <td>100</td>\n",
       "    </tr>\n",
       "  </tbody>\n",
       "</table>\n",
       "<p>95 rows × 5 columns</p>\n",
       "</div>"
      ],
      "text/plain": [
       "      N  Run      Gini  width  height\n",
       "0    25    0  0.000000    100     100\n",
       "1    25    1  0.147200    100     100\n",
       "2    25    2  0.278400    100     100\n",
       "3    25    3  0.076800    100     100\n",
       "4    25    4  0.000000    100     100\n",
       "..  ...  ...       ...    ...     ...\n",
       "90  475   90  0.525624    100     100\n",
       "91  475   91  0.509225    100     100\n",
       "92  475   92  0.513250    100     100\n",
       "93  475   93  0.511149    100     100\n",
       "94  475   94  0.508162    100     100\n",
       "\n",
       "[95 rows x 5 columns]"
      ]
     },
     "execution_count": 88,
     "metadata": {},
     "output_type": "execute_result"
    }
   ],
   "source": [
    "run_data = param_sweep.get_model_vars_dataframe()\n",
    "run_data"
   ]
  },
  {
   "cell_type": "markdown",
   "metadata": {},
   "source": [
    "Plot:"
   ]
  },
  {
   "cell_type": "code",
   "execution_count": 89,
   "metadata": {},
   "outputs": [
    {
     "data": {
      "image/png": "[encoded data removed]",
      "text/plain": [
       "<Figure size 1440x360 with 1 Axes>"
      ]
     },
     "metadata": {
      "needs_background": "light"
     },
     "output_type": "display_data"
    }
   ],
   "source": [
    "fig, ax = plt.subplots(figsize=(20,5))\n",
    "\n",
    "ax =  sns.boxplot(data= run_data, x = 'N', y = 'Gini', color=\".9\")\n",
    "ax = sns.swarmplot(data= run_data, x = 'N', y = 'Gini', color=\".25\", size=3)\n",
    "plt.show()"
   ]
  },
  {
   "cell_type": "markdown",
   "metadata": {},
   "source": [
    "### 3. run the same model where we keep the number of agents=50, the size of the grid at (100,100) but increase the number of steps with a range of np.arange(25,500,25). Plot the gini coefficient."
   ]
  },
  {
   "cell_type": "markdown",
   "metadata": {},
   "source": [
    "Batchrunner is deprecated and has been replaced with batch_run. Documentation on batchrunner is difficult to find, so I used the newer function here. \n",
    "\n",
    "The tricky part of this is that max_steps is defined as an integer, so it isn't possible to set it to a range as we have done with the other parameters. \n",
    "\n",
    "To get around this, I created an empty list called \"results\" and created a for loop for batch_run with max_steps set to a value of x for range (25, 500, 25). \n",
    "\n",
    "The outcome of the for loop is written into the empty list:"
   ]
  },
  {
   "cell_type": "code",
   "execution_count": 90,
   "metadata": {},
   "outputs": [
    {
     "name": "stderr",
     "output_type": "stream",
     "text": [
      "100%|██████████| 5/5 [00:00<00:00, 11.94it/s]\n",
      "100%|██████████| 5/5 [00:00<00:00,  5.41it/s]\n",
      "100%|██████████| 5/5 [00:00<00:00, 11.13it/s]\n",
      "100%|██████████| 5/5 [00:00<00:00,  6.89it/s]\n",
      "100%|██████████| 5/5 [00:01<00:00,  2.89it/s]\n",
      "100%|██████████| 5/5 [00:01<00:00,  3.40it/s]\n",
      "100%|██████████| 5/5 [00:01<00:00,  4.98it/s]\n",
      "100%|██████████| 5/5 [00:02<00:00,  2.23it/s]\n",
      "100%|██████████| 5/5 [00:01<00:00,  3.02it/s]\n",
      "100%|██████████| 5/5 [00:02<00:00,  2.38it/s]\n",
      "100%|██████████| 5/5 [00:02<00:00,  2.18it/s]\n",
      "100%|██████████| 5/5 [00:01<00:00,  3.09it/s]\n",
      "100%|██████████| 5/5 [00:02<00:00,  1.97it/s]\n",
      "100%|██████████| 5/5 [00:02<00:00,  2.19it/s]\n",
      "100%|██████████| 5/5 [00:03<00:00,  1.41it/s]\n",
      "100%|██████████| 5/5 [00:02<00:00,  2.40it/s]\n",
      "100%|██████████| 5/5 [00:03<00:00,  1.56it/s]\n",
      "100%|██████████| 5/5 [00:03<00:00,  1.35it/s]\n",
      "100%|██████████| 5/5 [00:02<00:00,  1.89it/s]\n"
     ]
    }
   ],
   "source": [
    "from mesa.batchrunner import batch_run\n",
    "params = {\"width\": 100, \"height\": 100, \"N\": 50}\n",
    "results = []\n",
    "for x in range(25,500,25):\n",
    "    results.append(batch_run(\n",
    "        MoneyModel,\n",
    "        parameters=params,\n",
    "        iterations=5,\n",
    "        number_processes=1,\n",
    "        max_steps = x,\n",
    "        data_collection_period = -1,\n",
    "        display_progress=True))"
   ]
  },
  {
   "cell_type": "markdown",
   "metadata": {},
   "source": [
    "The output is a complex data structure. It's a nested list of dictionaries:"
   ]
  },
  {
   "cell_type": "code",
   "execution_count": 91,
   "metadata": {},
   "outputs": [
    {
     "data": {
      "text/plain": [
       "[{'RunId': 0,\n",
       "  'iteration': 0,\n",
       "  'Step': 25,\n",
       "  'width': 100,\n",
       "  'height': 100,\n",
       "  'N': 50,\n",
       "  'Gini': 0.0392,\n",
       "  'AgentID': 0,\n",
       "  'Wealth': 0},\n",
       " {'RunId': 0,\n",
       "  'iteration': 0,\n",
       "  'Step': 25,\n",
       "  'width': 100,\n",
       "  'height': 100,\n",
       "  'N': 50,\n",
       "  'Gini': 0.0392,\n",
       "  'AgentID': 1,\n",
       "  'Wealth': 1},\n",
       " {'RunId': 0,\n",
       "  'iteration': 0,\n",
       "  'Step': 25,\n",
       "  'width': 100,\n",
       "  'height': 100,\n",
       "  'N': 50,\n",
       "  'Gini': 0.0392,\n",
       "  'AgentID': 2,\n",
       "  'Wealth': 1}]"
      ]
     },
     "execution_count": 91,
     "metadata": {},
     "output_type": "execute_result"
    }
   ],
   "source": [
    "results[0][0:3]"
   ]
  },
  {
   "cell_type": "markdown",
   "metadata": {},
   "source": [
    "It has one item for every step, iteration, and process (19 steps * 5 iterations * 50 agents):"
   ]
  },
  {
   "cell_type": "code",
   "execution_count": 92,
   "metadata": {},
   "outputs": [
    {
     "name": "stdout",
     "output_type": "stream",
     "text": [
      "19\n",
      "250\n"
     ]
    }
   ],
   "source": [
    "print(len(results))\n",
    "print(len(results[0]))"
   ]
  },
  {
   "cell_type": "markdown",
   "metadata": {},
   "source": [
    "In order to work with it we need to create a dataframe -- but this isn't very friendly:"
   ]
  },
  {
   "cell_type": "code",
   "execution_count": 93,
   "metadata": {},
   "outputs": [
    {
     "data": {
      "text/html": [
       "<div>\n",
       "<style scoped>\n",
       "    .dataframe tbody tr th:only-of-type {\n",
       "        vertical-align: middle;\n",
       "    }\n",
       "\n",
       "    .dataframe tbody tr th {\n",
       "        vertical-align: top;\n",
       "    }\n",
       "\n",
       "    .dataframe thead th {\n",
       "        text-align: right;\n",
       "    }\n",
       "</style>\n",
       "<table border=\"1\" class=\"dataframe\">\n",
       "  <thead>\n",
       "    <tr style=\"text-align: right;\">\n",
       "      <th></th>\n",
       "      <th>0</th>\n",
       "      <th>1</th>\n",
       "      <th>2</th>\n",
       "      <th>3</th>\n",
       "      <th>4</th>\n",
       "      <th>5</th>\n",
       "      <th>6</th>\n",
       "      <th>7</th>\n",
       "      <th>8</th>\n",
       "      <th>9</th>\n",
       "      <th>...</th>\n",
       "      <th>240</th>\n",
       "      <th>241</th>\n",
       "      <th>242</th>\n",
       "      <th>243</th>\n",
       "      <th>244</th>\n",
       "      <th>245</th>\n",
       "      <th>246</th>\n",
       "      <th>247</th>\n",
       "      <th>248</th>\n",
       "      <th>249</th>\n",
       "    </tr>\n",
       "  </thead>\n",
       "  <tbody>\n",
       "    <tr>\n",
       "      <th>0</th>\n",
       "      <td>{'RunId': 0, 'iteration': 0, 'Step': 25, 'widt...</td>\n",
       "      <td>{'RunId': 0, 'iteration': 0, 'Step': 25, 'widt...</td>\n",
       "      <td>{'RunId': 0, 'iteration': 0, 'Step': 25, 'widt...</td>\n",
       "      <td>{'RunId': 0, 'iteration': 0, 'Step': 25, 'widt...</td>\n",
       "      <td>{'RunId': 0, 'iteration': 0, 'Step': 25, 'widt...</td>\n",
       "      <td>{'RunId': 0, 'iteration': 0, 'Step': 25, 'widt...</td>\n",
       "      <td>{'RunId': 0, 'iteration': 0, 'Step': 25, 'widt...</td>\n",
       "      <td>{'RunId': 0, 'iteration': 0, 'Step': 25, 'widt...</td>\n",
       "      <td>{'RunId': 0, 'iteration': 0, 'Step': 25, 'widt...</td>\n",
       "      <td>{'RunId': 0, 'iteration': 0, 'Step': 25, 'widt...</td>\n",
       "      <td>...</td>\n",
       "      <td>{'RunId': 4, 'iteration': 4, 'Step': 25, 'widt...</td>\n",
       "      <td>{'RunId': 4, 'iteration': 4, 'Step': 25, 'widt...</td>\n",
       "      <td>{'RunId': 4, 'iteration': 4, 'Step': 25, 'widt...</td>\n",
       "      <td>{'RunId': 4, 'iteration': 4, 'Step': 25, 'widt...</td>\n",
       "      <td>{'RunId': 4, 'iteration': 4, 'Step': 25, 'widt...</td>\n",
       "      <td>{'RunId': 4, 'iteration': 4, 'Step': 25, 'widt...</td>\n",
       "      <td>{'RunId': 4, 'iteration': 4, 'Step': 25, 'widt...</td>\n",
       "      <td>{'RunId': 4, 'iteration': 4, 'Step': 25, 'widt...</td>\n",
       "      <td>{'RunId': 4, 'iteration': 4, 'Step': 25, 'widt...</td>\n",
       "      <td>{'RunId': 4, 'iteration': 4, 'Step': 25, 'widt...</td>\n",
       "    </tr>\n",
       "    <tr>\n",
       "      <th>1</th>\n",
       "      <td>{'RunId': 0, 'iteration': 0, 'Step': 50, 'widt...</td>\n",
       "      <td>{'RunId': 0, 'iteration': 0, 'Step': 50, 'widt...</td>\n",
       "      <td>{'RunId': 0, 'iteration': 0, 'Step': 50, 'widt...</td>\n",
       "      <td>{'RunId': 0, 'iteration': 0, 'Step': 50, 'widt...</td>\n",
       "      <td>{'RunId': 0, 'iteration': 0, 'Step': 50, 'widt...</td>\n",
       "      <td>{'RunId': 0, 'iteration': 0, 'Step': 50, 'widt...</td>\n",
       "      <td>{'RunId': 0, 'iteration': 0, 'Step': 50, 'widt...</td>\n",
       "      <td>{'RunId': 0, 'iteration': 0, 'Step': 50, 'widt...</td>\n",
       "      <td>{'RunId': 0, 'iteration': 0, 'Step': 50, 'widt...</td>\n",
       "      <td>{'RunId': 0, 'iteration': 0, 'Step': 50, 'widt...</td>\n",
       "      <td>...</td>\n",
       "      <td>{'RunId': 4, 'iteration': 4, 'Step': 50, 'widt...</td>\n",
       "      <td>{'RunId': 4, 'iteration': 4, 'Step': 50, 'widt...</td>\n",
       "      <td>{'RunId': 4, 'iteration': 4, 'Step': 50, 'widt...</td>\n",
       "      <td>{'RunId': 4, 'iteration': 4, 'Step': 50, 'widt...</td>\n",
       "      <td>{'RunId': 4, 'iteration': 4, 'Step': 50, 'widt...</td>\n",
       "      <td>{'RunId': 4, 'iteration': 4, 'Step': 50, 'widt...</td>\n",
       "      <td>{'RunId': 4, 'iteration': 4, 'Step': 50, 'widt...</td>\n",
       "      <td>{'RunId': 4, 'iteration': 4, 'Step': 50, 'widt...</td>\n",
       "      <td>{'RunId': 4, 'iteration': 4, 'Step': 50, 'widt...</td>\n",
       "      <td>{'RunId': 4, 'iteration': 4, 'Step': 50, 'widt...</td>\n",
       "    </tr>\n",
       "    <tr>\n",
       "      <th>2</th>\n",
       "      <td>{'RunId': 0, 'iteration': 0, 'Step': 75, 'widt...</td>\n",
       "      <td>{'RunId': 0, 'iteration': 0, 'Step': 75, 'widt...</td>\n",
       "      <td>{'RunId': 0, 'iteration': 0, 'Step': 75, 'widt...</td>\n",
       "      <td>{'RunId': 0, 'iteration': 0, 'Step': 75, 'widt...</td>\n",
       "      <td>{'RunId': 0, 'iteration': 0, 'Step': 75, 'widt...</td>\n",
       "      <td>{'RunId': 0, 'iteration': 0, 'Step': 75, 'widt...</td>\n",
       "      <td>{'RunId': 0, 'iteration': 0, 'Step': 75, 'widt...</td>\n",
       "      <td>{'RunId': 0, 'iteration': 0, 'Step': 75, 'widt...</td>\n",
       "      <td>{'RunId': 0, 'iteration': 0, 'Step': 75, 'widt...</td>\n",
       "      <td>{'RunId': 0, 'iteration': 0, 'Step': 75, 'widt...</td>\n",
       "      <td>...</td>\n",
       "      <td>{'RunId': 4, 'iteration': 4, 'Step': 75, 'widt...</td>\n",
       "      <td>{'RunId': 4, 'iteration': 4, 'Step': 75, 'widt...</td>\n",
       "      <td>{'RunId': 4, 'iteration': 4, 'Step': 75, 'widt...</td>\n",
       "      <td>{'RunId': 4, 'iteration': 4, 'Step': 75, 'widt...</td>\n",
       "      <td>{'RunId': 4, 'iteration': 4, 'Step': 75, 'widt...</td>\n",
       "      <td>{'RunId': 4, 'iteration': 4, 'Step': 75, 'widt...</td>\n",
       "      <td>{'RunId': 4, 'iteration': 4, 'Step': 75, 'widt...</td>\n",
       "      <td>{'RunId': 4, 'iteration': 4, 'Step': 75, 'widt...</td>\n",
       "      <td>{'RunId': 4, 'iteration': 4, 'Step': 75, 'widt...</td>\n",
       "      <td>{'RunId': 4, 'iteration': 4, 'Step': 75, 'widt...</td>\n",
       "    </tr>\n",
       "    <tr>\n",
       "      <th>3</th>\n",
       "      <td>{'RunId': 0, 'iteration': 0, 'Step': 100, 'wid...</td>\n",
       "      <td>{'RunId': 0, 'iteration': 0, 'Step': 100, 'wid...</td>\n",
       "      <td>{'RunId': 0, 'iteration': 0, 'Step': 100, 'wid...</td>\n",
       "      <td>{'RunId': 0, 'iteration': 0, 'Step': 100, 'wid...</td>\n",
       "      <td>{'RunId': 0, 'iteration': 0, 'Step': 100, 'wid...</td>\n",
       "      <td>{'RunId': 0, 'iteration': 0, 'Step': 100, 'wid...</td>\n",
       "      <td>{'RunId': 0, 'iteration': 0, 'Step': 100, 'wid...</td>\n",
       "      <td>{'RunId': 0, 'iteration': 0, 'Step': 100, 'wid...</td>\n",
       "      <td>{'RunId': 0, 'iteration': 0, 'Step': 100, 'wid...</td>\n",
       "      <td>{'RunId': 0, 'iteration': 0, 'Step': 100, 'wid...</td>\n",
       "      <td>...</td>\n",
       "      <td>{'RunId': 4, 'iteration': 4, 'Step': 100, 'wid...</td>\n",
       "      <td>{'RunId': 4, 'iteration': 4, 'Step': 100, 'wid...</td>\n",
       "      <td>{'RunId': 4, 'iteration': 4, 'Step': 100, 'wid...</td>\n",
       "      <td>{'RunId': 4, 'iteration': 4, 'Step': 100, 'wid...</td>\n",
       "      <td>{'RunId': 4, 'iteration': 4, 'Step': 100, 'wid...</td>\n",
       "      <td>{'RunId': 4, 'iteration': 4, 'Step': 100, 'wid...</td>\n",
       "      <td>{'RunId': 4, 'iteration': 4, 'Step': 100, 'wid...</td>\n",
       "      <td>{'RunId': 4, 'iteration': 4, 'Step': 100, 'wid...</td>\n",
       "      <td>{'RunId': 4, 'iteration': 4, 'Step': 100, 'wid...</td>\n",
       "      <td>{'RunId': 4, 'iteration': 4, 'Step': 100, 'wid...</td>\n",
       "    </tr>\n",
       "    <tr>\n",
       "      <th>4</th>\n",
       "      <td>{'RunId': 0, 'iteration': 0, 'Step': 125, 'wid...</td>\n",
       "      <td>{'RunId': 0, 'iteration': 0, 'Step': 125, 'wid...</td>\n",
       "      <td>{'RunId': 0, 'iteration': 0, 'Step': 125, 'wid...</td>\n",
       "      <td>{'RunId': 0, 'iteration': 0, 'Step': 125, 'wid...</td>\n",
       "      <td>{'RunId': 0, 'iteration': 0, 'Step': 125, 'wid...</td>\n",
       "      <td>{'RunId': 0, 'iteration': 0, 'Step': 125, 'wid...</td>\n",
       "      <td>{'RunId': 0, 'iteration': 0, 'Step': 125, 'wid...</td>\n",
       "      <td>{'RunId': 0, 'iteration': 0, 'Step': 125, 'wid...</td>\n",
       "      <td>{'RunId': 0, 'iteration': 0, 'Step': 125, 'wid...</td>\n",
       "      <td>{'RunId': 0, 'iteration': 0, 'Step': 125, 'wid...</td>\n",
       "      <td>...</td>\n",
       "      <td>{'RunId': 4, 'iteration': 4, 'Step': 125, 'wid...</td>\n",
       "      <td>{'RunId': 4, 'iteration': 4, 'Step': 125, 'wid...</td>\n",
       "      <td>{'RunId': 4, 'iteration': 4, 'Step': 125, 'wid...</td>\n",
       "      <td>{'RunId': 4, 'iteration': 4, 'Step': 125, 'wid...</td>\n",
       "      <td>{'RunId': 4, 'iteration': 4, 'Step': 125, 'wid...</td>\n",
       "      <td>{'RunId': 4, 'iteration': 4, 'Step': 125, 'wid...</td>\n",
       "      <td>{'RunId': 4, 'iteration': 4, 'Step': 125, 'wid...</td>\n",
       "      <td>{'RunId': 4, 'iteration': 4, 'Step': 125, 'wid...</td>\n",
       "      <td>{'RunId': 4, 'iteration': 4, 'Step': 125, 'wid...</td>\n",
       "      <td>{'RunId': 4, 'iteration': 4, 'Step': 125, 'wid...</td>\n",
       "    </tr>\n",
       "  </tbody>\n",
       "</table>\n",
       "<p>5 rows × 250 columns</p>\n",
       "</div>"
      ],
      "text/plain": [
       "                                                 0    \\\n",
       "0  {'RunId': 0, 'iteration': 0, 'Step': 25, 'widt...   \n",
       "1  {'RunId': 0, 'iteration': 0, 'Step': 50, 'widt...   \n",
       "2  {'RunId': 0, 'iteration': 0, 'Step': 75, 'widt...   \n",
       "3  {'RunId': 0, 'iteration': 0, 'Step': 100, 'wid...   \n",
       "4  {'RunId': 0, 'iteration': 0, 'Step': 125, 'wid...   \n",
       "\n",
       "                                                 1    \\\n",
       "0  {'RunId': 0, 'iteration': 0, 'Step': 25, 'widt...   \n",
       "1  {'RunId': 0, 'iteration': 0, 'Step': 50, 'widt...   \n",
       "2  {'RunId': 0, 'iteration': 0, 'Step': 75, 'widt...   \n",
       "3  {'RunId': 0, 'iteration': 0, 'Step': 100, 'wid...   \n",
       "4  {'RunId': 0, 'iteration': 0, 'Step': 125, 'wid...   \n",
       "\n",
       "                                                 2    \\\n",
       "0  {'RunId': 0, 'iteration': 0, 'Step': 25, 'widt...   \n",
       "1  {'RunId': 0, 'iteration': 0, 'Step': 50, 'widt...   \n",
       "2  {'RunId': 0, 'iteration': 0, 'Step': 75, 'widt...   \n",
       "3  {'RunId': 0, 'iteration': 0, 'Step': 100, 'wid...   \n",
       "4  {'RunId': 0, 'iteration': 0, 'Step': 125, 'wid...   \n",
       "\n",
       "                                                 3    \\\n",
       "0  {'RunId': 0, 'iteration': 0, 'Step': 25, 'widt...   \n",
       "1  {'RunId': 0, 'iteration': 0, 'Step': 50, 'widt...   \n",
       "2  {'RunId': 0, 'iteration': 0, 'Step': 75, 'widt...   \n",
       "3  {'RunId': 0, 'iteration': 0, 'Step': 100, 'wid...   \n",
       "4  {'RunId': 0, 'iteration': 0, 'Step': 125, 'wid...   \n",
       "\n",
       "                                                 4    \\\n",
       "0  {'RunId': 0, 'iteration': 0, 'Step': 25, 'widt...   \n",
       "1  {'RunId': 0, 'iteration': 0, 'Step': 50, 'widt...   \n",
       "2  {'RunId': 0, 'iteration': 0, 'Step': 75, 'widt...   \n",
       "3  {'RunId': 0, 'iteration': 0, 'Step': 100, 'wid...   \n",
       "4  {'RunId': 0, 'iteration': 0, 'Step': 125, 'wid...   \n",
       "\n",
       "                                                 5    \\\n",
       "0  {'RunId': 0, 'iteration': 0, 'Step': 25, 'widt...   \n",
       "1  {'RunId': 0, 'iteration': 0, 'Step': 50, 'widt...   \n",
       "2  {'RunId': 0, 'iteration': 0, 'Step': 75, 'widt...   \n",
       "3  {'RunId': 0, 'iteration': 0, 'Step': 100, 'wid...   \n",
       "4  {'RunId': 0, 'iteration': 0, 'Step': 125, 'wid...   \n",
       "\n",
       "                                                 6    \\\n",
       "0  {'RunId': 0, 'iteration': 0, 'Step': 25, 'widt...   \n",
       "1  {'RunId': 0, 'iteration': 0, 'Step': 50, 'widt...   \n",
       "2  {'RunId': 0, 'iteration': 0, 'Step': 75, 'widt...   \n",
       "3  {'RunId': 0, 'iteration': 0, 'Step': 100, 'wid...   \n",
       "4  {'RunId': 0, 'iteration': 0, 'Step': 125, 'wid...   \n",
       "\n",
       "                                                 7    \\\n",
       "0  {'RunId': 0, 'iteration': 0, 'Step': 25, 'widt...   \n",
       "1  {'RunId': 0, 'iteration': 0, 'Step': 50, 'widt...   \n",
       "2  {'RunId': 0, 'iteration': 0, 'Step': 75, 'widt...   \n",
       "3  {'RunId': 0, 'iteration': 0, 'Step': 100, 'wid...   \n",
       "4  {'RunId': 0, 'iteration': 0, 'Step': 125, 'wid...   \n",
       "\n",
       "                                                 8    \\\n",
       "0  {'RunId': 0, 'iteration': 0, 'Step': 25, 'widt...   \n",
       "1  {'RunId': 0, 'iteration': 0, 'Step': 50, 'widt...   \n",
       "2  {'RunId': 0, 'iteration': 0, 'Step': 75, 'widt...   \n",
       "3  {'RunId': 0, 'iteration': 0, 'Step': 100, 'wid...   \n",
       "4  {'RunId': 0, 'iteration': 0, 'Step': 125, 'wid...   \n",
       "\n",
       "                                                 9    ...  \\\n",
       "0  {'RunId': 0, 'iteration': 0, 'Step': 25, 'widt...  ...   \n",
       "1  {'RunId': 0, 'iteration': 0, 'Step': 50, 'widt...  ...   \n",
       "2  {'RunId': 0, 'iteration': 0, 'Step': 75, 'widt...  ...   \n",
       "3  {'RunId': 0, 'iteration': 0, 'Step': 100, 'wid...  ...   \n",
       "4  {'RunId': 0, 'iteration': 0, 'Step': 125, 'wid...  ...   \n",
       "\n",
       "                                                 240  \\\n",
       "0  {'RunId': 4, 'iteration': 4, 'Step': 25, 'widt...   \n",
       "1  {'RunId': 4, 'iteration': 4, 'Step': 50, 'widt...   \n",
       "2  {'RunId': 4, 'iteration': 4, 'Step': 75, 'widt...   \n",
       "3  {'RunId': 4, 'iteration': 4, 'Step': 100, 'wid...   \n",
       "4  {'RunId': 4, 'iteration': 4, 'Step': 125, 'wid...   \n",
       "\n",
       "                                                 241  \\\n",
       "0  {'RunId': 4, 'iteration': 4, 'Step': 25, 'widt...   \n",
       "1  {'RunId': 4, 'iteration': 4, 'Step': 50, 'widt...   \n",
       "2  {'RunId': 4, 'iteration': 4, 'Step': 75, 'widt...   \n",
       "3  {'RunId': 4, 'iteration': 4, 'Step': 100, 'wid...   \n",
       "4  {'RunId': 4, 'iteration': 4, 'Step': 125, 'wid...   \n",
       "\n",
       "                                                 242  \\\n",
       "0  {'RunId': 4, 'iteration': 4, 'Step': 25, 'widt...   \n",
       "1  {'RunId': 4, 'iteration': 4, 'Step': 50, 'widt...   \n",
       "2  {'RunId': 4, 'iteration': 4, 'Step': 75, 'widt...   \n",
       "3  {'RunId': 4, 'iteration': 4, 'Step': 100, 'wid...   \n",
       "4  {'RunId': 4, 'iteration': 4, 'Step': 125, 'wid...   \n",
       "\n",
       "                                                 243  \\\n",
       "0  {'RunId': 4, 'iteration': 4, 'Step': 25, 'widt...   \n",
       "1  {'RunId': 4, 'iteration': 4, 'Step': 50, 'widt...   \n",
       "2  {'RunId': 4, 'iteration': 4, 'Step': 75, 'widt...   \n",
       "3  {'RunId': 4, 'iteration': 4, 'Step': 100, 'wid...   \n",
       "4  {'RunId': 4, 'iteration': 4, 'Step': 125, 'wid...   \n",
       "\n",
       "                                                 244  \\\n",
       "0  {'RunId': 4, 'iteration': 4, 'Step': 25, 'widt...   \n",
       "1  {'RunId': 4, 'iteration': 4, 'Step': 50, 'widt...   \n",
       "2  {'RunId': 4, 'iteration': 4, 'Step': 75, 'widt...   \n",
       "3  {'RunId': 4, 'iteration': 4, 'Step': 100, 'wid...   \n",
       "4  {'RunId': 4, 'iteration': 4, 'Step': 125, 'wid...   \n",
       "\n",
       "                                                 245  \\\n",
       "0  {'RunId': 4, 'iteration': 4, 'Step': 25, 'widt...   \n",
       "1  {'RunId': 4, 'iteration': 4, 'Step': 50, 'widt...   \n",
       "2  {'RunId': 4, 'iteration': 4, 'Step': 75, 'widt...   \n",
       "3  {'RunId': 4, 'iteration': 4, 'Step': 100, 'wid...   \n",
       "4  {'RunId': 4, 'iteration': 4, 'Step': 125, 'wid...   \n",
       "\n",
       "                                                 246  \\\n",
       "0  {'RunId': 4, 'iteration': 4, 'Step': 25, 'widt...   \n",
       "1  {'RunId': 4, 'iteration': 4, 'Step': 50, 'widt...   \n",
       "2  {'RunId': 4, 'iteration': 4, 'Step': 75, 'widt...   \n",
       "3  {'RunId': 4, 'iteration': 4, 'Step': 100, 'wid...   \n",
       "4  {'RunId': 4, 'iteration': 4, 'Step': 125, 'wid...   \n",
       "\n",
       "                                                 247  \\\n",
       "0  {'RunId': 4, 'iteration': 4, 'Step': 25, 'widt...   \n",
       "1  {'RunId': 4, 'iteration': 4, 'Step': 50, 'widt...   \n",
       "2  {'RunId': 4, 'iteration': 4, 'Step': 75, 'widt...   \n",
       "3  {'RunId': 4, 'iteration': 4, 'Step': 100, 'wid...   \n",
       "4  {'RunId': 4, 'iteration': 4, 'Step': 125, 'wid...   \n",
       "\n",
       "                                                 248  \\\n",
       "0  {'RunId': 4, 'iteration': 4, 'Step': 25, 'widt...   \n",
       "1  {'RunId': 4, 'iteration': 4, 'Step': 50, 'widt...   \n",
       "2  {'RunId': 4, 'iteration': 4, 'Step': 75, 'widt...   \n",
       "3  {'RunId': 4, 'iteration': 4, 'Step': 100, 'wid...   \n",
       "4  {'RunId': 4, 'iteration': 4, 'Step': 125, 'wid...   \n",
       "\n",
       "                                                 249  \n",
       "0  {'RunId': 4, 'iteration': 4, 'Step': 25, 'widt...  \n",
       "1  {'RunId': 4, 'iteration': 4, 'Step': 50, 'widt...  \n",
       "2  {'RunId': 4, 'iteration': 4, 'Step': 75, 'widt...  \n",
       "3  {'RunId': 4, 'iteration': 4, 'Step': 100, 'wid...  \n",
       "4  {'RunId': 4, 'iteration': 4, 'Step': 125, 'wid...  \n",
       "\n",
       "[5 rows x 250 columns]"
      ]
     },
     "execution_count": 93,
     "metadata": {},
     "output_type": "execute_result"
    }
   ],
   "source": [
    "pd.DataFrame(results).head()"
   ]
  },
  {
   "cell_type": "markdown",
   "metadata": {},
   "source": [
    "We can use itertools to flatten the structure -- but this returns still many more entries than we need (every iteration, step, and agent is reported):"
   ]
  },
  {
   "cell_type": "code",
   "execution_count": 94,
   "metadata": {},
   "outputs": [
    {
     "data": {
      "text/html": [
       "<div>\n",
       "<style scoped>\n",
       "    .dataframe tbody tr th:only-of-type {\n",
       "        vertical-align: middle;\n",
       "    }\n",
       "\n",
       "    .dataframe tbody tr th {\n",
       "        vertical-align: top;\n",
       "    }\n",
       "\n",
       "    .dataframe thead th {\n",
       "        text-align: right;\n",
       "    }\n",
       "</style>\n",
       "<table border=\"1\" class=\"dataframe\">\n",
       "  <thead>\n",
       "    <tr style=\"text-align: right;\">\n",
       "      <th></th>\n",
       "      <th>RunId</th>\n",
       "      <th>iteration</th>\n",
       "      <th>Step</th>\n",
       "      <th>width</th>\n",
       "      <th>height</th>\n",
       "      <th>N</th>\n",
       "      <th>Gini</th>\n",
       "      <th>AgentID</th>\n",
       "      <th>Wealth</th>\n",
       "    </tr>\n",
       "  </thead>\n",
       "  <tbody>\n",
       "    <tr>\n",
       "      <th>0</th>\n",
       "      <td>0</td>\n",
       "      <td>0</td>\n",
       "      <td>25</td>\n",
       "      <td>100</td>\n",
       "      <td>100</td>\n",
       "      <td>50</td>\n",
       "      <td>0.0392</td>\n",
       "      <td>0</td>\n",
       "      <td>0</td>\n",
       "    </tr>\n",
       "    <tr>\n",
       "      <th>1</th>\n",
       "      <td>0</td>\n",
       "      <td>0</td>\n",
       "      <td>25</td>\n",
       "      <td>100</td>\n",
       "      <td>100</td>\n",
       "      <td>50</td>\n",
       "      <td>0.0392</td>\n",
       "      <td>1</td>\n",
       "      <td>1</td>\n",
       "    </tr>\n",
       "    <tr>\n",
       "      <th>2</th>\n",
       "      <td>0</td>\n",
       "      <td>0</td>\n",
       "      <td>25</td>\n",
       "      <td>100</td>\n",
       "      <td>100</td>\n",
       "      <td>50</td>\n",
       "      <td>0.0392</td>\n",
       "      <td>2</td>\n",
       "      <td>1</td>\n",
       "    </tr>\n",
       "    <tr>\n",
       "      <th>3</th>\n",
       "      <td>0</td>\n",
       "      <td>0</td>\n",
       "      <td>25</td>\n",
       "      <td>100</td>\n",
       "      <td>100</td>\n",
       "      <td>50</td>\n",
       "      <td>0.0392</td>\n",
       "      <td>3</td>\n",
       "      <td>1</td>\n",
       "    </tr>\n",
       "    <tr>\n",
       "      <th>4</th>\n",
       "      <td>0</td>\n",
       "      <td>0</td>\n",
       "      <td>25</td>\n",
       "      <td>100</td>\n",
       "      <td>100</td>\n",
       "      <td>50</td>\n",
       "      <td>0.0392</td>\n",
       "      <td>4</td>\n",
       "      <td>1</td>\n",
       "    </tr>\n",
       "    <tr>\n",
       "      <th>...</th>\n",
       "      <td>...</td>\n",
       "      <td>...</td>\n",
       "      <td>...</td>\n",
       "      <td>...</td>\n",
       "      <td>...</td>\n",
       "      <td>...</td>\n",
       "      <td>...</td>\n",
       "      <td>...</td>\n",
       "      <td>...</td>\n",
       "    </tr>\n",
       "    <tr>\n",
       "      <th>4745</th>\n",
       "      <td>4</td>\n",
       "      <td>4</td>\n",
       "      <td>475</td>\n",
       "      <td>100</td>\n",
       "      <td>100</td>\n",
       "      <td>50</td>\n",
       "      <td>0.4592</td>\n",
       "      <td>45</td>\n",
       "      <td>2</td>\n",
       "    </tr>\n",
       "    <tr>\n",
       "      <th>4746</th>\n",
       "      <td>4</td>\n",
       "      <td>4</td>\n",
       "      <td>475</td>\n",
       "      <td>100</td>\n",
       "      <td>100</td>\n",
       "      <td>50</td>\n",
       "      <td>0.4592</td>\n",
       "      <td>46</td>\n",
       "      <td>1</td>\n",
       "    </tr>\n",
       "    <tr>\n",
       "      <th>4747</th>\n",
       "      <td>4</td>\n",
       "      <td>4</td>\n",
       "      <td>475</td>\n",
       "      <td>100</td>\n",
       "      <td>100</td>\n",
       "      <td>50</td>\n",
       "      <td>0.4592</td>\n",
       "      <td>47</td>\n",
       "      <td>0</td>\n",
       "    </tr>\n",
       "    <tr>\n",
       "      <th>4748</th>\n",
       "      <td>4</td>\n",
       "      <td>4</td>\n",
       "      <td>475</td>\n",
       "      <td>100</td>\n",
       "      <td>100</td>\n",
       "      <td>50</td>\n",
       "      <td>0.4592</td>\n",
       "      <td>48</td>\n",
       "      <td>0</td>\n",
       "    </tr>\n",
       "    <tr>\n",
       "      <th>4749</th>\n",
       "      <td>4</td>\n",
       "      <td>4</td>\n",
       "      <td>475</td>\n",
       "      <td>100</td>\n",
       "      <td>100</td>\n",
       "      <td>50</td>\n",
       "      <td>0.4592</td>\n",
       "      <td>49</td>\n",
       "      <td>1</td>\n",
       "    </tr>\n",
       "  </tbody>\n",
       "</table>\n",
       "<p>4750 rows × 9 columns</p>\n",
       "</div>"
      ],
      "text/plain": [
       "      RunId  iteration  Step  width  height   N    Gini  AgentID  Wealth\n",
       "0         0          0    25    100     100  50  0.0392        0       0\n",
       "1         0          0    25    100     100  50  0.0392        1       1\n",
       "2         0          0    25    100     100  50  0.0392        2       1\n",
       "3         0          0    25    100     100  50  0.0392        3       1\n",
       "4         0          0    25    100     100  50  0.0392        4       1\n",
       "...     ...        ...   ...    ...     ...  ..     ...      ...     ...\n",
       "4745      4          4   475    100     100  50  0.4592       45       2\n",
       "4746      4          4   475    100     100  50  0.4592       46       1\n",
       "4747      4          4   475    100     100  50  0.4592       47       0\n",
       "4748      4          4   475    100     100  50  0.4592       48       0\n",
       "4749      4          4   475    100     100  50  0.4592       49       1\n",
       "\n",
       "[4750 rows x 9 columns]"
      ]
     },
     "execution_count": 94,
     "metadata": {},
     "output_type": "execute_result"
    }
   ],
   "source": [
    "from itertools import chain\n",
    "results = pd.DataFrame(list(chain.from_iterable(results)))\n",
    "results"
   ]
  },
  {
   "cell_type": "markdown",
   "metadata": {},
   "source": [
    "Since we're only interested in the Gini coefficient, we can group by step and iteration and take the mean, since the Gini coefficient is the same for each agent at the end of each process:"
   ]
  },
  {
   "cell_type": "code",
   "execution_count": 95,
   "metadata": {},
   "outputs": [],
   "source": [
    "results = results[['Step','iteration', 'Gini']].groupby(by =['Step','iteration']).mean().reset_index()"
   ]
  },
  {
   "cell_type": "code",
   "execution_count": 96,
   "metadata": {},
   "outputs": [
    {
     "data": {
      "text/html": [
       "<div>\n",
       "<style scoped>\n",
       "    .dataframe tbody tr th:only-of-type {\n",
       "        vertical-align: middle;\n",
       "    }\n",
       "\n",
       "    .dataframe tbody tr th {\n",
       "        vertical-align: top;\n",
       "    }\n",
       "\n",
       "    .dataframe thead th {\n",
       "        text-align: right;\n",
       "    }\n",
       "</style>\n",
       "<table border=\"1\" class=\"dataframe\">\n",
       "  <thead>\n",
       "    <tr style=\"text-align: right;\">\n",
       "      <th></th>\n",
       "      <th>Step</th>\n",
       "      <th>iteration</th>\n",
       "      <th>Gini</th>\n",
       "    </tr>\n",
       "  </thead>\n",
       "  <tbody>\n",
       "    <tr>\n",
       "      <th>0</th>\n",
       "      <td>25</td>\n",
       "      <td>0</td>\n",
       "      <td>0.0392</td>\n",
       "    </tr>\n",
       "    <tr>\n",
       "      <th>1</th>\n",
       "      <td>25</td>\n",
       "      <td>1</td>\n",
       "      <td>0.1128</td>\n",
       "    </tr>\n",
       "    <tr>\n",
       "      <th>2</th>\n",
       "      <td>25</td>\n",
       "      <td>2</td>\n",
       "      <td>0.0000</td>\n",
       "    </tr>\n",
       "    <tr>\n",
       "      <th>3</th>\n",
       "      <td>25</td>\n",
       "      <td>3</td>\n",
       "      <td>0.1128</td>\n",
       "    </tr>\n",
       "    <tr>\n",
       "      <th>4</th>\n",
       "      <td>25</td>\n",
       "      <td>4</td>\n",
       "      <td>0.1128</td>\n",
       "    </tr>\n",
       "    <tr>\n",
       "      <th>5</th>\n",
       "      <td>50</td>\n",
       "      <td>0</td>\n",
       "      <td>0.0392</td>\n",
       "    </tr>\n",
       "    <tr>\n",
       "      <th>6</th>\n",
       "      <td>50</td>\n",
       "      <td>1</td>\n",
       "      <td>0.1472</td>\n",
       "    </tr>\n",
       "    <tr>\n",
       "      <th>7</th>\n",
       "      <td>50</td>\n",
       "      <td>2</td>\n",
       "      <td>0.1472</td>\n",
       "    </tr>\n",
       "    <tr>\n",
       "      <th>8</th>\n",
       "      <td>50</td>\n",
       "      <td>3</td>\n",
       "      <td>0.0768</td>\n",
       "    </tr>\n",
       "    <tr>\n",
       "      <th>9</th>\n",
       "      <td>50</td>\n",
       "      <td>4</td>\n",
       "      <td>0.0768</td>\n",
       "    </tr>\n",
       "  </tbody>\n",
       "</table>\n",
       "</div>"
      ],
      "text/plain": [
       "   Step  iteration    Gini\n",
       "0    25          0  0.0392\n",
       "1    25          1  0.1128\n",
       "2    25          2  0.0000\n",
       "3    25          3  0.1128\n",
       "4    25          4  0.1128\n",
       "5    50          0  0.0392\n",
       "6    50          1  0.1472\n",
       "7    50          2  0.1472\n",
       "8    50          3  0.0768\n",
       "9    50          4  0.0768"
      ]
     },
     "execution_count": 96,
     "metadata": {},
     "output_type": "execute_result"
    }
   ],
   "source": [
    "results.head(10)"
   ]
  },
  {
   "cell_type": "markdown",
   "metadata": {},
   "source": [
    "Now we can plot:"
   ]
  },
  {
   "cell_type": "code",
   "execution_count": 97,
   "metadata": {},
   "outputs": [
    {
     "data": {
      "image/png": "[encoded data removed]",
      "text/plain": [
       "<Figure size 1440x360 with 1 Axes>"
      ]
     },
     "metadata": {
      "needs_background": "light"
     },
     "output_type": "display_data"
    }
   ],
   "source": [
    "fig, ax = plt.subplots(figsize=(20,5))\n",
    "\n",
    "ax =  sns.boxplot(data= results, x = 'Step', y = 'Gini', color=\".9\")\n",
    "ax = sns.swarmplot(data= results, x = 'Step', y = 'Gini', color=\".25\", size=3)\n",
    "plt.show()"
   ]
  },
  {
   "cell_type": "markdown",
   "metadata": {},
   "source": [
    "And a joyplot for fun:"
   ]
  },
  {
   "cell_type": "code",
   "execution_count": 98,
   "metadata": {},
   "outputs": [
    {
     "data": {
      "image/png": "[encoded data removed]",
      "text/plain": [
       "<Figure size 576x432 with 20 Axes>"
      ]
     },
     "metadata": {
      "needs_background": "light"
     },
     "output_type": "display_data"
    }
   ],
   "source": [
    "import joypy\n",
    "from matplotlib import cm\n",
    "fig, axes = joypy.joyplot(results, by = 'Step', column = 'Gini',\n",
    "                         figsize = (8,6),\n",
    "                         linewidth = 0.8,\n",
    "                         overlap = 1.5,\n",
    "                         colormap = cm.PuBuGn)"
   ]
  },
  {
   "cell_type": "markdown",
   "metadata": {
    "slideshow": {
     "slide_type": "slide"
    }
   },
   "source": [
    "### Part Two - Specifing a Schelling model\n",
    "\n",
    "In this section you will find an implemention of Schelling's model of segregation. The model was developed by the economist Thomas Schelling and is one of the earliest examples of agent-based models, which contain:\n",
    "\n",
    "* Autonomous agents interacting in a shared environment\n",
    "* Emergent global patterns from local interactions and decisions\n",
    "\n",
    "**Original Schelling model paper**: https://www.stat.berkeley.edu/~aldous/157/Papers/Schelling_Seg_Models.pdf"
   ]
  },
  {
   "cell_type": "markdown",
   "metadata": {
    "slideshow": {
     "slide_type": "slide"
    }
   },
   "source": [
    "## The Agents\n",
    "\n",
    "We will start by specifying the agents in our model. We will do this by creating our own agents class that will inherit from the Agents class of the MESA library. \n",
    "\n",
    "We need our agents to have two variables:\n",
    "* position: this will be the x,y coordinates related to the agent’s location in our grid world.\n",
    "* group: each agent can belong to one of two groups (1,0)\n",
    "\n",
    "And we need our agents to be able to do three things:\n",
    "* check what group their neighbours belong to.\n",
    "* determine if they are happy with their location\n",
    "* move to an empty cell if they are not happy"
   ]
  },
  {
   "cell_type": "code",
   "execution_count": null,
   "metadata": {
    "slideshow": {
     "slide_type": "slide"
    }
   },
   "outputs": [],
   "source": [
    "from mesa.space import SingleGrid \n",
    "class SchellingAgent(Agent):\n",
    "    \"\"\"\n",
    "    here we define the parameters that the agent will have\n",
    "    each agent will have a position which specifies its location in the grid\n",
    "    and a group, which specifies which group it belongs to\n",
    "    \"\"\"\n",
    "    \n",
    "    def __init__(self, pos, model, group):\n",
    "        \"\"\"\n",
    "        pos: tuple of the position of the agent (x,y)\n",
    "        model: model object\n",
    "        group: int specifying the group of the agent. Can be 0 or 1\n",
    "        \"\"\"\n",
    "        super().__init__(pos, model)\n",
    "        #create variables we need\n",
    "        self.pos = pos\n",
    "        self.group = group\n",
    "        \n",
    "        #additional variables needed\n",
    "        #to calculate segregation and happiness\n",
    "        self.similar_neighbours = 0.0\n",
    "        self.total_neighbours = 0.0\n",
    "        self.happy = False\n",
    "        self.initial_values()\n",
    "        \n",
    "    def initial_values(self):\n",
    "        \"\"\"\n",
    "        here we specify what each agent does in each time step\n",
    "        essentially it's a function that calculates number of similar neighbours\n",
    "        moves the agent to a different empty location if the number of similar neighbours is bellow its treshold\n",
    "        \"\"\"\n",
    "\n",
    "        #calculate number of similar neighbours\n",
    "        self.similar_neighbours = 0\n",
    "        self.total_neighbours = 0\n",
    "        \n",
    "        #we iterate through the neighbours of the agent\n",
    "        for neighbour in self.model.grid.neighbor_iter(self.pos):\n",
    "            #if neighbour is the same as the agent add one to similar_neighbour\n",
    "            if neighbour.group == self.group:\n",
    "                self.similar_neighbours +=1\n",
    "            #count number of neighbours by adding 1 to total_neighbourhood    \n",
    "            self.total_neighbours +=1\n",
    "    \n",
    "    def step(self):\n",
    "        \"\"\"\n",
    "        here we specify what each agent does in each time step\n",
    "        essentially it's a function that calculates number of similar neighbours\n",
    "        moves the agent to a different empty location if the number of similar neighbours is bellow its treshold\n",
    "        \"\"\"\n",
    "\n",
    "        #calculate number of similar neighbours\n",
    "        self.similar_neighbours = 0\n",
    "        self.total_neighbours = 0\n",
    "        \n",
    "        #we iterate through the neighbours of the agent\n",
    "        for neighbour in self.model.grid.neighbor_iter(self.pos):\n",
    "            #if neighbour is the same as the agent add one to similar_neighbour\n",
    "            if neighbour.group == self.group:\n",
    "                self.similar_neighbours +=1\n",
    "            #count number of neighbours by adding 1 to total_neighbourhood    \n",
    "            self.total_neighbours +=1\n",
    "        \n",
    "        #check if number of similar neighbours is bellow threshold\n",
    "        if self.similar_neighbours <= self.model.threshold * self.total_neighbours:\n",
    "            #move agent to empty grid\n",
    "            self.happy = False\n",
    "            self.model.grid.move_to_empty(self)\n",
    "        else:\n",
    "            #report happy agent to model\n",
    "            self.happy = True"
   ]
  },
  {
   "cell_type": "markdown",
   "metadata": {
    "slideshow": {
     "slide_type": "slide"
    }
   },
   "source": [
    "## The Model\n",
    "\n",
    "The **Model** will be specified by:\n",
    "* size of the world given by a height and a width\n",
    "* population density\n",
    "* agent threshold which defines how many similar neighbours are required for the agents to be happy\n",
    "* percentage of minority group"
   ]
  },
  {
   "cell_type": "code",
   "execution_count": null,
   "metadata": {
    "slideshow": {
     "slide_type": "slide"
    }
   },
   "outputs": [],
   "source": [
    "#we put this all together in our model class\n",
    "#similar to agents, we inheret from mesa.Model class\n",
    "class Schelling(Model):\n",
    "    def __init__(self, size, density, percent_minority, threshold):\n",
    "        \"\"\"\n",
    "        size: tuple (width, height) of the size of the grid\n",
    "        density: float from 0-1\n",
    "        percent_minority: float 0-1\n",
    "        threshold: float 0-1\n",
    "        \"\"\"\n",
    "        #setup initial variables\n",
    "        self.size =  size\n",
    "        self.density = density\n",
    "        self.percent_minority = percent_minority\n",
    "        self.threshold = threshold\n",
    "        \n",
    "        #create grid\n",
    "        self.grid = SingleGrid(size[0], size[1], torus=True)\n",
    "        \n",
    "        #create schedueler to manage agents\n",
    "        self.schedule = RandomActivation(self)\n",
    "        \n",
    "        #setup the data collector to gather information about all agents\n",
    "        self.datacollector = DataCollector(\n",
    "            {'happy': lambda m: self.happy(),\n",
    "             'segregation': lambda m: self.segregation(),\n",
    "            },\n",
    "            {'x': lambda a: a.pos[0], \n",
    "             'y': lambda a: a.pos[1],\n",
    "             'num_similar': lambda a: a.similar_neighbours,\n",
    "             'total_neighbours':lambda a: a.total_neighbours\n",
    "            }\n",
    "        )\n",
    "        \n",
    "        #setup agents by iterating through the grid and placing agents at random\n",
    "        agent_count = 0\n",
    "        for cell in self.grid.coord_iter():\n",
    "            #each sell is a tuple with 3 values (agent, x, y)\n",
    "            x = cell[1]\n",
    "            y = cell[2]\n",
    "            \n",
    "            #add agents according to density\n",
    "            if self.random.random() < self.density:\n",
    "                if self.random.random() < self.percent_minority:\n",
    "                    agent_group = 1\n",
    "                else:\n",
    "                    agent_group = 0 \n",
    "            \n",
    "                #initiate an agent at position in grid\n",
    "                agent = SchellingAgent((x,y), self, agent_group)\n",
    "\n",
    "                #add agent to grid\n",
    "                self.grid.position_agent(agent, (x,y))\n",
    "\n",
    "                #add agent to scheduler\n",
    "                self.schedule.add(agent)\n",
    "                agent_count +=1\n",
    "            \n",
    "        self.running = True\n",
    "        self.datacollector.collect(self)\n",
    "        \n",
    "    def step(self):\n",
    "        self.schedule.step()\n",
    "        \n",
    "        self.datacollector.collect(self)\n",
    "        \n",
    "        #check if all agents are happy\n",
    "        if self.happy() == 1.0:\n",
    "            #if all agents are happy stop the model\n",
    "            self.running = False\n",
    "    \n",
    "    def happy(self):\n",
    "        '''\n",
    "        Helper method to measure percent of happy agents\n",
    "        ''' \n",
    "        happy = 0 \n",
    "        for agent in self.schedule.agents:\n",
    "            if agent.happy:\n",
    "                happy +=1\n",
    "        return happy / self.schedule.get_agent_count()\n",
    "            \n",
    "    def segregation(self):\n",
    "        '''\n",
    "        Helper method to measure total segregation\n",
    "        '''\n",
    "        segregation  = 0\n",
    "        for agent in self.schedule.agents:\n",
    "            if agent.total_neighbours !=0:\n",
    "                segregation += agent.similar_neighbours / agent.total_neighbours\n",
    "        return segregation / self.schedule.get_agent_count()"
   ]
  },
  {
   "cell_type": "markdown",
   "metadata": {
    "slideshow": {
     "slide_type": "slide"
    }
   },
   "source": [
    "Now thats our model! \n",
    "\n",
    "we can run this quickly and see if its all working \n",
    "\n",
    "```python\n",
    "model = Schelling((20,20), 0.8,0.5,0.3)\n",
    "```"
   ]
  },
  {
   "cell_type": "code",
   "execution_count": null,
   "metadata": {
    "slideshow": {
     "slide_type": "slide"
    }
   },
   "outputs": [],
   "source": [
    "#we instantiate our model with the parameters of interest \n",
    "model = Schelling((10,10), 0.8,0.5,0.3)\n",
    "\n",
    "#we run our model\n",
    "#notice we run it in a while loop\n",
    "#this is because in some cases, our model may not converge\n",
    "#(no matter how long we run the model, not all agents will ever be happy!)\n",
    "while model.running and model.schedule.steps < 100:\n",
    "    model.step()\n",
    "print(model.schedule.steps) # Show how many steps have actually run"
   ]
  },
  {
   "cell_type": "code",
   "execution_count": null,
   "metadata": {
    "slideshow": {
     "slide_type": "slide"
    }
   },
   "outputs": [],
   "source": [
    "#we can call the model to get outputs\n",
    "total_agents = model.schedule.get_agent_count()\n",
    "perc_happy = model.happy()\n",
    "\n",
    "print(f'{total_agents} agents')\n",
    "print(f'of which {perc_happy * 100:.0f}% are happy')\n",
    "print(f'total segregation: {model.segregation()*100:.2f}%')"
   ]
  },
  {
   "cell_type": "code",
   "execution_count": null,
   "metadata": {
    "slideshow": {
     "slide_type": "slide"
    }
   },
   "outputs": [],
   "source": [
    "model_out = model.datacollector.get_model_vars_dataframe()\n",
    "model_out.head()"
   ]
  },
  {
   "cell_type": "code",
   "execution_count": null,
   "metadata": {
    "slideshow": {
     "slide_type": "slide"
    }
   },
   "outputs": [],
   "source": [
    "agent_out = model.datacollector.get_agent_vars_dataframe()\n",
    "agent_out.head()"
   ]
  },
  {
   "cell_type": "code",
   "execution_count": null,
   "metadata": {
    "slideshow": {
     "slide_type": "slide"
    }
   },
   "outputs": [],
   "source": [
    "model_out['unhappy'] = 1 - model_out.happy\n",
    "model_out.drop('happy', axis=1, inplace=True)\n",
    "sns.lineplot(data=model_out)\n",
    "plt.show()"
   ]
  },
  {
   "cell_type": "code",
   "execution_count": null,
   "metadata": {
    "slideshow": {
     "slide_type": "slide"
    }
   },
   "outputs": [],
   "source": [
    "#we set-up the parameters that we want to vary, as well as the ones that we want to keep fixed as dictionaries \n",
    "variable_parameters = {\"threshold\": [x/100 for x in range(5,100,5)]}\n",
    "fixed_parameters = {\"size\": (10,10), \"percent_minority\": 0.5, \"density\": 0.8}\n",
    "\n",
    "model_reporters = {\"segregation\": lambda m: m.segregation(), \n",
    "                   'happy': lambda m: m.happy(), \n",
    "                   'num_agents': lambda m: m.schedule.get_agent_count()}\n",
    "\n",
    "#use batchrun to go through all possible combinations of parameters\n",
    "param_sweep = BatchRunner(Schelling, \n",
    "                          variable_parameters= variable_parameters, \n",
    "                          fixed_parameters = fixed_parameters,\n",
    "                          iterations=10, max_steps=100, model_reporters=model_reporters)\n",
    "\n",
    "param_sweep.run_all()"
   ]
  },
  {
   "cell_type": "code",
   "execution_count": null,
   "metadata": {
    "slideshow": {
     "slide_type": "slide"
    }
   },
   "outputs": [],
   "source": [
    "df = param_sweep.get_model_vars_dataframe()\n",
    "df.head(5)"
   ]
  },
  {
   "cell_type": "code",
   "execution_count": null,
   "metadata": {},
   "outputs": [],
   "source": [
    "fig, ax = plt.subplots(figsize=(12,4))\n",
    "\n",
    "ax =  sns.boxplot(data= df, x = 'threshold', y = 'segregation', color=\".9\")\n",
    "ax = sns.swarmplot(data= df, x = 'threshold', y = 'segregation', color=\".25\", size=3)\n",
    "\n",
    "plt.show()"
   ]
  },
  {
   "cell_type": "code",
   "execution_count": null,
   "metadata": {
    "slideshow": {
     "slide_type": "slide"
    }
   },
   "outputs": [],
   "source": [
    "fig, ax = plt.subplots(figsize=(12,4))\n",
    "ax =  sns.boxplot(data= df, x = 'threshold', y = 'happy', color=\".9\")\n",
    "ax = sns.swarmplot(data= df, x = 'threshold', y = 'happy', color=\".25\", size=3)\n",
    "plt.show()"
   ]
  }
 ],
 "metadata": {
  "celltoolbar": "Slideshow",
  "kernelspec": {
   "display_name": "Python 3 (ipykernel)",
   "language": "python",
   "name": "python3"
  },
  "language_info": {
   "codemirror_mode": {
    "name": "ipython",
    "version": 3
   },
   "file_extension": ".py",
   "mimetype": "text/x-python",
   "name": "python",
   "nbconvert_exporter": "python",
   "pygments_lexer": "ipython3",
   "version": "3.10.5"
  }
 },
 "nbformat": 4,
 "nbformat_minor": 4
}
