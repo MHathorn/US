{
 "cells": [
  {
   "cell_type": "markdown",
   "metadata": {
    "slideshow": {
     "slide_type": "slide"
    }
   },
   "source": [
    "### CASA0002\n",
    "\n",
    "# Urban Simulation\n",
    "***\n",
    "## Agent Based Modelling\n",
    "\n",
    "Mateo Neira\n",
    "***"
   ]
  },
  {
   "cell_type": "markdown",
   "metadata": {
    "slideshow": {
     "slide_type": "slide"
    }
   },
   "source": [
    "## Introduction to ABM with Mesa\n",
    "\n",
    "This is a notebook to learn about ABM with Mesa, a “modular framework for building, analyzing and visualizing agent-based models in Python.”\n",
    "\n",
    "The objective of this demo isn't to build an ABM but rather to examine the outputs of an ABM in this case a simple wealth distribution model. For those who are interested can read further in the Mesa documentation. \n",
    "\n",
    "\n",
    "If you did not install Mesa, you can use the *conda* command or the *pip* command. Please note that the \"!\"  is used to perform an installation command inside the notebook. \n",
    "\n",
    "We generally recommend installing mesa-geo as it contains some functions that allow you to run ABM in geographic models. \n",
    "\n",
    "```python\n",
    "!pip install mesa-geo\n",
    "```\n"
   ]
  },
  {
   "cell_type": "markdown",
   "metadata": {
    "slideshow": {
     "slide_type": "slide"
    }
   },
   "source": [
    "## What is a Model?\n",
    "\n",
    "* Abstracted description of a process, object or event\n",
    "* Exaggerates certain aspects at the expense of others\n",
    "\n",
    "\n",
    "## What is an Agent Based Model?\n",
    "\n",
    "* A model composed of **agents**\n",
    "    * Autonomous individual element with **properties** and **actions**\n",
    "* Composed of:\n",
    "    * Environment\n",
    "    * Agents\n",
    "    * Description of **agent-agent** and **agent-environment** interactions\n"
   ]
  },
  {
   "cell_type": "markdown",
   "metadata": {
    "slideshow": {
     "slide_type": "slide"
    }
   },
   "source": [
    "The main objective of this practical is to introduce important considerations when running these types of models and analyse results from these. Don't worry too much about the technical aspects of the model implementation, but rather in the concepts and analysis.\n",
    "\n",
    "For those of you who are interested in setting up your own ABM's, you can check out [MESA's Documentation on specifying a model](https://mesa.readthedocs.io/en/master/tutorials/intro_tutorial.html). \n",
    "\n",
    "---\n",
    "\n",
    "### Resources\n",
    "\n",
    "\n",
    "* **Online video-course from the Complexity Explorer (Santa Fe Institute)**: [Intro to ABM by William Rand](https://www.complexityexplorer.org/courses/101-introduction-to-agent-based-modeling-spring-2020)\n",
    "* **Agent Based Modeling paper**: [\"Agent Based Modeling and Simulation:\n",
    "An Informatics Perspective\". Stefania Bandini, Sara Manzoni and Giuseppe Vizzari\n",
    "(2009), Journal of Artificial Societies and Social Simulation 12 (4) 4](http://jasss.soc.surrey.ac.uk/12/4/4.html)\n",
    "* **Agent-Based Models and urban form**: [\"Modelling spatial morphologies: Fractal patterns from cellular\n",
    "automata.\". Batty, Michael, and Paul A. Longley. (2014)](https://www.taylorfrancis.com/chapters/modelling-spatial-morphologies-fractal-patterns-cellular-automata-robert-abrahart-linda-see/10.1201/b17091-9)"
   ]
  },
  {
   "cell_type": "markdown",
   "metadata": {
    "slideshow": {
     "slide_type": "slide"
    }
   },
   "source": [
    "### The basics of a multi-agent system\n",
    "\n",
    "![](flock.gif)\n",
    "\n",
    "Agent-based models are models that allow heterogeneity (in contrast to mean-field or statistical approaches). In these types of models, there is no central control, agents are autonomous and can interact with other agents and the environment. Individual behaviours of the agents are aggregated into global mechanisms that can result in emergent phenomena (for example flocking behaviour).\n",
    "\n",
    "There are two main design strategies for ABM:\n",
    "\n",
    "* **Phenomena-based modelling**: the characteristic patterns that we want to model are known.\n",
    "    * object is to find a set of agents and rules that will generate the know reference pattern\n",
    "* **Exploratory modelling**: built using a bottom-up approach. We start with a basic set of mechanisms and explore the results\n",
    "    * cellular automata is an example\n"
   ]
  },
  {
   "cell_type": "markdown",
   "metadata": {
    "slideshow": {
     "slide_type": "slide"
    }
   },
   "source": [
    "### Agent-Based Models in Geographical and Urban Systems\n",
    "\n",
    "---\n",
    "\n",
    " <center><b>What are the consequences of individual behaviours and decision-making over space and time?</b></center>\n",
    "\n",
    "\n",
    "![](traffic.gif)\n",
    " <center>Redfish Group</center>\n"
   ]
  },
  {
   "cell_type": "markdown",
   "metadata": {
    "slideshow": {
     "slide_type": "slide"
    }
   },
   "source": [
    "### Part One - Intro Tutorial\n",
    "\n",
    "This part has been adapted from the introduction tutorial from the mesa website in simulating wealth distribution using the [**Boltzmann Wealth Model**](https://arxiv.org/pdf/cond-mat/0211175v1.pdf). I have included an exercise to examine changes due to changes in the hyperparameters of the model. For more descriptions, pleases take a look at the link below. \n",
    "\n",
    "*Reference* <br/>\n",
    "https://mesa.readthedocs.io/en/master/tutorials/intro_tutorial.html\n"
   ]
  },
  {
   "cell_type": "code",
   "execution_count": 1,
   "metadata": {},
   "outputs": [
    {
     "name": "stdout",
     "output_type": "stream",
     "text": [
      "\n",
      "Usage:   \n",
      "  pip install [options] <requirement specifier> [package-index-options] ...\n",
      "  pip install [options] -r <requirements file> [package-index-options] ...\n",
      "  pip install [options] [-e] <vcs project url> ...\n",
      "  pip install [options] [-e] <local project path> ...\n",
      "  pip install [options] <archive url/path> ...\n",
      "\n",
      "no such option: -y\n"
     ]
    }
   ],
   "source": [
    "#if you have never installed the mesa library:\n",
    "!pip install mesa-geo -y"
   ]
  },
  {
   "cell_type": "code",
   "execution_count": 2,
   "metadata": {
    "slideshow": {
     "slide_type": "slide"
    }
   },
   "outputs": [],
   "source": [
    "%matplotlib inline\n",
    "import matplotlib.pyplot as plt\n",
    "import numpy as np\n",
    "import pandas as pd\n",
    "\n",
    "from mesa import Agent, Model\n",
    "from mesa.time import RandomActivation\n",
    "from mesa.space import MultiGrid"
   ]
  },
  {
   "cell_type": "markdown",
   "metadata": {
    "slideshow": {
     "slide_type": "slide"
    }
   },
   "source": [
    "## Setting up the model\n",
    "\n",
    "We will be using two core classes that we imported previously: \n",
    "* **Agent**: which specifies the agents\n",
    "* **Model**: which holds model-level attributes and manages the agents\n",
    "\n",
    "The **Model** will be specified by:\n",
    "* size of the world given by a height and a width\n",
    "* Number of agents in the model"
   ]
  },
  {
   "cell_type": "markdown",
   "metadata": {
    "slideshow": {
     "slide_type": "slide"
    }
   },
   "source": [
    "## The Agents\n",
    "\n",
    "We will start by specifying the agents in our model. We will do this by creating our own agents class that will inherit from the Agents class of the MESA library. \n",
    "\n",
    "We need our agents to have one variable:\n",
    "* wealth: units of money the agent holds\n",
    "\n",
    "And we need our agents to be able to do three things:\n",
    "* move to a random location within its neighbourhood\n",
    "* give money to a cellmate"
   ]
  },
  {
   "cell_type": "code",
   "execution_count": 3,
   "metadata": {
    "slideshow": {
     "slide_type": "slide"
    }
   },
   "outputs": [],
   "source": [
    "# every mesa model needs two class. \n",
    "# one is an agent class that has an init method, a move method, a give wealth method and a step method.\n",
    "\n",
    "class MoneyAgent(Agent):\n",
    "    \"\"\" An agent with fixed initial wealth.\"\"\"\n",
    "    def __init__(self, unique_id, model):\n",
    "        super().__init__(unique_id, model)\n",
    "        self.wealth = 1\n",
    "\n",
    "    # agent move randomly in a moore neighbourhood\n",
    "    def move(self):\n",
    "        # getting the moore's neighbours\n",
    "        possible_steps = self.model.grid.get_neighborhood(\n",
    "            self.pos,\n",
    "            moore=True,\n",
    "            include_center=False)\n",
    "        # randomly moves \n",
    "        new_position = self.random.choice(possible_steps)\n",
    "        self.model.grid.move_agent(self, new_position)\n",
    "\n",
    "    # if there are more than one agent in cell\n",
    "    def give_money(self):\n",
    "        cellmates = self.model.grid.get_cell_list_contents([self.pos])\n",
    "        if len(cellmates) > 1:\n",
    "            # randomly choose an agent\n",
    "            other_agent = self.random.choice(cellmates)\n",
    "            # give money\n",
    "            other_agent.wealth += 1\n",
    "            # reduce saving\n",
    "            self.wealth -= 1\n",
    "\n",
    "    def step(self):\n",
    "        # in every step first move\n",
    "        self.move()\n",
    "        # if wealth is greater than 0 give money away\n",
    "        if self.wealth > 0:\n",
    "            self.give_money()\n"
   ]
  },
  {
   "cell_type": "markdown",
   "metadata": {
    "slideshow": {
     "slide_type": "slide"
    }
   },
   "source": [
    "## The Model\n",
    "\n",
    "The model is a little bit more complicated to set-up as it is composed of three different components:\n",
    "* **space**: the world where the agents will live\n",
    "* **agents**: the agents that occupy the world\n",
    "* **scheduler**: how the agents update their states"
   ]
  },
  {
   "cell_type": "markdown",
   "metadata": {
    "slideshow": {
     "slide_type": "slide"
    }
   },
   "source": [
    "### Space\n",
    "\n",
    "There are different types of spaces:\n",
    "\n",
    "* **Continuous spaces**: here each agent can occupy any arbitrary position, neighbours are defined according to distances betweeen agents (radius)\n",
    "\n",
    "* **Discrete spaces**: each agent can occupy only specific places on the space (for example a cell in a grid). Neighbours are defined by adjacency in the discrete space.\n",
    "    * Grid space\n",
    "    * Network space\n",
    "    \n",
    "![](discrete_continuous.PNG)\n",
    "\n",
    "Each one of these types can also have different topologies. The topology of a space essentially defines how neighbours are defined at the 'borders' of the space.\n",
    "* Finite/infine planar spaces: cartesian spaces of any dimension\n",
    "* Toroidal space\n",
    "* Spherical space\n",
    "\n",
    "In our model we will be using a discrete toroidal space. We can easily do this with MESA:\n",
    "\n",
    "```python\n",
    "from mesa.space import SingleGrid\n",
    "grid = SingleGrid(size[0], size[1], torus=True)\n",
    "```"
   ]
  },
  {
   "cell_type": "markdown",
   "metadata": {
    "slideshow": {
     "slide_type": "slide"
    }
   },
   "source": [
    "### Scheduler\n",
    "\n",
    "Time in most agent-based models moves in steps, sometimes also called ticks. At each time step agents are activated, take actions, or change internal states. How agents are activated at each time step is an important design decision when specifing our models. The scheduler takes care of this task.\n",
    "\n",
    "The scheduler handles how agents update their states.\n",
    "* synchronous: all agents update their state at the same time \n",
    "* asynchronous: agents update sequentially, or at different times\n",
    "\n",
    "\n",
    "In our case we will be updating the agents asynchronously\n",
    "```python\n",
    "from mesa.time import RandomActivation\n",
    "\n",
    "schedule = RandomActivation(model)\n",
    "```"
   ]
  },
  {
   "cell_type": "code",
   "execution_count": 4,
   "metadata": {
    "slideshow": {
     "slide_type": "slide"
    }
   },
   "outputs": [],
   "source": [
    "# the other is the model class. \n",
    "from mesa.datacollection import DataCollector\n",
    "\n",
    "\n",
    "def gini(model):\n",
    "    #get the wealth of agents from the model\n",
    "    agent_wealths = [agent.wealth for agent in model.schedule.agents]\n",
    "    #sort the wealth \n",
    "    x = sorted(agent_wealths)\n",
    "    N = model.num_agents\n",
    "    B = sum( xi * (N-i) for i,xi in enumerate(x) ) / (N*sum(x))\n",
    "    return (1 + (1/N) - 2*B)\n",
    "\n",
    "class MoneyModel(Model):\n",
    "    \"\"\"A model with some number of agents.\"\"\"\n",
    "    def __init__(self, N, width, height):\n",
    "        # this is the number of agents in the abm\n",
    "        self.num_agents = N\n",
    "        # this is the size of the grid using MultiGrid\n",
    "        self.grid = MultiGrid(width, height, True)\n",
    "        # activates all the agents once per step, in random order.\n",
    "        self.schedule = RandomActivation(self)\n",
    "        # Create agents\n",
    "        for i in range(self.num_agents):\n",
    "            a = MoneyAgent(i, self)\n",
    "            #add an agent to the schedule\n",
    "            self.schedule.add(a)\n",
    "            # Add the agent to a random grid cell\n",
    "            x = self.random.randrange(self.grid.width)\n",
    "            y = self.random.randrange(self.grid.height)\n",
    "            self.grid.place_agent(a, (x, y))\n",
    "            \n",
    "        self.datacollector = DataCollector(\n",
    "            model_reporters={\"Gini\": gini},\n",
    "            agent_reporters={\"Wealth\": \"wealth\"})\n",
    "            \n",
    "        self.running = True\n",
    "\n",
    "    def step(self):\n",
    "        self.datacollector.collect(self)\n",
    "        self.schedule.step()"
   ]
  },
  {
   "cell_type": "markdown",
   "metadata": {
    "slideshow": {
     "slide_type": "slide"
    }
   },
   "source": [
    "### runs the abm\n",
    "\n",
    "create a model with 50 agents on a 10x10 grid, and run it for 50 steps."
   ]
  },
  {
   "cell_type": "code",
   "execution_count": 5,
   "metadata": {
    "slideshow": {
     "slide_type": "slide"
    }
   },
   "outputs": [],
   "source": [
    "model = MoneyModel(50, 10, 10)\n",
    "for i in range(50):\n",
    "    model.step()"
   ]
  },
  {
   "cell_type": "markdown",
   "metadata": {
    "slideshow": {
     "slide_type": "slide"
    }
   },
   "source": [
    "### visualise the abm output"
   ]
  },
  {
   "cell_type": "code",
   "execution_count": 6,
   "metadata": {
    "slideshow": {
     "slide_type": "slide"
    }
   },
   "outputs": [],
   "source": [
    "agent_counts = np.zeros((model.grid.width, model.grid.height))\n",
    "for cell in model.grid.coord_iter():\n",
    "    cell_content, x, y = cell\n",
    "    agent_count = len(cell_content)\n",
    "    agent_counts[x][y] = agent_count\n"
   ]
  },
  {
   "cell_type": "markdown",
   "metadata": {
    "slideshow": {
     "slide_type": "slide"
    }
   },
   "source": [
    "this is where the 50 agents are spatially!"
   ]
  },
  {
   "cell_type": "code",
   "execution_count": 7,
   "metadata": {
    "slideshow": {
     "slide_type": "slide"
    }
   },
   "outputs": [
    {
     "data": {
      "text/plain": [
       "<matplotlib.colorbar.Colorbar at 0x7fa552724990>"
      ]
     },
     "execution_count": 7,
     "metadata": {},
     "output_type": "execute_result"
    },
    {
     "data": {
      "image/png": "[encoded data removed]",
      "text/plain": [
       "<Figure size 432x288 with 2 Axes>"
      ]
     },
     "metadata": {
      "needs_background": "light"
     },
     "output_type": "display_data"
    }
   ],
   "source": [
    "plt.imshow(agent_counts, interpolation='nearest')\n",
    "plt.colorbar()"
   ]
  },
  {
   "cell_type": "markdown",
   "metadata": {
    "slideshow": {
     "slide_type": "slide"
    }
   },
   "source": [
    "this is the wealth histogram describing its empirical distribution. "
   ]
  },
  {
   "cell_type": "code",
   "execution_count": 8,
   "metadata": {
    "slideshow": {
     "slide_type": "slide"
    }
   },
   "outputs": [
    {
     "data": {
      "image/png": "[encoded data removed]",
      "text/plain": [
       "<Figure size 432x288 with 1 Axes>"
      ]
     },
     "metadata": {
      "needs_background": "light"
     },
     "output_type": "display_data"
    }
   ],
   "source": [
    "array=[a.wealth for a in model.schedule.agents]\n",
    "pd.DataFrame(array).plot(kind='hist',color='black')\n",
    "plt.show()"
   ]
  },
  {
   "cell_type": "markdown",
   "metadata": {
    "slideshow": {
     "slide_type": "slide"
    }
   },
   "source": [
    "you can also calculate the gini coefficient of how well the wealth is distributed where 0 is perfect equality and 1 is perfect inequality."
   ]
  },
  {
   "cell_type": "code",
   "execution_count": 9,
   "metadata": {
    "slideshow": {
     "slide_type": "slide"
    }
   },
   "outputs": [
    {
     "data": {
      "text/plain": [
       "<AxesSubplot:>"
      ]
     },
     "execution_count": 9,
     "metadata": {},
     "output_type": "execute_result"
    },
    {
     "data": {
      "image/png": "[encoded data removed]",
      "text/plain": [
       "<Figure size 432x288 with 1 Axes>"
      ]
     },
     "metadata": {
      "needs_background": "light"
     },
     "output_type": "display_data"
    }
   ],
   "source": [
    "gini_df = model.datacollector.get_model_vars_dataframe()\n",
    "gini_df.plot()"
   ]
  },
  {
   "cell_type": "markdown",
   "metadata": {
    "slideshow": {
     "slide_type": "slide"
    }
   },
   "source": [
    "## Analysing results\n",
    "\n",
    "Now, even though the running the model once and visualizing the results can be a useful tool to understand how the model works, check that it's functioning as we would expect, and build intuition about the dynamics at play, we need to understand how the model behaves given different parameters (sensitivity to initial conditions), as well as account for randomness by looking at the average behaviour of multiple runs."
   ]
  },
  {
   "cell_type": "code",
   "execution_count": 10,
   "metadata": {
    "slideshow": {
     "slide_type": "slide"
    }
   },
   "outputs": [
    {
     "name": "stderr",
     "output_type": "stream",
     "text": [
      "245it [01:17,  3.16it/s]\n"
     ]
    }
   ],
   "source": [
    "from mesa.batchrunner import BatchRunner\n",
    "\n",
    "variable_parameters = {\"N\": range(10, 500, 10)}\n",
    "fixed_parameters = {\"width\": 10, \"height\": 10}\n",
    "\n",
    "param_sweep = BatchRunner(MoneyModel, \n",
    "                          variable_parameters= variable_parameters, \n",
    "                          fixed_parameters = fixed_parameters,\n",
    "                          iterations=5, max_steps=100, model_reporters={\"Gini\": gini})\n",
    "\n",
    "param_sweep.run_all()"
   ]
  },
  {
   "cell_type": "code",
   "execution_count": 11,
   "metadata": {},
   "outputs": [
    {
     "data": {
      "text/html": [
       "<div>\n",
       "<style scoped>\n",
       "    .dataframe tbody tr th:only-of-type {\n",
       "        vertical-align: middle;\n",
       "    }\n",
       "\n",
       "    .dataframe tbody tr th {\n",
       "        vertical-align: top;\n",
       "    }\n",
       "\n",
       "    .dataframe thead th {\n",
       "        text-align: right;\n",
       "    }\n",
       "</style>\n",
       "<table border=\"1\" class=\"dataframe\">\n",
       "  <thead>\n",
       "    <tr style=\"text-align: right;\">\n",
       "      <th></th>\n",
       "      <th>N</th>\n",
       "      <th>Run</th>\n",
       "      <th>Gini</th>\n",
       "      <th>width</th>\n",
       "      <th>height</th>\n",
       "    </tr>\n",
       "  </thead>\n",
       "  <tbody>\n",
       "    <tr>\n",
       "      <th>240</th>\n",
       "      <td>490</td>\n",
       "      <td>240</td>\n",
       "      <td>0.667205</td>\n",
       "      <td>10</td>\n",
       "      <td>10</td>\n",
       "    </tr>\n",
       "    <tr>\n",
       "      <th>241</th>\n",
       "      <td>490</td>\n",
       "      <td>241</td>\n",
       "      <td>0.621141</td>\n",
       "      <td>10</td>\n",
       "      <td>10</td>\n",
       "    </tr>\n",
       "    <tr>\n",
       "      <th>242</th>\n",
       "      <td>490</td>\n",
       "      <td>242</td>\n",
       "      <td>0.655760</td>\n",
       "      <td>10</td>\n",
       "      <td>10</td>\n",
       "    </tr>\n",
       "    <tr>\n",
       "      <th>243</th>\n",
       "      <td>490</td>\n",
       "      <td>243</td>\n",
       "      <td>0.626547</td>\n",
       "      <td>10</td>\n",
       "      <td>10</td>\n",
       "    </tr>\n",
       "    <tr>\n",
       "      <th>244</th>\n",
       "      <td>490</td>\n",
       "      <td>244</td>\n",
       "      <td>0.633686</td>\n",
       "      <td>10</td>\n",
       "      <td>10</td>\n",
       "    </tr>\n",
       "  </tbody>\n",
       "</table>\n",
       "</div>"
      ],
      "text/plain": [
       "       N  Run      Gini  width  height\n",
       "240  490  240  0.667205     10      10\n",
       "241  490  241  0.621141     10      10\n",
       "242  490  242  0.655760     10      10\n",
       "243  490  243  0.626547     10      10\n",
       "244  490  244  0.633686     10      10"
      ]
     },
     "execution_count": 11,
     "metadata": {},
     "output_type": "execute_result"
    }
   ],
   "source": [
    "#get the data from the model run\n",
    "run_data = param_sweep.get_model_vars_dataframe()\n",
    "run_data.tail()"
   ]
  },
  {
   "cell_type": "code",
   "execution_count": 12,
   "metadata": {},
   "outputs": [
    {
     "data": {
      "image/png": "[encoded data removed]",
      "text/plain": [
       "<Figure size 1440x360 with 1 Axes>"
      ]
     },
     "metadata": {
      "needs_background": "light"
     },
     "output_type": "display_data"
    }
   ],
   "source": [
    "import seaborn as sns\n",
    "\n",
    "fig, ax = plt.subplots(figsize=(20,5))\n",
    "\n",
    "ax =  sns.boxplot(data= run_data, x = 'N', y = 'Gini', color=\".9\")\n",
    "ax = sns.swarmplot(data= run_data, x = 'N', y = 'Gini', color=\".25\", size=3)\n",
    "\n",
    "plt.show()"
   ]
  },
  {
   "cell_type": "markdown",
   "metadata": {
    "slideshow": {
     "slide_type": "slide"
    }
   },
   "source": [
    "## Important considerations\n",
    "\n",
    "---\n",
    "\n",
    "* **Verification**: making sure your model does what you think it does\n",
    "* **Validation**: making sure your model corresponds to the real world in some meaningful way\n",
    "* **Replication**: making sure your model can be replicated and the results can be repeated\n",
    "\n",
    "---\n",
    "\n",
    "#### Complexity, Emergence, Feedback\n",
    "\n",
    "* **emergence**: the action of the whole is more than the sum of the parts\n",
    "* **feedback**: emergence can feedback into the system and affect the decisions individuals make\n",
    "\n",
    "In this sense ABMs (and complex systems analysis in general) don't provide perfect predictions, but rather possible scenerios and insight into how a system might behave under different circumstances. \n",
    "\n",
    "You can play around with this example to get a sense of these ideas:\n",
    "http://www.netlogoweb.org/launch#http://www.netlogoweb.org/assets/modelslib/Sample%20Models/Social%20Science/Segregation.nlogo"
   ]
  },
  {
   "cell_type": "markdown",
   "metadata": {},
   "source": [
    "## Exercise\n",
    "\n",
    "1. run the same model where we keep the number of agents=50, the number of steps=50 but increase the size of the square grid (i,i) with a range of np.arange(10,100,10). Plot the gini coefficient.\n",
    "\n",
    "2. run the same model where we keep the grid at (100,100), the number of steps=50 but increase the number of agents with a range of np.arange(0,500,50). Plot the gini coefficient.\n",
    "\n",
    "3. run the same model where we keep the number of agents=50, the size of the grid at (100,100) but increase the number of steps with a range of np.arange(25,500,25). Plot the gini coefficient."
   ]
  },
  {
   "cell_type": "markdown",
   "metadata": {},
   "source": [
    "### 1. run the same model where we keep the number of agents=50, the number of steps=50 but increase the size of the square grid (i,i) with a range of np.arange(10,100,10). Plot the gini coefficient."
   ]
  },
  {
   "cell_type": "code",
   "execution_count": 48,
   "metadata": {},
   "outputs": [],
   "source": [
    "gini_array=[]\n",
    "for i in np.arange(10,100,10):\n",
    "    i = int(i)\n",
    "    model = MoneyModel(50, i, i)\n",
    "    for _ in range(50):\n",
    "        model.step()\n",
    "    gini_array.append(gini(model))\n"
   ]
  },
  {
   "cell_type": "code",
   "execution_count": 49,
   "metadata": {},
   "outputs": [
    {
     "data": {
      "image/png": "[encoded data removed]",
      "text/plain": [
       "<Figure size 432x288 with 1 Axes>"
      ]
     },
     "metadata": {
      "needs_background": "light"
     },
     "output_type": "display_data"
    }
   ],
   "source": [
    "pd.DataFrame(gini_array).plot(color='black')\n",
    "plt.show()"
   ]
  },
  {
   "cell_type": "markdown",
   "metadata": {},
   "source": [
    "### 2. run the same model where we keep the grid at (100,100), the number of steps=50 but increase the number of agents with a range of np.arange(25,500,25). Plot the gini coefficient."
   ]
  },
  {
   "cell_type": "code",
   "execution_count": 51,
   "metadata": {},
   "outputs": [],
   "source": [
    "gini_array=[]\n",
    "for i in np.arange(25,500,25):\n",
    "    model = MoneyModel(i, 100, 100)\n",
    "    for i in range(50):\n",
    "        model.step()\n",
    "    gini_array.append(gini(model))"
   ]
  },
  {
   "cell_type": "code",
   "execution_count": 52,
   "metadata": {},
   "outputs": [
    {
     "data": {
      "image/png": "[encoded data removed]",
      "text/plain": [
       "<Figure size 432x288 with 1 Axes>"
      ]
     },
     "metadata": {
      "needs_background": "light"
     },
     "output_type": "display_data"
    }
   ],
   "source": [
    "pd.DataFrame(gini_array).plot(color='black')\n",
    "plt.show()"
   ]
  },
  {
   "cell_type": "markdown",
   "metadata": {},
   "source": [
    "### 3. run the same model where we keep the number of agents=50, the size of the grid at (100,100) but increase the number of steps with a range of np.arange(25,500,25). Plot the gini coefficient."
   ]
  },
  {
   "cell_type": "code",
   "execution_count": 53,
   "metadata": {},
   "outputs": [],
   "source": [
    "gini_array=[]\n",
    "for i in np.arange(25,500,25):\n",
    "    model = MoneyModel(50, 100, 100)\n",
    "    for i in range(i):\n",
    "        model.step()\n",
    "    gini_array.append(gini(model))"
   ]
  },
  {
   "cell_type": "code",
   "execution_count": 54,
   "metadata": {},
   "outputs": [
    {
     "data": {
      "image/png": "[encoded data removed]",
      "text/plain": [
       "<Figure size 432x288 with 1 Axes>"
      ]
     },
     "metadata": {
      "needs_background": "light"
     },
     "output_type": "display_data"
    }
   ],
   "source": [
    "pd.DataFrame(gini_array).plot(color='black')\n",
    "plt.show()"
   ]
  },
  {
   "cell_type": "markdown",
   "metadata": {
    "slideshow": {
     "slide_type": "slide"
    }
   },
   "source": [
    "### Part Two - Specifing a Schelling model\n",
    "\n",
    "In this section you will find an implemention of Schelling's model of segregation. The model was developed by the economist Thomas Schelling and is one of the earliest examples of agent-based models, which contain:\n",
    "\n",
    "* Autonomous agents interacting in a shared environment\n",
    "* Emergent global patterns from local interactions and decisions\n",
    "\n",
    "**Original Schelling model paper**: https://www.stat.berkeley.edu/~aldous/157/Papers/Schelling_Seg_Models.pdf"
   ]
  },
  {
   "cell_type": "markdown",
   "metadata": {
    "slideshow": {
     "slide_type": "slide"
    }
   },
   "source": [
    "## The Agents\n",
    "\n",
    "We will start by specifying the agents in our model. We will do this by creating our own agents class that will inherit from the Agents class of the MESA library. \n",
    "\n",
    "We need our agents to have two variables:\n",
    "* position: this will be the x,y coordinates related to the agent’s location in our grid world.\n",
    "* group: each agent can belong to one of two groups (1,0)\n",
    "\n",
    "And we need our agents to be able to do three things:\n",
    "* check what group their neighbours belong to.\n",
    "* determine if they are happy with their location\n",
    "* move to an empty cell if they are not happy"
   ]
  },
  {
   "cell_type": "code",
   "execution_count": 17,
   "metadata": {
    "slideshow": {
     "slide_type": "slide"
    }
   },
   "outputs": [],
   "source": [
    "from mesa.space import SingleGrid \n",
    "class SchellingAgent(Agent):\n",
    "    \"\"\"\n",
    "    here we define the parameters that the agent will have\n",
    "    each agent will have a position which specifies its location in the grid\n",
    "    and a group, which specifies which group it belongs to\n",
    "    \"\"\"\n",
    "    \n",
    "    def __init__(self, pos, model, group):\n",
    "        \"\"\"\n",
    "        pos: tuple of the position of the agent (x,y)\n",
    "        model: model object\n",
    "        group: int specifying the group of the agent. Can be 0 or 1\n",
    "        \"\"\"\n",
    "        super().__init__(pos, model)\n",
    "        #create variables we need\n",
    "        self.pos = pos\n",
    "        self.group = group\n",
    "        \n",
    "        #additional variables needed\n",
    "        #to calculate segregation and happiness\n",
    "        self.similar_neighbours = 0.0\n",
    "        self.total_neighbours = 0.0\n",
    "        self.happy = False\n",
    "        self.initial_values()\n",
    "        \n",
    "    def initial_values(self):\n",
    "        \"\"\"\n",
    "        here we specify what each agent does in each time step\n",
    "        essentially it's a function that calculates number of similar neighbours\n",
    "        moves the agent to a different empty location if the number of similar neighbours is bellow its treshold\n",
    "        \"\"\"\n",
    "\n",
    "        #calculate number of similar neighbours\n",
    "        self.similar_neighbours = 0\n",
    "        self.total_neighbours = 0\n",
    "        \n",
    "        #we iterate through the neighbours of the agent\n",
    "        for neighbour in self.model.grid.neighbor_iter(self.pos):\n",
    "            #if neighbour is the same as the agent add one to similar_neighbour\n",
    "            if neighbour.group == self.group:\n",
    "                self.similar_neighbours +=1\n",
    "            #count number of neighbours by adding 1 to total_neighbourhood    \n",
    "            self.total_neighbours +=1\n",
    "    \n",
    "    def step(self):\n",
    "        \"\"\"\n",
    "        here we specify what each agent does in each time step\n",
    "        essentially it's a function that calculates number of similar neighbours\n",
    "        moves the agent to a different empty location if the number of similar neighbours is bellow its treshold\n",
    "        \"\"\"\n",
    "\n",
    "        #calculate number of similar neighbours\n",
    "        self.similar_neighbours = 0\n",
    "        self.total_neighbours = 0\n",
    "        \n",
    "        #we iterate through the neighbours of the agent\n",
    "        for neighbour in self.model.grid.neighbor_iter(self.pos):\n",
    "            #if neighbour is the same as the agent add one to similar_neighbour\n",
    "            if neighbour.group == self.group:\n",
    "                self.similar_neighbours +=1\n",
    "            #count number of neighbours by adding 1 to total_neighbourhood    \n",
    "            self.total_neighbours +=1\n",
    "        \n",
    "        #check if number of similar neighbours is bellow threshold\n",
    "        if self.similar_neighbours <= self.model.threshold * self.total_neighbours:\n",
    "            #move agent to empty grid\n",
    "            self.happy = False\n",
    "            self.model.grid.move_to_empty(self)\n",
    "        else:\n",
    "            #report happy agent to model\n",
    "            self.happy = True"
   ]
  },
  {
   "cell_type": "markdown",
   "metadata": {
    "slideshow": {
     "slide_type": "slide"
    }
   },
   "source": [
    "## The Model\n",
    "\n",
    "The **Model** will be specified by:\n",
    "* size of the world given by a height and a width\n",
    "* population density\n",
    "* agent threshold which defines how many similar neighbours are required for the agents to be happy\n",
    "* percentage of minority group"
   ]
  },
  {
   "cell_type": "code",
   "execution_count": 18,
   "metadata": {
    "slideshow": {
     "slide_type": "slide"
    }
   },
   "outputs": [],
   "source": [
    "#we put this all together in our model class\n",
    "#similar to agents, we inheret from mesa.Model class\n",
    "class Schelling(Model):\n",
    "    def __init__(self, size, density, percent_minority, threshold):\n",
    "        \"\"\"\n",
    "        size: tuple (width, height) of the size of the grid\n",
    "        density: float from 0-1\n",
    "        percent_minority: float 0-1\n",
    "        threshold: float 0-1\n",
    "        \"\"\"\n",
    "        #setup initial variables\n",
    "        self.size =  size\n",
    "        self.density = density\n",
    "        self.percent_minority = percent_minority\n",
    "        self.threshold = threshold\n",
    "        \n",
    "        #create grid\n",
    "        self.grid = SingleGrid(size[0], size[1], torus=True)\n",
    "        \n",
    "        #create schedueler to manage agents\n",
    "        self.schedule = RandomActivation(self)\n",
    "        \n",
    "        #setup the data collector to gather information about all agents\n",
    "        self.datacollector = DataCollector(\n",
    "            {'happy': lambda m: self.happy(),\n",
    "             'segregation': lambda m: self.segregation(),\n",
    "            },\n",
    "            {'x': lambda a: a.pos[0], \n",
    "             'y': lambda a: a.pos[1],\n",
    "             'num_similar': lambda a: a.similar_neighbours,\n",
    "             'total_neighbours':lambda a: a.total_neighbours\n",
    "            }\n",
    "        )\n",
    "        \n",
    "        #setup agents by iterating through the grid and placing agents at random\n",
    "        agent_count = 0\n",
    "        for cell in self.grid.coord_iter():\n",
    "            #each sell is a tuple with 3 values (agent, x, y)\n",
    "            x = cell[1]\n",
    "            y = cell[2]\n",
    "            \n",
    "            #add agents according to density\n",
    "            if self.random.random() < self.density:\n",
    "                if self.random.random() < self.percent_minority:\n",
    "                    agent_group = 1\n",
    "                else:\n",
    "                    agent_group = 0 \n",
    "            \n",
    "                #initiate an agent at position in grid\n",
    "                agent = SchellingAgent((x,y), self, agent_group)\n",
    "\n",
    "                #add agent to grid\n",
    "                self.grid.position_agent(agent, (x,y))\n",
    "\n",
    "                #add agent to scheduler\n",
    "                self.schedule.add(agent)\n",
    "                agent_count +=1\n",
    "            \n",
    "        self.running = True\n",
    "        self.datacollector.collect(self)\n",
    "        \n",
    "    def step(self):\n",
    "        self.schedule.step()\n",
    "        \n",
    "        self.datacollector.collect(self)\n",
    "        \n",
    "        #check if all agents are happy\n",
    "        if self.happy() == 1.0:\n",
    "            #if all agents are happy stop the model\n",
    "            self.running = False\n",
    "    \n",
    "    def happy(self):\n",
    "        '''\n",
    "        Helper method to measure percent of happy agents\n",
    "        ''' \n",
    "        happy = 0 \n",
    "        for agent in self.schedule.agents:\n",
    "            if agent.happy:\n",
    "                happy +=1\n",
    "        return happy / self.schedule.get_agent_count()\n",
    "            \n",
    "    def segregation(self):\n",
    "        '''\n",
    "        Helper method to measure total segregation\n",
    "        '''\n",
    "        segregation  = 0\n",
    "        for agent in self.schedule.agents:\n",
    "            if agent.total_neighbours !=0:\n",
    "                segregation += agent.similar_neighbours / agent.total_neighbours\n",
    "        return segregation / self.schedule.get_agent_count()"
   ]
  },
  {
   "cell_type": "markdown",
   "metadata": {
    "slideshow": {
     "slide_type": "slide"
    }
   },
   "source": [
    "Now thats our model! \n",
    "\n",
    "we can run this quickly and see if its all working \n",
    "\n",
    "```python\n",
    "model = Schelling((20,20), 0.8,0.5,0.3)\n",
    "```"
   ]
  },
  {
   "cell_type": "code",
   "execution_count": 19,
   "metadata": {
    "slideshow": {
     "slide_type": "slide"
    }
   },
   "outputs": [
    {
     "name": "stdout",
     "output_type": "stream",
     "text": [
      "8\n"
     ]
    }
   ],
   "source": [
    "#we instantiate our model with the parameters of interest \n",
    "model = Schelling((10,10), 0.8,0.5,0.3)\n",
    "\n",
    "#we run our model\n",
    "#notice we run it in a while loop\n",
    "#this is because in some cases, our model may not converge\n",
    "#(no matter how long we run the model, not all agents will ever be happy!)\n",
    "while model.running and model.schedule.steps < 100:\n",
    "    model.step()\n",
    "print(model.schedule.steps) # Show how many steps have actually run"
   ]
  },
  {
   "cell_type": "code",
   "execution_count": 20,
   "metadata": {
    "slideshow": {
     "slide_type": "slide"
    }
   },
   "outputs": [
    {
     "name": "stdout",
     "output_type": "stream",
     "text": [
      "79 agents\n",
      "of which 100% are happy\n",
      "total segregation: 75.47%\n"
     ]
    }
   ],
   "source": [
    "#we can call the model to get outputs\n",
    "total_agents = model.schedule.get_agent_count()\n",
    "perc_happy = model.happy()\n",
    "\n",
    "print(f'{total_agents} agents')\n",
    "print(f'of which {perc_happy * 100:.0f}% are happy')\n",
    "print(f'total segregation: {model.segregation()*100:.2f}%')"
   ]
  },
  {
   "cell_type": "code",
   "execution_count": 21,
   "metadata": {
    "slideshow": {
     "slide_type": "slide"
    }
   },
   "outputs": [
    {
     "data": {
      "text/html": [
       "<div>\n",
       "<style scoped>\n",
       "    .dataframe tbody tr th:only-of-type {\n",
       "        vertical-align: middle;\n",
       "    }\n",
       "\n",
       "    .dataframe tbody tr th {\n",
       "        vertical-align: top;\n",
       "    }\n",
       "\n",
       "    .dataframe thead th {\n",
       "        text-align: right;\n",
       "    }\n",
       "</style>\n",
       "<table border=\"1\" class=\"dataframe\">\n",
       "  <thead>\n",
       "    <tr style=\"text-align: right;\">\n",
       "      <th></th>\n",
       "      <th>happy</th>\n",
       "      <th>segregation</th>\n",
       "    </tr>\n",
       "  </thead>\n",
       "  <tbody>\n",
       "    <tr>\n",
       "      <th>0</th>\n",
       "      <td>0.000000</td>\n",
       "      <td>0.429852</td>\n",
       "    </tr>\n",
       "    <tr>\n",
       "      <th>1</th>\n",
       "      <td>0.860759</td>\n",
       "      <td>0.518822</td>\n",
       "    </tr>\n",
       "    <tr>\n",
       "      <th>2</th>\n",
       "      <td>0.949367</td>\n",
       "      <td>0.625814</td>\n",
       "    </tr>\n",
       "    <tr>\n",
       "      <th>3</th>\n",
       "      <td>0.974684</td>\n",
       "      <td>0.661754</td>\n",
       "    </tr>\n",
       "    <tr>\n",
       "      <th>4</th>\n",
       "      <td>0.974684</td>\n",
       "      <td>0.679340</td>\n",
       "    </tr>\n",
       "  </tbody>\n",
       "</table>\n",
       "</div>"
      ],
      "text/plain": [
       "      happy  segregation\n",
       "0  0.000000     0.429852\n",
       "1  0.860759     0.518822\n",
       "2  0.949367     0.625814\n",
       "3  0.974684     0.661754\n",
       "4  0.974684     0.679340"
      ]
     },
     "execution_count": 21,
     "metadata": {},
     "output_type": "execute_result"
    }
   ],
   "source": [
    "model_out = model.datacollector.get_model_vars_dataframe()\n",
    "model_out.head()"
   ]
  },
  {
   "cell_type": "code",
   "execution_count": 22,
   "metadata": {
    "slideshow": {
     "slide_type": "slide"
    }
   },
   "outputs": [
    {
     "data": {
      "text/html": [
       "<div>\n",
       "<style scoped>\n",
       "    .dataframe tbody tr th:only-of-type {\n",
       "        vertical-align: middle;\n",
       "    }\n",
       "\n",
       "    .dataframe tbody tr th {\n",
       "        vertical-align: top;\n",
       "    }\n",
       "\n",
       "    .dataframe thead th {\n",
       "        text-align: right;\n",
       "    }\n",
       "</style>\n",
       "<table border=\"1\" class=\"dataframe\">\n",
       "  <thead>\n",
       "    <tr style=\"text-align: right;\">\n",
       "      <th></th>\n",
       "      <th></th>\n",
       "      <th>x</th>\n",
       "      <th>y</th>\n",
       "      <th>num_similar</th>\n",
       "      <th>total_neighbours</th>\n",
       "    </tr>\n",
       "    <tr>\n",
       "      <th>Step</th>\n",
       "      <th>AgentID</th>\n",
       "      <th></th>\n",
       "      <th></th>\n",
       "      <th></th>\n",
       "      <th></th>\n",
       "    </tr>\n",
       "  </thead>\n",
       "  <tbody>\n",
       "    <tr>\n",
       "      <th rowspan=\"5\" valign=\"top\">0</th>\n",
       "      <th>(0, 0)</th>\n",
       "      <td>7</td>\n",
       "      <td>2</td>\n",
       "      <td>0</td>\n",
       "      <td>0</td>\n",
       "    </tr>\n",
       "    <tr>\n",
       "      <th>(0, 2)</th>\n",
       "      <td>1</td>\n",
       "      <td>6</td>\n",
       "      <td>0</td>\n",
       "      <td>0</td>\n",
       "    </tr>\n",
       "    <tr>\n",
       "      <th>(0, 3)</th>\n",
       "      <td>9</td>\n",
       "      <td>7</td>\n",
       "      <td>0</td>\n",
       "      <td>0</td>\n",
       "    </tr>\n",
       "    <tr>\n",
       "      <th>(0, 4)</th>\n",
       "      <td>2</td>\n",
       "      <td>8</td>\n",
       "      <td>0</td>\n",
       "      <td>0</td>\n",
       "    </tr>\n",
       "    <tr>\n",
       "      <th>(0, 5)</th>\n",
       "      <td>6</td>\n",
       "      <td>2</td>\n",
       "      <td>0</td>\n",
       "      <td>1</td>\n",
       "    </tr>\n",
       "  </tbody>\n",
       "</table>\n",
       "</div>"
      ],
      "text/plain": [
       "              x  y  num_similar  total_neighbours\n",
       "Step AgentID                                     \n",
       "0    (0, 0)   7  2            0                 0\n",
       "     (0, 2)   1  6            0                 0\n",
       "     (0, 3)   9  7            0                 0\n",
       "     (0, 4)   2  8            0                 0\n",
       "     (0, 5)   6  2            0                 1"
      ]
     },
     "execution_count": 22,
     "metadata": {},
     "output_type": "execute_result"
    }
   ],
   "source": [
    "agent_out = model.datacollector.get_agent_vars_dataframe()\n",
    "agent_out.head()"
   ]
  },
  {
   "cell_type": "code",
   "execution_count": 23,
   "metadata": {
    "slideshow": {
     "slide_type": "slide"
    }
   },
   "outputs": [
    {
     "data": {
      "image/png": "[encoded data removed]",
      "text/plain": [
       "<Figure size 432x288 with 1 Axes>"
      ]
     },
     "metadata": {
      "needs_background": "light"
     },
     "output_type": "display_data"
    }
   ],
   "source": [
    "model_out['unhappy'] = 1 - model_out.happy\n",
    "model_out.drop('happy', axis=1, inplace=True)\n",
    "sns.lineplot(data=model_out)\n",
    "plt.show()"
   ]
  },
  {
   "cell_type": "code",
   "execution_count": 24,
   "metadata": {
    "slideshow": {
     "slide_type": "slide"
    }
   },
   "outputs": [
    {
     "name": "stderr",
     "output_type": "stream",
     "text": [
      "190it [00:11, 16.30it/s]\n"
     ]
    }
   ],
   "source": [
    "#we set-up the parameters that we want to vary, as well as the ones that we want to keep fixed as dictionaries \n",
    "variable_parameters = {\"threshold\": [x/100 for x in range(5,100,5)]}\n",
    "fixed_parameters = {\"size\": (10,10), \"percent_minority\": 0.5, \"density\": 0.8}\n",
    "\n",
    "model_reporters = {\"segregation\": lambda m: m.segregation(), \n",
    "                   'happy': lambda m: m.happy(), \n",
    "                   'num_agents': lambda m: m.schedule.get_agent_count()}\n",
    "\n",
    "#use batchrun to go through all possible combinations of parameters\n",
    "param_sweep = BatchRunner(Schelling, \n",
    "                          variable_parameters= variable_parameters, \n",
    "                          fixed_parameters = fixed_parameters,\n",
    "                          iterations=10, max_steps=100, model_reporters=model_reporters)\n",
    "\n",
    "param_sweep.run_all()"
   ]
  },
  {
   "cell_type": "code",
   "execution_count": 25,
   "metadata": {
    "slideshow": {
     "slide_type": "slide"
    }
   },
   "outputs": [
    {
     "data": {
      "text/html": [
       "<div>\n",
       "<style scoped>\n",
       "    .dataframe tbody tr th:only-of-type {\n",
       "        vertical-align: middle;\n",
       "    }\n",
       "\n",
       "    .dataframe tbody tr th {\n",
       "        vertical-align: top;\n",
       "    }\n",
       "\n",
       "    .dataframe thead th {\n",
       "        text-align: right;\n",
       "    }\n",
       "</style>\n",
       "<table border=\"1\" class=\"dataframe\">\n",
       "  <thead>\n",
       "    <tr style=\"text-align: right;\">\n",
       "      <th></th>\n",
       "      <th>threshold</th>\n",
       "      <th>Run</th>\n",
       "      <th>happy</th>\n",
       "      <th>num_agents</th>\n",
       "      <th>segregation</th>\n",
       "      <th>size</th>\n",
       "      <th>percent_minority</th>\n",
       "      <th>density</th>\n",
       "    </tr>\n",
       "  </thead>\n",
       "  <tbody>\n",
       "    <tr>\n",
       "      <th>0</th>\n",
       "      <td>0.05</td>\n",
       "      <td>0</td>\n",
       "      <td>1.0</td>\n",
       "      <td>81</td>\n",
       "      <td>0.529703</td>\n",
       "      <td>(10, 10)</td>\n",
       "      <td>0.5</td>\n",
       "      <td>0.8</td>\n",
       "    </tr>\n",
       "    <tr>\n",
       "      <th>1</th>\n",
       "      <td>0.05</td>\n",
       "      <td>1</td>\n",
       "      <td>1.0</td>\n",
       "      <td>82</td>\n",
       "      <td>0.655386</td>\n",
       "      <td>(10, 10)</td>\n",
       "      <td>0.5</td>\n",
       "      <td>0.8</td>\n",
       "    </tr>\n",
       "    <tr>\n",
       "      <th>2</th>\n",
       "      <td>0.05</td>\n",
       "      <td>2</td>\n",
       "      <td>1.0</td>\n",
       "      <td>86</td>\n",
       "      <td>0.524045</td>\n",
       "      <td>(10, 10)</td>\n",
       "      <td>0.5</td>\n",
       "      <td>0.8</td>\n",
       "    </tr>\n",
       "    <tr>\n",
       "      <th>3</th>\n",
       "      <td>0.05</td>\n",
       "      <td>3</td>\n",
       "      <td>1.0</td>\n",
       "      <td>83</td>\n",
       "      <td>0.548293</td>\n",
       "      <td>(10, 10)</td>\n",
       "      <td>0.5</td>\n",
       "      <td>0.8</td>\n",
       "    </tr>\n",
       "    <tr>\n",
       "      <th>4</th>\n",
       "      <td>0.05</td>\n",
       "      <td>4</td>\n",
       "      <td>1.0</td>\n",
       "      <td>78</td>\n",
       "      <td>0.552869</td>\n",
       "      <td>(10, 10)</td>\n",
       "      <td>0.5</td>\n",
       "      <td>0.8</td>\n",
       "    </tr>\n",
       "  </tbody>\n",
       "</table>\n",
       "</div>"
      ],
      "text/plain": [
       "   threshold  Run  happy  num_agents  segregation      size  percent_minority  \\\n",
       "0       0.05    0    1.0          81     0.529703  (10, 10)               0.5   \n",
       "1       0.05    1    1.0          82     0.655386  (10, 10)               0.5   \n",
       "2       0.05    2    1.0          86     0.524045  (10, 10)               0.5   \n",
       "3       0.05    3    1.0          83     0.548293  (10, 10)               0.5   \n",
       "4       0.05    4    1.0          78     0.552869  (10, 10)               0.5   \n",
       "\n",
       "   density  \n",
       "0      0.8  \n",
       "1      0.8  \n",
       "2      0.8  \n",
       "3      0.8  \n",
       "4      0.8  "
      ]
     },
     "execution_count": 25,
     "metadata": {},
     "output_type": "execute_result"
    }
   ],
   "source": [
    "df = param_sweep.get_model_vars_dataframe()\n",
    "df.head(5)"
   ]
  },
  {
   "cell_type": "code",
   "execution_count": 26,
   "metadata": {},
   "outputs": [
    {
     "data": {
      "image/png": "[encoded data removed]",
      "text/plain": [
       "<Figure size 864x288 with 1 Axes>"
      ]
     },
     "metadata": {
      "needs_background": "light"
     },
     "output_type": "display_data"
    }
   ],
   "source": [
    "fig, ax = plt.subplots(figsize=(12,4))\n",
    "\n",
    "ax =  sns.boxplot(data= df, x = 'threshold', y = 'segregation', color=\".9\")\n",
    "ax = sns.swarmplot(data= df, x = 'threshold', y = 'segregation', color=\".25\", size=3)\n",
    "\n",
    "plt.show()"
   ]
  },
  {
   "cell_type": "code",
   "execution_count": 27,
   "metadata": {
    "slideshow": {
     "slide_type": "slide"
    }
   },
   "outputs": [
    {
     "name": "stderr",
     "output_type": "stream",
     "text": [
      "/Users/Elsa/opt/anaconda3/envs/urbsim/lib/python3.7/site-packages/seaborn/categorical.py:1296: UserWarning: 10.0% of the points cannot be placed; you may want to decrease the size of the markers or use stripplot.\n",
      "  warnings.warn(msg, UserWarning)\n"
     ]
    },
    {
     "data": {
      "image/png": "[encoded data removed]",
      "text/plain": [
       "<Figure size 864x288 with 1 Axes>"
      ]
     },
     "metadata": {
      "needs_background": "light"
     },
     "output_type": "display_data"
    }
   ],
   "source": [
    "fig, ax = plt.subplots(figsize=(12,4))\n",
    "ax =  sns.boxplot(data= df, x = 'threshold', y = 'happy', color=\".9\")\n",
    "ax = sns.swarmplot(data= df, x = 'threshold', y = 'happy', color=\".25\", size=3)\n",
    "plt.show()"
   ]
  }
 ],
 "metadata": {
  "celltoolbar": "Slideshow",
  "kernelspec": {
   "display_name": "urbsim",
   "language": "python",
   "name": "urbsim"
  },
  "language_info": {
   "codemirror_mode": {
    "name": "ipython",
    "version": 3
   },
   "file_extension": ".py",
   "mimetype": "text/x-python",
   "name": "python",
   "nbconvert_exporter": "python",
   "pygments_lexer": "ipython3",
   "version": "3.7.9"
  }
 },
 "nbformat": 4,
 "nbformat_minor": 4
}
