{
 "cells": [
  {
   "cell_type": "markdown",
   "id": "b64d4517-d361-4f1b-8f60-772ce25b145e",
   "metadata": {},
   "source": [
    "\n",
    "Let us begin with the formula:\n",
    "\n",
    "\\begin{equation} \\tag{9}\n",
    "T_{ij} = A_i B_j O_i D_j d_{ij}^{-\\beta}\n",
    "\\end{equation}\n",
    "\n",
    "Where\n",
    "\n",
    "\\begin{equation} \\tag{10}\n",
    "O_i = \\sum_j T_{ij}\n",
    "\\end{equation}\n",
    "\n",
    "\\begin{equation} \\tag{11}\n",
    "D_j = \\sum_i T_{ij} \n",
    "\\end{equation}\n",
    "\n",
    "and\n",
    "\n",
    "\\begin{equation} \\tag{12}\n",
    "A_i = \\frac{1}{\\sum_j B_j D_j d_{ij}^{-\\beta}}\n",
    "\\end{equation}\n",
    "\n",
    "\\begin{equation} \\tag{13}\n",
    "B_j = \\frac{1}{\\sum_i A_i O_i d_{ij}^{-\\beta}}\n",
    "\\end{equation}\n"
   ]
  }
 ],
 "metadata": {
  "kernelspec": {
   "display_name": "Python 3 (ipykernel)",
   "language": "python",
   "name": "python3"
  },
  "language_info": {
   "codemirror_mode": {
    "name": "ipython",
    "version": 3
   },
   "file_extension": ".py",
   "mimetype": "text/x-python",
   "name": "python",
   "nbconvert_exporter": "python",
   "pygments_lexer": "ipython3",
   "version": "3.10.5"
  }
 },
 "nbformat": 4,
 "nbformat_minor": 5
}
