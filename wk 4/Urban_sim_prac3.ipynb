{
 "cells": [
  {
   "cell_type": "markdown",
   "metadata": {},
   "source": [
    "# Dr Dennett's Guide to Spatial Interaction Modelling -  Part 2b: Constrained Models - doubly constrained\n",
    "\n",
    "Code translated to Python by Philip Wilkinson\n",
    "\n",
    "## Recap\n",
    "\n",
    "Last workshop we built on our knowledge of unconstrained models by introducing the two singly constrained models. Within these models, more information can be added in, if it is available, in order to improve the model fit. We also covered some potential use cases. We could see that by adding constraints in the model, using information that we already had, could improve how well the model is able to model flows between boroughs, but also we could choose the model depending on what behaviour or values we would like to change to see how it would in theory affect flows.\n",
    "\n",
    "This week we will build on that by introducing the doubly constrained model which contains as much information as possible into the model. Before that however, we need to bring in the data from the first practical so taht we can use it to cmopare the results of the new practical:"
   ]
  },
  {
   "cell_type": "code",
   "execution_count": 1,
   "metadata": {},
   "outputs": [],
   "source": [
    "#import the necessary libraries \n",
    "import pandas as pd\n",
    "import matplotlib.pyplot as plt\n",
    "import geopandas as gpd\n",
    "import seaborn as sns\n",
    "import folium\n",
    "import statsmodels.api as sm\n",
    "import scipy.stats\n",
    "import numpy as np\n",
    "from math import sqrt\n",
    "import statsmodels.formula.api as smf"
   ]
  },
  {
   "cell_type": "code",
   "execution_count": 2,
   "metadata": {},
   "outputs": [],
   "source": [
    "#set up the metric calculations\n",
    "def CalcRSqaured(observed, estimated):\n",
    "    \"\"\"Calculate the r^2 from a series of observed and estimated target values\n",
    "    inputs:\n",
    "    Observed: Series of actual observed values\n",
    "    estimated: Series of predicted values\"\"\"\n",
    "    \n",
    "    r, p = scipy.stats.pearsonr(observed, estimated)\n",
    "    R2 = r **2\n",
    "    \n",
    "    return R2\n",
    "\n",
    "def CalcRMSE(observed, estimated):\n",
    "    \"\"\"Calculate Root Mean Square Error between a series of observed and estimated values\n",
    "    inputs:\n",
    "    Observed: Series of actual observed values\n",
    "    estimated: Series of predicted values\"\"\"\n",
    "    \n",
    "    res = (observed -estimated)**2\n",
    "    RMSE = round(sqrt(res.mean()), 3)\n",
    "    \n",
    "    return RMSE"
   ]
  },
  {
   "cell_type": "code",
   "execution_count": 3,
   "metadata": {
    "scrolled": true
   },
   "outputs": [],
   "source": [
    "#read in the cdatasub from the first week\n",
    "cdatasub = pd.read_csv(\"Data/cdatasub1.csv\", index_col=0)"
   ]
  },
  {
   "cell_type": "code",
   "execution_count": 4,
   "metadata": {},
   "outputs": [
    {
     "data": {
      "text/html": [
       "<div>\n",
       "<style scoped>\n",
       "    .dataframe tbody tr th:only-of-type {\n",
       "        vertical-align: middle;\n",
       "    }\n",
       "\n",
       "    .dataframe tbody tr th {\n",
       "        vertical-align: top;\n",
       "    }\n",
       "\n",
       "    .dataframe thead th {\n",
       "        text-align: right;\n",
       "    }\n",
       "</style>\n",
       "<table border=\"1\" class=\"dataframe\">\n",
       "  <thead>\n",
       "    <tr style=\"text-align: right;\">\n",
       "      <th></th>\n",
       "      <th>OrigCodeNew</th>\n",
       "      <th>DestCodeNew</th>\n",
       "      <th>TotalNoIntra</th>\n",
       "      <th>Orig</th>\n",
       "      <th>OrigCode</th>\n",
       "      <th>Dest</th>\n",
       "      <th>DestCode</th>\n",
       "      <th>Total</th>\n",
       "      <th>WorksFromHome</th>\n",
       "      <th>Underground</th>\n",
       "      <th>...</th>\n",
       "      <th>Dj1_destpop</th>\n",
       "      <th>Dj2_destsal</th>\n",
       "      <th>offset</th>\n",
       "      <th>Dist</th>\n",
       "      <th>unconstrainedEst1</th>\n",
       "      <th>log_Oi1_origpop</th>\n",
       "      <th>log_Dj2_destsal</th>\n",
       "      <th>log_Dist</th>\n",
       "      <th>unconstrainedEst2</th>\n",
       "      <th>fitted</th>\n",
       "    </tr>\n",
       "  </thead>\n",
       "  <tbody>\n",
       "    <tr>\n",
       "      <th>1</th>\n",
       "      <td>E09000001</td>\n",
       "      <td>E09000002</td>\n",
       "      <td>6</td>\n",
       "      <td>City of London</td>\n",
       "      <td>00AA</td>\n",
       "      <td>Barking and Dagenham</td>\n",
       "      <td>00AB</td>\n",
       "      <td>6</td>\n",
       "      <td>0</td>\n",
       "      <td>3</td>\n",
       "      <td>...</td>\n",
       "      <td>56000</td>\n",
       "      <td>16200</td>\n",
       "      <td>0.0</td>\n",
       "      <td>15995.228542</td>\n",
       "      <td>121</td>\n",
       "      <td>9.392662</td>\n",
       "      <td>9.692767</td>\n",
       "      <td>9.680046</td>\n",
       "      <td>20</td>\n",
       "      <td>20.489486</td>\n",
       "    </tr>\n",
       "    <tr>\n",
       "      <th>2</th>\n",
       "      <td>E09000001</td>\n",
       "      <td>E09000003</td>\n",
       "      <td>14</td>\n",
       "      <td>City of London</td>\n",
       "      <td>00AA</td>\n",
       "      <td>Barnet</td>\n",
       "      <td>00AC</td>\n",
       "      <td>14</td>\n",
       "      <td>0</td>\n",
       "      <td>11</td>\n",
       "      <td>...</td>\n",
       "      <td>159000</td>\n",
       "      <td>18700</td>\n",
       "      <td>0.0</td>\n",
       "      <td>13935.670950</td>\n",
       "      <td>184</td>\n",
       "      <td>9.392662</td>\n",
       "      <td>9.836279</td>\n",
       "      <td>9.542207</td>\n",
       "      <td>32</td>\n",
       "      <td>31.512083</td>\n",
       "    </tr>\n",
       "    <tr>\n",
       "      <th>3</th>\n",
       "      <td>E09000001</td>\n",
       "      <td>E09000004</td>\n",
       "      <td>0</td>\n",
       "      <td>City of London</td>\n",
       "      <td>00AA</td>\n",
       "      <td>Bexley</td>\n",
       "      <td>00AD</td>\n",
       "      <td>0</td>\n",
       "      <td>0</td>\n",
       "      <td>0</td>\n",
       "      <td>...</td>\n",
       "      <td>112000</td>\n",
       "      <td>18300</td>\n",
       "      <td>0.0</td>\n",
       "      <td>17359.908682</td>\n",
       "      <td>116</td>\n",
       "      <td>9.392662</td>\n",
       "      <td>9.814656</td>\n",
       "      <td>9.761919</td>\n",
       "      <td>22</td>\n",
       "      <td>22.318539</td>\n",
       "    </tr>\n",
       "    <tr>\n",
       "      <th>4</th>\n",
       "      <td>E09000001</td>\n",
       "      <td>E09000005</td>\n",
       "      <td>16</td>\n",
       "      <td>City of London</td>\n",
       "      <td>00AA</td>\n",
       "      <td>Brent</td>\n",
       "      <td>00AE</td>\n",
       "      <td>16</td>\n",
       "      <td>0</td>\n",
       "      <td>10</td>\n",
       "      <td>...</td>\n",
       "      <td>127000</td>\n",
       "      <td>16500</td>\n",
       "      <td>0.0</td>\n",
       "      <td>13119.797208</td>\n",
       "      <td>183</td>\n",
       "      <td>9.392662</td>\n",
       "      <td>9.711116</td>\n",
       "      <td>9.481878</td>\n",
       "      <td>28</td>\n",
       "      <td>27.914377</td>\n",
       "    </tr>\n",
       "    <tr>\n",
       "      <th>5</th>\n",
       "      <td>E09000001</td>\n",
       "      <td>E09000006</td>\n",
       "      <td>0</td>\n",
       "      <td>City of London</td>\n",
       "      <td>00AA</td>\n",
       "      <td>Bromley</td>\n",
       "      <td>00AF</td>\n",
       "      <td>0</td>\n",
       "      <td>0</td>\n",
       "      <td>0</td>\n",
       "      <td>...</td>\n",
       "      <td>164000</td>\n",
       "      <td>19100</td>\n",
       "      <td>0.0</td>\n",
       "      <td>18740.822949</td>\n",
       "      <td>104</td>\n",
       "      <td>9.392662</td>\n",
       "      <td>9.857444</td>\n",
       "      <td>9.838459</td>\n",
       "      <td>22</td>\n",
       "      <td>21.501729</td>\n",
       "    </tr>\n",
       "    <tr>\n",
       "      <th>6</th>\n",
       "      <td>E09000001</td>\n",
       "      <td>E09000007</td>\n",
       "      <td>335</td>\n",
       "      <td>City of London</td>\n",
       "      <td>00AA</td>\n",
       "      <td>Camden</td>\n",
       "      <td>00AG</td>\n",
       "      <td>335</td>\n",
       "      <td>0</td>\n",
       "      <td>104</td>\n",
       "      <td>...</td>\n",
       "      <td>101000</td>\n",
       "      <td>19800</td>\n",
       "      <td>0.0</td>\n",
       "      <td>5742.818336</td>\n",
       "      <td>1148</td>\n",
       "      <td>9.392662</td>\n",
       "      <td>9.893437</td>\n",
       "      <td>8.655705</td>\n",
       "      <td>121</td>\n",
       "      <td>120.620310</td>\n",
       "    </tr>\n",
       "    <tr>\n",
       "      <th>33</th>\n",
       "      <td>E09000002</td>\n",
       "      <td>E09000001</td>\n",
       "      <td>3641</td>\n",
       "      <td>Barking and Dagenham</td>\n",
       "      <td>00AB</td>\n",
       "      <td>City of London</td>\n",
       "      <td>00AA</td>\n",
       "      <td>3641</td>\n",
       "      <td>0</td>\n",
       "      <td>1444</td>\n",
       "      <td>...</td>\n",
       "      <td>12000</td>\n",
       "      <td>38300</td>\n",
       "      <td>0.0</td>\n",
       "      <td>15995.228542</td>\n",
       "      <td>1335</td>\n",
       "      <td>10.933107</td>\n",
       "      <td>10.553205</td>\n",
       "      <td>9.680046</td>\n",
       "      <td>1264</td>\n",
       "      <td>1263.781820</td>\n",
       "    </tr>\n",
       "    <tr>\n",
       "      <th>35</th>\n",
       "      <td>E09000002</td>\n",
       "      <td>E09000003</td>\n",
       "      <td>194</td>\n",
       "      <td>Barking and Dagenham</td>\n",
       "      <td>00AB</td>\n",
       "      <td>Barnet</td>\n",
       "      <td>00AC</td>\n",
       "      <td>194</td>\n",
       "      <td>0</td>\n",
       "      <td>29</td>\n",
       "      <td>...</td>\n",
       "      <td>159000</td>\n",
       "      <td>18700</td>\n",
       "      <td>0.0</td>\n",
       "      <td>25100.413807</td>\n",
       "      <td>265</td>\n",
       "      <td>10.933107</td>\n",
       "      <td>9.836279</td>\n",
       "      <td>10.130640</td>\n",
       "      <td>206</td>\n",
       "      <td>205.725662</td>\n",
       "    </tr>\n",
       "    <tr>\n",
       "      <th>36</th>\n",
       "      <td>E09000002</td>\n",
       "      <td>E09000004</td>\n",
       "      <td>96</td>\n",
       "      <td>Barking and Dagenham</td>\n",
       "      <td>00AB</td>\n",
       "      <td>Bexley</td>\n",
       "      <td>00AD</td>\n",
       "      <td>96</td>\n",
       "      <td>0</td>\n",
       "      <td>6</td>\n",
       "      <td>...</td>\n",
       "      <td>112000</td>\n",
       "      <td>18300</td>\n",
       "      <td>0.0</td>\n",
       "      <td>9264.887002</td>\n",
       "      <td>1902</td>\n",
       "      <td>10.933107</td>\n",
       "      <td>9.814656</td>\n",
       "      <td>9.133987</td>\n",
       "      <td>808</td>\n",
       "      <td>807.656203</td>\n",
       "    </tr>\n",
       "    <tr>\n",
       "      <th>37</th>\n",
       "      <td>E09000002</td>\n",
       "      <td>E09000005</td>\n",
       "      <td>178</td>\n",
       "      <td>Barking and Dagenham</td>\n",
       "      <td>00AB</td>\n",
       "      <td>Brent</td>\n",
       "      <td>00AE</td>\n",
       "      <td>178</td>\n",
       "      <td>0</td>\n",
       "      <td>47</td>\n",
       "      <td>...</td>\n",
       "      <td>127000</td>\n",
       "      <td>16500</td>\n",
       "      <td>0.0</td>\n",
       "      <td>27856.177167</td>\n",
       "      <td>190</td>\n",
       "      <td>10.933107</td>\n",
       "      <td>9.711116</td>\n",
       "      <td>10.234810</td>\n",
       "      <td>145</td>\n",
       "      <td>144.562407</td>\n",
       "    </tr>\n",
       "  </tbody>\n",
       "</table>\n",
       "<p>10 rows × 31 columns</p>\n",
       "</div>"
      ],
      "text/plain": [
       "   OrigCodeNew DestCodeNew  TotalNoIntra                  Orig OrigCode  \\\n",
       "1    E09000001   E09000002             6        City of London     00AA   \n",
       "2    E09000001   E09000003            14        City of London     00AA   \n",
       "3    E09000001   E09000004             0        City of London     00AA   \n",
       "4    E09000001   E09000005            16        City of London     00AA   \n",
       "5    E09000001   E09000006             0        City of London     00AA   \n",
       "6    E09000001   E09000007           335        City of London     00AA   \n",
       "33   E09000002   E09000001          3641  Barking and Dagenham     00AB   \n",
       "35   E09000002   E09000003           194  Barking and Dagenham     00AB   \n",
       "36   E09000002   E09000004            96  Barking and Dagenham     00AB   \n",
       "37   E09000002   E09000005           178  Barking and Dagenham     00AB   \n",
       "\n",
       "                    Dest DestCode  Total  WorksFromHome  Underground  ...  \\\n",
       "1   Barking and Dagenham     00AB      6              0            3  ...   \n",
       "2                 Barnet     00AC     14              0           11  ...   \n",
       "3                 Bexley     00AD      0              0            0  ...   \n",
       "4                  Brent     00AE     16              0           10  ...   \n",
       "5                Bromley     00AF      0              0            0  ...   \n",
       "6                 Camden     00AG    335              0          104  ...   \n",
       "33        City of London     00AA   3641              0         1444  ...   \n",
       "35                Barnet     00AC    194              0           29  ...   \n",
       "36                Bexley     00AD     96              0            6  ...   \n",
       "37                 Brent     00AE    178              0           47  ...   \n",
       "\n",
       "    Dj1_destpop  Dj2_destsal  offset          Dist  unconstrainedEst1  \\\n",
       "1         56000        16200     0.0  15995.228542                121   \n",
       "2        159000        18700     0.0  13935.670950                184   \n",
       "3        112000        18300     0.0  17359.908682                116   \n",
       "4        127000        16500     0.0  13119.797208                183   \n",
       "5        164000        19100     0.0  18740.822949                104   \n",
       "6        101000        19800     0.0   5742.818336               1148   \n",
       "33        12000        38300     0.0  15995.228542               1335   \n",
       "35       159000        18700     0.0  25100.413807                265   \n",
       "36       112000        18300     0.0   9264.887002               1902   \n",
       "37       127000        16500     0.0  27856.177167                190   \n",
       "\n",
       "    log_Oi1_origpop  log_Dj2_destsal   log_Dist  unconstrainedEst2  \\\n",
       "1          9.392662         9.692767   9.680046                 20   \n",
       "2          9.392662         9.836279   9.542207                 32   \n",
       "3          9.392662         9.814656   9.761919                 22   \n",
       "4          9.392662         9.711116   9.481878                 28   \n",
       "5          9.392662         9.857444   9.838459                 22   \n",
       "6          9.392662         9.893437   8.655705                121   \n",
       "33        10.933107        10.553205   9.680046               1264   \n",
       "35        10.933107         9.836279  10.130640                206   \n",
       "36        10.933107         9.814656   9.133987                808   \n",
       "37        10.933107         9.711116  10.234810                145   \n",
       "\n",
       "         fitted  \n",
       "1     20.489486  \n",
       "2     31.512083  \n",
       "3     22.318539  \n",
       "4     27.914377  \n",
       "5     21.501729  \n",
       "6    120.620310  \n",
       "33  1263.781820  \n",
       "35   205.725662  \n",
       "36   807.656203  \n",
       "37   144.562407  \n",
       "\n",
       "[10 rows x 31 columns]"
      ]
     },
     "execution_count": 4,
     "metadata": {},
     "output_type": "execute_result"
    }
   ],
   "source": [
    "cdatasub.head(10)"
   ]
  },
  {
   "cell_type": "code",
   "execution_count": 5,
   "metadata": {},
   "outputs": [
    {
     "data": {
      "text/html": [
       "<div>\n",
       "<style scoped>\n",
       "    .dataframe tbody tr th:only-of-type {\n",
       "        vertical-align: middle;\n",
       "    }\n",
       "\n",
       "    .dataframe tbody tr th {\n",
       "        vertical-align: top;\n",
       "    }\n",
       "\n",
       "    .dataframe thead th {\n",
       "        text-align: right;\n",
       "    }\n",
       "</style>\n",
       "<table border=\"1\" class=\"dataframe\">\n",
       "  <thead>\n",
       "    <tr style=\"text-align: right;\">\n",
       "      <th>Dest</th>\n",
       "      <th>Barking and Dagenham</th>\n",
       "      <th>Barnet</th>\n",
       "      <th>Bexley</th>\n",
       "      <th>Brent</th>\n",
       "      <th>Bromley</th>\n",
       "      <th>Camden</th>\n",
       "      <th>City of London</th>\n",
       "      <th>All</th>\n",
       "    </tr>\n",
       "    <tr>\n",
       "      <th>Orig</th>\n",
       "      <th></th>\n",
       "      <th></th>\n",
       "      <th></th>\n",
       "      <th></th>\n",
       "      <th></th>\n",
       "      <th></th>\n",
       "      <th></th>\n",
       "      <th></th>\n",
       "    </tr>\n",
       "  </thead>\n",
       "  <tbody>\n",
       "    <tr>\n",
       "      <th>Barking and Dagenham</th>\n",
       "      <td>NaN</td>\n",
       "      <td>194.0</td>\n",
       "      <td>96.0</td>\n",
       "      <td>178.0</td>\n",
       "      <td>66.0</td>\n",
       "      <td>1500.0</td>\n",
       "      <td>3641.0</td>\n",
       "      <td>5675</td>\n",
       "    </tr>\n",
       "    <tr>\n",
       "      <th>Barnet</th>\n",
       "      <td>96.0</td>\n",
       "      <td>NaN</td>\n",
       "      <td>34.0</td>\n",
       "      <td>5467.0</td>\n",
       "      <td>76.0</td>\n",
       "      <td>12080.0</td>\n",
       "      <td>7709.0</td>\n",
       "      <td>25462</td>\n",
       "    </tr>\n",
       "    <tr>\n",
       "      <th>Bexley</th>\n",
       "      <td>362.0</td>\n",
       "      <td>132.0</td>\n",
       "      <td>NaN</td>\n",
       "      <td>144.0</td>\n",
       "      <td>4998.0</td>\n",
       "      <td>2470.0</td>\n",
       "      <td>6580.0</td>\n",
       "      <td>14686</td>\n",
       "    </tr>\n",
       "    <tr>\n",
       "      <th>Brent</th>\n",
       "      <td>40.0</td>\n",
       "      <td>6124.0</td>\n",
       "      <td>28.0</td>\n",
       "      <td>NaN</td>\n",
       "      <td>66.0</td>\n",
       "      <td>8105.0</td>\n",
       "      <td>4145.0</td>\n",
       "      <td>18508</td>\n",
       "    </tr>\n",
       "    <tr>\n",
       "      <th>Bromley</th>\n",
       "      <td>134.0</td>\n",
       "      <td>162.0</td>\n",
       "      <td>3199.0</td>\n",
       "      <td>201.0</td>\n",
       "      <td>NaN</td>\n",
       "      <td>3780.0</td>\n",
       "      <td>9855.0</td>\n",
       "      <td>17331</td>\n",
       "    </tr>\n",
       "    <tr>\n",
       "      <th>Camden</th>\n",
       "      <td>36.0</td>\n",
       "      <td>1496.0</td>\n",
       "      <td>32.0</td>\n",
       "      <td>1350.0</td>\n",
       "      <td>60.0</td>\n",
       "      <td>NaN</td>\n",
       "      <td>8795.0</td>\n",
       "      <td>11769</td>\n",
       "    </tr>\n",
       "    <tr>\n",
       "      <th>City of London</th>\n",
       "      <td>6.0</td>\n",
       "      <td>14.0</td>\n",
       "      <td>0.0</td>\n",
       "      <td>16.0</td>\n",
       "      <td>0.0</td>\n",
       "      <td>335.0</td>\n",
       "      <td>NaN</td>\n",
       "      <td>371</td>\n",
       "    </tr>\n",
       "    <tr>\n",
       "      <th>All</th>\n",
       "      <td>674.0</td>\n",
       "      <td>8122.0</td>\n",
       "      <td>3389.0</td>\n",
       "      <td>7356.0</td>\n",
       "      <td>5266.0</td>\n",
       "      <td>28270.0</td>\n",
       "      <td>40725.0</td>\n",
       "      <td>93802</td>\n",
       "    </tr>\n",
       "  </tbody>\n",
       "</table>\n",
       "</div>"
      ],
      "text/plain": [
       "Dest                  Barking and Dagenham  Barnet  Bexley   Brent  Bromley  \\\n",
       "Orig                                                                          \n",
       "Barking and Dagenham                   NaN   194.0    96.0   178.0     66.0   \n",
       "Barnet                                96.0     NaN    34.0  5467.0     76.0   \n",
       "Bexley                               362.0   132.0     NaN   144.0   4998.0   \n",
       "Brent                                 40.0  6124.0    28.0     NaN     66.0   \n",
       "Bromley                              134.0   162.0  3199.0   201.0      NaN   \n",
       "Camden                                36.0  1496.0    32.0  1350.0     60.0   \n",
       "City of London                         6.0    14.0     0.0    16.0      0.0   \n",
       "All                                  674.0  8122.0  3389.0  7356.0   5266.0   \n",
       "\n",
       "Dest                   Camden  City of London    All  \n",
       "Orig                                                  \n",
       "Barking and Dagenham   1500.0          3641.0   5675  \n",
       "Barnet                12080.0          7709.0  25462  \n",
       "Bexley                 2470.0          6580.0  14686  \n",
       "Brent                  8105.0          4145.0  18508  \n",
       "Bromley                3780.0          9855.0  17331  \n",
       "Camden                    NaN          8795.0  11769  \n",
       "City of London          335.0             NaN    371  \n",
       "All                   28270.0         40725.0  93802  "
      ]
     },
     "execution_count": 5,
     "metadata": {},
     "output_type": "execute_result"
    }
   ],
   "source": [
    "#show the actual flows between boroughs\n",
    "cdatasubmat = pd.pivot_table(cdatasub, values =\"TotalNoIntra\", index=\"Orig\", columns = \"Dest\",\n",
    "                            aggfunc=np.sum, margins=True)\n",
    "#show the data\n",
    "cdatasubmat"
   ]
  },
  {
   "cell_type": "markdown",
   "metadata": {},
   "source": [
    "## 4. Doubly Constrained Model\n",
    "\n",
    "For the doubly constrained model:\n",
    "\n",
    "- We might be interested in understanding the changing patterns of commuting or migration over time. Data from the Census allows us to know an accurate snap-shot of migrating and commuting patterns every 10 years. In these full data matrices, we know both the numbers of commuters/migrants leaving origins and arriving at destinations as well as the interactions between them. If we constrain our model estimates to this known information at origin and destination, we can examine various things, including:\n",
    "    - The ways that the patterns of commuting/migration differ from the model predictions - where we might get more migrant/commuter flows than we would expect\n",
    "    - How the model parameters vary over time - for example how does distance / cost of travel affect flows over time? Are people prepared to travel further or less far than before?\n",
    "\n",
    "\n",
    "Which we can now introduce.\n",
    "\n",
    "Let us begin with the formula:\n",
    "\n",
    "\\begin{equation} \\tag{9}\n",
    "T_{ij} = A_i B_j O_i D_j d_{ij}^{-\\beta}\n",
    "\\end{equation}\n",
    "\n",
    "Where\n",
    "\n",
    "\\begin{equation} \\tag{10}\n",
    "O_i = \\sum_j T_{ij}\n",
    "\\end{equation}\n",
    "\n",
    "\\begin{equation} \\tag{11}\n",
    "D_j = \\sum_i T_{ij} \n",
    "\\end{equation}\n",
    "\n",
    "and\n",
    "\n",
    "\\begin{equation} \\tag{12}\n",
    "A_i = \\frac{1}{\\sum_j B_j D_j d_{ij}^{-\\beta}}\n",
    "\\end{equation}\n",
    "\n",
    "\\begin{equation} \\tag{13}\n",
    "B_j = \\frac{1}{\\sum_i A_i O_i d_{ij}^{-\\beta}}\n",
    "\\end{equation}\n",
    "\n",
    "Now, the astute will have noticed that the calculation of $A_i$ relies on knowing $B_j$ and the calculation of $B_j$ relies on knowing $A_i$. A conundrum!! If I don’t know $A_i$ how can I calcuate $B_j$ and then in turn $A_i$ and then $B_j$ ad infinitum???!!\n",
    "\n",
    "Well, I wrestled with that for a while until I came across [this paper by Martyn Senior](http://journals.sagepub.com/doi/abs/10.1177/030913257900300218) where he sketches out a very useful algorithm for iteratively arriving at values for $A_i$ and $B_j$ by setting each to equal to 1 initially and then continuing to calculate each in turn until the difference between each value is small enough not to matter.\n",
    "\n",
    "We will return to this later, but for now, we will once again used the awesome power of Python to deal with all this difficulty for us!\n",
    "\n",
    "We can run the doubly constrained model in exactly the same way as we ran the singly constrained models:\n",
    "\n",
    "\\begin{equation} \\tag{14}\n",
    "\\lambda_{ij} = \\exp (\\alpha_i + \\gamma_j -\\beta \\ln d_{ij})\n",
    "\\end{equation}\n",
    "\n",
    "now in python:"
   ]
  },
  {
   "cell_type": "markdown",
   "metadata": {},
   "source": [
    "First we calculate beta (cost factor of distance) with alpha and gamma fixed (so they don't matter in the model - just dummy vars for the origin and destination). Then we use a fixed beta to see what will happen if we make changes to Ai and Bj."
   ]
  },
  {
   "cell_type": "code",
   "execution_count": 6,
   "metadata": {},
   "outputs": [
    {
     "name": "stdout",
     "output_type": "stream",
     "text": [
      "                 Generalized Linear Model Regression Results                  \n",
      "==============================================================================\n",
      "Dep. Variable:                  Total   No. Observations:                   42\n",
      "Model:                            GLM   Df Residuals:                       28\n",
      "Model Family:                 Poisson   Df Model:                           13\n",
      "Link Function:                    Log   Scale:                          1.0000\n",
      "Method:                          IRLS   Log-Likelihood:                -2960.8\n",
      "Date:                Thu, 02 Feb 2023   Deviance:                       5607.1\n",
      "Time:                        17:00:24   Pearson chi2:                 4.88e+03\n",
      "No. Iterations:                     8   Pseudo R-squ. (CS):              1.000\n",
      "Covariance Type:            nonrobust                                         \n",
      "==============================================================================================\n",
      "                                 coef    std err          z      P>|z|      [0.025      0.975]\n",
      "----------------------------------------------------------------------------------------------\n",
      "Dest[Barking and Dagenham]    27.9631      0.142    197.131      0.000      27.685      28.241\n",
      "Dest[Barnet]                  31.0032      0.143    216.275      0.000      30.722      31.284\n",
      "Dest[Bexley]                  29.5286      0.136    217.297      0.000      29.262      29.795\n",
      "Dest[Brent]                   30.4325      0.141    215.979      0.000      30.156      30.709\n",
      "Dest[Bromley]                 30.7389      0.140    219.970      0.000      30.465      31.013\n",
      "Dest[Camden]                  31.6000      0.141    223.761      0.000      31.323      31.877\n",
      "Dest[City of London]          32.1504      0.143    224.684      0.000      31.870      32.431\n",
      "Orig[T.Barnet]                 0.4575      0.017     26.349      0.000       0.423       0.492\n",
      "Orig[T.Bexley]                 1.0361      0.016     63.309      0.000       1.004       1.068\n",
      "Orig[T.Brent]                 -0.1610      0.019     -8.603      0.000      -0.198      -0.124\n",
      "Orig[T.Bromley]                1.6305      0.015    105.222      0.000       1.600       1.661\n",
      "Orig[T.Camden]                -1.3776      0.023    -60.485      0.000      -1.422      -1.333\n",
      "Orig[T.City of London]        -4.2166      0.056    -75.829      0.000      -4.326      -4.108\n",
      "log_Dist                      -2.4945      0.014   -172.093      0.000      -2.523      -2.466\n",
      "==============================================================================================\n"
     ]
    }
   ],
   "source": [
    "#create the formula (the \"-1\" indicates no intercept in the regression model).\n",
    "dbl_form = 'Total ~ Dest + Orig + log_Dist-1'\n",
    "#run a doubly constrained sim\n",
    "doubSim = smf.glm(formula = dbl_form, data=cdatasub, family=sm.families.Poisson()).fit()\n",
    "#let's have a look at it's summary\n",
    "print(doubSim.summary())"
   ]
  },
  {
   "cell_type": "markdown",
   "metadata": {},
   "source": [
    "And the various flows and goodness-of-fit statistics?"
   ]
  },
  {
   "cell_type": "code",
   "execution_count": 7,
   "metadata": {},
   "outputs": [
    {
     "data": {
      "text/html": [
       "<div>\n",
       "<style scoped>\n",
       "    .dataframe tbody tr th:only-of-type {\n",
       "        vertical-align: middle;\n",
       "    }\n",
       "\n",
       "    .dataframe tbody tr th {\n",
       "        vertical-align: top;\n",
       "    }\n",
       "\n",
       "    .dataframe thead th {\n",
       "        text-align: right;\n",
       "    }\n",
       "</style>\n",
       "<table border=\"1\" class=\"dataframe\">\n",
       "  <thead>\n",
       "    <tr style=\"text-align: right;\">\n",
       "      <th>Dest</th>\n",
       "      <th>Barking and Dagenham</th>\n",
       "      <th>Barnet</th>\n",
       "      <th>Bexley</th>\n",
       "      <th>Brent</th>\n",
       "      <th>Bromley</th>\n",
       "      <th>Camden</th>\n",
       "      <th>City of London</th>\n",
       "      <th>All</th>\n",
       "    </tr>\n",
       "    <tr>\n",
       "      <th>Orig</th>\n",
       "      <th></th>\n",
       "      <th></th>\n",
       "      <th></th>\n",
       "      <th></th>\n",
       "      <th></th>\n",
       "      <th></th>\n",
       "      <th></th>\n",
       "      <th></th>\n",
       "    </tr>\n",
       "  </thead>\n",
       "  <tbody>\n",
       "    <tr>\n",
       "      <th>Barking and Dagenham</th>\n",
       "      <td>NaN</td>\n",
       "      <td>309.0</td>\n",
       "      <td>849.0</td>\n",
       "      <td>135.0</td>\n",
       "      <td>420.0</td>\n",
       "      <td>969.0</td>\n",
       "      <td>2993.0</td>\n",
       "      <td>5675.0</td>\n",
       "    </tr>\n",
       "    <tr>\n",
       "      <th>Barnet</th>\n",
       "      <td>23.0</td>\n",
       "      <td>NaN</td>\n",
       "      <td>72.0</td>\n",
       "      <td>5533.0</td>\n",
       "      <td>194.0</td>\n",
       "      <td>12970.0</td>\n",
       "      <td>6669.0</td>\n",
       "      <td>25461.0</td>\n",
       "    </tr>\n",
       "    <tr>\n",
       "      <th>Bexley</th>\n",
       "      <td>500.0</td>\n",
       "      <td>561.0</td>\n",
       "      <td>NaN</td>\n",
       "      <td>303.0</td>\n",
       "      <td>4454.0</td>\n",
       "      <td>1991.0</td>\n",
       "      <td>6876.0</td>\n",
       "      <td>14685.0</td>\n",
       "    </tr>\n",
       "    <tr>\n",
       "      <th>Brent</th>\n",
       "      <td>10.0</td>\n",
       "      <td>5275.0</td>\n",
       "      <td>37.0</td>\n",
       "      <td>NaN</td>\n",
       "      <td>125.0</td>\n",
       "      <td>8885.0</td>\n",
       "      <td>4176.0</td>\n",
       "      <td>18508.0</td>\n",
       "    </tr>\n",
       "    <tr>\n",
       "      <th>Bromley</th>\n",
       "      <td>134.0</td>\n",
       "      <td>818.0</td>\n",
       "      <td>2406.0</td>\n",
       "      <td>553.0</td>\n",
       "      <td>NaN</td>\n",
       "      <td>3127.0</td>\n",
       "      <td>10294.0</td>\n",
       "      <td>17332.0</td>\n",
       "    </tr>\n",
       "    <tr>\n",
       "      <th>Camden</th>\n",
       "      <td>6.0</td>\n",
       "      <td>1140.0</td>\n",
       "      <td>22.0</td>\n",
       "      <td>819.0</td>\n",
       "      <td>65.0</td>\n",
       "      <td>NaN</td>\n",
       "      <td>9716.0</td>\n",
       "      <td>11768.0</td>\n",
       "    </tr>\n",
       "    <tr>\n",
       "      <th>City of London</th>\n",
       "      <td>1.0</td>\n",
       "      <td>20.0</td>\n",
       "      <td>3.0</td>\n",
       "      <td>13.0</td>\n",
       "      <td>7.0</td>\n",
       "      <td>328.0</td>\n",
       "      <td>NaN</td>\n",
       "      <td>372.0</td>\n",
       "    </tr>\n",
       "    <tr>\n",
       "      <th>All</th>\n",
       "      <td>674.0</td>\n",
       "      <td>8123.0</td>\n",
       "      <td>3389.0</td>\n",
       "      <td>7356.0</td>\n",
       "      <td>5265.0</td>\n",
       "      <td>28270.0</td>\n",
       "      <td>40724.0</td>\n",
       "      <td>93801.0</td>\n",
       "    </tr>\n",
       "  </tbody>\n",
       "</table>\n",
       "</div>"
      ],
      "text/plain": [
       "Dest                  Barking and Dagenham  Barnet  Bexley   Brent  Bromley  \\\n",
       "Orig                                                                          \n",
       "Barking and Dagenham                   NaN   309.0   849.0   135.0    420.0   \n",
       "Barnet                                23.0     NaN    72.0  5533.0    194.0   \n",
       "Bexley                               500.0   561.0     NaN   303.0   4454.0   \n",
       "Brent                                 10.0  5275.0    37.0     NaN    125.0   \n",
       "Bromley                              134.0   818.0  2406.0   553.0      NaN   \n",
       "Camden                                 6.0  1140.0    22.0   819.0     65.0   \n",
       "City of London                         1.0    20.0     3.0    13.0      7.0   \n",
       "All                                  674.0  8123.0  3389.0  7356.0   5265.0   \n",
       "\n",
       "Dest                   Camden  City of London      All  \n",
       "Orig                                                    \n",
       "Barking and Dagenham    969.0          2993.0   5675.0  \n",
       "Barnet                12970.0          6669.0  25461.0  \n",
       "Bexley                 1991.0          6876.0  14685.0  \n",
       "Brent                  8885.0          4176.0  18508.0  \n",
       "Bromley                3127.0         10294.0  17332.0  \n",
       "Camden                    NaN          9716.0  11768.0  \n",
       "City of London          328.0             NaN    372.0  \n",
       "All                   28270.0         40724.0  93801.0  "
      ]
     },
     "execution_count": 7,
     "metadata": {},
     "output_type": "execute_result"
    }
   ],
   "source": [
    "#get the estimates\n",
    "cdatasub[\"doubsimfitted\"] = np.round(doubSim.mu)\n",
    "#here's the matrix\n",
    "cdatasubmat7 = cdatasub.pivot_table(values =\"doubsimfitted\", index=\"Orig\", columns = \"Dest\",\n",
    "                                    aggfunc=np.sum, margins=True)\n",
    "cdatasubmat7"
   ]
  },
  {
   "cell_type": "markdown",
   "metadata": {},
   "source": [
    "compared to..."
   ]
  },
  {
   "cell_type": "code",
   "execution_count": 8,
   "metadata": {},
   "outputs": [
    {
     "data": {
      "text/html": [
       "<div>\n",
       "<style scoped>\n",
       "    .dataframe tbody tr th:only-of-type {\n",
       "        vertical-align: middle;\n",
       "    }\n",
       "\n",
       "    .dataframe tbody tr th {\n",
       "        vertical-align: top;\n",
       "    }\n",
       "\n",
       "    .dataframe thead th {\n",
       "        text-align: right;\n",
       "    }\n",
       "</style>\n",
       "<table border=\"1\" class=\"dataframe\">\n",
       "  <thead>\n",
       "    <tr style=\"text-align: right;\">\n",
       "      <th>Dest</th>\n",
       "      <th>Barking and Dagenham</th>\n",
       "      <th>Barnet</th>\n",
       "      <th>Bexley</th>\n",
       "      <th>Brent</th>\n",
       "      <th>Bromley</th>\n",
       "      <th>Camden</th>\n",
       "      <th>City of London</th>\n",
       "      <th>All</th>\n",
       "    </tr>\n",
       "    <tr>\n",
       "      <th>Orig</th>\n",
       "      <th></th>\n",
       "      <th></th>\n",
       "      <th></th>\n",
       "      <th></th>\n",
       "      <th></th>\n",
       "      <th></th>\n",
       "      <th></th>\n",
       "      <th></th>\n",
       "    </tr>\n",
       "  </thead>\n",
       "  <tbody>\n",
       "    <tr>\n",
       "      <th>Barking and Dagenham</th>\n",
       "      <td>NaN</td>\n",
       "      <td>194.0</td>\n",
       "      <td>96.0</td>\n",
       "      <td>178.0</td>\n",
       "      <td>66.0</td>\n",
       "      <td>1500.0</td>\n",
       "      <td>3641.0</td>\n",
       "      <td>5675</td>\n",
       "    </tr>\n",
       "    <tr>\n",
       "      <th>Barnet</th>\n",
       "      <td>96.0</td>\n",
       "      <td>NaN</td>\n",
       "      <td>34.0</td>\n",
       "      <td>5467.0</td>\n",
       "      <td>76.0</td>\n",
       "      <td>12080.0</td>\n",
       "      <td>7709.0</td>\n",
       "      <td>25462</td>\n",
       "    </tr>\n",
       "    <tr>\n",
       "      <th>Bexley</th>\n",
       "      <td>362.0</td>\n",
       "      <td>132.0</td>\n",
       "      <td>NaN</td>\n",
       "      <td>144.0</td>\n",
       "      <td>4998.0</td>\n",
       "      <td>2470.0</td>\n",
       "      <td>6580.0</td>\n",
       "      <td>14686</td>\n",
       "    </tr>\n",
       "    <tr>\n",
       "      <th>Brent</th>\n",
       "      <td>40.0</td>\n",
       "      <td>6124.0</td>\n",
       "      <td>28.0</td>\n",
       "      <td>NaN</td>\n",
       "      <td>66.0</td>\n",
       "      <td>8105.0</td>\n",
       "      <td>4145.0</td>\n",
       "      <td>18508</td>\n",
       "    </tr>\n",
       "    <tr>\n",
       "      <th>Bromley</th>\n",
       "      <td>134.0</td>\n",
       "      <td>162.0</td>\n",
       "      <td>3199.0</td>\n",
       "      <td>201.0</td>\n",
       "      <td>NaN</td>\n",
       "      <td>3780.0</td>\n",
       "      <td>9855.0</td>\n",
       "      <td>17331</td>\n",
       "    </tr>\n",
       "    <tr>\n",
       "      <th>Camden</th>\n",
       "      <td>36.0</td>\n",
       "      <td>1496.0</td>\n",
       "      <td>32.0</td>\n",
       "      <td>1350.0</td>\n",
       "      <td>60.0</td>\n",
       "      <td>NaN</td>\n",
       "      <td>8795.0</td>\n",
       "      <td>11769</td>\n",
       "    </tr>\n",
       "    <tr>\n",
       "      <th>City of London</th>\n",
       "      <td>6.0</td>\n",
       "      <td>14.0</td>\n",
       "      <td>0.0</td>\n",
       "      <td>16.0</td>\n",
       "      <td>0.0</td>\n",
       "      <td>335.0</td>\n",
       "      <td>NaN</td>\n",
       "      <td>371</td>\n",
       "    </tr>\n",
       "    <tr>\n",
       "      <th>All</th>\n",
       "      <td>674.0</td>\n",
       "      <td>8122.0</td>\n",
       "      <td>3389.0</td>\n",
       "      <td>7356.0</td>\n",
       "      <td>5266.0</td>\n",
       "      <td>28270.0</td>\n",
       "      <td>40725.0</td>\n",
       "      <td>93802</td>\n",
       "    </tr>\n",
       "  </tbody>\n",
       "</table>\n",
       "</div>"
      ],
      "text/plain": [
       "Dest                  Barking and Dagenham  Barnet  Bexley   Brent  Bromley  \\\n",
       "Orig                                                                          \n",
       "Barking and Dagenham                   NaN   194.0    96.0   178.0     66.0   \n",
       "Barnet                                96.0     NaN    34.0  5467.0     76.0   \n",
       "Bexley                               362.0   132.0     NaN   144.0   4998.0   \n",
       "Brent                                 40.0  6124.0    28.0     NaN     66.0   \n",
       "Bromley                              134.0   162.0  3199.0   201.0      NaN   \n",
       "Camden                                36.0  1496.0    32.0  1350.0     60.0   \n",
       "City of London                         6.0    14.0     0.0    16.0      0.0   \n",
       "All                                  674.0  8122.0  3389.0  7356.0   5266.0   \n",
       "\n",
       "Dest                   Camden  City of London    All  \n",
       "Orig                                                  \n",
       "Barking and Dagenham   1500.0          3641.0   5675  \n",
       "Barnet                12080.0          7709.0  25462  \n",
       "Bexley                 2470.0          6580.0  14686  \n",
       "Brent                  8105.0          4145.0  18508  \n",
       "Bromley                3780.0          9855.0  17331  \n",
       "Camden                    NaN          8795.0  11769  \n",
       "City of London          335.0             NaN    371  \n",
       "All                   28270.0         40725.0  93802  "
      ]
     },
     "execution_count": 8,
     "metadata": {},
     "output_type": "execute_result"
    }
   ],
   "source": [
    "cdatasubmat"
   ]
  },
  {
   "cell_type": "markdown",
   "metadata": {},
   "source": [
    "and we can test the goodness-of-fit ine xactly the same was as before:"
   ]
  },
  {
   "cell_type": "code",
   "execution_count": 9,
   "metadata": {},
   "outputs": [
    {
     "data": {
      "text/plain": [
       "0.9815831216143096"
      ]
     },
     "execution_count": 9,
     "metadata": {},
     "output_type": "execute_result"
    }
   ],
   "source": [
    "CalcRSqaured(cdatasub[\"Total\"],cdatasub[\"doubsimfitted\"])"
   ]
  },
  {
   "cell_type": "code",
   "execution_count": 10,
   "metadata": {},
   "outputs": [
    {
     "data": {
      "text/plain": [
       "451.04"
      ]
     },
     "execution_count": 10,
     "metadata": {},
     "output_type": "execute_result"
    }
   ],
   "source": [
    "CalcRMSE(cdatasub[\"Total\"],cdatasub[\"doubsimfitted\"])"
   ]
  },
  {
   "cell_type": "markdown",
   "metadata": {},
   "source": [
    "So the goodness of fit has shot up and we can clearly see the origin and destination constraints working, and for most sets of flows, the mdoel is now producing some good estimates. However, there are still some errors in the flows, particularly for estimates between Barking and Dagenham and Bexley or Barnet and Camden.\n",
    "\n",
    "Is there anything more we can do? Yes, of course there is."
   ]
  },
  {
   "cell_type": "markdown",
   "metadata": {},
   "source": [
    "## 4.1 Tweaking our model\n",
    "\n",
    "### 4.1.1 Distance Decay\n",
    "\n",
    "Now, all of the way through these practicals, we have assumed that the distance decay parameter follows a negative power law. Well, it doesn't need to.\n",
    "\n",
    "In [Wilson's original paper](http://journals.sagepub.com/doi/abs/10.1068/a030001) he generalised the distance decay parameter to:\n",
    "\n",
    "\\begin{equation} \\tag{15}\n",
    "f(d_{ij})\n",
    "\\end{equation}\n",
    "\n",
    "Where $f$ represents some function of distance describing the rate at which the flow interactions change as distance increase. Lots of people have written about this, including [Talyor](https://onlinelibrary.wiley.com/doi/abs/10.1111/j.1538-4632.1971.tb00364.x) and more recently Robin Lovelace in a transport context, [here](https://www.slideshare.net/ITSLeeds/estimating-distance-decay-for-the-national-propensity-to-cycle-tool).\n",
    "\n",
    "For the inverse power law that we have been using one pussible function of distance, the other common one that is used is the negative exponential function:\n",
    "\n",
    "\\begin{equation} \\tag{16}\n",
    "\\exp (-\\beta d_{ij})\n",
    "\\end{equation}\n",
    "\n",
    "We can get a feel for how different distance decay parameters work by plotting some sample data (try different parameters):"
   ]
  },
  {
   "cell_type": "code",
   "execution_count": 11,
   "metadata": {},
   "outputs": [
    {
     "data": {
      "image/png": "[encoded data removed]",
      "text/plain": [
       "<Figure size 576x576 with 1 Axes>"
      ]
     },
     "metadata": {
      "needs_background": "light"
     },
     "output_type": "display_data"
    }
   ],
   "source": [
    "# Now let's consider some model tweaks.\n",
    "# Starting with distance decay.\n",
    "# Let's graph the distance decay parameters to get a feel for how they work.\n",
    "xs = np.arange(1.0,20.0,0.25)\n",
    "# inverse square power\n",
    "y_inv_power = np.power(xs,-2)\n",
    "# negative exponential, beta = 0.3\n",
    "y_neg_exp_point3 = np.exp(-0.3*xs)\n",
    "\n",
    "# Now a plot.\n",
    "f, ax = plt.subplots(figsize=(8,8))\n",
    "ax.plot(xs,y_inv_power, label = \"Inverse Power\", color = \"red\")\n",
    "ax.plot(xs,y_neg_exp_point3, label = 'Negative Exponential', color = \"lightblue\")\n",
    "ax.legend();"
   ]
  },
  {
   "cell_type": "markdown",
   "metadata": {},
   "source": [
    "With these parameters, the inverse power function has a far more rapid distance decay effect than the negative exponential function. In real life, what this means is that if the observed interactions drop off very rapidly with distance, then they might be more likely to follow an inverse power law. This might be the case when looking at trips to the local convenience store by walking, for example. On the other hand, if the effect of distance is less severe (for example migration across the country for a new job) then the negative exponential funtion might be more appropriate.\n",
    "\n",
    "There is no hard and fast rule as to which function to pick, it will just come down to which fits the data better…\n",
    "\n",
    "As [Taylor Oshan points out in his excellent Primer](http://openjournals.wu.ac.at/region/paper_175/175.html) what this means in our Poisson regression model is that we simply substitute $-\\beta \\ln d_{ij}$ for $-\\beta d_{ij}$ in our model:"
   ]
  },
  {
   "cell_type": "code",
   "execution_count": 12,
   "metadata": {},
   "outputs": [
    {
     "name": "stdout",
     "output_type": "stream",
     "text": [
      "                 Generalized Linear Model Regression Results                  \n",
      "==============================================================================\n",
      "Dep. Variable:                  Total   No. Observations:                   42\n",
      "Model:                            GLM   Df Residuals:                       28\n",
      "Model Family:                 Poisson   Df Model:                           13\n",
      "Link Function:                    Log   Scale:                          1.0000\n",
      "Method:                          IRLS   Log-Likelihood:                -1956.8\n",
      "Date:                Thu, 02 Feb 2023   Deviance:                       3599.1\n",
      "Time:                        17:00:25   Pearson chi2:                 3.42e+03\n",
      "No. Iterations:                     8   Pseudo R-squ. (CS):              1.000\n",
      "Covariance Type:            nonrobust                                         \n",
      "==============================================================================================\n",
      "                                 coef    std err          z      P>|z|      [0.025      0.975]\n",
      "----------------------------------------------------------------------------------------------\n",
      "Orig[Barking and Dagenham]     6.7519      0.043    155.286      0.000       6.667       6.837\n",
      "Orig[Barnet]                   7.2010      0.040    179.164      0.000       7.122       7.280\n",
      "Orig[Bexley]                   7.8083      0.041    190.845      0.000       7.728       7.888\n",
      "Orig[Brent]                    6.6564      0.040    165.268      0.000       6.577       6.735\n",
      "Orig[Bromley]                  8.4748      0.043    198.236      0.000       8.391       8.559\n",
      "Orig[Camden]                   5.9333      0.040    147.120      0.000       5.854       6.012\n",
      "Orig[City of London]           2.8999      0.065     44.436      0.000       2.772       3.028\n",
      "Dest[T.Barnet]                 3.1848      0.042     76.358      0.000       3.103       3.267\n",
      "Dest[T.Bexley]                 1.4306      0.043     33.139      0.000       1.346       1.515\n",
      "Dest[T.Brent]                  2.6831      0.042     64.534      0.000       2.602       2.765\n",
      "Dest[T.Bromley]                2.6827      0.041     65.424      0.000       2.602       2.763\n",
      "Dest[T.Camden]                 3.7707      0.040     93.795      0.000       3.692       3.850\n",
      "Dest[T.City of London]         4.0747      0.040    102.313      0.000       3.997       4.153\n",
      "Dist                          -0.0002   1.08e-06   -160.518      0.000      -0.000      -0.000\n",
      "==============================================================================================\n"
     ]
    }
   ],
   "source": [
    "# Run a doubly constrained SIM with a negative exponential cost function.\n",
    "doubsim_form = \"Total ~ Orig + Dest + Dist -1\"\n",
    "doubsim1 = smf.glm(formula=doubsim_form, data = cdatasub, family = sm.families.Poisson()).fit()\n",
    "print(doubsim1.summary())"
   ]
  },
  {
   "cell_type": "code",
   "execution_count": 13,
   "metadata": {},
   "outputs": [],
   "source": [
    "cdatasub[\"doubsimfitted1\"] = np.round(doubsim1.mu,0)"
   ]
  },
  {
   "cell_type": "code",
   "execution_count": 14,
   "metadata": {},
   "outputs": [
    {
     "data": {
      "text/plain": [
       "0.9835321475412178"
      ]
     },
     "execution_count": 14,
     "metadata": {},
     "output_type": "execute_result"
    }
   ],
   "source": [
    "CalcRSqaured(cdatasub[\"Total\"],cdatasub[\"doubsimfitted1\"])"
   ]
  },
  {
   "cell_type": "code",
   "execution_count": 15,
   "metadata": {},
   "outputs": [
    {
     "data": {
      "text/plain": [
       "423.361"
      ]
     },
     "execution_count": 15,
     "metadata": {},
     "output_type": "execute_result"
    }
   ],
   "source": [
    "\n",
    "CalcRMSE(cdatasub[\"Total\"],cdatasub[\"doubsimfitted1\"])"
   ]
  },
  {
   "cell_type": "markdown",
   "metadata": {},
   "source": [
    "So we can see that using a negative exponential in our model actually improves the fit and reduces the RMSE score."
   ]
  },
  {
   "cell_type": "markdown",
   "metadata": {},
   "source": [
    "### 4.1.2 Bunging some more variables in\n",
    "\n",
    "Yes, the nice thing about doing all of this in a regression modelling framework is that we can just keep adding predictor variables into the mix and seeing whether they have an effect.\n",
    "\n",
    "You can't add origin or destination specific predictors into a doubly constrained model like this (To see why see the paper by [Flowerdew and Lovett 1988](https://onlinelibrary.wiley.com/doi/pdf/10.1111/j.1538-4632.1988.tb00184.x)) however, you could add some interaction predictors. For example, instead of modelling total flows, we could try and model motorbike commuters using information on car and underground commuters:"
   ]
  },
  {
   "cell_type": "code",
   "execution_count": 16,
   "metadata": {},
   "outputs": [
    {
     "name": "stdout",
     "output_type": "stream",
     "text": [
      "                 Generalized Linear Model Regression Results                  \n",
      "==============================================================================\n",
      "Dep. Variable:               Motobike   No. Observations:                   42\n",
      "Model:                            GLM   Df Residuals:                       26\n",
      "Model Family:                 Poisson   Df Model:                           15\n",
      "Link Function:                    Log   Scale:                          1.0000\n",
      "Method:                          IRLS   Log-Likelihood:                -121.73\n",
      "Date:                Thu, 02 Feb 2023   Deviance:                       107.05\n",
      "Time:                        17:00:25   Pearson chi2:                     89.3\n",
      "No. Iterations:                    25   Pseudo R-squ. (CS):              1.000\n",
      "Covariance Type:            nonrobust                                         \n",
      "==============================================================================================\n",
      "                                 coef    std err          z      P>|z|      [0.025      0.975]\n",
      "----------------------------------------------------------------------------------------------\n",
      "Orig[Barking and Dagenham]     2.4829      0.298      8.330      0.000       1.899       3.067\n",
      "Orig[Barnet]                   2.8042      0.341      8.215      0.000       2.135       3.473\n",
      "Orig[Bexley]                   3.5081      0.312     11.226      0.000       2.896       4.121\n",
      "Orig[Brent]                    2.2208      0.277      8.026      0.000       1.678       2.763\n",
      "Orig[Bromley]                  3.6510      0.335     10.892      0.000       2.994       4.308\n",
      "Orig[Camden]                   2.3772      0.294      8.090      0.000       1.801       2.953\n",
      "Orig[City of London]         -22.7043   1.28e+04     -0.002      0.999   -2.51e+04    2.51e+04\n",
      "Dest[T.Barnet]                 1.5809      0.335      4.720      0.000       0.924       2.237\n",
      "Dest[T.Bexley]                 0.7948      0.285      2.784      0.005       0.235       1.354\n",
      "Dest[T.Brent]                  1.2436      0.327      3.803      0.000       0.603       1.885\n",
      "Dest[T.Bromley]                1.2814      0.326      3.927      0.000       0.642       1.921\n",
      "Dest[T.Camden]                 3.2370      0.267     12.107      0.000       2.713       3.761\n",
      "Dest[T.City of London]         3.4562      0.239     14.444      0.000       2.987       3.925\n",
      "Dist                          -0.0001   1.43e-05     -7.679      0.000      -0.000   -8.19e-05\n",
      "CarDrive                       0.0002   7.04e-05      3.471      0.001       0.000       0.000\n",
      "Underground                -9.719e-05   3.96e-05     -2.457      0.014      -0.000   -1.97e-05\n",
      "==============================================================================================\n"
     ]
    }
   ],
   "source": [
    "KitchenSinkForm = \"Motobike ~ Orig + Dest + Dist +CarDrive +Underground -1\"\n",
    "\n",
    "KitchenSinkSim = smf.glm(formula=KitchenSinkForm, data = cdatasub, family = sm.families.Poisson()).fit()\n",
    "print(KitchenSinkSim.summary())"
   ]
  },
  {
   "cell_type": "markdown",
   "metadata": {},
   "source": [
    "So now it gets guite interesting. Some of the dummy/constraint origins become statistically insignificant when car and tube commuters are added into the mix.\n",
    "\n",
    "How can we interpret this?\n",
    "\n",
    "Well, the kind of things that might influence commuting by motorbike patterns (lack of access to public transport, distance from workplace etc.) that also influence travel to work by car, aren’t applicable to centrally-located Camden with lots of public transport links. Camden is just a proxy for these factors (being centrally-located Camden with lots of public transport links), but of-course doesn’t capture the subtle variation in access to public transport and distance that car travel does. Camden’s influence is [confounded](https://en.wikipedia.org/wiki/Confounding) by these better explanatory variables and becomes insignificant.\n",
    "\n",
    "The parameter values give an indication of exactly how much of a change in commuting flows by motorcycle you might expect either for beginning or ended in a borough or for a one person change in people travelling by Car or Tube.\n",
    "\n",
    "If you would like some more useful ifnromation on how to interpret the parameters (logged or otherwise) that emerge from a Poisson Regression model, again, [Taylot Oshan's primer](http://openjournals.wu.ac.at/region/paper_175/175.html) is an excellent place to turn."
   ]
  },
  {
   "cell_type": "markdown",
   "metadata": {},
   "source": [
    "## From Poisson Regression back to Entropy\n",
    "\n",
    "As with the earlier models, I have shown you how you can plug the parameter estimates back into Wilson’s entropy maximising multiplicative models in order to generate estimates and tweak things still further.\n",
    "\n",
    "If you remember from Equations 11 and 12 above, the key to the doubly constrained models is the $A_i$ and $B_j$ balancing factors and as they rely on each other, they need to be calculated iteratively. We can do this using [Senior’s algorthim](http://journals.sagepub.com/doi/abs/10.1177/030913257900300218) also mentioned earlier.\n",
    "\n",
    "Here is the code as provided by [Dan Lewis](https://github.com/danlewis85/UCL_CASA_Urban_Simulation/blob/master/Constrained%20SIM.ipynb) who in a departure from Dennet rewrites the algorithm as a function, which can then be called subject to the required parameters. In order for it to work it requires:\n",
    "\n",
    "- pd - a pandas dataframe of origin-destination pairwise flows and associated data.\n",
    "- orig_field - the name of the dataframe field in pd that uniquely labels origin zones.\n",
    "- dest_field - the name of the dataframe field in pd that uniquely labels destination zones.\n",
    "- Oi_field - the name of the dataframe field that stores total flows from a given origin $i$\n",
    "- Dj_field - the name of the dataframe field that stores total flows to a given destination $j$\n",
    "- cij_field - the name of the dataframe field that stores the pairwise cost (e.g. distance) between $i$ and $j$\n",
    "- beta - a constant for the beta parameter you wish to use in the model\n",
    "- cost_function - a string representing the cost function, either 'power' or 'exponential'\n",
    "- Ainame - What you want to call the new field in pd that will hold $A_{i}$ values, defaults to \"Ai_new\"\n",
    "- Bjname - What you want to call the new field in pd that will hold $B_{j}$ values, defaults to \"Bj_new\"\n",
    "- converge - A threshold value at which a model can be said to have converged, the default of 0.001 seems to work fine."
   ]
  },
  {
   "cell_type": "code",
   "execution_count": 17,
   "metadata": {
    "scrolled": true
   },
   "outputs": [],
   "source": [
    "#create some Oi and Dj columns in the dataframe and store row and column totals in them:\n",
    "#to create O_i, take cdatasub ...then... group by origcodenew ...then... summarise by calculating the sum of Total\n",
    "O_i = pd.DataFrame(cdatasub.groupby([\"OrigCodeNew\"])[\"Total\"].agg(np.sum))\n",
    "O_i.rename(columns={\"Total\":\"O_i\"}, inplace = True)\n",
    "cdatasub = cdatasub.merge(O_i, on = \"OrigCodeNew\", how = \"left\" )\n",
    "\n",
    "D_j = pd.DataFrame(cdatasub.groupby([\"DestCodeNew\"])[\"Total\"].agg(np.sum))\n",
    "D_j.rename(columns={\"Total\":\"D_j\"}, inplace = True)\n",
    "cdatasub = cdatasub.merge(D_j, on = \"DestCodeNew\", how = \"left\" )"
   ]
  },
  {
   "cell_type": "code",
   "execution_count": 18,
   "metadata": {},
   "outputs": [],
   "source": [
    "\n",
    "# Here is the entropy maximising approach for a known beta.\n",
    "# Plug in the required values in this function to solve.\n",
    "\n",
    "def balance_doubly_constrained(pd, orig_field, dest_field, Oi_field, Dj_field, cij_field, beta, \n",
    "                               cost_function, Ai_name = \"Ai_new\", Bj_name = \"Bj_new\", converge=0.001):\n",
    "    # Define some variables\n",
    "    Oi = pd[[orig_field, Oi_field]]\n",
    "    Dj = pd[[dest_field,Dj_field]]    \n",
    "    if cost_function.lower() in ['power','pow']:\n",
    "        beta_cij = np.exp(beta * np.log(pd[cij_field]))\n",
    "    elif cost_function.lower() in ['exponential','exp']:\n",
    "        beta_cij = np.exp(beta * pd[cij_field])\n",
    "    else:\n",
    "        return \"Cost function not specified properly, use 'exp' or 'pow'\"\n",
    "    \n",
    "    # Create some helper variables\n",
    "    cnvg = 1\n",
    "    iteration = 0\n",
    "    # Now iteratively rebalance the Ai and Bj terms until convergence\n",
    "    while cnvg > converge:\n",
    "        if iteration == 0:\n",
    "            # This first condition sets starting values for Ai and Bj\n",
    "            # NB sets starting value of Ai assuming Bj is a vector of 1s.\n",
    "            # We've already established beta_cij with the appropriate cost function, so...\n",
    "            Oi = Oi.assign(Ai = Dj[Dj_field] * beta_cij)\n",
    "            # Aggregate Ai and take inverse\n",
    "            Ai = 1.0/Oi.groupby(orig_field)['Ai'].sum().to_frame()\n",
    "            # Merge new Ais \n",
    "            Oi = Oi.merge(Ai,left_on = orig_field, right_index = True, suffixes = ('','_old'))\n",
    "            # Drop the temporary Ai field we created, leaving Ai_old\n",
    "            Oi.drop('Ai', axis=1, inplace=True)\n",
    "            \n",
    "            # Now set up Bjs using starting values of Ai\n",
    "            Dj = Dj.assign(Bj = Oi['Ai_old'] * Oi[Oi_field] * beta_cij)\n",
    "            # Aggregate Bj and take inverse\n",
    "            Bj = 1.0/Dj.groupby(dest_field)['Bj'].sum().to_frame()\n",
    "            # Merge new Bjs\n",
    "            Dj = Dj.merge(Bj,left_on = dest_field, right_index = True, suffixes = ('','_old'))\n",
    "            # Drop the temporary Bj field we created, leaving Bj_old\n",
    "            Dj.drop('Bj', axis=1, inplace=True)\n",
    "            \n",
    "            # Increment loop\n",
    "            iteration += 1\n",
    "        else:\n",
    "            # This bit is the iterated bit of the loop which refines the values of Ai and Bj\n",
    "            # First Ai\n",
    "            Oi['Ai'] = Dj['Bj_old'] * Dj[Dj_field] * beta_cij\n",
    "            # Aggregate Ai and take inverse\n",
    "            Ai = 1.0/Oi.groupby(orig_field)['Ai'].sum().to_frame()\n",
    "            # Drop temporary Ai\n",
    "            Oi.drop('Ai', axis=1, inplace=True)\n",
    "            # Merge new Ais \n",
    "            Oi = Oi.merge(Ai,left_on = orig_field, right_index = True)\n",
    "            # Calculate the difference between old and new Ais\n",
    "            Oi['diff'] = np.absolute((Oi['Ai_old'] - Oi['Ai'])/Oi['Ai_old'])\n",
    "            # Set new Ais to Ai_old\n",
    "            Oi['Ai_old'] = Oi['Ai']\n",
    "            # Drop the temporary Ai field we created, leaving Ai_old\n",
    "            Oi.drop('Ai', axis=1, inplace=True)\n",
    "            \n",
    "            # Then Bj\n",
    "            Dj['Bj'] = Oi['Ai_old'] * Oi[Oi_field] * beta_cij\n",
    "            # Aggregate Bj and take inverse\n",
    "            Bj = 1.0/Dj.groupby(dest_field)['Bj'].sum().to_frame()\n",
    "            # Drop temporary Bj\n",
    "            Dj.drop('Bj', axis=1, inplace=True)\n",
    "            # Merge new Bjs\n",
    "            Dj = Dj.merge(Bj,left_on = dest_field, right_index = True)\n",
    "            # Calculate the difference between old and new Bjs\n",
    "            Dj['diff'] = np.absolute((Dj['Bj_old'] - Dj['Bj'])/Dj['Bj_old'])\n",
    "            # Set new Bjs to Bj_old\n",
    "            Dj['Bj_old'] = Dj['Bj']\n",
    "            # Drop the temporary Bj field we created, leaving Bj_old\n",
    "            Dj.drop('Bj', axis=1, inplace=True)\n",
    "            \n",
    "            # Assign higher sum difference from Ai or Bj to cnvg\n",
    "            cnvg = np.maximum(Oi['diff'].sum(),Dj['diff'].sum())\n",
    "            \n",
    "            # Print and increment loop\n",
    "            print(\"Iteration:\", iteration)\n",
    "            iteration += 1\n",
    "\n",
    "    # When the while loop finishes add the computed Ai_old and Bj_old to the dataframe and return\n",
    "    pd[Ai_name] = Oi['Ai_old']\n",
    "    pd[Bj_name] = Dj['Bj_old']\n",
    "    return pd"
   ]
  },
  {
   "cell_type": "markdown",
   "metadata": {},
   "source": [
    "\n",
    "Using the function above we can calculate $A_{i}$ and $B_{j}$ for the previous Poisson model by plugging in the estimate of beta that we generated."
   ]
  },
  {
   "cell_type": "code",
   "execution_count": 19,
   "metadata": {},
   "outputs": [
    {
     "name": "stdout",
     "output_type": "stream",
     "text": [
      "Iteration: 1\n",
      "Iteration: 2\n",
      "Iteration: 3\n",
      "Iteration: 4\n",
      "Iteration: 5\n",
      "Iteration: 6\n",
      "Iteration: 7\n",
      "Iteration: 8\n"
     ]
    },
    {
     "data": {
      "text/html": [
       "<div>\n",
       "<style scoped>\n",
       "    .dataframe tbody tr th:only-of-type {\n",
       "        vertical-align: middle;\n",
       "    }\n",
       "\n",
       "    .dataframe tbody tr th {\n",
       "        vertical-align: top;\n",
       "    }\n",
       "\n",
       "    .dataframe thead th {\n",
       "        text-align: right;\n",
       "    }\n",
       "</style>\n",
       "<table border=\"1\" class=\"dataframe\">\n",
       "  <thead>\n",
       "    <tr style=\"text-align: right;\">\n",
       "      <th>Dest</th>\n",
       "      <th>Barking and Dagenham</th>\n",
       "      <th>Barnet</th>\n",
       "      <th>Bexley</th>\n",
       "      <th>Brent</th>\n",
       "      <th>Bromley</th>\n",
       "      <th>Camden</th>\n",
       "      <th>City of London</th>\n",
       "      <th>All</th>\n",
       "    </tr>\n",
       "    <tr>\n",
       "      <th>Orig</th>\n",
       "      <th></th>\n",
       "      <th></th>\n",
       "      <th></th>\n",
       "      <th></th>\n",
       "      <th></th>\n",
       "      <th></th>\n",
       "      <th></th>\n",
       "      <th></th>\n",
       "    </tr>\n",
       "  </thead>\n",
       "  <tbody>\n",
       "    <tr>\n",
       "      <th>Barking and Dagenham</th>\n",
       "      <td>0</td>\n",
       "      <td>309</td>\n",
       "      <td>849</td>\n",
       "      <td>135</td>\n",
       "      <td>420</td>\n",
       "      <td>969</td>\n",
       "      <td>2993</td>\n",
       "      <td>5675.0</td>\n",
       "    </tr>\n",
       "    <tr>\n",
       "      <th>Barnet</th>\n",
       "      <td>23</td>\n",
       "      <td>0</td>\n",
       "      <td>72</td>\n",
       "      <td>5533</td>\n",
       "      <td>194</td>\n",
       "      <td>12970</td>\n",
       "      <td>6669</td>\n",
       "      <td>25461.0</td>\n",
       "    </tr>\n",
       "    <tr>\n",
       "      <th>Bexley</th>\n",
       "      <td>500</td>\n",
       "      <td>561</td>\n",
       "      <td>0</td>\n",
       "      <td>303</td>\n",
       "      <td>4454</td>\n",
       "      <td>1991</td>\n",
       "      <td>6877</td>\n",
       "      <td>14686.0</td>\n",
       "    </tr>\n",
       "    <tr>\n",
       "      <th>Brent</th>\n",
       "      <td>10</td>\n",
       "      <td>5275</td>\n",
       "      <td>37</td>\n",
       "      <td>0</td>\n",
       "      <td>125</td>\n",
       "      <td>8885</td>\n",
       "      <td>4176</td>\n",
       "      <td>18508.0</td>\n",
       "    </tr>\n",
       "    <tr>\n",
       "      <th>Bromley</th>\n",
       "      <td>134</td>\n",
       "      <td>818</td>\n",
       "      <td>2406</td>\n",
       "      <td>553</td>\n",
       "      <td>0</td>\n",
       "      <td>3127</td>\n",
       "      <td>10294</td>\n",
       "      <td>17332.0</td>\n",
       "    </tr>\n",
       "    <tr>\n",
       "      <th>Camden</th>\n",
       "      <td>6</td>\n",
       "      <td>1140</td>\n",
       "      <td>22</td>\n",
       "      <td>819</td>\n",
       "      <td>65</td>\n",
       "      <td>0</td>\n",
       "      <td>9716</td>\n",
       "      <td>11768.0</td>\n",
       "    </tr>\n",
       "    <tr>\n",
       "      <th>City of London</th>\n",
       "      <td>1</td>\n",
       "      <td>20</td>\n",
       "      <td>3</td>\n",
       "      <td>13</td>\n",
       "      <td>7</td>\n",
       "      <td>328</td>\n",
       "      <td>0</td>\n",
       "      <td>372.0</td>\n",
       "    </tr>\n",
       "    <tr>\n",
       "      <th>All</th>\n",
       "      <td>674</td>\n",
       "      <td>8123</td>\n",
       "      <td>3389</td>\n",
       "      <td>7356</td>\n",
       "      <td>5265</td>\n",
       "      <td>28270</td>\n",
       "      <td>40725</td>\n",
       "      <td>93802.0</td>\n",
       "    </tr>\n",
       "  </tbody>\n",
       "</table>\n",
       "</div>"
      ],
      "text/plain": [
       "Dest                  Barking and Dagenham  Barnet  Bexley  Brent  Bromley  \\\n",
       "Orig                                                                         \n",
       "Barking and Dagenham                     0     309     849    135      420   \n",
       "Barnet                                  23       0      72   5533      194   \n",
       "Bexley                                 500     561       0    303     4454   \n",
       "Brent                                   10    5275      37      0      125   \n",
       "Bromley                                134     818    2406    553        0   \n",
       "Camden                                   6    1140      22    819       65   \n",
       "City of London                           1      20       3     13        7   \n",
       "All                                    674    8123    3389   7356     5265   \n",
       "\n",
       "Dest                  Camden  City of London      All  \n",
       "Orig                                                   \n",
       "Barking and Dagenham     969            2993   5675.0  \n",
       "Barnet                 12970            6669  25461.0  \n",
       "Bexley                  1991            6877  14686.0  \n",
       "Brent                   8885            4176  18508.0  \n",
       "Bromley                 3127           10294  17332.0  \n",
       "Camden                     0            9716  11768.0  \n",
       "City of London           328               0    372.0  \n",
       "All                    28270           40725  93802.0  "
      ]
     },
     "execution_count": 19,
     "metadata": {},
     "output_type": "execute_result"
    }
   ],
   "source": [
    "\n",
    "# Use the beta we got from the inverse power model\n",
    "beta = -doubSim.params[-1]\n",
    "# Get the balancing factors.\n",
    "cdatasub = balance_doubly_constrained(cdatasub,'OrigCodeNew','DestCodeNew','O_i','D_j','Dist',-beta,'power')\n",
    "\n",
    "# Now predict the model again using the new Ai and Dj fields.\n",
    "cdatasub['SIM_est_pow'] = np.round(cdatasub['O_i'] * cdatasub['Ai_new'] * cdatasub['D_j'] * cdatasub['Bj_new'] * \n",
    "                                   np.exp(np.log(cdatasub['Dist'])*-beta))\n",
    "# Check out the matrix\n",
    "pd.pivot_table(cdatasub,values='SIM_est_pow',index ='Orig',columns='Dest',fill_value=0,aggfunc=sum,margins=True)"
   ]
  },
  {
   "cell_type": "code",
   "execution_count": 20,
   "metadata": {},
   "outputs": [
    {
     "name": "stdout",
     "output_type": "stream",
     "text": [
      "Iteration: 1\n",
      "Iteration: 2\n",
      "Iteration: 3\n",
      "Iteration: 4\n",
      "Iteration: 5\n",
      "Iteration: 6\n"
     ]
    },
    {
     "data": {
      "text/html": [
       "<div>\n",
       "<style scoped>\n",
       "    .dataframe tbody tr th:only-of-type {\n",
       "        vertical-align: middle;\n",
       "    }\n",
       "\n",
       "    .dataframe tbody tr th {\n",
       "        vertical-align: top;\n",
       "    }\n",
       "\n",
       "    .dataframe thead th {\n",
       "        text-align: right;\n",
       "    }\n",
       "</style>\n",
       "<table border=\"1\" class=\"dataframe\">\n",
       "  <thead>\n",
       "    <tr style=\"text-align: right;\">\n",
       "      <th>Dest</th>\n",
       "      <th>Barking and Dagenham</th>\n",
       "      <th>Barnet</th>\n",
       "      <th>Bexley</th>\n",
       "      <th>Brent</th>\n",
       "      <th>Bromley</th>\n",
       "      <th>Camden</th>\n",
       "      <th>City of London</th>\n",
       "      <th>All</th>\n",
       "    </tr>\n",
       "    <tr>\n",
       "      <th>Orig</th>\n",
       "      <th></th>\n",
       "      <th></th>\n",
       "      <th></th>\n",
       "      <th></th>\n",
       "      <th></th>\n",
       "      <th></th>\n",
       "      <th></th>\n",
       "      <th></th>\n",
       "    </tr>\n",
       "  </thead>\n",
       "  <tbody>\n",
       "    <tr>\n",
       "      <th>Barking and Dagenham</th>\n",
       "      <td>0</td>\n",
       "      <td>261</td>\n",
       "      <td>713</td>\n",
       "      <td>98</td>\n",
       "      <td>387</td>\n",
       "      <td>1110</td>\n",
       "      <td>3106</td>\n",
       "      <td>5675.0</td>\n",
       "    </tr>\n",
       "    <tr>\n",
       "      <th>Barnet</th>\n",
       "      <td>17</td>\n",
       "      <td>0</td>\n",
       "      <td>31</td>\n",
       "      <td>5274</td>\n",
       "      <td>66</td>\n",
       "      <td>13108</td>\n",
       "      <td>6966</td>\n",
       "      <td>25462.0</td>\n",
       "    </tr>\n",
       "    <tr>\n",
       "      <th>Bexley</th>\n",
       "      <td>490</td>\n",
       "      <td>324</td>\n",
       "      <td>0</td>\n",
       "      <td>178</td>\n",
       "      <td>4664</td>\n",
       "      <td>1986</td>\n",
       "      <td>7043</td>\n",
       "      <td>14685.0</td>\n",
       "    </tr>\n",
       "    <tr>\n",
       "      <th>Brent</th>\n",
       "      <td>6</td>\n",
       "      <td>5052</td>\n",
       "      <td>16</td>\n",
       "      <td>0</td>\n",
       "      <td>57</td>\n",
       "      <td>8719</td>\n",
       "      <td>4658</td>\n",
       "      <td>18508.0</td>\n",
       "    </tr>\n",
       "    <tr>\n",
       "      <th>Bromley</th>\n",
       "      <td>148</td>\n",
       "      <td>392</td>\n",
       "      <td>2597</td>\n",
       "      <td>353</td>\n",
       "      <td>0</td>\n",
       "      <td>3057</td>\n",
       "      <td>10784</td>\n",
       "      <td>17331.0</td>\n",
       "    </tr>\n",
       "    <tr>\n",
       "      <th>Camden</th>\n",
       "      <td>11</td>\n",
       "      <td>2054</td>\n",
       "      <td>29</td>\n",
       "      <td>1426</td>\n",
       "      <td>81</td>\n",
       "      <td>0</td>\n",
       "      <td>8168</td>\n",
       "      <td>11769.0</td>\n",
       "    </tr>\n",
       "    <tr>\n",
       "      <th>City of London</th>\n",
       "      <td>1</td>\n",
       "      <td>39</td>\n",
       "      <td>4</td>\n",
       "      <td>27</td>\n",
       "      <td>10</td>\n",
       "      <td>290</td>\n",
       "      <td>0</td>\n",
       "      <td>371.0</td>\n",
       "    </tr>\n",
       "    <tr>\n",
       "      <th>All</th>\n",
       "      <td>673</td>\n",
       "      <td>8122</td>\n",
       "      <td>3390</td>\n",
       "      <td>7356</td>\n",
       "      <td>5265</td>\n",
       "      <td>28270</td>\n",
       "      <td>40725</td>\n",
       "      <td>93801.0</td>\n",
       "    </tr>\n",
       "  </tbody>\n",
       "</table>\n",
       "</div>"
      ],
      "text/plain": [
       "Dest                  Barking and Dagenham  Barnet  Bexley  Brent  Bromley  \\\n",
       "Orig                                                                         \n",
       "Barking and Dagenham                     0     261     713     98      387   \n",
       "Barnet                                  17       0      31   5274       66   \n",
       "Bexley                                 490     324       0    178     4664   \n",
       "Brent                                    6    5052      16      0       57   \n",
       "Bromley                                148     392    2597    353        0   \n",
       "Camden                                  11    2054      29   1426       81   \n",
       "City of London                           1      39       4     27       10   \n",
       "All                                    673    8122    3390   7356     5265   \n",
       "\n",
       "Dest                  Camden  City of London      All  \n",
       "Orig                                                   \n",
       "Barking and Dagenham    1110            3106   5675.0  \n",
       "Barnet                 13108            6966  25462.0  \n",
       "Bexley                  1986            7043  14685.0  \n",
       "Brent                   8719            4658  18508.0  \n",
       "Bromley                 3057           10784  17331.0  \n",
       "Camden                     0            8168  11769.0  \n",
       "City of London           290               0    371.0  \n",
       "All                    28270           40725  93801.0  "
      ]
     },
     "execution_count": 20,
     "metadata": {},
     "output_type": "execute_result"
    }
   ],
   "source": [
    "# Use the beta we got from the negative exponential model\n",
    "beta = -doubsim1.params[-1]\n",
    "# Get the balancing factors. NB Setting of new field names for Ai and Bj.\n",
    "cdatasub = balance_doubly_constrained(cdatasub,'OrigCodeNew','DestCodeNew','O_i','D_j','Dist',-beta,'exponential','Ai_exp','Bj_exp')\n",
    "\n",
    "# Now predict the model again using the new Ai and Dj fields.\n",
    "cdatasub['SIM_est_exp'] = np.round(cdatasub['O_i'] * cdatasub['Ai_exp'] * cdatasub['D_j'] * cdatasub['Bj_exp'] * \n",
    "                                   np.exp(cdatasub['Dist']*-beta))\n",
    "# Check out the matrix\n",
    "pd.pivot_table(cdatasub,values='SIM_est_exp',index ='Orig',columns='Dest',fill_value=0,aggfunc=sum,margins=True)"
   ]
  },
  {
   "cell_type": "markdown",
   "metadata": {},
   "source": [
    "## 5. Conclusions, further notes and ideas for additional activities\n",
    "Hopefully you have now seen how it is extremely straight-forward to run and calibrate Wilson’s full family of Spatial Interaction Models in Python using GLM and Poisson Regression.\n",
    "\n",
    "### 5.1 Some Further Notes\n",
    "Now might be the time to mention that despite everything I’ve shown you, there has been some discussion in the literature as to whether the Poisson Model is actually a misspecification, especially for modelling migration flows. If you have the stomach for it, [this paper by Congdon goes into a lot of detail.](http://journals.sagepub.com/doi/abs/10.1068/a251481)\n",
    "\n",
    "The issue is a thing called ‘overdispersion’ which, translated, essentially relates to the model not being able to capture all of the things that could be explaining the flows in the independent variables that are supplied to the model. The details are tedious and only really intelligible to those with a statistics background. If you want a starter, [try here](https://en.wikipedia.org/wiki/Overdispersion), but in practical terms, we can get around this problem by fitting a very similar sort of regression model called the negative binomial regression model.\n",
    "\n",
    "If you wish, you can read up and experiment with this model - you can fit it in exactly the same way as the poisson glm model but using: family = sm.families.NegativeBinomial(alpha) when you call the statsmodel glm function. The negative binomial model has an extra parameter - alpha - in the model for overdispersion with a default of 1. If you do try this, you will almost certainly discover that your results barely change - but hell, you might keep a pedantic reviewer at bay if you submit this to a journal (not that I’m speaking from experience or anything).\n",
    "\n",
    "### And some more comments\n",
    "\n",
    "Another thing to note is that the example we used here had quite neat data. You will almost certainly run into problems if you have sparse data or predictors with 0s in them. If this happens, then you might need to either drop some rows in your data (if populated with 0s) or substitute 0s for very small numbers, much less than 1, but greater than 0 (this is because you can’t take the log of 0). [Taylor Oshan's SpInt](http://openjournals.wu.ac.at/region/paper_175/175.html) implementation in Python uses a special Poisson regression approach that better handles sparse data structures.\n",
    "\n",
    "And another thing to note is that our flow data and our predictors were all in and around the same order or magnitude. If you suddenly get data that (such as population masses at origins and destinations) that are an order of magnitude different (i.e. populations about ten times larger in different locations) then the model estimates might be biased. Fortunately, there are packages available to help us with these problems as well.\n",
    "\n",
    "### 5.2 Further Activities\n",
    "1. Testing these models out on the whole of London and for different years\n",
    "    - You’ve been playing around with just a small 7 borough sample, why not try the full London system. +You can also try and download some similar data from the 2011 Census from [Wicid](http://wicid.ukdataservice.ac.uk/) - see if using Oi and Dj totals and the parameters you calibrated on the 2001 data, whether you can get reasonable estimates of the 2011 flows. +How have the model parameters changed between 2001 and 2011 - what does this mean\n",
    "2. Visualising your flow estimates\n",
    "    - try using the methods  last practical to visualise some of your flow estimates or flow residuals…"
   ]
  },
  {
   "cell_type": "markdown",
   "metadata": {},
   "source": [
    "## Challenge to complete\n",
    "\n",
    "The challenge to complete is to run every possible model (unconstrained, production constrained, attraction constrained and doubly constrained) with each distance decay function (power, exponential) on the total dataset and to extract each models paramaters, along with each models performance metrics ($R2$, $RMSE$). For this, you will need to go back to the original workshop to be able to extract the full `cdata` dataset which will be used here (push the data to a csv and then read it in here).\n",
    "\n",
    "At this point you should be able to cobble togther rather basic code to implement each model and then extract their performance and paramaters. To this end, you will not be given any comment hints. You can do this manually or you could create a loop to iterate over each model to save on code, this is up to you. Good luck!"
   ]
  },
  {
   "cell_type": "markdown",
   "metadata": {},
   "source": [
    "Think about: \n",
    "- What do these paramaters mean?\n",
    "- Why does one type of distance decay fit the data better than another?\n",
    "- Would this change with scale or different data?\n",
    "- How do these results compare to the subset of data?\n",
    "- What other data could we use in these models to either improve performance or improve their usefulness?\n"
   ]
  },
  {
   "cell_type": "code",
   "execution_count": 21,
   "metadata": {},
   "outputs": [],
   "source": [
    "cdata = pd.read_csv('Data/cdata_full.csv')"
   ]
  },
  {
   "cell_type": "code",
   "execution_count": 22,
   "metadata": {},
   "outputs": [],
   "source": [
    "cdata = cdata[cdata[\"OrigCode\"] != cdata[\"DestCode\"]]\n",
    "\n",
    "#we now want to re-order so that OrigCodeNEw, DestCodeNew and TotalNoIntra are the first three columns\n",
    "beg = [\"OrigCodeNew\", \"DestCodeNew\", \"TotalNoIntra\"] \n",
    "cols = beg + [col for col in cdatasub.columns.tolist() if col not in beg]\n",
    "#re index the columns\n",
    "cdata = cdata.reindex(columns = cols)"
   ]
  },
  {
   "cell_type": "code",
   "execution_count": 66,
   "metadata": {},
   "outputs": [],
   "source": [
    "cdata.reset_index(inplace = True)"
   ]
  },
  {
   "cell_type": "code",
   "execution_count": 67,
   "metadata": {},
   "outputs": [],
   "source": [
    "#take the variables and produce logarithms of them\n",
    "x_variables = [\"Oi1_origpop\", \"Dj2_destsal\", \"Dist\"]\n",
    "log_x_vars = []\n",
    "for x in x_variables:\n",
    "    cdata[f\"log_{x}\"] = np.log(cdata[x])\n",
    "    log_x_vars.append(f\"log_{x}\")\n",
    "\n",
    "#create the formula\n",
    "formula = 'Total ~ log_Oi1_origpop + log_Dj2_destsal + log_Dist'\n",
    "\n",
    "#run the regression\n",
    "uncosim_power = smf.glm(formula = formula, \n",
    "                  data=cdata, \n",
    "                  family=sm.families.Poisson()).fit()"
   ]
  },
  {
   "cell_type": "code",
   "execution_count": 68,
   "metadata": {},
   "outputs": [
    {
     "name": "stdout",
     "output_type": "stream",
     "text": [
      "                 Generalized Linear Model Regression Results                  \n",
      "==============================================================================\n",
      "Dep. Variable:                  Total   No. Observations:                 1056\n",
      "Model:                            GLM   Df Residuals:                     1052\n",
      "Model Family:                 Poisson   Df Model:                            3\n",
      "Link Function:                    Log   Scale:                          1.0000\n",
      "Method:                          IRLS   Log-Likelihood:            -7.1207e+05\n",
      "Date:                Thu, 02 Feb 2023   Deviance:                   1.4157e+06\n",
      "Time:                        17:28:51   Pearson chi2:                 1.95e+06\n",
      "No. Iterations:                     6   Pseudo R-squ. (CS):              1.000\n",
      "Covariance Type:            nonrobust                                         \n",
      "===================================================================================\n",
      "                      coef    std err          z      P>|z|      [0.025      0.975]\n",
      "-----------------------------------------------------------------------------------\n",
      "Intercept         -12.4115      0.047   -261.901      0.000     -12.504     -12.319\n",
      "log_Oi1_origpop     1.6195      0.003    517.797      0.000       1.613       1.626\n",
      "log_Dj2_destsal     1.5441      0.003    518.167      0.000       1.538       1.550\n",
      "log_Dist           -1.5002      0.001  -1179.160      0.000      -1.503      -1.498\n",
      "===================================================================================\n"
     ]
    }
   ],
   "source": [
    "#extract the summary of the constrained model\n",
    "print(uncosim_power.summary())"
   ]
  },
  {
   "cell_type": "code",
   "execution_count": 69,
   "metadata": {},
   "outputs": [],
   "source": [
    "#print out the new values\n",
    "predictions_power = uncosim_power.get_prediction()\n",
    "predictions_summary_frame = predictions_power.summary_frame()\n",
    "cdata[\"fitted_unconsim_power\"] = predictions_summary_frame[\"mean\"]"
   ]
  },
  {
   "cell_type": "code",
   "execution_count": 70,
   "metadata": {},
   "outputs": [
    {
     "data": {
      "text/plain": [
       "1800420"
      ]
     },
     "execution_count": 70,
     "metadata": {},
     "output_type": "execute_result"
    }
   ],
   "source": [
    "#add the results back to the dataframe\n",
    "#round the numbers so that we don't get a half of a person\n",
    "cdata[\"fitted_unconsim_power\"] = round(cdata[\"fitted_unconsim_power\"], 0)\n",
    "#convert to integers\n",
    "cdata[\"fitted_unconsim_power\"] = cdata[\"fitted_unconsim_power\"].astype(int)\n",
    "#check that the sum of these estimates make sense\n",
    "sum(cdata[\"fitted_unconsim_power\"])"
   ]
  },
  {
   "cell_type": "code",
   "execution_count": 71,
   "metadata": {},
   "outputs": [
    {
     "data": {
      "text/plain": [
       "0.3857985171158118"
      ]
     },
     "execution_count": 71,
     "metadata": {},
     "output_type": "execute_result"
    }
   ],
   "source": [
    "CalcRSqaured(cdata[\"Total\"], cdata[\"fitted_unconsim_power\"])"
   ]
  },
  {
   "cell_type": "code",
   "execution_count": 72,
   "metadata": {},
   "outputs": [
    {
     "data": {
      "text/plain": [
       "2330.267"
      ]
     },
     "execution_count": 72,
     "metadata": {},
     "output_type": "execute_result"
    }
   ],
   "source": [
    "CalcRMSE(cdata[\"Total\"], cdata[\"fitted_unconsim_power\"])"
   ]
  },
  {
   "cell_type": "code",
   "execution_count": 73,
   "metadata": {},
   "outputs": [],
   "source": [
    "#create the formula\n",
    "formula_exp = 'Total ~ log_Oi1_origpop + log_Dj2_destsal + Dist - 1'\n",
    "\n",
    "#run the regression\n",
    "uncosim_exp = smf.glm(formula = formula_exp, \n",
    "                  data=cdata, \n",
    "                  family=sm.families.Poisson()).fit()"
   ]
  },
  {
   "cell_type": "code",
   "execution_count": 74,
   "metadata": {},
   "outputs": [
    {
     "name": "stdout",
     "output_type": "stream",
     "text": [
      "                 Generalized Linear Model Regression Results                  \n",
      "==============================================================================\n",
      "Dep. Variable:                  Total   No. Observations:                 1056\n",
      "Model:                            GLM   Df Residuals:                     1053\n",
      "Model Family:                 Poisson   Df Model:                            2\n",
      "Link Function:                    Log   Scale:                          1.0000\n",
      "Method:                          IRLS   Log-Likelihood:            -7.7849e+05\n",
      "Date:                Thu, 02 Feb 2023   Deviance:                   1.5486e+06\n",
      "Time:                        17:29:09   Pearson chi2:                 2.32e+06\n",
      "No. Iterations:                     6   Pseudo R-squ. (CS):              1.000\n",
      "Covariance Type:            nonrobust                                         \n",
      "===================================================================================\n",
      "                      coef    std err          z      P>|z|      [0.025      0.975]\n",
      "-----------------------------------------------------------------------------------\n",
      "log_Oi1_origpop     0.5627      0.002    310.579      0.000       0.559       0.566\n",
      "log_Dj2_destsal     0.3030      0.002    145.757      0.000       0.299       0.307\n",
      "Dist               -0.0001   1.37e-07  -1073.304      0.000      -0.000      -0.000\n",
      "===================================================================================\n"
     ]
    }
   ],
   "source": [
    "print(uncosim_exp.summary())"
   ]
  },
  {
   "cell_type": "code",
   "execution_count": 75,
   "metadata": {
    "tags": []
   },
   "outputs": [],
   "source": [
    "#print out the new values\n",
    "predictions_exp = uncosim_exp.get_prediction()\n",
    "predictions_summary_frame_unconsim_exp = predictions_exp.summary_frame()\n",
    "cdata[\"fitted_unconsim_exp\"] = predictions_summary_frame_unconsim_exp[\"mean\"]"
   ]
  },
  {
   "cell_type": "code",
   "execution_count": 76,
   "metadata": {
    "tags": []
   },
   "outputs": [
    {
     "data": {
      "text/plain": [
       "1812363"
      ]
     },
     "execution_count": 76,
     "metadata": {},
     "output_type": "execute_result"
    }
   ],
   "source": [
    "# add the results back to the dataframe\n",
    "# round the numbers so that we don't get a half of a person\n",
    "cdata[\"fitted_unconsim_exp\"] = round(cdata[\"fitted_unconsim_exp\"], 0)\n",
    "# convert to integers\n",
    "cdata[\"fitted_unconsim_exp\"] = cdata[\"fitted_unconsim_exp\"].astype(int)\n",
    "# check that the sum of these estimates make sense\n",
    "sum(cdata[\"fitted_unconsim_exp\"])"
   ]
  },
  {
   "cell_type": "code",
   "execution_count": 77,
   "metadata": {},
   "outputs": [
    {
     "data": {
      "text/plain": [
       "0.41749913243723247"
      ]
     },
     "execution_count": 77,
     "metadata": {},
     "output_type": "execute_result"
    }
   ],
   "source": [
    "CalcRSqaured(cdata[\"Total\"], cdata[\"fitted_unconsim_exp\"])"
   ]
  },
  {
   "cell_type": "code",
   "execution_count": 78,
   "metadata": {},
   "outputs": [
    {
     "data": {
      "text/plain": [
       "2208.262"
      ]
     },
     "execution_count": 78,
     "metadata": {},
     "output_type": "execute_result"
    }
   ],
   "source": [
    "CalcRMSE(cdata[\"Total\"], cdata[\"fitted_unconsim_exp\"])"
   ]
  },
  {
   "cell_type": "code",
   "execution_count": 79,
   "metadata": {},
   "outputs": [
    {
     "name": "stdout",
     "output_type": "stream",
     "text": [
      "                 Generalized Linear Model Regression Results                  \n",
      "==============================================================================\n",
      "Dep. Variable:                  Total   No. Observations:                 1056\n",
      "Model:                            GLM   Df Residuals:                     1021\n",
      "Model Family:                 Poisson   Df Model:                           34\n",
      "Link Function:                    Log   Scale:                          1.0000\n",
      "Method:                          IRLS   Log-Likelihood:            -3.2293e+05\n",
      "Date:                Thu, 02 Feb 2023   Deviance:                   6.3745e+05\n",
      "Time:                        17:29:36   Pearson chi2:                 7.52e+05\n",
      "No. Iterations:                     6   Pseudo R-squ. (CS):              1.000\n",
      "Covariance Type:            nonrobust                                         \n",
      "==========================================================================================\n",
      "                             coef    std err          z      P>|z|      [0.025      0.975]\n",
      "------------------------------------------------------------------------------------------\n",
      "DestCodeNew[E09000001]     2.1919      0.034     64.019      0.000       2.125       2.259\n",
      "DestCodeNew[E09000002]     0.3880      0.035     11.040      0.000       0.319       0.457\n",
      "DestCodeNew[E09000003]     0.8987      0.035     25.845      0.000       0.831       0.967\n",
      "DestCodeNew[E09000004]     0.1427      0.036      4.009      0.000       0.073       0.212\n",
      "DestCodeNew[E09000005]     0.7984      0.035     22.907      0.000       0.730       0.867\n",
      "DestCodeNew[E09000006]     0.9933      0.035     28.395      0.000       0.925       1.062\n",
      "DestCodeNew[E09000007]     1.9340      0.034     56.335      0.000       1.867       2.001\n",
      "DestCodeNew[E09000008]     1.0325      0.035     29.596      0.000       0.964       1.101\n",
      "DestCodeNew[E09000009]     1.0830      0.035     31.212      0.000       1.015       1.151\n",
      "DestCodeNew[E09000010]     0.5344      0.035     15.208      0.000       0.466       0.603\n",
      "DestCodeNew[E09000011]     0.4478      0.035     12.803      0.000       0.379       0.516\n",
      "DestCodeNew[E09000012]     0.6395      0.035     18.505      0.000       0.572       0.707\n",
      "DestCodeNew[E09000013]     0.9709      0.035     28.115      0.000       0.903       1.039\n",
      "DestCodeNew[E09000014]     0.4595      0.035     13.186      0.000       0.391       0.528\n",
      "DestCodeNew[E09000015]     0.4387      0.035     12.409      0.000       0.369       0.508\n",
      "DestCodeNew[E09000016]     0.5849      0.035     16.542      0.000       0.516       0.654\n",
      "DestCodeNew[E09000017]     1.6772      0.035     48.225      0.000       1.609       1.745\n",
      "DestCodeNew[E09000018]     1.1046      0.035     31.745      0.000       1.036       1.173\n",
      "DestCodeNew[E09000019]     1.3605      0.034     39.594      0.000       1.293       1.428\n",
      "DestCodeNew[E09000020]     0.8968      0.034     26.001      0.000       0.829       0.964\n",
      "DestCodeNew[E09000021]     0.3471      0.035      9.847      0.000       0.278       0.416\n",
      "DestCodeNew[E09000022]     1.1062      0.035     31.960      0.000       1.038       1.174\n",
      "DestCodeNew[E09000023]     0.3872      0.035     11.075      0.000       0.319       0.456\n",
      "DestCodeNew[E09000024]     0.4088      0.035     11.668      0.000       0.340       0.478\n",
      "DestCodeNew[E09000025]     0.5864      0.035     16.875      0.000       0.518       0.655\n",
      "DestCodeNew[E09000026]     0.6052      0.035     17.347      0.000       0.537       0.674\n",
      "DestCodeNew[E09000027]     0.4796      0.035     13.702      0.000       0.411       0.548\n",
      "DestCodeNew[E09000028]     1.3420      0.035     38.864      0.000       1.274       1.410\n",
      "DestCodeNew[E09000029]     0.2340      0.035      6.612      0.000       0.165       0.303\n",
      "DestCodeNew[E09000030]     1.5906      0.034     46.283      0.000       1.523       1.658\n",
      "DestCodeNew[E09000031]     0.2132      0.035      6.076      0.000       0.144       0.282\n",
      "DestCodeNew[E09000032]     0.9237      0.035     26.737      0.000       0.856       0.991\n",
      "DestCodeNew[E09000033]     2.7107      0.034     79.148      0.000       2.644       2.778\n",
      "log_Oi1_origpop            1.6604      0.003    525.049      0.000       1.654       1.667\n",
      "log_Dist                  -1.3713      0.001   -993.222      0.000      -1.374      -1.369\n",
      "==========================================================================================\n"
     ]
    }
   ],
   "source": [
    "#create the formula (the \"-1\" indicates no intercept in the regression model).\n",
    "attr_form = 'Total ~ DestCodeNew + log_Oi1_origpop + log_Dist-1'\n",
    "#run a production constrained sim\n",
    "attrSim = smf.glm(formula = attr_form, data=cdata, family=sm.families.Poisson()).fit()\n",
    "#let's have a look at it's summary\n",
    "print(attrSim.summary())"
   ]
  },
  {
   "cell_type": "code",
   "execution_count": 80,
   "metadata": {},
   "outputs": [],
   "source": [
    "#get the predictions\n",
    "predictions_attrSim = attrSim.get_prediction(cdata[[\"DestCodeNew\", \"log_Oi1_origpop\", \"log_Dist\"]])\n",
    "predictions_summary_frame = predictions_attrSim.summary_frame()\n",
    "cdata[\"attrsimFitted\"] = round(predictions_summary_frame[\"mean\"],0)"
   ]
  },
  {
   "cell_type": "code",
   "execution_count": 82,
   "metadata": {},
   "outputs": [
    {
     "data": {
      "text/plain": [
       "0.71353347418321"
      ]
     },
     "execution_count": 82,
     "metadata": {},
     "output_type": "execute_result"
    }
   ],
   "source": [
    "CalcRSqaured(cdata[\"Total\"], cdata[\"attrsimFitted\"])"
   ]
  },
  {
   "cell_type": "code",
   "execution_count": 84,
   "metadata": {},
   "outputs": [
    {
     "data": {
      "text/plain": [
       "2208.262"
      ]
     },
     "execution_count": 84,
     "metadata": {},
     "output_type": "execute_result"
    }
   ],
   "source": [
    "CalcRMSE(cdata[\"Total\"], cdata[\"fitted_unconsim_exp\"])"
   ]
  },
  {
   "cell_type": "code",
   "execution_count": 85,
   "metadata": {},
   "outputs": [
    {
     "name": "stdout",
     "output_type": "stream",
     "text": [
      "                 Generalized Linear Model Regression Results                  \n",
      "==============================================================================\n",
      "Dep. Variable:                  Total   No. Observations:                 1056\n",
      "Model:                            GLM   Df Residuals:                     1021\n",
      "Model Family:                 Poisson   Df Model:                           34\n",
      "Link Function:                    Log   Scale:                          1.0000\n",
      "Method:                          IRLS   Log-Likelihood:            -2.5503e+05\n",
      "Date:                Thu, 02 Feb 2023   Deviance:                   5.0165e+05\n",
      "Time:                        17:32:25   Pearson chi2:                 5.96e+05\n",
      "No. Iterations:                     6   Pseudo R-squ. (CS):              1.000\n",
      "Covariance Type:            nonrobust                                         \n",
      "==========================================================================================\n",
      "                             coef    std err          z      P>|z|      [0.025      0.975]\n",
      "------------------------------------------------------------------------------------------\n",
      "DestCodeNew[E09000001]    -7.2878      0.035   -210.062      0.000      -7.356      -7.220\n",
      "DestCodeNew[E09000002]    -8.9999      0.035   -254.113      0.000      -9.069      -8.930\n",
      "DestCodeNew[E09000003]    -8.5757      0.035   -244.559      0.000      -8.644      -8.507\n",
      "DestCodeNew[E09000004]    -9.2209      0.036   -257.395      0.000      -9.291      -9.151\n",
      "DestCodeNew[E09000005]    -8.7035      0.035   -247.211      0.000      -8.772      -8.634\n",
      "DestCodeNew[E09000006]    -8.3486      0.035   -236.761      0.000      -8.418      -8.279\n",
      "DestCodeNew[E09000007]    -7.5359      0.035   -216.668      0.000      -7.604      -7.468\n",
      "DestCodeNew[E09000008]    -8.3767      0.035   -237.864      0.000      -8.446      -8.308\n",
      "DestCodeNew[E09000009]    -8.3922      0.035   -239.526      0.000      -8.461      -8.324\n",
      "DestCodeNew[E09000010]    -8.8585      0.035   -250.304      0.000      -8.928      -8.789\n",
      "DestCodeNew[E09000011]    -9.0261      0.035   -255.702      0.000      -9.095      -8.957\n",
      "DestCodeNew[E09000012]    -8.8351      0.035   -252.570      0.000      -8.904      -8.767\n",
      "DestCodeNew[E09000013]    -8.4520      0.035   -241.278      0.000      -8.521      -8.383\n",
      "DestCodeNew[E09000014]    -9.0266      0.035   -256.229      0.000      -9.096      -8.958\n",
      "DestCodeNew[E09000015]    -8.9712      0.036   -251.128      0.000      -9.041      -8.901\n",
      "DestCodeNew[E09000016]    -8.5736      0.035   -242.093      0.000      -8.643      -8.504\n",
      "DestCodeNew[E09000017]    -7.6229      0.035   -217.289      0.000      -7.692      -7.554\n",
      "DestCodeNew[E09000018]    -8.3017      0.035   -236.298      0.000      -8.371      -8.233\n",
      "DestCodeNew[E09000019]    -8.0831      0.035   -232.187      0.000      -8.151      -8.015\n",
      "DestCodeNew[E09000020]    -8.4536      0.035   -241.517      0.000      -8.522      -8.385\n",
      "DestCodeNew[E09000021]    -9.0673      0.036   -254.999      0.000      -9.137      -8.998\n",
      "DestCodeNew[E09000022]    -8.3726      0.035   -239.404      0.000      -8.441      -8.304\n",
      "DestCodeNew[E09000023]    -9.1195      0.035   -258.191      0.000      -9.189      -9.050\n",
      "DestCodeNew[E09000024]    -9.0474      0.035   -255.662      0.000      -9.117      -8.978\n",
      "DestCodeNew[E09000025]    -8.9101      0.035   -254.124      0.000      -8.979      -8.841\n",
      "DestCodeNew[E09000026]    -8.8023      0.035   -250.887      0.000      -8.871      -8.734\n",
      "DestCodeNew[E09000027]    -8.9747      0.035   -253.902      0.000      -9.044      -8.905\n",
      "DestCodeNew[E09000028]    -8.1370      0.035   -233.170      0.000      -8.205      -8.069\n",
      "DestCodeNew[E09000029]    -9.1727      0.036   -256.588      0.000      -9.243      -9.103\n",
      "DestCodeNew[E09000030]    -7.9297      0.035   -228.169      0.000      -7.998      -7.862\n",
      "DestCodeNew[E09000031]    -9.2585      0.035   -261.760      0.000      -9.328      -9.189\n",
      "DestCodeNew[E09000032]    -8.5687      0.035   -245.379      0.000      -8.637      -8.500\n",
      "DestCodeNew[E09000033]    -6.7322      0.035   -193.827      0.000      -6.800      -6.664\n",
      "log_Oi1_origpop            1.5224      0.003    503.164      0.000       1.516       1.528\n",
      "Dist                      -0.0001   1.44e-07   -944.744      0.000      -0.000      -0.000\n",
      "==========================================================================================\n"
     ]
    }
   ],
   "source": [
    "#create the formula (the \"-1\" indicates no intercept in the regression model).\n",
    "attr_form_exp = 'Total ~ DestCodeNew + log_Oi1_origpop + Dist-1'\n",
    "#run a production constrained sim\n",
    "attrSim_exp = smf.glm(formula = attr_form_exp, data=cdata, family=sm.families.Poisson()).fit()\n",
    "#let's have a look at it's summary\n",
    "print(attrSim_exp.summary())"
   ]
  },
  {
   "cell_type": "code",
   "execution_count": 88,
   "metadata": {},
   "outputs": [],
   "source": [
    "#get the predictions\n",
    "predictions_attrSim_exp = attrSim_exp.get_prediction(cdata[[\"DestCodeNew\", \"log_Oi1_origpop\", \"Dist\"]])\n",
    "predictions_summary_frame_exp = predictions_attrSim_exp.summary_frame()\n",
    "cdata[\"attrsimFitted_exp\"] = round(predictions_summary_frame_exp[\"mean\"],0)"
   ]
  },
  {
   "cell_type": "code",
   "execution_count": 89,
   "metadata": {},
   "outputs": [
    {
     "data": {
      "text/plain": [
       "0.8088582414613609"
      ]
     },
     "execution_count": 89,
     "metadata": {},
     "output_type": "execute_result"
    }
   ],
   "source": [
    "CalcRSqaured(cdata[\"Total\"], cdata[\"attrsimFitted_exp\"])"
   ]
  },
  {
   "cell_type": "code",
   "execution_count": 90,
   "metadata": {},
   "outputs": [
    {
     "data": {
      "text/plain": [
       "1305.961"
      ]
     },
     "execution_count": 90,
     "metadata": {},
     "output_type": "execute_result"
    }
   ],
   "source": [
    "CalcRMSE(cdata[\"Total\"], cdata[\"attrsimFitted_exp\"])"
   ]
  },
  {
   "cell_type": "code",
   "execution_count": 92,
   "metadata": {},
   "outputs": [
    {
     "name": "stdout",
     "output_type": "stream",
     "text": [
      "                 Generalized Linear Model Regression Results                  \n",
      "==============================================================================\n",
      "Dep. Variable:                  Total   No. Observations:                 1056\n",
      "Model:                            GLM   Df Residuals:                     1021\n",
      "Model Family:                 Poisson   Df Model:                           34\n",
      "Link Function:                    Log   Scale:                          1.0000\n",
      "Method:                          IRLS   Log-Likelihood:            -6.0178e+05\n",
      "Date:                Thu, 02 Feb 2023   Deviance:                   1.1951e+06\n",
      "Time:                        17:42:32   Pearson chi2:                 1.63e+06\n",
      "No. Iterations:                     8   Pseudo R-squ. (CS):              1.000\n",
      "Covariance Type:            nonrobust                                         \n",
      "==========================================================================================\n",
      "                             coef    std err          z      P>|z|      [0.025      0.975]\n",
      "------------------------------------------------------------------------------------------\n",
      "OrigCodeNew[E09000001]     3.6707      0.039     94.185      0.000       3.594       3.747\n",
      "OrigCodeNew[E09000002]     7.5765      0.033    229.894      0.000       7.512       7.641\n",
      "OrigCodeNew[E09000003]     8.1578      0.033    247.601      0.000       8.093       8.222\n",
      "OrigCodeNew[E09000004]     8.1063      0.033    245.586      0.000       8.042       8.171\n",
      "OrigCodeNew[E09000005]     7.7715      0.033    236.347      0.000       7.707       7.836\n",
      "OrigCodeNew[E09000006]     8.5680      0.033    258.696      0.000       8.503       8.633\n",
      "OrigCodeNew[E09000007]     6.7723      0.033    206.255      0.000       6.708       6.837\n",
      "OrigCodeNew[E09000008]     8.2611      0.033    250.287      0.000       8.196       8.326\n",
      "OrigCodeNew[E09000009]     8.0695      0.033    245.776      0.000       8.005       8.134\n",
      "OrigCodeNew[E09000010]     8.1067      0.033    245.338      0.000       8.042       8.171\n",
      "OrigCodeNew[E09000011]     7.6072      0.033    231.451      0.000       7.543       7.672\n",
      "OrigCodeNew[E09000012]     6.7942      0.033    206.552      0.000       6.730       6.859\n",
      "OrigCodeNew[E09000013]     6.5985      0.033    201.703      0.000       6.534       6.663\n",
      "OrigCodeNew[E09000014]     7.4614      0.033    227.564      0.000       7.397       7.526\n",
      "OrigCodeNew[E09000015]     8.0452      0.033    243.481      0.000       7.980       8.110\n",
      "OrigCodeNew[E09000016]     8.3504      0.033    252.420      0.000       8.286       8.415\n",
      "OrigCodeNew[E09000017]     8.0259      0.033    241.226      0.000       7.961       8.091\n",
      "OrigCodeNew[E09000018]     7.6401      0.033    231.599      0.000       7.575       7.705\n",
      "OrigCodeNew[E09000019]     6.5698      0.033    199.746      0.000       6.505       6.634\n",
      "OrigCodeNew[E09000020]     6.3916      0.033    196.481      0.000       6.328       6.455\n",
      "OrigCodeNew[E09000021]     7.3372      0.033    220.847      0.000       7.272       7.402\n",
      "OrigCodeNew[E09000022]     7.5824      0.033    231.315      0.000       7.518       7.647\n",
      "OrigCodeNew[E09000023]     7.7748      0.033    236.815      0.000       7.710       7.839\n",
      "OrigCodeNew[E09000024]     7.4982      0.033    228.248      0.000       7.434       7.563\n",
      "OrigCodeNew[E09000025]     7.3962      0.033    225.019      0.000       7.332       7.461\n",
      "OrigCodeNew[E09000026]     8.0199      0.033    244.342      0.000       7.956       8.084\n",
      "OrigCodeNew[E09000027]     7.5182      0.033    228.648      0.000       7.454       7.583\n",
      "OrigCodeNew[E09000028]     7.1256      0.033    216.356      0.000       7.061       7.190\n",
      "OrigCodeNew[E09000029]     7.5657      0.033    228.991      0.000       7.501       7.630\n",
      "OrigCodeNew[E09000030]     6.6332      0.033    200.223      0.000       6.568       6.698\n",
      "OrigCodeNew[E09000031]     7.6542      0.033    232.911      0.000       7.590       7.719\n",
      "OrigCodeNew[E09000032]     7.6860      0.033    234.918      0.000       7.622       7.750\n",
      "OrigCodeNew[E09000033]     6.2112      0.033    188.504      0.000       6.147       6.276\n",
      "log_Dj2_destsal            1.7159      0.003    581.632      0.000       1.710       1.722\n",
      "log_Dist                  -1.8160      0.002  -1199.331      0.000      -1.819      -1.813\n",
      "==========================================================================================\n"
     ]
    }
   ],
   "source": [
    "#create the formula (the \"-1\" indicates no intercept in the regression model).\n",
    "formula_prod = 'Total ~ OrigCodeNew + log_Dj2_destsal + log_Dist-1'\n",
    "#run a production constrained sim\n",
    "prodSim = smf.glm(formula = formula_prod, data=cdata, family=sm.families.Poisson()).fit() #prodsim = production constrained spatial int model\n",
    "#let's have a look at it's summary\n",
    "print(prodSim.summary())"
   ]
  },
  {
   "cell_type": "code",
   "execution_count": 93,
   "metadata": {},
   "outputs": [],
   "source": [
    "#get the predictions\n",
    "predictions_prodSim = prodSim.get_prediction(cdata[[\"OrigCodeNew\", \"log_Dj2_destsal\", \"log_Dist\"]])\n",
    "predictions_summary_frame_prod = predictions_prodSim.summary_frame()\n",
    "cdata[\"prodsimFitted\"] = round(predictions_summary_frame_prod[\"mean\"],0)"
   ]
  },
  {
   "cell_type": "code",
   "execution_count": 94,
   "metadata": {},
   "outputs": [
    {
     "data": {
      "text/plain": [
       "0.44127187735864876"
      ]
     },
     "execution_count": 94,
     "metadata": {},
     "output_type": "execute_result"
    }
   ],
   "source": [
    "CalcRSqaured(cdata[\"Total\"], cdata[\"prodsimFitted\"])"
   ]
  },
  {
   "cell_type": "code",
   "execution_count": 95,
   "metadata": {},
   "outputs": [
    {
     "data": {
      "text/plain": [
       "1305.961"
      ]
     },
     "execution_count": 95,
     "metadata": {},
     "output_type": "execute_result"
    }
   ],
   "source": [
    "CalcRMSE(cdata[\"Total\"], cdata[\"attrsimFitted_exp\"])"
   ]
  },
  {
   "cell_type": "code",
   "execution_count": 96,
   "metadata": {},
   "outputs": [
    {
     "name": "stdout",
     "output_type": "stream",
     "text": [
      "                 Generalized Linear Model Regression Results                  \n",
      "==============================================================================\n",
      "Dep. Variable:                  Total   No. Observations:                 1056\n",
      "Model:                            GLM   Df Residuals:                     1021\n",
      "Model Family:                 Poisson   Df Model:                           34\n",
      "Link Function:                    Log   Scale:                          1.0000\n",
      "Method:                          IRLS   Log-Likelihood:            -5.4733e+05\n",
      "Date:                Thu, 02 Feb 2023   Deviance:                   1.0863e+06\n",
      "Time:                        17:46:00   Pearson chi2:                 1.49e+06\n",
      "No. Iterations:                     8   Pseudo R-squ. (CS):              1.000\n",
      "Covariance Type:            nonrobust                                         \n",
      "==========================================================================================\n",
      "                             coef    std err          z      P>|z|      [0.025      0.975]\n",
      "------------------------------------------------------------------------------------------\n",
      "OrigCodeNew[E09000001]   -11.1972      0.036   -310.160      0.000     -11.268     -11.126\n",
      "OrigCodeNew[E09000002]    -7.3720      0.029   -253.565      0.000      -7.429      -7.315\n",
      "OrigCodeNew[E09000003]    -6.8990      0.029   -237.406      0.000      -6.956      -6.842\n",
      "OrigCodeNew[E09000004]    -6.8176      0.029   -235.147      0.000      -6.874      -6.761\n",
      "OrigCodeNew[E09000005]    -7.2932      0.029   -250.395      0.000      -7.350      -7.236\n",
      "OrigCodeNew[E09000006]    -6.3250      0.029   -218.126      0.000      -6.382      -6.268\n",
      "OrigCodeNew[E09000007]    -8.0719      0.029   -274.771      0.000      -8.129      -8.014\n",
      "OrigCodeNew[E09000008]    -6.7010      0.029   -230.812      0.000      -6.758      -6.644\n",
      "OrigCodeNew[E09000009]    -6.9721      0.029   -240.206      0.000      -7.029      -6.915\n",
      "OrigCodeNew[E09000010]    -6.8712      0.029   -236.198      0.000      -6.928      -6.814\n",
      "OrigCodeNew[E09000011]    -7.4201      0.029   -254.998      0.000      -7.477      -7.363\n",
      "OrigCodeNew[E09000012]    -8.0359      0.029   -273.491      0.000      -8.093      -7.978\n",
      "OrigCodeNew[E09000013]    -7.9871      0.029   -272.289      0.000      -8.045      -7.930\n",
      "OrigCodeNew[E09000014]    -7.5360      0.029   -258.357      0.000      -7.593      -7.479\n",
      "OrigCodeNew[E09000015]    -6.9088      0.029   -237.770      0.000      -6.966      -6.852\n",
      "OrigCodeNew[E09000016]    -6.4053      0.029   -221.661      0.000      -6.462      -6.349\n",
      "OrigCodeNew[E09000017]    -6.8329      0.029   -234.205      0.000      -6.890      -6.776\n",
      "OrigCodeNew[E09000018]    -7.2799      0.029   -249.219      0.000      -7.337      -7.223\n",
      "OrigCodeNew[E09000019]    -8.1582      0.029   -277.140      0.000      -8.216      -8.100\n",
      "OrigCodeNew[E09000020]    -8.1773      0.029   -278.915      0.000      -8.235      -8.120\n",
      "OrigCodeNew[E09000021]    -7.6306      0.029   -259.655      0.000      -7.688      -7.573\n",
      "OrigCodeNew[E09000022]    -7.3998      0.029   -253.355      0.000      -7.457      -7.343\n",
      "OrigCodeNew[E09000023]    -7.2697      0.029   -249.545      0.000      -7.327      -7.213\n",
      "OrigCodeNew[E09000024]    -7.4945      0.029   -256.920      0.000      -7.552      -7.437\n",
      "OrigCodeNew[E09000025]    -7.6356      0.029   -261.758      0.000      -7.693      -7.578\n",
      "OrigCodeNew[E09000026]    -6.9665      0.029   -240.715      0.000      -7.023      -6.910\n",
      "OrigCodeNew[E09000027]    -7.4738      0.029   -256.579      0.000      -7.531      -7.417\n",
      "OrigCodeNew[E09000028]    -7.7692      0.029   -264.727      0.000      -7.827      -7.712\n",
      "OrigCodeNew[E09000029]    -7.3873      0.029   -252.814      0.000      -7.445      -7.330\n",
      "OrigCodeNew[E09000030]    -8.2198      0.029   -278.768      0.000      -8.278      -8.162\n",
      "OrigCodeNew[E09000031]    -7.3811      0.029   -253.524      0.000      -7.438      -7.324\n",
      "OrigCodeNew[E09000032]    -7.2958      0.029   -250.513      0.000      -7.353      -7.239\n",
      "OrigCodeNew[E09000033]    -8.4592      0.030   -286.407      0.000      -8.517      -8.401\n",
      "log_Dj2_destsal            1.7309      0.003    597.607      0.000       1.725       1.737\n",
      "Dist                      -0.0002   1.54e-07  -1091.727      0.000      -0.000      -0.000\n",
      "==========================================================================================\n"
     ]
    }
   ],
   "source": [
    "#create the formula (the \"-1\" indicates no intercept in the regression model).\n",
    "formula_prod_exp = 'Total ~ OrigCodeNew + log_Dj2_destsal + Dist-1'\n",
    "#run a production constrained sim\n",
    "prodSim_exp = smf.glm(formula = formula_prod_exp, data=cdata, family=sm.families.Poisson()).fit() #prodsim = production constrained spatial int model\n",
    "#let's have a look at it's summary\n",
    "print(prodSim_exp.summary())"
   ]
  },
  {
   "cell_type": "code",
   "execution_count": 99,
   "metadata": {},
   "outputs": [],
   "source": [
    "#get the predictions\n",
    "predictions_prodSim_exp = prodSim_exp.get_prediction(cdata[[\"OrigCodeNew\", \"log_Dj2_destsal\", \"Dist\"]])\n",
    "predictions_summary_frame_prod_exp = predictions_prodSim_exp.summary_frame()\n",
    "cdata[\"prodsimFitted_exp\"] = round(predictions_summary_frame_prod_exp[\"mean\"],0)"
   ]
  },
  {
   "cell_type": "code",
   "execution_count": 100,
   "metadata": {},
   "outputs": [
    {
     "data": {
      "text/plain": [
       "0.4912589703388489"
      ]
     },
     "execution_count": 100,
     "metadata": {},
     "output_type": "execute_result"
    }
   ],
   "source": [
    "CalcRSqaured(cdata[\"Total\"], cdata[\"prodsimFitted_exp\"])"
   ]
  },
  {
   "cell_type": "code",
   "execution_count": 101,
   "metadata": {},
   "outputs": [
    {
     "data": {
      "text/plain": [
       "2205.131"
      ]
     },
     "execution_count": 101,
     "metadata": {},
     "output_type": "execute_result"
    }
   ],
   "source": [
    "CalcRMSE(cdata[\"Total\"], cdata[\"prodsimFitted\"])"
   ]
  },
  {
   "cell_type": "code",
   "execution_count": 103,
   "metadata": {},
   "outputs": [
    {
     "name": "stdout",
     "output_type": "stream",
     "text": [
      "                 Generalized Linear Model Regression Results                  \n",
      "==============================================================================\n",
      "Dep. Variable:                  Total   No. Observations:                 1056\n",
      "Model:                            GLM   Df Residuals:                      990\n",
      "Model Family:                 Poisson   Df Model:                           65\n",
      "Link Function:                    Log   Scale:                          1.0000\n",
      "Method:                          IRLS   Log-Likelihood:            -1.6598e+05\n",
      "Date:                Thu, 02 Feb 2023   Deviance:                   3.2354e+05\n",
      "Time:                        17:50:02   Pearson chi2:                 3.45e+05\n",
      "No. Iterations:                     8   Pseudo R-squ. (CS):              1.000\n",
      "Covariance Type:            nonrobust                                         \n",
      "==================================================================================================\n",
      "                                     coef    std err          z      P>|z|      [0.025      0.975]\n",
      "--------------------------------------------------------------------------------------------------\n",
      "Dest[Barking and Dagenham]        24.6403      0.019   1324.267      0.000      24.604      24.677\n",
      "Dest[Barnet]                      25.6318      0.019   1349.842      0.000      25.595      25.669\n",
      "Dest[Bexley]                      24.6158      0.020   1240.118      0.000      24.577      24.655\n",
      "Dest[Brent]                       25.4414      0.018   1375.855      0.000      25.405      25.478\n",
      "Dest[Bromley]                     25.6508      0.019   1339.553      0.000      25.613      25.688\n",
      "Dest[Camden]                      26.6606      0.018   1478.413      0.000      26.625      26.696\n",
      "Dest[City of London]              26.8746      0.018   1502.219      0.000      26.840      26.910\n",
      "Dest[Croydon]                     25.6260      0.019   1371.342      0.000      25.589      25.663\n",
      "Dest[Ealing]                      25.6891      0.018   1398.458      0.000      25.653      25.725\n",
      "Dest[Enfield]                     25.2828      0.020   1288.629      0.000      25.244      25.321\n",
      "Dest[Greenwich]                   24.8360      0.018   1344.012      0.000      24.800      24.872\n",
      "Dest[Hackney]                     25.2389      0.018   1375.250      0.000      25.203      25.275\n",
      "Dest[Hammersmith and Fulham]      25.7048      0.018   1411.312      0.000      25.669      25.741\n",
      "Dest[Haringey]                    25.1098      0.019   1344.152      0.000      25.073      25.146\n",
      "Dest[Harrow]                      25.1862      0.019   1295.071      0.000      25.148      25.224\n",
      "Dest[Havering]                    25.0812      0.020   1285.378      0.000      25.043      25.119\n",
      "Dest[Hillingdon]                  26.4493      0.019   1404.425      0.000      26.412      26.486\n",
      "Dest[Hounslow]                    25.6965      0.018   1398.580      0.000      25.660      25.732\n",
      "Dest[Islington]                   26.0190      0.018   1445.937      0.000      25.984      26.054\n",
      "Dest[Kensington and Chelsea]      25.5640      0.018   1427.555      0.000      25.529      25.599\n",
      "Dest[Kingston upon Thames]        24.9938      0.019   1282.621      0.000      24.956      25.032\n",
      "Dest[Lambeth]                     25.7072      0.018   1424.357      0.000      25.672      25.743\n",
      "Dest[Lewisham]                    24.9095      0.019   1332.373      0.000      24.873      24.946\n",
      "Dest[Merton]                      24.9696      0.019   1345.077      0.000      24.933      25.006\n",
      "Dest[Newham]                      24.9892      0.018   1365.415      0.000      24.953      25.025\n",
      "Dest[Redbridge]                   25.0081      0.019   1344.889      0.000      24.972      25.045\n",
      "Dest[Richmond upon Thames]        25.0248      0.019   1333.654      0.000      24.988      25.062\n",
      "Dest[Southwark]                   25.8807      0.018   1451.352      0.000      25.846      25.916\n",
      "Dest[Sutton]                      24.7409      0.019   1294.671      0.000      24.703      24.778\n",
      "Dest[Tower Hamlets]               26.1360      0.018   1458.387      0.000      26.101      26.171\n",
      "Dest[Waltham Forest]              24.7305      0.019   1296.103      0.000      24.693      24.768\n",
      "Dest[Wandsworth]                  25.5107      0.018   1399.878      0.000      25.475      25.546\n",
      "Dest[Westminster]                 27.4704      0.018   1529.331      0.000      27.435      27.506\n",
      "Orig[T.Barnet]                     0.2573      0.007     39.514      0.000       0.245       0.270\n",
      "Orig[T.Bexley]                     0.5258      0.007     76.208      0.000       0.512       0.539\n",
      "Orig[T.Brent]                     -0.1910      0.007    -28.769      0.000      -0.204      -0.178\n",
      "Orig[T.Bromley]                    0.9504      0.007    143.976      0.000       0.937       0.963\n",
      "Orig[T.Camden]                    -1.4919      0.007   -206.290      0.000      -1.506      -1.478\n",
      "Orig[T.City of London]            -4.5706      0.023   -201.111      0.000      -4.615      -4.526\n",
      "Orig[T.Croydon]                    0.6529      0.007     97.780      0.000       0.640       0.666\n",
      "Orig[T.Ealing]                     0.1909      0.007     29.217      0.000       0.178       0.204\n",
      "Orig[T.Enfield]                    0.3507      0.007     51.646      0.000       0.337       0.364\n",
      "Orig[T.Greenwich]                 -0.0807      0.007    -11.733      0.000      -0.094      -0.067\n",
      "Orig[T.Hackney]                   -1.2150      0.007   -170.745      0.000      -1.229      -1.201\n",
      "Orig[T.Hammersmith and Fulham]    -1.3081      0.007   -181.122      0.000      -1.322      -1.294\n",
      "Orig[T.Haringey]                  -0.5374      0.007    -79.544      0.000      -0.551      -0.524\n",
      "Orig[T.Harrow]                     0.1200      0.007     17.018      0.000       0.106       0.134\n",
      "Orig[T.Havering]                   0.8399      0.007    117.718      0.000       0.826       0.854\n",
      "Orig[T.Hillingdon]                 0.3007      0.008     39.869      0.000       0.286       0.315\n",
      "Orig[T.Hounslow]                  -0.0164      0.007     -2.298      0.022      -0.030      -0.002\n",
      "Orig[T.Islington]                 -1.5681      0.007   -216.382      0.000      -1.582      -1.554\n",
      "Orig[T.Kensington and Chelsea]    -2.0871      0.008   -273.530      0.000      -2.102      -2.072\n",
      "Orig[T.Kingston upon Thames]      -0.2472      0.008    -31.371      0.000      -0.263      -0.232\n",
      "Orig[T.Lambeth]                   -0.3436      0.006    -53.482      0.000      -0.356      -0.331\n",
      "Orig[T.Lewisham]                  -0.0709      0.007    -10.900      0.000      -0.084      -0.058\n",
      "Orig[T.Merton]                    -0.1766      0.007    -25.699      0.000      -0.190      -0.163\n",
      "Orig[T.Newham]                    -0.3575      0.007    -51.703      0.000      -0.371      -0.344\n",
      "Orig[T.Redbridge]                  0.3971      0.007     59.574      0.000       0.384       0.410\n",
      "Orig[T.Richmond upon Thames]      -0.2889      0.007    -39.889      0.000      -0.303      -0.275\n",
      "Orig[T.Southwark]                 -0.7890      0.007   -117.236      0.000      -0.802      -0.776\n",
      "Orig[T.Sutton]                    -0.0729      0.007     -9.823      0.000      -0.087      -0.058\n",
      "Orig[T.Tower Hamlets]             -1.2341      0.007   -167.423      0.000      -1.249      -1.220\n",
      "Orig[T.Waltham Forest]            -0.1162      0.007    -17.227      0.000      -0.129      -0.103\n",
      "Orig[T.Wandsworth]                -0.1969      0.006    -30.861      0.000      -0.209      -0.184\n",
      "Orig[T.Westminster]               -1.5987      0.008   -209.565      0.000      -1.614      -1.584\n",
      "log_Dist                          -1.9274      0.002  -1083.562      0.000      -1.931      -1.924\n",
      "==================================================================================================\n"
     ]
    }
   ],
   "source": [
    "#create the formula (the \"-1\" indicates no intercept in the regression model).\n",
    "dbl_form = 'Total ~ Dest + Orig + log_Dist-1'\n",
    "#run a doubly constrained sim\n",
    "doubSim_full = smf.glm(formula = dbl_form, data=cdata, family=sm.families.Poisson()).fit()\n",
    "#let's have a look at it's summary\n",
    "print(doubSim_full.summary())"
   ]
  },
  {
   "cell_type": "code",
   "execution_count": 104,
   "metadata": {},
   "outputs": [],
   "source": [
    "cdata[\"doubsimfitted\"] = np.round(doubSim_full.mu)"
   ]
  },
  {
   "cell_type": "code",
   "execution_count": 105,
   "metadata": {},
   "outputs": [
    {
     "data": {
      "text/plain": [
       "0.8548780059792511"
      ]
     },
     "execution_count": 105,
     "metadata": {},
     "output_type": "execute_result"
    }
   ],
   "source": [
    "CalcRSqaured(cdata[\"Total\"],cdata[\"doubsimfitted\"])"
   ]
  },
  {
   "cell_type": "code",
   "execution_count": 107,
   "metadata": {},
   "outputs": [
    {
     "data": {
      "text/plain": [
       "1135.671"
      ]
     },
     "execution_count": 107,
     "metadata": {},
     "output_type": "execute_result"
    }
   ],
   "source": [
    "CalcRMSE(cdata[\"Total\"],cdata[\"doubsimfitted\"])"
   ]
  },
  {
   "cell_type": "code",
   "execution_count": 108,
   "metadata": {},
   "outputs": [
    {
     "name": "stdout",
     "output_type": "stream",
     "text": [
      "                 Generalized Linear Model Regression Results                  \n",
      "==============================================================================\n",
      "Dep. Variable:                  Total   No. Observations:                 1056\n",
      "Model:                            GLM   Df Residuals:                      990\n",
      "Model Family:                 Poisson   Df Model:                           65\n",
      "Link Function:                    Log   Scale:                          1.0000\n",
      "Method:                          IRLS   Log-Likelihood:            -1.1154e+05\n",
      "Date:                Thu, 02 Feb 2023   Deviance:                   2.1467e+05\n",
      "Time:                        17:53:04   Pearson chi2:                 2.17e+05\n",
      "No. Iterations:                     8   Pseudo R-squ. (CS):              1.000\n",
      "Covariance Type:            nonrobust                                         \n",
      "==================================================================================================\n",
      "                                     coef    std err          z      P>|z|      [0.025      0.975]\n",
      "--------------------------------------------------------------------------------------------------\n",
      "Dest[Barking and Dagenham]         8.8597      0.009    938.982      0.000       8.841       8.878\n",
      "Dest[Barnet]                      10.0268      0.008   1189.083      0.000      10.010      10.043\n",
      "Dest[Bexley]                       8.8587      0.011    829.187      0.000       8.838       8.880\n",
      "Dest[Brent]                        9.8451      0.008   1219.525      0.000       9.829       9.861\n",
      "Dest[Bromley]                     10.0020      0.009   1143.282      0.000       9.985      10.019\n",
      "Dest[Camden]                      11.0458      0.007   1679.760      0.000      11.033      11.059\n",
      "Dest[City of London]              11.2376      0.006   1781.634      0.000      11.225      11.250\n",
      "Dest[Croydon]                      9.9510      0.008   1197.929      0.000       9.935       9.967\n",
      "Dest[Ealing]                      10.0890      0.008   1283.636      0.000      10.074      10.104\n",
      "Dest[Enfield]                      9.7425      0.010   1016.991      0.000       9.724       9.761\n",
      "Dest[Greenwich]                    9.1006      0.009   1065.354      0.000       9.084       9.117\n",
      "Dest[Hackney]                      9.6215      0.008   1241.341      0.000       9.606       9.637\n",
      "Dest[Hammersmith and Fulham]      10.1350      0.007   1385.671      0.000      10.121      10.149\n",
      "Dest[Haringey]                     9.4880      0.008   1126.214      0.000       9.471       9.504\n",
      "Dest[Harrow]                       9.6464      0.010    996.676      0.000       9.627       9.665\n",
      "Dest[Havering]                     9.5003      0.010    974.283      0.000       9.481       9.519\n",
      "Dest[Hillingdon]                  10.9896      0.008   1396.744      0.000      10.974      11.005\n",
      "Dest[Hounslow]                    10.1967      0.008   1274.713      0.000      10.181      10.212\n",
      "Dest[Islington]                   10.4544      0.007   1525.933      0.000      10.441      10.468\n",
      "Dest[Kensington and Chelsea]      10.1380      0.007   1404.701      0.000      10.124      10.152\n",
      "Dest[Kingston upon Thames]         9.4268      0.010    956.967      0.000       9.408       9.446\n",
      "Dest[Lambeth]                     10.0966      0.007   1404.420      0.000      10.083      10.111\n",
      "Dest[Lewisham]                     9.1783      0.009   1063.411      0.000       9.161       9.195\n",
      "Dest[Merton]                       9.3834      0.009   1085.562      0.000       9.366       9.400\n",
      "Dest[Newham]                       9.2531      0.008   1157.878      0.000       9.237       9.269\n",
      "Dest[Redbridge]                    9.2791      0.009   1085.287      0.000       9.262       9.296\n",
      "Dest[Richmond upon Thames]         9.4927      0.009   1055.857      0.000       9.475       9.510\n",
      "Dest[Southwark]                   10.2956      0.007   1501.133      0.000      10.282      10.309\n",
      "Dest[Sutton]                       9.1666      0.010    932.474      0.000       9.147       9.186\n",
      "Dest[Tower Hamlets]               10.4521      0.007   1582.680      0.000      10.439      10.465\n",
      "Dest[Waltham Forest]               9.0609      0.009    967.427      0.000       9.043       9.079\n",
      "Dest[Wandsworth]                   9.9098      0.008   1307.927      0.000       9.895       9.925\n",
      "Dest[Westminster]                 11.8513      0.006   1888.908      0.000      11.839      11.864\n",
      "Orig[T.Barnet]                     0.0086      0.007      1.310      0.190      -0.004       0.022\n",
      "Orig[T.Bexley]                     0.5652      0.007     81.742      0.000       0.552       0.579\n",
      "Orig[T.Brent]                     -0.4498      0.007    -66.742      0.000      -0.463      -0.437\n",
      "Orig[T.Bromley]                    1.0274      0.007    153.765      0.000       1.014       1.041\n",
      "Orig[T.Camden]                    -1.2831      0.007   -179.183      0.000      -1.297      -1.269\n",
      "Orig[T.City of London]            -4.4698      0.023   -196.688      0.000      -4.514      -4.425\n",
      "Orig[T.Croydon]                    0.5955      0.007     88.005      0.000       0.582       0.609\n",
      "Orig[T.Ealing]                    -0.0663      0.007     -9.959      0.000      -0.079      -0.053\n",
      "Orig[T.Enfield]                    0.2165      0.007     31.613      0.000       0.203       0.230\n",
      "Orig[T.Greenwich]                 -0.2273      0.007    -32.924      0.000      -0.241      -0.214\n",
      "Orig[T.Hackney]                   -1.1573      0.007   -163.185      0.000      -1.171      -1.143\n",
      "Orig[T.Hammersmith and Fulham]    -1.1690      0.007   -164.122      0.000      -1.183      -1.155\n",
      "Orig[T.Haringey]                  -0.6819      0.007   -100.206      0.000      -0.695      -0.669\n",
      "Orig[T.Harrow]                    -0.0716      0.007     -9.951      0.000      -0.086      -0.057\n",
      "Orig[T.Havering]                   1.1823      0.007    163.822      0.000       1.168       1.196\n",
      "Orig[T.Hillingdon]                 0.2777      0.008     35.992      0.000       0.263       0.293\n",
      "Orig[T.Hounslow]                  -0.1753      0.007    -24.156      0.000      -0.189      -0.161\n",
      "Orig[T.Islington]                 -1.3539      0.007   -188.575      0.000      -1.368      -1.340\n",
      "Orig[T.Kensington and Chelsea]    -1.5250      0.007   -207.373      0.000      -1.539      -1.511\n",
      "Orig[T.Kingston upon Thames]      -0.3654      0.008    -45.831      0.000      -0.381      -0.350\n",
      "Orig[T.Lambeth]                   -0.4551      0.006    -70.407      0.000      -0.468      -0.442\n",
      "Orig[T.Lewisham]                  -0.2329      0.007    -35.618      0.000      -0.246      -0.220\n",
      "Orig[T.Merton]                    -0.3584      0.007    -51.686      0.000      -0.372      -0.345\n",
      "Orig[T.Newham]                    -0.4928      0.007    -71.108      0.000      -0.506      -0.479\n",
      "Orig[T.Redbridge]                  0.3130      0.007     46.949      0.000       0.300       0.326\n",
      "Orig[T.Richmond upon Thames]      -0.4610      0.007    -63.018      0.000      -0.475      -0.447\n",
      "Orig[T.Southwark]                 -0.8118      0.007   -120.471      0.000      -0.825      -0.799\n",
      "Orig[T.Sutton]                    -0.1423      0.007    -18.975      0.000      -0.157      -0.128\n",
      "Orig[T.Tower Hamlets]             -1.2269      0.007   -166.661      0.000      -1.241      -1.212\n",
      "Orig[T.Waltham Forest]            -0.3105      0.007    -45.678      0.000      -0.324      -0.297\n",
      "Orig[T.Wandsworth]                -0.3592      0.006    -55.733      0.000      -0.372      -0.347\n",
      "Orig[T.Westminster]               -1.4122      0.008   -186.717      0.000      -1.427      -1.397\n",
      "Dist                              -0.0002   1.77e-07  -1017.769      0.000      -0.000      -0.000\n",
      "==================================================================================================\n"
     ]
    }
   ],
   "source": [
    "#create the formula (the \"-1\" indicates no intercept in the regression model).\n",
    "dbl_form_exp = 'Total ~ Dest + Orig + Dist-1'\n",
    "#run a doubly constrained sim\n",
    "doubSim_full_exp = smf.glm(formula = dbl_form_exp, data=cdata, family=sm.families.Poisson()).fit()\n",
    "#let's have a look at it's summary\n",
    "print(doubSim_full_exp.summary())"
   ]
  },
  {
   "cell_type": "code",
   "execution_count": 112,
   "metadata": {},
   "outputs": [
    {
     "data": {
      "text/plain": [
       "Dest[Barking and Dagenham]     8.859725\n",
       "Dest[Barnet]                  10.026758\n",
       "Dest[Bexley]                   8.858745\n",
       "Dest[Brent]                    9.845132\n",
       "Dest[Bromley]                 10.002023\n",
       "                                ...    \n",
       "Orig[T.Tower Hamlets]         -1.226925\n",
       "Orig[T.Waltham Forest]        -0.310458\n",
       "Orig[T.Wandsworth]            -0.359242\n",
       "Orig[T.Westminster]           -1.412214\n",
       "Dist                          -0.000181\n",
       "Length: 66, dtype: float64"
      ]
     },
     "execution_count": 112,
     "metadata": {},
     "output_type": "execute_result"
    }
   ],
   "source": [
    "doubSim_full_exp.params"
   ]
  },
  {
   "cell_type": "code",
   "execution_count": 109,
   "metadata": {},
   "outputs": [],
   "source": [
    "cdata[\"doubsimfitted_exp\"] = np.round(doubSim_full_exp.mu)"
   ]
  },
  {
   "cell_type": "code",
   "execution_count": 110,
   "metadata": {},
   "outputs": [
    {
     "data": {
      "text/plain": [
       "0.9097530610032605"
      ]
     },
     "execution_count": 110,
     "metadata": {},
     "output_type": "execute_result"
    }
   ],
   "source": [
    "CalcRSqaured(cdata[\"Total\"],cdata[\"doubsimfitted_exp\"])"
   ]
  },
  {
   "cell_type": "code",
   "execution_count": 111,
   "metadata": {},
   "outputs": [
    {
     "data": {
      "text/plain": [
       "874.019"
      ]
     },
     "execution_count": 111,
     "metadata": {},
     "output_type": "execute_result"
    }
   ],
   "source": [
    "CalcRMSE(cdata[\"Total\"],cdata[\"doubsimfitted_exp\"])"
   ]
  }
 ],
 "metadata": {
  "kernelspec": {
   "display_name": "Python 3 (ipykernel)",
   "language": "python",
   "name": "python3"
  },
  "language_info": {
   "codemirror_mode": {
    "name": "ipython",
    "version": 3
   },
   "file_extension": ".py",
   "mimetype": "text/x-python",
   "name": "python",
   "nbconvert_exporter": "python",
   "pygments_lexer": "ipython3",
   "version": "3.10.5"
  }
 },
 "nbformat": 4,
 "nbformat_minor": 4
}
